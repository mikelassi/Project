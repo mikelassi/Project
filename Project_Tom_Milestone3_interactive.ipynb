{
 "cells": [
  {
   "cell_type": "markdown",
   "metadata": {},
   "source": [
    "# Food For Thought \n",
    "## Digging into the dataset\n",
    "\n",
    "The first step of this project aims at understanding the dataset we have chosen ([Open Food Facts Database](https://world.openfoodfacts.org/)), to check whether it is suitable for the kind of analysis we want to develop.\n",
    "\n",
    "As a reminder, we would like to focus our research on two main topics:\n",
    "1. Impact of food on environment\n",
    "2. Impact of food on the health"
   ]
  },
  {
   "cell_type": "code",
   "execution_count": 1,
   "metadata": {},
   "outputs": [],
   "source": [
    "import re\n",
    "import pandas as pd\n",
    "import numpy as np\n",
    "import matplotlib\n",
    "import seaborn as sns\n",
    "import matplotlib.pyplot as plt\n",
    "import matplotlib.style as style\n",
    "from mpl_toolkits.mplot3d import Axes3D\n",
    "from difflib import get_close_matches\n",
    "\n",
    "import pickle"
   ]
  },
  {
   "cell_type": "code",
   "execution_count": null,
   "metadata": {},
   "outputs": [],
   "source": [
    "from sklearn.decomposition import PCA\n",
    "from sklearn.preprocessing import StandardScaler\n",
    "\n",
    "import findspark\n",
    "findspark.init()\n",
    "\n",
    "from pyspark.sql import *\n",
    "import pyspark.sql.functions as F\n",
    "\n",
    "from pyspark.sql import SparkSession\n",
    "from pyspark import SparkContext\n",
    "\n",
    "spark = SparkSession.builder.getOrCreate()\n",
    "sc = spark.sparkContext\n",
    "%matplotlib inline"
   ]
  },
  {
   "cell_type": "code",
   "execution_count": 2,
   "metadata": {},
   "outputs": [
    {
     "data": {
      "text/html": [
       "<script>requirejs.config({paths: { 'plotly': ['https://cdn.plot.ly/plotly-latest.min']},});if(!window.Plotly) {{require(['plotly'],function(plotly) {window.Plotly=plotly;});}}</script>"
      ],
      "text/vnd.plotly.v1+html": [
       "<script>requirejs.config({paths: { 'plotly': ['https://cdn.plot.ly/plotly-latest.min']},});if(!window.Plotly) {{require(['plotly'],function(plotly) {window.Plotly=plotly;});}}</script>"
      ]
     },
     "metadata": {},
     "output_type": "display_data"
    }
   ],
   "source": [
    "from plotly.offline import download_plotlyjs, init_notebook_mode\n",
    "import plotly.plotly as py\n",
    "import plotly.graph_objs as go\n",
    "import plotly.tools as tools\n",
    "\n",
    "tools.set_credentials_file(username='tomM', api_key='6IDmi0n3tVu5rfMzN9DZ')\n",
    "init_notebook_mode(connected=True)"
   ]
  },
  {
   "cell_type": "markdown",
   "metadata": {},
   "source": [
    "## load the raw csv file"
   ]
  },
  {
   "cell_type": "raw",
   "metadata": {},
   "source": [
    "DATA_FOLDER = './data/'\n",
    "data = spark.read.csv(DATA_FOLDER +'en.openfoodfacts.org.products.csv',header=True,sep='\\t')          "
   ]
  },
  {
   "cell_type": "markdown",
   "metadata": {},
   "source": [
    "## Brand vs Nutrition vs Food Category in France "
   ]
  },
  {
   "cell_type": "markdown",
   "metadata": {},
   "source": [
    "## load and clean"
   ]
  },
  {
   "cell_type": "raw",
   "metadata": {},
   "source": [
    "# extract the products only sold in France\n",
    "# get the features of interest ('brands,','nutrition_grade_fr' and 'pnns_groups_1')\n",
    "bra_cat_nut = data.filter(\"countries_en=='France'\")\\\n",
    "                    .select('brands', 'nutrition_grade_fr', 'pnns_groups_1')\\\n",
    "                    .dropna(how='all')"
   ]
  },
  {
   "cell_type": "raw",
   "metadata": {},
   "source": [
    "# clean the column 'pnns_groups_1' as done before to end with consistent category names.\n",
    "bra_cat_nut = bra_cat_nut.withColumn('pnns_groups_1',(F.regexp_replace('pnns_groups_1', '-', ' ')))\n",
    "square_udf_int = F.udf(lambda z: z.title() if z else z)\n",
    "bra_cat_nut = bra_cat_nut.withColumn('pnns_groups_1',square_udf_int('pnns_groups_1'))"
   ]
  },
  {
   "cell_type": "raw",
   "metadata": {},
   "source": [
    "# we convert the spark dataframe to a pandas dataframe\n",
    "bra_cat_nut_df = bra_cat_nut.toPandas()\n",
    "\n",
    "# we store it in the current folder \n",
    "bra_cat_nut_df.to_pickle('bra_cat_nut_df')"
   ]
  },
  {
   "cell_type": "code",
   "execution_count": null,
   "metadata": {},
   "outputs": [],
   "source": [
    "# we can now read it everytime we want to continue the analysis\n",
    "bra_cat_nut_raw_df = pd.read_pickle('bra_cat_nut_raw_df')"
   ]
  },
  {
   "cell_type": "code",
   "execution_count": null,
   "metadata": {},
   "outputs": [],
   "source": [
    "bra_cat_nut_raw_df.head(3)"
   ]
  },
  {
   "cell_type": "markdown",
   "metadata": {},
   "source": [
    "- We create a dictonary of parent brand to replace a brand by its \"parent brand\" when it belongs to a bigger one\n",
    "For example 'Bio Village' is a brand of Leclerc which owes also 'Marque Repère' then we can replace 'Bio Village' and 'Marque Repère' by 'Leclerc'. We will to analysis the food sold by the company Leclerc.\n",
    "\n",
    "\n",
    "- Moreover, we set to None the brand when it is \"Sans Marque\". \"Sans Marque\" means the brand had not been specified by the user: it can be \"Marque Repère\", \"Carrefour\", \"Délisse\" ect.To understand the 'Sans Marque' products we checked them using the product search tool on https://fr.openfoodfacts.org with the tag \"Sans Marque\"."
   ]
  },
  {
   "cell_type": "code",
   "execution_count": null,
   "metadata": {},
   "outputs": [],
   "source": [
    "# list of food brands present in France ('Coca Cola', 'Fleury Michon', 'Carrefour' ect.)\n",
    "list_brand_file = open(\"brand_list.txt\", \"r\")\n",
    "list_brand = list_brand_file.read().split('\\n')\n",
    "\n",
    "# dictonary of parent brands. \n",
    "dict_parent_brand= {'Bio Village': 'Leclerc',\n",
    "                    'Marque Repère': 'Leclerc',\n",
    "                    'Sans Marque': None}"
   ]
  },
  {
   "cell_type": "markdown",
   "metadata": {},
   "source": [
    "The problem is that the 'brands' tags are not always consistent. For example we can find the brand tag 'carrefour', \"Carrefour\", \"carrfour,bio carrefour' ect. \n",
    "Hence we first clean the brands using a list of food brands present in France and a function to match the 'brands' tag with the closest brand in the list. "
   ]
  },
  {
   "cell_type": "code",
   "execution_count": null,
   "metadata": {},
   "outputs": [],
   "source": [
    "# Function which finds for each value (string) in the column 'brands' the closest brand (string) in 'list_brand'.\n",
    "# Note: the function 'get_close_matches' has been imported from the open-source 'difflib' library.\n",
    "def clean_brand(brand_name):\n",
    "    \n",
    "    # brand name can be of the form 'Carrefour' (one word) or 'Carrefour, Bio Carrefour' (multiple words)\n",
    "    # hence we split the string w.r.t the symbol ',' and find the best matching brand word for each split.\n",
    "    matches=[]\n",
    "    if brand_name:\n",
    "        \n",
    "        for word in brand_name.split(','):\n",
    "\n",
    "            # the cutoff control for the False Positives possibilities in the 'list_brand' \n",
    "            # that don’t score at least the cutoff are ignored.\n",
    "            # the parameter 'n' controls for the the number of possibilities (whose score is higher than the cutoff value).\n",
    "            matches.append(get_close_matches(word.lower(), list_brand, n=1, cutoff=0.6))\n",
    "\n",
    "        # remove empty sublists and unravel\n",
    "        matches = [brand for sublist in matches for brand in sublist if sublist]\n",
    "        \n",
    "        # output brand\n",
    "        if matches:\n",
    "            output = matches[0]\n",
    "        else:\n",
    "            output = None\n",
    "                \n",
    "        # check for parent brand\n",
    "        if output in dict_parent_brand:\n",
    "            output = dict_parent_brand[output]\n",
    "        \n",
    "        return output"
   ]
  },
  {
   "cell_type": "code",
   "execution_count": null,
   "metadata": {},
   "outputs": [],
   "source": [
    "# we create a new column with the new \"consistent\" brand tag. \n",
    "# takes some minutes to run...\n",
    "bra_cat_nut_raw_df['new_brands'] = bra_cat_nut_raw_df['brands'].apply(lambda x: clean_brand(x))"
   ]
  },
  {
   "cell_type": "code",
   "execution_count": null,
   "metadata": {},
   "outputs": [],
   "source": [
    "# drop when both 'nutrition_grade_fr' and 'brands' are None\n",
    "bra_cat_nut_cleaned_df = bra_cat_nut_raw_df.dropna(subset=['nutrition_grade_fr', 'brands'], how='all') \n",
    "\n",
    "# we can drop the old column 'brands' since we have the new ones.\n",
    "bra_cat_nut_cleaned_df = bra_cat_nut_cleaned_df.drop('brands',1).rename(columns={'new_brands':'brands'})\n",
    "\n",
    "bra_cat_nut_cleaned_df.head()"
   ]
  },
  {
   "cell_type": "code",
   "execution_count": null,
   "metadata": {},
   "outputs": [],
   "source": [
    "# here we count the number of products for each brand. \n",
    "count = bra_cat_nut_cleaned_df.groupby('brands').count().sort_values('nutrition_grade_fr', ascending=False)"
   ]
  },
  {
   "cell_type": "code",
   "execution_count": null,
   "metadata": {},
   "outputs": [],
   "source": [
    "# we consider that brand can be analysed if at least 100 products in the dataset belong to this brand.\n",
    "count['enough_products']= count[['nutrition_grade_fr']].apply(lambda x: x>100)\n",
    "count = count[count.enough_products]\n",
    "count.head()"
   ]
  },
  {
   "cell_type": "markdown",
   "metadata": {},
   "source": [
    "The most abundant brands are Carrefour, Auchan and U. There are the brands of the biggest distributors (supermarkets) in France. "
   ]
  },
  {
   "cell_type": "code",
   "execution_count": null,
   "metadata": {},
   "outputs": [],
   "source": [
    "# here we add the column \"enough products\" to the dataframe with the cleaned brand.\n",
    "bra_cat_nut_cleaned_df = bra_cat_nut_cleaned_df.join(count[['enough_products']], on='brands')\n",
    "bra_cat_nut_cleaned_df = bra_cat_nut_cleaned_df.drop('enough_products',1)\n",
    "bra_cat_nut_cleaned_df.head()"
   ]
  },
  {
   "cell_type": "markdown",
   "metadata": {},
   "source": [
    "The nutrition score in 'nutrition_grade_fr' is the Nutri-Score developped by the french governement and based on the components present in the food (sugar, fiber, fat ect.). You can find more information at https://fr.wikipedia.org/wiki/Nutri-score.\n",
    "\n",
    "- 'a' (very good product for health) \n",
    "- 'b' (good product)\n",
    "- 'c' ('neutral product')\n",
    "- 'd' ('not so good product')\n",
    "- 'e' (bad product for health)"
   ]
  },
  {
   "cell_type": "code",
   "execution_count": null,
   "metadata": {},
   "outputs": [],
   "source": [
    "# here we create dummy variables from the 'nutrition_grade_fr'.\n",
    "bra_cat_nut_cleaned_expanded_df = pd.get_dummies(bra_cat_nut_cleaned_df.set_index('brands')).reset_index()\n",
    "bra_cat_nut_cleaned_dummies_df = bra_cat_nut_cleaned_expanded_df.rename(columns=\n",
    "                              {'nutrition_grade_fr_a':'a',\n",
    "                               'nutrition_grade_fr_b':'b',\n",
    "                               'nutrition_grade_fr_c':'c',\n",
    "                               'nutrition_grade_fr_d':'d',\n",
    "                               'nutrition_grade_fr_e':'e',\n",
    "                               'pnns_groups_1_Beverages': 'Beverages',\n",
    "                               'pnns_groups_1_Cereals And Potatoes':'Cereals And Potatoes',\n",
    "                               'pnns_groups_1_Composite Foods': 'Composite Foods',\n",
    "                               'pnns_groups_1_Fat And Sauces':'Fat And Sauces',\n",
    "                               'pnns_groups_1_Fish Meat Eggs':'Fish Meat Eggs',\n",
    "                               'pnns_groups_1_Fruits And Vegetables':'Fruits And Vegetables',\n",
    "                               'pnns_groups_1_Milk And Dairy Products':'Milk And Dairy Products',\n",
    "                               'pnns_groups_1_Salty Snacks':'Salty Snacks',\n",
    "                               'pnns_groups_1_Sugary Snacks':'Sugary Snacks',\n",
    "                               'pnns_groups_1_Unknown': 'Unknown'})\n",
    "bra_cat_nut_cleaned_dummies_df.head(5)"
   ]
  },
  {
   "cell_type": "raw",
   "metadata": {},
   "source": [
    "# we store it in the current Notebook folder \n",
    "bra_cat_nut_cleaned_df.to_pickle('bra_cat_nut_cleaned_df')\n",
    "bra_cat_nut_cleaned_dummies_df.to_pickle('bra_cat_nut_cleaned_dummies_df')"
   ]
  },
  {
   "cell_type": "markdown",
   "metadata": {},
   "source": [
    "## Load cleaned data"
   ]
  },
  {
   "cell_type": "code",
   "execution_count": 3,
   "metadata": {},
   "outputs": [],
   "source": [
    "bra_cat_nut_df = pd.read_pickle('bra_cat_nut_cleaned_df')\n",
    "bra_cat_nut_dummies_df = pd.read_pickle('bra_cat_nut_cleaned_dummies_df')"
   ]
  },
  {
   "cell_type": "markdown",
   "metadata": {},
   "source": [
    "## Food quality in France"
   ]
  },
  {
   "cell_type": "code",
   "execution_count": 4,
   "metadata": {},
   "outputs": [],
   "source": [
    "# here we count the number of products inside each nutrition category (5 categories from 'a' to 'e')\n",
    "count = pd.DataFrame(data=bra_cat_nut_dummies_df[['a','b','c','d','e']].sum(), columns=['count'])\n",
    "count.index.name = 'nutrition_grade_fr'"
   ]
  },
  {
   "cell_type": "code",
   "execution_count": 5,
   "metadata": {},
   "outputs": [
    {
     "name": "stdout",
     "output_type": "stream",
     "text": [
      "Total number of products sold in France: 103571\n"
     ]
    },
    {
     "data": {
      "text/html": [
       "<div>\n",
       "<style scoped>\n",
       "    .dataframe tbody tr th:only-of-type {\n",
       "        vertical-align: middle;\n",
       "    }\n",
       "\n",
       "    .dataframe tbody tr th {\n",
       "        vertical-align: top;\n",
       "    }\n",
       "\n",
       "    .dataframe thead th {\n",
       "        text-align: right;\n",
       "    }\n",
       "</style>\n",
       "<table border=\"1\" class=\"dataframe\">\n",
       "  <thead>\n",
       "    <tr style=\"text-align: right;\">\n",
       "      <th></th>\n",
       "      <th>ratio</th>\n",
       "    </tr>\n",
       "    <tr>\n",
       "      <th>nutrition_grade_fr</th>\n",
       "      <th></th>\n",
       "    </tr>\n",
       "  </thead>\n",
       "  <tbody>\n",
       "    <tr>\n",
       "      <th>a</th>\n",
       "      <td>13.111778</td>\n",
       "    </tr>\n",
       "    <tr>\n",
       "      <th>b</th>\n",
       "      <td>13.764471</td>\n",
       "    </tr>\n",
       "    <tr>\n",
       "      <th>c</th>\n",
       "      <td>20.704637</td>\n",
       "    </tr>\n",
       "  </tbody>\n",
       "</table>\n",
       "</div>"
      ],
      "text/plain": [
       "                        ratio\n",
       "nutrition_grade_fr           \n",
       "a                   13.111778\n",
       "b                   13.764471\n",
       "c                   20.704637"
      ]
     },
     "execution_count": 5,
     "metadata": {},
     "output_type": "execute_result"
    }
   ],
   "source": [
    "# we convert count into ratio (regarding the total number of products)\n",
    "number_of_products = bra_cat_nut_df.nutrition_grade_fr.count()\n",
    "print(\"Total number of products sold in France:\", number_of_products)\n",
    "\n",
    "ratio = count.div(number_of_products).multiply(100).rename(columns={'count':'ratio'})\n",
    "ratio.head(3)"
   ]
  },
  {
   "cell_type": "code",
   "execution_count": 1,
   "metadata": {},
   "outputs": [
    {
     "ename": "NameError",
     "evalue": "name 'sns' is not defined",
     "output_type": "error",
     "traceback": [
      "\u001b[1;31m---------------------------------------------------------------------------\u001b[0m",
      "\u001b[1;31mNameError\u001b[0m                                 Traceback (most recent call last)",
      "\u001b[1;32m<ipython-input-1-4c393906339b>\u001b[0m in \u001b[0;36m<module>\u001b[1;34m()\u001b[0m\n\u001b[0;32m      1\u001b[0m \u001b[1;31m# interactive plot\u001b[0m\u001b[1;33m\u001b[0m\u001b[1;33m\u001b[0m\u001b[0m\n\u001b[0;32m      2\u001b[0m \u001b[0mdata\u001b[0m \u001b[1;33m=\u001b[0m \u001b[1;33m[\u001b[0m\u001b[1;33m]\u001b[0m\u001b[1;33m\u001b[0m\u001b[0m\n\u001b[1;32m----> 3\u001b[1;33m \u001b[0mcolors\u001b[0m \u001b[1;33m=\u001b[0m \u001b[0msns\u001b[0m\u001b[1;33m.\u001b[0m\u001b[0mcolor_palette\u001b[0m\u001b[1;33m(\u001b[0m\u001b[1;34m\"RdBu_r\"\u001b[0m\u001b[1;33m,\u001b[0m \u001b[1;36m5\u001b[0m\u001b[1;33m)\u001b[0m\u001b[1;33m.\u001b[0m\u001b[0mas_hex\u001b[0m\u001b[1;33m(\u001b[0m\u001b[1;33m)\u001b[0m\u001b[1;33m\u001b[0m\u001b[0m\n\u001b[0m\u001b[0;32m      4\u001b[0m \u001b[1;33m\u001b[0m\u001b[0m\n\u001b[0;32m      5\u001b[0m \u001b[1;32mfor\u001b[0m \u001b[0mindex\u001b[0m\u001b[1;33m,\u001b[0m \u001b[0mrow\u001b[0m \u001b[1;32min\u001b[0m \u001b[0mratio\u001b[0m\u001b[1;33m.\u001b[0m\u001b[0mreset_index\u001b[0m\u001b[1;33m(\u001b[0m\u001b[1;33m)\u001b[0m\u001b[1;33m.\u001b[0m\u001b[0miterrows\u001b[0m\u001b[1;33m(\u001b[0m\u001b[1;33m)\u001b[0m\u001b[1;33m:\u001b[0m\u001b[1;33m\u001b[0m\u001b[0m\n",
      "\u001b[1;31mNameError\u001b[0m: name 'sns' is not defined"
     ]
    }
   ],
   "source": [
    "# interactive plot\n",
    "data = []\n",
    "colors = sns.color_palette(\"RdBu_r\", 5).as_hex()\n",
    "\n",
    "for index, row in ratio.reset_index().iterrows():\n",
    "    data.append(go.Bar(x=np.array(index),\n",
    "                       y=np.array(row['ratio']),\n",
    "                       name = row['nutrition_grade_fr'],\n",
    "                       marker={'color': colors[index]}))\n",
    "\n",
    "layout = go.Layout(\n",
    "    title='Nutri-Score repartition in France.',\n",
    "    xaxis=go.layout.XAxis(\n",
    "        title='Nutriscore',\n",
    "        titlefont=dict(\n",
    "            family='Courier New, monospace',\n",
    "            size=18,\n",
    "            color='#7f7f7f'\n",
    "        ),\n",
    "        tickvals=np.arange(5).astype(str),\n",
    "        ticktext=ratio.index,\n",
    "    ),\n",
    "    yaxis=dict(\n",
    "        title='Ratio (in %)',\n",
    "        titlefont=dict(\n",
    "            family='Courier New, monospace',\n",
    "            size=18,\n",
    "            color='#7f7f7f'\n",
    "        )\n",
    "    ),\n",
    ")\n",
    "\n",
    "fig = go.FigureWidget(data=data, layout=layout)\n",
    "fig"
   ]
  },
  {
   "cell_type": "code",
   "execution_count": 7,
   "metadata": {},
   "outputs": [
    {
     "data": {
      "text/plain": [
       "'https://plot.ly/~tomM/94'"
      ]
     },
     "execution_count": 7,
     "metadata": {},
     "output_type": "execute_result"
    }
   ],
   "source": [
    "py.plot(fig, filename='food_quality_in_france_bar', auto_open=False)"
   ]
  },
  {
   "cell_type": "code",
   "execution_count": 8,
   "metadata": {
    "scrolled": true
   },
   "outputs": [
    {
     "data": {
      "text/html": [
       "<iframe id=\"igraph\" scrolling=\"no\" style=\"border:none;\" seamless=\"seamless\" src=\"https://plot.ly/~tomM/96.embed\" height=\"525px\" width=\"100%\"></iframe>"
      ],
      "text/plain": [
       "<plotly.tools.PlotlyDisplay object>"
      ]
     },
     "execution_count": 8,
     "metadata": {},
     "output_type": "execute_result"
    }
   ],
   "source": [
    "# interactive plot\n",
    "labels = count.index\n",
    "values = count['count'].values\n",
    "colors = sns.color_palette(\"RdBu_r\", 5).as_hex()\n",
    "\n",
    "fig = {\n",
    "    'data': [{'labels': labels,\n",
    "              'values': values,\n",
    "              'type': 'pie',\n",
    "              'marker':{'colors':colors}\n",
    "              }\n",
    "            ],\n",
    "    'layout': {'title': 'Nutri-Score repartition in France.'}\n",
    "     }\n",
    "\n",
    "py.iplot(fig, filename='food_quality_in_france_pie', auto_open=False)"
   ]
  },
  {
   "cell_type": "markdown",
   "metadata": {},
   "source": [
    "We can observe than, unfortunalty, more than 50% of the products sold in France have a bad nutrition grade (d or e). \n",
    "The healthy product tagged with the grade 'a' only represent 13% of the ~100,000 products in the data set."
   ]
  },
  {
   "cell_type": "markdown",
   "metadata": {},
   "source": [
    "## Food quality for each french food brand"
   ]
  },
  {
   "cell_type": "code",
   "execution_count": 9,
   "metadata": {},
   "outputs": [],
   "source": [
    "# read the data\n",
    "bra_nut_df = bra_cat_nut_df[['brands', 'nutrition_grade_fr']]\n",
    "bra_nut_dummies_df = bra_cat_nut_dummies_df[['brands','a','b','c','d','e']]"
   ]
  },
  {
   "cell_type": "code",
   "execution_count": 10,
   "metadata": {},
   "outputs": [],
   "source": [
    "# extract the total number of products for each brands\n",
    "brand_count = bra_nut_df.groupby('brands').count().rename(columns={'nutrition_grade_fr':'total'})"
   ]
  },
  {
   "cell_type": "code",
   "execution_count": 11,
   "metadata": {},
   "outputs": [],
   "source": [
    "# count the nutrition grade occurences for each brand\n",
    "brand_dummies_count = bra_nut_dummies_df.groupby('brands').sum()"
   ]
  },
  {
   "cell_type": "code",
   "execution_count": 12,
   "metadata": {},
   "outputs": [
    {
     "data": {
      "text/html": [
       "<div>\n",
       "<style scoped>\n",
       "    .dataframe tbody tr th:only-of-type {\n",
       "        vertical-align: middle;\n",
       "    }\n",
       "\n",
       "    .dataframe tbody tr th {\n",
       "        vertical-align: top;\n",
       "    }\n",
       "\n",
       "    .dataframe thead th {\n",
       "        text-align: right;\n",
       "    }\n",
       "</style>\n",
       "<table border=\"1\" class=\"dataframe\">\n",
       "  <thead>\n",
       "    <tr style=\"text-align: right;\">\n",
       "      <th></th>\n",
       "      <th>a</th>\n",
       "      <th>b</th>\n",
       "      <th>c</th>\n",
       "      <th>d</th>\n",
       "      <th>e</th>\n",
       "      <th>total</th>\n",
       "    </tr>\n",
       "    <tr>\n",
       "      <th>brands</th>\n",
       "      <th></th>\n",
       "      <th></th>\n",
       "      <th></th>\n",
       "      <th></th>\n",
       "      <th></th>\n",
       "      <th></th>\n",
       "    </tr>\n",
       "  </thead>\n",
       "  <tbody>\n",
       "    <tr>\n",
       "      <th>123 bio</th>\n",
       "      <td>121.0</td>\n",
       "      <td>75.0</td>\n",
       "      <td>54.0</td>\n",
       "      <td>91.0</td>\n",
       "      <td>80.0</td>\n",
       "      <td>421</td>\n",
       "    </tr>\n",
       "    <tr>\n",
       "      <th>7Up</th>\n",
       "      <td>0.0</td>\n",
       "      <td>5.0</td>\n",
       "      <td>1.0</td>\n",
       "      <td>4.0</td>\n",
       "      <td>24.0</td>\n",
       "      <td>34</td>\n",
       "    </tr>\n",
       "    <tr>\n",
       "      <th>A l'olivier</th>\n",
       "      <td>0.0</td>\n",
       "      <td>2.0</td>\n",
       "      <td>19.0</td>\n",
       "      <td>43.0</td>\n",
       "      <td>3.0</td>\n",
       "      <td>67</td>\n",
       "    </tr>\n",
       "    <tr>\n",
       "      <th>Ajax</th>\n",
       "      <td>1.0</td>\n",
       "      <td>0.0</td>\n",
       "      <td>0.0</td>\n",
       "      <td>0.0</td>\n",
       "      <td>1.0</td>\n",
       "      <td>2</td>\n",
       "    </tr>\n",
       "    <tr>\n",
       "      <th>Albert Menes</th>\n",
       "      <td>2.0</td>\n",
       "      <td>6.0</td>\n",
       "      <td>27.0</td>\n",
       "      <td>37.0</td>\n",
       "      <td>22.0</td>\n",
       "      <td>94</td>\n",
       "    </tr>\n",
       "  </tbody>\n",
       "</table>\n",
       "</div>"
      ],
      "text/plain": [
       "                  a     b     c     d     e  total\n",
       "brands                                            \n",
       "123 bio       121.0  75.0  54.0  91.0  80.0    421\n",
       "7Up             0.0   5.0   1.0   4.0  24.0     34\n",
       "A l'olivier     0.0   2.0  19.0  43.0   3.0     67\n",
       "Ajax            1.0   0.0   0.0   0.0   1.0      2\n",
       "Albert Menes    2.0   6.0  27.0  37.0  22.0     94"
      ]
     },
     "execution_count": 12,
     "metadata": {},
     "output_type": "execute_result"
    }
   ],
   "source": [
    "# we add the column 'total' to further extract the ratio of each grade instead of the raw count.\n",
    "brand_dummies_count = brand_dummies_count.join(brand_count)\n",
    "brand_dummies_count.head()"
   ]
  },
  {
   "cell_type": "code",
   "execution_count": 13,
   "metadata": {},
   "outputs": [],
   "source": [
    "# we convert the counts into ratios. \n",
    "# ex: ratio for 'a' = (count for 'a') / (total number of products)\n",
    "brand_nutri_ratio = brand_dummies_count.copy()\n",
    "brand_nutri_ratio[['a','b','c','d','e']] = brand_dummies_count[['a','b','c','d','e']].div(brand_dummies_count['total'].values,axis=0)*100\n",
    "brand_nutri_ratio = brand_nutri_ratio.sort_values('total',ascending=False)"
   ]
  },
  {
   "cell_type": "code",
   "execution_count": 14,
   "metadata": {},
   "outputs": [
    {
     "data": {
      "text/html": [
       "<div>\n",
       "<style scoped>\n",
       "    .dataframe tbody tr th:only-of-type {\n",
       "        vertical-align: middle;\n",
       "    }\n",
       "\n",
       "    .dataframe tbody tr th {\n",
       "        vertical-align: top;\n",
       "    }\n",
       "\n",
       "    .dataframe thead th {\n",
       "        text-align: right;\n",
       "    }\n",
       "</style>\n",
       "<table border=\"1\" class=\"dataframe\">\n",
       "  <thead>\n",
       "    <tr style=\"text-align: right;\">\n",
       "      <th></th>\n",
       "      <th>brands</th>\n",
       "      <th>a</th>\n",
       "      <th>b</th>\n",
       "      <th>c</th>\n",
       "      <th>d</th>\n",
       "      <th>e</th>\n",
       "    </tr>\n",
       "  </thead>\n",
       "  <tbody>\n",
       "    <tr>\n",
       "      <th>0</th>\n",
       "      <td>Carrefour</td>\n",
       "      <td>19.763931</td>\n",
       "      <td>15.344496</td>\n",
       "      <td>19.818831</td>\n",
       "      <td>26.269558</td>\n",
       "      <td>18.803184</td>\n",
       "    </tr>\n",
       "    <tr>\n",
       "      <th>1</th>\n",
       "      <td>Auchan</td>\n",
       "      <td>18.391764</td>\n",
       "      <td>15.303283</td>\n",
       "      <td>21.313300</td>\n",
       "      <td>26.794658</td>\n",
       "      <td>18.196995</td>\n",
       "    </tr>\n",
       "    <tr>\n",
       "      <th>2</th>\n",
       "      <td>Leclerc</td>\n",
       "      <td>13.648180</td>\n",
       "      <td>15.901213</td>\n",
       "      <td>22.010399</td>\n",
       "      <td>27.816291</td>\n",
       "      <td>20.623917</td>\n",
       "    </tr>\n",
       "    <tr>\n",
       "      <th>3</th>\n",
       "      <td>Casino</td>\n",
       "      <td>18.849840</td>\n",
       "      <td>15.609311</td>\n",
       "      <td>20.903697</td>\n",
       "      <td>25.604747</td>\n",
       "      <td>19.032405</td>\n",
       "    </tr>\n",
       "    <tr>\n",
       "      <th>4</th>\n",
       "      <td>Leader Price</td>\n",
       "      <td>17.482517</td>\n",
       "      <td>13.939394</td>\n",
       "      <td>22.750583</td>\n",
       "      <td>26.293706</td>\n",
       "      <td>19.533800</td>\n",
       "    </tr>\n",
       "  </tbody>\n",
       "</table>\n",
       "</div>"
      ],
      "text/plain": [
       "         brands          a          b          c          d          e\n",
       "0     Carrefour  19.763931  15.344496  19.818831  26.269558  18.803184\n",
       "1        Auchan  18.391764  15.303283  21.313300  26.794658  18.196995\n",
       "2       Leclerc  13.648180  15.901213  22.010399  27.816291  20.623917\n",
       "3        Casino  18.849840  15.609311  20.903697  25.604747  19.032405\n",
       "4  Leader Price  17.482517  13.939394  22.750583  26.293706  19.533800"
      ]
     },
     "execution_count": 14,
     "metadata": {},
     "output_type": "execute_result"
    }
   ],
   "source": [
    "# extract the 10 biggest brands\n",
    "ratio_top10 = brand_nutri_ratio.reset_index().loc[:9].drop('total',1)\n",
    "\n",
    "# save the brand names for further analysis \n",
    "top10_brand_names = ratio_top10.brands.values\n",
    "\n",
    "ratio_top10.head()"
   ]
  },
  {
   "cell_type": "code",
   "execution_count": 15,
   "metadata": {},
   "outputs": [
    {
     "data": {
      "text/html": [
       "<iframe id=\"igraph\" scrolling=\"no\" style=\"border:none;\" seamless=\"seamless\" src=\"https://plot.ly/~tomM/106.embed\" height=\"525px\" width=\"100%\"></iframe>"
      ],
      "text/plain": [
       "<plotly.tools.PlotlyDisplay object>"
      ]
     },
     "execution_count": 15,
     "metadata": {},
     "output_type": "execute_result"
    }
   ],
   "source": [
    "# interactive plot\n",
    "data = []\n",
    "colors = sns.color_palette(\"tab10\", ratio_top10.brands.count()).as_hex()\n",
    "\n",
    "for index, row in ratio_top10.iterrows():\n",
    "    data.append(go.Bar(x=['a','b','c','d','e'],\n",
    "                       y=np.array(row[1:]),\n",
    "                       name = row['brands'],\n",
    "                       marker={'color': colors[index]}))\n",
    "\n",
    "layout = go.Layout(\n",
    "    title='Nutrition score occurences for the 10 biggest food brands in France.',\n",
    "    xaxis=go.layout.XAxis(\n",
    "        title='Nutriscore',\n",
    "        titlefont=dict(\n",
    "            family='Courier New, monospace',\n",
    "            size=18,\n",
    "            color='#7f7f7f'\n",
    "        ),\n",
    "        tickvals=np.arange(5).astype(str),\n",
    "        ticktext=['a','b','c','d','e'],\n",
    "    ),\n",
    "    yaxis=dict(\n",
    "        title='Ratio (in %)',\n",
    "        titlefont=dict(\n",
    "            family='Courier New, monospace',\n",
    "            size=18,\n",
    "            color='#7f7f7f'\n",
    "        )\n",
    "    ),\n",
    ")\n",
    "\n",
    "fig = go.FigureWidget(data=data, layout=layout)\n",
    "py.iplot(fig, filename='brands_vs_nutriscore_bar', auto_open=False)"
   ]
  },
  {
   "cell_type": "code",
   "execution_count": 16,
   "metadata": {},
   "outputs": [
    {
     "data": {
      "text/html": [
       "<iframe id=\"igraph\" scrolling=\"no\" style=\"border:none;\" seamless=\"seamless\" src=\"https://plot.ly/~tomM/102.embed\" height=\"525px\" width=\"100%\"></iframe>"
      ],
      "text/plain": [
       "<plotly.tools.PlotlyDisplay object>"
      ]
     },
     "execution_count": 16,
     "metadata": {},
     "output_type": "execute_result"
    }
   ],
   "source": [
    "# interactive plot\n",
    "data = []\n",
    "colors = sns.color_palette(\"RdBu_r\", 5).as_hex()\n",
    "\n",
    "for index in range(len(['a','b','c','d','e'])):\n",
    "    data.append(go.Bar(x=ratio_top10['brands'],\n",
    "                       y=ratio_top10[ratio_top10.columns[index+1]],\n",
    "                       name = ratio_top10.columns[index+1],\n",
    "                       marker={'color': colors[index]}))\n",
    "\n",
    "layout = go.Layout(\n",
    "    \n",
    "    title='Nutrition score distribution within the 10 biggest food brands in France.',\n",
    "    barmode='stack',\n",
    "    \n",
    "    # x axis\n",
    "    xaxis=go.layout.XAxis(\n",
    "        title='Food Brand',\n",
    "        titlefont=dict(\n",
    "            family='Courier New, monospace',\n",
    "            size=18,\n",
    "            color='#7f7f7f'\n",
    "        ),\n",
    "        tickvals=np.arange(10).astype(str),\n",
    "        ticktext=ratio_top10['brands'],\n",
    "    ),\n",
    "    \n",
    "    # y axis\n",
    "    yaxis=dict(\n",
    "        title='Ratio (in %)',\n",
    "        titlefont=dict(\n",
    "            family='Courier New, monospace',\n",
    "            size=18,\n",
    "            color='#7f7f7f'\n",
    "        ),\n",
    "        showgrid=True,\n",
    "        gridcolor='#bdbdbd',\n",
    "    ),\n",
    ")\n",
    "\n",
    "fig = go.FigureWidget(data=data, layout=layout)\n",
    "py.iplot(fig, filename='brands_vs_nutriscore_bar_stacked', auto_open=False)"
   ]
  },
  {
   "cell_type": "markdown",
   "metadata": {},
   "source": [
    "As seen previously, we observe that for almost all the biggest food brands present in France more than 40% of the products are \"junk\" food (products with labels 'e' or 'd'). We don't eat that well in France... \n",
    "\n",
    "The exception is 'Picard' in which products tagged with 'd' or 'e' represent one third of the total number of products (which is already quite high...). Actually, Picard mainly sells frozen food which could be excpected to be healthier than the products sold by Netto (cheap product mainly industrial)."
   ]
  },
  {
   "cell_type": "markdown",
   "metadata": {},
   "source": [
    "## Category Distribution in the 10 biggest food brands in France. "
   ]
  },
  {
   "cell_type": "code",
   "execution_count": 17,
   "metadata": {},
   "outputs": [],
   "source": [
    "# read the data\n",
    "bra_cat_df = bra_cat_nut_df[['brands', 'pnns_groups_1']]\n",
    "bra_cat_dummies_df = bra_cat_nut_dummies_df.drop(['a','b','c','d','e'], axis=1)"
   ]
  },
  {
   "cell_type": "code",
   "execution_count": 18,
   "metadata": {
    "scrolled": false
   },
   "outputs": [
    {
     "data": {
      "text/html": [
       "<div>\n",
       "<style scoped>\n",
       "    .dataframe tbody tr th:only-of-type {\n",
       "        vertical-align: middle;\n",
       "    }\n",
       "\n",
       "    .dataframe tbody tr th {\n",
       "        vertical-align: top;\n",
       "    }\n",
       "\n",
       "    .dataframe thead th {\n",
       "        text-align: right;\n",
       "    }\n",
       "</style>\n",
       "<table border=\"1\" class=\"dataframe\">\n",
       "  <thead>\n",
       "    <tr style=\"text-align: right;\">\n",
       "      <th></th>\n",
       "      <th>Beverages</th>\n",
       "      <th>Cereals And Potatoes</th>\n",
       "      <th>Composite Foods</th>\n",
       "      <th>Fat And Sauces</th>\n",
       "      <th>Fish Meat Eggs</th>\n",
       "      <th>Fruits And Vegetables</th>\n",
       "      <th>Milk And Dairy Products</th>\n",
       "      <th>Salty Snacks</th>\n",
       "      <th>Sugary Snacks</th>\n",
       "      <th>Unknown</th>\n",
       "      <th>total</th>\n",
       "    </tr>\n",
       "    <tr>\n",
       "      <th>brands</th>\n",
       "      <th></th>\n",
       "      <th></th>\n",
       "      <th></th>\n",
       "      <th></th>\n",
       "      <th></th>\n",
       "      <th></th>\n",
       "      <th></th>\n",
       "      <th></th>\n",
       "      <th></th>\n",
       "      <th></th>\n",
       "      <th></th>\n",
       "    </tr>\n",
       "  </thead>\n",
       "  <tbody>\n",
       "    <tr>\n",
       "      <th>123 bio</th>\n",
       "      <td>38.0</td>\n",
       "      <td>60.0</td>\n",
       "      <td>28.0</td>\n",
       "      <td>38.0</td>\n",
       "      <td>28.0</td>\n",
       "      <td>64.0</td>\n",
       "      <td>43.0</td>\n",
       "      <td>15.0</td>\n",
       "      <td>72.0</td>\n",
       "      <td>222.0</td>\n",
       "      <td>608.0</td>\n",
       "    </tr>\n",
       "    <tr>\n",
       "      <th>7Up</th>\n",
       "      <td>29.0</td>\n",
       "      <td>0.0</td>\n",
       "      <td>0.0</td>\n",
       "      <td>0.0</td>\n",
       "      <td>0.0</td>\n",
       "      <td>0.0</td>\n",
       "      <td>0.0</td>\n",
       "      <td>0.0</td>\n",
       "      <td>0.0</td>\n",
       "      <td>8.0</td>\n",
       "      <td>37.0</td>\n",
       "    </tr>\n",
       "    <tr>\n",
       "      <th>A l'olivier</th>\n",
       "      <td>0.0</td>\n",
       "      <td>1.0</td>\n",
       "      <td>2.0</td>\n",
       "      <td>41.0</td>\n",
       "      <td>1.0</td>\n",
       "      <td>0.0</td>\n",
       "      <td>0.0</td>\n",
       "      <td>0.0</td>\n",
       "      <td>2.0</td>\n",
       "      <td>67.0</td>\n",
       "      <td>114.0</td>\n",
       "    </tr>\n",
       "  </tbody>\n",
       "</table>\n",
       "</div>"
      ],
      "text/plain": [
       "             Beverages  Cereals And Potatoes  Composite Foods  Fat And Sauces  \\\n",
       "brands                                                                          \n",
       "123 bio           38.0                  60.0             28.0            38.0   \n",
       "7Up               29.0                   0.0              0.0             0.0   \n",
       "A l'olivier        0.0                   1.0              2.0            41.0   \n",
       "\n",
       "             Fish Meat Eggs  Fruits And Vegetables  Milk And Dairy Products  \\\n",
       "brands                                                                        \n",
       "123 bio                28.0                   64.0                     43.0   \n",
       "7Up                     0.0                    0.0                      0.0   \n",
       "A l'olivier             1.0                    0.0                      0.0   \n",
       "\n",
       "             Salty Snacks  Sugary Snacks  Unknown  total  \n",
       "brands                                                    \n",
       "123 bio              15.0           72.0    222.0  608.0  \n",
       "7Up                   0.0            0.0      8.0   37.0  \n",
       "A l'olivier           0.0            2.0     67.0  114.0  "
      ]
     },
     "execution_count": 18,
     "metadata": {},
     "output_type": "execute_result"
    }
   ],
   "source": [
    "# here we count the category occurences for each brand\n",
    "brand_dummies_count = bra_cat_dummies_df.groupby('brands').sum()\n",
    "\n",
    "# we add the column total to further extract the ratio of each grade instead of the raw count\n",
    "brand_count = pd.DataFrame(data=brand_dummies_count.sum(axis=1), columns=['total'])\n",
    "brand_dummies_count = brand_dummies_count.join(brand_count)\n",
    "\n",
    "brand_dummies_count.head(3)"
   ]
  },
  {
   "cell_type": "code",
   "execution_count": 19,
   "metadata": {
    "scrolled": true
   },
   "outputs": [],
   "source": [
    "# we focus on the 10 biggest brands\n",
    "ratio_bra_cat = brand_dummies_count.copy().reset_index()\n",
    "ratio_bra_cat = ratio_bra_cat[ratio_bra_cat['brands'].isin(top10_brand_names)].set_index('brands')"
   ]
  },
  {
   "cell_type": "code",
   "execution_count": 20,
   "metadata": {},
   "outputs": [],
   "source": [
    "# we convert the counts into ratios\n",
    "ratio_bra_cat.iloc[:, np.arange(10)] = brand_dummies_count.iloc[:,np.arange(10)].div(brand_dummies_count['total'].values,axis=0)*100"
   ]
  },
  {
   "cell_type": "code",
   "execution_count": 21,
   "metadata": {},
   "outputs": [
    {
     "data": {
      "text/html": [
       "<div>\n",
       "<style scoped>\n",
       "    .dataframe tbody tr th:only-of-type {\n",
       "        vertical-align: middle;\n",
       "    }\n",
       "\n",
       "    .dataframe tbody tr th {\n",
       "        vertical-align: top;\n",
       "    }\n",
       "\n",
       "    .dataframe thead th {\n",
       "        text-align: right;\n",
       "    }\n",
       "</style>\n",
       "<table border=\"1\" class=\"dataframe\">\n",
       "  <thead>\n",
       "    <tr style=\"text-align: right;\">\n",
       "      <th></th>\n",
       "      <th>Beverages</th>\n",
       "      <th>Cereals And Potatoes</th>\n",
       "      <th>Composite Foods</th>\n",
       "      <th>Fat And Sauces</th>\n",
       "      <th>Fish Meat Eggs</th>\n",
       "      <th>Fruits And Vegetables</th>\n",
       "      <th>Milk And Dairy Products</th>\n",
       "      <th>Salty Snacks</th>\n",
       "      <th>Sugary Snacks</th>\n",
       "      <th>Unknown</th>\n",
       "      <th>total</th>\n",
       "    </tr>\n",
       "    <tr>\n",
       "      <th>brands</th>\n",
       "      <th></th>\n",
       "      <th></th>\n",
       "      <th></th>\n",
       "      <th></th>\n",
       "      <th></th>\n",
       "      <th></th>\n",
       "      <th></th>\n",
       "      <th></th>\n",
       "      <th></th>\n",
       "      <th></th>\n",
       "      <th></th>\n",
       "    </tr>\n",
       "  </thead>\n",
       "  <tbody>\n",
       "    <tr>\n",
       "      <th>Belle France</th>\n",
       "      <td>6.370795</td>\n",
       "      <td>7.229778</td>\n",
       "      <td>11.739442</td>\n",
       "      <td>5.941303</td>\n",
       "      <td>9.949893</td>\n",
       "      <td>9.305655</td>\n",
       "      <td>13.815319</td>\n",
       "      <td>4.509664</td>\n",
       "      <td>15.175376</td>\n",
       "      <td>15.962777</td>\n",
       "      <td>1397.0</td>\n",
       "    </tr>\n",
       "    <tr>\n",
       "      <th>Picard</th>\n",
       "      <td>0.539568</td>\n",
       "      <td>2.637890</td>\n",
       "      <td>37.170264</td>\n",
       "      <td>1.738609</td>\n",
       "      <td>9.472422</td>\n",
       "      <td>10.071942</td>\n",
       "      <td>8.932854</td>\n",
       "      <td>2.218225</td>\n",
       "      <td>8.992806</td>\n",
       "      <td>18.225420</td>\n",
       "      <td>1668.0</td>\n",
       "    </tr>\n",
       "    <tr>\n",
       "      <th>Monoprix</th>\n",
       "      <td>5.847953</td>\n",
       "      <td>8.878256</td>\n",
       "      <td>11.483254</td>\n",
       "      <td>4.731526</td>\n",
       "      <td>9.941520</td>\n",
       "      <td>7.921318</td>\n",
       "      <td>9.994684</td>\n",
       "      <td>3.030303</td>\n",
       "      <td>12.706007</td>\n",
       "      <td>25.465178</td>\n",
       "      <td>1881.0</td>\n",
       "    </tr>\n",
       "    <tr>\n",
       "      <th>Leader Price</th>\n",
       "      <td>5.774783</td>\n",
       "      <td>6.256015</td>\n",
       "      <td>11.004171</td>\n",
       "      <td>4.202759</td>\n",
       "      <td>8.020533</td>\n",
       "      <td>6.127687</td>\n",
       "      <td>10.137953</td>\n",
       "      <td>2.983638</td>\n",
       "      <td>10.619185</td>\n",
       "      <td>34.873276</td>\n",
       "      <td>3117.0</td>\n",
       "    </tr>\n",
       "    <tr>\n",
       "      <th>Carrefour</th>\n",
       "      <td>4.881403</td>\n",
       "      <td>8.078377</td>\n",
       "      <td>8.525266</td>\n",
       "      <td>4.331385</td>\n",
       "      <td>8.765899</td>\n",
       "      <td>7.356480</td>\n",
       "      <td>7.751805</td>\n",
       "      <td>2.543829</td>\n",
       "      <td>10.244070</td>\n",
       "      <td>37.521485</td>\n",
       "      <td>5818.0</td>\n",
       "    </tr>\n",
       "    <tr>\n",
       "      <th>Leclerc</th>\n",
       "      <td>6.940737</td>\n",
       "      <td>7.234383</td>\n",
       "      <td>8.622531</td>\n",
       "      <td>2.162306</td>\n",
       "      <td>8.649226</td>\n",
       "      <td>5.125467</td>\n",
       "      <td>7.020822</td>\n",
       "      <td>1.067806</td>\n",
       "      <td>14.281901</td>\n",
       "      <td>38.894821</td>\n",
       "      <td>3746.0</td>\n",
       "    </tr>\n",
       "    <tr>\n",
       "      <th>Casino</th>\n",
       "      <td>6.231714</td>\n",
       "      <td>7.050907</td>\n",
       "      <td>9.215916</td>\n",
       "      <td>3.832651</td>\n",
       "      <td>6.495026</td>\n",
       "      <td>6.143944</td>\n",
       "      <td>7.665301</td>\n",
       "      <td>2.837917</td>\n",
       "      <td>10.269163</td>\n",
       "      <td>40.257461</td>\n",
       "      <td>3418.0</td>\n",
       "    </tr>\n",
       "    <tr>\n",
       "      <th>Auchan</th>\n",
       "      <td>5.265011</td>\n",
       "      <td>6.374362</td>\n",
       "      <td>8.681106</td>\n",
       "      <td>4.824793</td>\n",
       "      <td>8.188061</td>\n",
       "      <td>6.691319</td>\n",
       "      <td>8.874802</td>\n",
       "      <td>2.201092</td>\n",
       "      <td>7.941539</td>\n",
       "      <td>40.957915</td>\n",
       "      <td>5679.0</td>\n",
       "    </tr>\n",
       "    <tr>\n",
       "      <th>Cora</th>\n",
       "      <td>6.791467</td>\n",
       "      <td>4.658250</td>\n",
       "      <td>7.792773</td>\n",
       "      <td>4.309970</td>\n",
       "      <td>8.663474</td>\n",
       "      <td>6.704397</td>\n",
       "      <td>6.269047</td>\n",
       "      <td>3.439269</td>\n",
       "      <td>10.317806</td>\n",
       "      <td>41.053548</td>\n",
       "      <td>2297.0</td>\n",
       "    </tr>\n",
       "    <tr>\n",
       "      <th>Netto</th>\n",
       "      <td>3.866171</td>\n",
       "      <td>5.055762</td>\n",
       "      <td>8.921933</td>\n",
       "      <td>4.163569</td>\n",
       "      <td>7.509294</td>\n",
       "      <td>5.278810</td>\n",
       "      <td>8.252788</td>\n",
       "      <td>2.156134</td>\n",
       "      <td>10.483271</td>\n",
       "      <td>44.312268</td>\n",
       "      <td>1345.0</td>\n",
       "    </tr>\n",
       "  </tbody>\n",
       "</table>\n",
       "</div>"
      ],
      "text/plain": [
       "              Beverages  Cereals And Potatoes  Composite Foods  \\\n",
       "brands                                                           \n",
       "Belle France   6.370795              7.229778        11.739442   \n",
       "Picard         0.539568              2.637890        37.170264   \n",
       "Monoprix       5.847953              8.878256        11.483254   \n",
       "Leader Price   5.774783              6.256015        11.004171   \n",
       "Carrefour      4.881403              8.078377         8.525266   \n",
       "Leclerc        6.940737              7.234383         8.622531   \n",
       "Casino         6.231714              7.050907         9.215916   \n",
       "Auchan         5.265011              6.374362         8.681106   \n",
       "Cora           6.791467              4.658250         7.792773   \n",
       "Netto          3.866171              5.055762         8.921933   \n",
       "\n",
       "              Fat And Sauces  Fish Meat Eggs  Fruits And Vegetables  \\\n",
       "brands                                                                \n",
       "Belle France        5.941303        9.949893               9.305655   \n",
       "Picard              1.738609        9.472422              10.071942   \n",
       "Monoprix            4.731526        9.941520               7.921318   \n",
       "Leader Price        4.202759        8.020533               6.127687   \n",
       "Carrefour           4.331385        8.765899               7.356480   \n",
       "Leclerc             2.162306        8.649226               5.125467   \n",
       "Casino              3.832651        6.495026               6.143944   \n",
       "Auchan              4.824793        8.188061               6.691319   \n",
       "Cora                4.309970        8.663474               6.704397   \n",
       "Netto               4.163569        7.509294               5.278810   \n",
       "\n",
       "              Milk And Dairy Products  Salty Snacks  Sugary Snacks    Unknown  \\\n",
       "brands                                                                          \n",
       "Belle France                13.815319      4.509664      15.175376  15.962777   \n",
       "Picard                       8.932854      2.218225       8.992806  18.225420   \n",
       "Monoprix                     9.994684      3.030303      12.706007  25.465178   \n",
       "Leader Price                10.137953      2.983638      10.619185  34.873276   \n",
       "Carrefour                    7.751805      2.543829      10.244070  37.521485   \n",
       "Leclerc                      7.020822      1.067806      14.281901  38.894821   \n",
       "Casino                       7.665301      2.837917      10.269163  40.257461   \n",
       "Auchan                       8.874802      2.201092       7.941539  40.957915   \n",
       "Cora                         6.269047      3.439269      10.317806  41.053548   \n",
       "Netto                        8.252788      2.156134      10.483271  44.312268   \n",
       "\n",
       "               total  \n",
       "brands                \n",
       "Belle France  1397.0  \n",
       "Picard        1668.0  \n",
       "Monoprix      1881.0  \n",
       "Leader Price  3117.0  \n",
       "Carrefour     5818.0  \n",
       "Leclerc       3746.0  \n",
       "Casino        3418.0  \n",
       "Auchan        5679.0  \n",
       "Cora          2297.0  \n",
       "Netto         1345.0  "
      ]
     },
     "execution_count": 21,
     "metadata": {},
     "output_type": "execute_result"
    }
   ],
   "source": [
    "ratio_bra_cat.sort_values(by='Unknown')"
   ]
  },
  {
   "cell_type": "markdown",
   "metadata": {},
   "source": [
    "We chose to remove the category Unknown since it gathers products from multiple categories. It is not relevant to analyze the distribution of products tagged 'Unknown' since they don't represent any real category of products. The user just omitted to tag the category. "
   ]
  },
  {
   "cell_type": "code",
   "execution_count": 22,
   "metadata": {},
   "outputs": [],
   "source": [
    "ratio_to_plot = ratio_bra_cat.reset_index().drop(['total', 'Unknown'],1)"
   ]
  },
  {
   "cell_type": "code",
   "execution_count": 23,
   "metadata": {},
   "outputs": [
    {
     "data": {
      "application/vnd.jupyter.widget-view+json": {
       "model_id": "1bb9149e07424673876efbd3e18851f8",
       "version_major": 2,
       "version_minor": 0
      },
      "text/html": [
       "<p>Failed to display Jupyter Widget of type <code>FigureWidget</code>.</p>\n",
       "<p>\n",
       "  If you're reading this message in the Jupyter Notebook or JupyterLab Notebook, it may mean\n",
       "  that the widgets JavaScript is still loading. If this message persists, it\n",
       "  likely means that the widgets JavaScript library is either not installed or\n",
       "  not enabled. See the <a href=\"https://ipywidgets.readthedocs.io/en/stable/user_install.html\">Jupyter\n",
       "  Widgets Documentation</a> for setup instructions.\n",
       "</p>\n",
       "<p>\n",
       "  If you're reading this message in another frontend (for example, a static\n",
       "  rendering on GitHub or <a href=\"https://nbviewer.jupyter.org/\">NBViewer</a>),\n",
       "  it may mean that your frontend doesn't currently support widgets.\n",
       "</p>\n"
      ],
      "text/plain": [
       "FigureWidget({\n",
       "    'data': [{'marker': {'color': '#1f77b4'},\n",
       "              'name': 'Beverages',\n",
       "              'type': 'bar',\n",
       "              'uid': 'd645526c-011c-11e9-94bc-ac220bb8d9d3',\n",
       "              'x': array(['Auchan', 'Belle France', 'Carrefour', 'Casino', 'Cora', 'Leader Price',\n",
       "                          'Leclerc', 'Monoprix', 'Netto', 'Picard'], dtype=object),\n",
       "              'y': array([5.26501145, 6.37079456, 4.88140254, 6.23171445, 6.79146713, 5.77478345,\n",
       "                          6.94073679, 5.84795322, 3.866171  , 0.53956835])},\n",
       "             {'marker': {'color': '#ff7f0e'},\n",
       "              'name': 'Cereals And Potatoes',\n",
       "              'type': 'bar',\n",
       "              'uid': 'd645526d-011c-11e9-b793-ac220bb8d9d3',\n",
       "              'x': array(['Auchan', 'Belle France', 'Carrefour', 'Casino', 'Cora', 'Leader Price',\n",
       "                          'Leclerc', 'Monoprix', 'Netto', 'Picard'], dtype=object),\n",
       "              'y': array([6.37436168, 7.2297781 , 8.07837745, 7.05090696, 4.65824989, 6.2560154 ,\n",
       "                          7.23438334, 8.87825625, 5.05576208, 2.63788969])},\n",
       "             {'marker': {'color': '#2ca02c'},\n",
       "              'name': 'Composite Foods',\n",
       "              'type': 'bar',\n",
       "              'uid': 'd645526e-011c-11e9-b744-ac220bb8d9d3',\n",
       "              'x': array(['Auchan', 'Belle France', 'Carrefour', 'Casino', 'Cora', 'Leader Price',\n",
       "                          'Leclerc', 'Monoprix', 'Netto', 'Picard'], dtype=object),\n",
       "              'y': array([ 8.68110583, 11.73944166,  8.52526641,  9.21591574,  7.79277318,\n",
       "                          11.00417068,  8.6225307 , 11.48325359,  8.92193309, 37.17026379])},\n",
       "             {'marker': {'color': '#d62728'},\n",
       "              'name': 'Fat And Sauces',\n",
       "              'type': 'bar',\n",
       "              'uid': 'd645526f-011c-11e9-b659-ac220bb8d9d3',\n",
       "              'x': array(['Auchan', 'Belle France', 'Carrefour', 'Casino', 'Cora', 'Leader Price',\n",
       "                          'Leclerc', 'Monoprix', 'Netto', 'Picard'], dtype=object),\n",
       "              'y': array([4.8247931 , 5.94130279, 4.33138536, 3.83265067, 4.30996953, 4.20275906,\n",
       "                          2.16230646, 4.73152578, 4.16356877, 1.73860911])},\n",
       "             {'marker': {'color': '#9467bd'},\n",
       "              'name': 'Fish Meat Eggs',\n",
       "              'type': 'bar',\n",
       "              'uid': 'd6455270-011c-11e9-b6e7-ac220bb8d9d3',\n",
       "              'x': array(['Auchan', 'Belle France', 'Carrefour', 'Casino', 'Cora', 'Leader Price',\n",
       "                          'Leclerc', 'Monoprix', 'Netto', 'Picard'], dtype=object),\n",
       "              'y': array([8.18806128, 9.94989263, 8.76589893, 6.49502633, 8.6634741 , 8.02053256,\n",
       "                          8.64922584, 9.94152047, 7.50929368, 9.47242206])},\n",
       "             {'marker': {'color': '#8c564b'},\n",
       "              'name': 'Fruits And Vegetables',\n",
       "              'type': 'bar',\n",
       "              'uid': 'd6455271-011c-11e9-aca8-ac220bb8d9d3',\n",
       "              'x': array(['Auchan', 'Belle France', 'Carrefour', 'Casino', 'Cora', 'Leader Price',\n",
       "                          'Leclerc', 'Monoprix', 'Netto', 'Picard'], dtype=object),\n",
       "              'y': array([ 6.69131889,  9.30565497,  7.35647989,  6.14394383,  6.70439704,\n",
       "                           6.12768688,  5.12546716,  7.92131845,  5.27881041, 10.07194245])},\n",
       "             {'marker': {'color': '#e377c2'},\n",
       "              'name': 'Milk And Dairy Products',\n",
       "              'type': 'bar',\n",
       "              'uid': 'd6455272-011c-11e9-9330-ac220bb8d9d3',\n",
       "              'x': array(['Auchan', 'Belle France', 'Carrefour', 'Casino', 'Cora', 'Leader Price',\n",
       "                          'Leclerc', 'Monoprix', 'Netto', 'Picard'], dtype=object),\n",
       "              'y': array([ 8.8748019 , 13.81531854,  7.75180474,  7.66530135,  6.26904658,\n",
       "                          10.13795316,  7.02082221,  9.99468368,  8.2527881 ,  8.93285372])},\n",
       "             {'marker': {'color': '#7f7f7f'},\n",
       "              'name': 'Salty Snacks',\n",
       "              'type': 'bar',\n",
       "              'uid': 'd6455273-011c-11e9-8995-ac220bb8d9d3',\n",
       "              'x': array(['Auchan', 'Belle France', 'Carrefour', 'Casino', 'Cora', 'Leader Price',\n",
       "                          'Leclerc', 'Monoprix', 'Netto', 'Picard'], dtype=object),\n",
       "              'y': array([2.20109174, 4.50966356, 2.54382949, 2.83791691, 3.43926861, 2.98363811,\n",
       "                          1.06780566, 3.03030303, 2.15613383, 2.21822542])},\n",
       "             {'marker': {'color': '#bcbd22'},\n",
       "              'name': 'Sugary Snacks',\n",
       "              'type': 'bar',\n",
       "              'uid': 'd6455274-011c-11e9-b8ef-ac220bb8d9d3',\n",
       "              'x': array(['Auchan', 'Belle France', 'Carrefour', 'Casino', 'Cora', 'Leader Price',\n",
       "                          'Leclerc', 'Monoprix', 'Netto', 'Picard'], dtype=object),\n",
       "              'y': array([ 7.941539  , 15.17537581, 10.24407013, 10.26916325, 10.31780583,\n",
       "                          10.61918511, 14.28190069, 12.70600744, 10.48327138,  8.99280576])}],\n",
       "    'layout': {'title': 'Food Category distribution within the 10 biggest food brands in France.',\n",
       "               'xaxis': {'ticktext': array(['Auchan', 'Belle France', 'Carrefour', 'Casino', 'Cora', 'Leader Price',\n",
       "                                            'Leclerc', 'Monoprix', 'Netto', 'Picard'], dtype=object),\n",
       "                         'tickvals': array(['0', '1', '2', '3', '4', '5', '6', '7', '8', '9'], dtype=object),\n",
       "                         'title': 'Food Brand',\n",
       "                         'titlefont': {'color': '#7f7f7f', 'family': 'Courier New, monospace', 'size': 18}},\n",
       "               'yaxis': {'title': 'Ratio (in %)',\n",
       "                         'titlefont': {'color': '#7f7f7f', 'family': 'Courier New, monospace', 'size': 18}}}\n",
       "})"
      ]
     },
     "metadata": {},
     "output_type": "display_data"
    }
   ],
   "source": [
    "# interactive plot\n",
    "data = []\n",
    "colors = sns.color_palette(\"tab10\", ratio_to_plot.brands.count()).as_hex()\n",
    "\n",
    "for index, nutri in enumerate(ratio_to_plot.columns[1:]):\n",
    "    data.append(go.Bar(x=ratio_to_plot['brands'],\n",
    "                       y=ratio_to_plot[ratio_to_plot.columns[index+1]],\n",
    "                       name = ratio_to_plot.columns[index+1],\n",
    "                       marker={'color': colors[index]}))\n",
    "\n",
    "layout = go.Layout(\n",
    "    title='Food Category distribution within the 10 biggest food brands in France.',\n",
    "    xaxis=go.layout.XAxis(\n",
    "        title='Food Brand',\n",
    "        titlefont=dict(\n",
    "            family='Courier New, monospace',\n",
    "            size=18,\n",
    "            color='#7f7f7f'\n",
    "        ),\n",
    "        tickvals=np.arange(10).astype(str),\n",
    "        ticktext=ratio_to_plot['brands'],\n",
    "    ),\n",
    "    yaxis=dict(\n",
    "        title='Ratio (in %)',\n",
    "        titlefont=dict(\n",
    "            family='Courier New, monospace',\n",
    "            size=18,\n",
    "            color='#7f7f7f'\n",
    "        )\n",
    "    ),\n",
    ")\n",
    "\n",
    "go.FigureWidget(data=data, layout=layout)"
   ]
  },
  {
   "cell_type": "code",
   "execution_count": 24,
   "metadata": {
    "scrolled": true
   },
   "outputs": [
    {
     "name": "stdout",
     "output_type": "stream",
     "text": [
      "This is the format of your plot grid:\n",
      "[ (1,1) x1,y1 ]  [ (1,2) x2,y2 ]  [ (1,3) x3,y3 ]\n",
      "[ (2,1) x4,y4 ]  [ (2,2) x5,y5 ]  [ (2,3) x6,y6 ]\n",
      "[ (3,1) x7,y7 ]  [ (3,2) x8,y8 ]  [ (3,3) x9,y9 ]\n",
      "\n"
     ]
    },
    {
     "data": {
      "text/html": [
       "<iframe id=\"igraph\" scrolling=\"no\" style=\"border:none;\" seamless=\"seamless\" src=\"https://plot.ly/~tomM/116.embed\" height=\"900px\" width=\"1000px\"></iframe>"
      ],
      "text/plain": [
       "<plotly.tools.PlotlyDisplay object>"
      ]
     },
     "execution_count": 24,
     "metadata": {},
     "output_type": "execute_result"
    }
   ],
   "source": [
    "# interactive plot\n",
    "data = []\n",
    "colors = sns.color_palette(\"tab10\", len(ratio_to_plot.columns[1:])).as_hex()\n",
    "\n",
    "for index, nutri in enumerate(ratio_to_plot.columns[1:]):\n",
    "    data.append(go.Scatter(x=ratio_to_plot['brands'],\n",
    "                       y=ratio_to_plot[ratio_to_plot.columns[index+1]],\n",
    "                       name = ratio_to_plot.columns[index+1],\n",
    "                       marker={'color': colors[index]}\n",
    "                          )\n",
    "               )\n",
    "    \n",
    "fig = tools.make_subplots(rows=3, cols=3, subplot_titles=tuple(ratio_to_plot.columns[1:]))\n",
    "\n",
    "for index,trace in enumerate(data):\n",
    "    (r, c) = divmod(index, 3)\n",
    "    fig.append_trace(trace, r+1, c+1)\n",
    "\n",
    "fig['layout']['yaxis1'].update(title='Ratio (in %)')\n",
    "fig['layout']['yaxis4'].update(title='Ratio (in %)')\n",
    "fig['layout']['yaxis7'].update(title='Ratio (in %)')\n",
    "\n",
    "fig['layout'].update(title='Food Category distribution within the 10 biggest food brands in France.', height=900, width=1000)\n",
    "\n",
    "py.iplot(fig)"
   ]
  },
  {
   "cell_type": "markdown",
   "metadata": {},
   "source": [
    "The analysis is hard since for all the brands except 'Picard' and 'Belle France' the products whose category is 'Unknown' represent more than 1/4 of the total number of products of the brand. For 'Picard' and 'Belle France' more than 80% of the products have a relevant tag 'categroy' (e.g 'Beverages'). We stick the analysis to those two brands:   \n",
    "\n",
    "- we osberve that the brand 'Picard' mainly sells 'Composite food' which is frozen food, which are mainly tagged 'a'. Picard can be called a \"healthy brand\". \n",
    "\n",
    "\n",
    "- on the opposite the brand 'Belle France' has a high ratio (15%) of products tagged 'Sugary Snacks'. It is the most unhealthy food category with a large majority of products tagged 'e' or 'd' regarding their nutrition grade. 'Belle France' sells a lot of \"junk\" food. However, the food category ratios are more homogeneous than the ones of the brand 'Picard'.      \n"
   ]
  },
  {
   "cell_type": "markdown",
   "metadata": {},
   "source": [
    "## Nutrition grade repartition per category in France"
   ]
  },
  {
   "cell_type": "code",
   "execution_count": 25,
   "metadata": {},
   "outputs": [],
   "source": [
    "# read the data \n",
    "cat_nut_df = bra_cat_nut_df[['pnns_groups_1', 'nutrition_grade_fr']]"
   ]
  },
  {
   "cell_type": "code",
   "execution_count": 26,
   "metadata": {},
   "outputs": [
    {
     "data": {
      "text/plain": [
       "223388"
      ]
     },
     "execution_count": 26,
     "metadata": {},
     "output_type": "execute_result"
    }
   ],
   "source": [
    "# number of products (total)\n",
    "cat_nut_df.index[-1]"
   ]
  },
  {
   "cell_type": "code",
   "execution_count": 27,
   "metadata": {},
   "outputs": [],
   "source": [
    "# we drop the null value\n",
    "cat_nut_df = cat_nut_df.dropna()"
   ]
  },
  {
   "cell_type": "code",
   "execution_count": 28,
   "metadata": {},
   "outputs": [
    {
     "data": {
      "text/plain": [
       "103469"
      ]
     },
     "execution_count": 28,
     "metadata": {},
     "output_type": "execute_result"
    }
   ],
   "source": [
    "# number of products (after removing the null)\n",
    "cat_nut_df.reset_index(drop=True).index[-1]"
   ]
  },
  {
   "cell_type": "markdown",
   "metadata": {},
   "source": [
    "We removed half the products but having still more than 100,000 products we assume the analysis is still statistically significant."
   ]
  },
  {
   "cell_type": "code",
   "execution_count": 29,
   "metadata": {},
   "outputs": [],
   "source": [
    "# we get dummies from the nutrition grades\n",
    "cat_nut_df = pd.get_dummies(cat_nut_df.set_index('pnns_groups_1')).rename(columns=\n",
    "                              {'nutrition_grade_fr_a':'a',\n",
    "                               'nutrition_grade_fr_b':'b',\n",
    "                               'nutrition_grade_fr_c':'c',\n",
    "                               'nutrition_grade_fr_d':'d',\n",
    "                               'nutrition_grade_fr_e':'e'})"
   ]
  },
  {
   "cell_type": "code",
   "execution_count": 30,
   "metadata": {},
   "outputs": [
    {
     "data": {
      "text/html": [
       "<div>\n",
       "<style scoped>\n",
       "    .dataframe tbody tr th:only-of-type {\n",
       "        vertical-align: middle;\n",
       "    }\n",
       "\n",
       "    .dataframe tbody tr th {\n",
       "        vertical-align: top;\n",
       "    }\n",
       "\n",
       "    .dataframe thead th {\n",
       "        text-align: right;\n",
       "    }\n",
       "</style>\n",
       "<table border=\"1\" class=\"dataframe\">\n",
       "  <thead>\n",
       "    <tr style=\"text-align: right;\">\n",
       "      <th></th>\n",
       "      <th>a</th>\n",
       "      <th>b</th>\n",
       "      <th>c</th>\n",
       "      <th>d</th>\n",
       "      <th>e</th>\n",
       "      <th>total</th>\n",
       "    </tr>\n",
       "    <tr>\n",
       "      <th>pnns_groups_1</th>\n",
       "      <th></th>\n",
       "      <th></th>\n",
       "      <th></th>\n",
       "      <th></th>\n",
       "      <th></th>\n",
       "      <th></th>\n",
       "    </tr>\n",
       "  </thead>\n",
       "  <tbody>\n",
       "    <tr>\n",
       "      <th>Beverages</th>\n",
       "      <td>71.0</td>\n",
       "      <td>854.0</td>\n",
       "      <td>1812.0</td>\n",
       "      <td>1624.0</td>\n",
       "      <td>3754.0</td>\n",
       "      <td>8115.0</td>\n",
       "    </tr>\n",
       "    <tr>\n",
       "      <th>Cereals And Potatoes</th>\n",
       "      <td>3839.0</td>\n",
       "      <td>1630.0</td>\n",
       "      <td>1616.0</td>\n",
       "      <td>1045.0</td>\n",
       "      <td>101.0</td>\n",
       "      <td>8231.0</td>\n",
       "    </tr>\n",
       "    <tr>\n",
       "      <th>Composite Foods</th>\n",
       "      <td>1798.0</td>\n",
       "      <td>3407.0</td>\n",
       "      <td>3404.0</td>\n",
       "      <td>2073.0</td>\n",
       "      <td>185.0</td>\n",
       "      <td>10867.0</td>\n",
       "    </tr>\n",
       "  </tbody>\n",
       "</table>\n",
       "</div>"
      ],
      "text/plain": [
       "                           a       b       c       d       e    total\n",
       "pnns_groups_1                                                        \n",
       "Beverages               71.0   854.0  1812.0  1624.0  3754.0   8115.0\n",
       "Cereals And Potatoes  3839.0  1630.0  1616.0  1045.0   101.0   8231.0\n",
       "Composite Foods       1798.0  3407.0  3404.0  2073.0   185.0  10867.0"
      ]
     },
     "execution_count": 30,
     "metadata": {},
     "output_type": "execute_result"
    }
   ],
   "source": [
    "# we count the number of products with grade 'a','b' ect. for each food category\n",
    "count = cat_nut_df.groupby('pnns_groups_1').sum()\n",
    "count['total'] = count.apply(lambda x: x['a']+x['b']+x['c']+x['d']+x['e'], axis=1) \n",
    "count.head(3)"
   ]
  },
  {
   "cell_type": "code",
   "execution_count": 31,
   "metadata": {
    "scrolled": false
   },
   "outputs": [
    {
     "data": {
      "text/html": [
       "<div>\n",
       "<style scoped>\n",
       "    .dataframe tbody tr th:only-of-type {\n",
       "        vertical-align: middle;\n",
       "    }\n",
       "\n",
       "    .dataframe tbody tr th {\n",
       "        vertical-align: top;\n",
       "    }\n",
       "\n",
       "    .dataframe thead th {\n",
       "        text-align: right;\n",
       "    }\n",
       "</style>\n",
       "<table border=\"1\" class=\"dataframe\">\n",
       "  <thead>\n",
       "    <tr style=\"text-align: right;\">\n",
       "      <th></th>\n",
       "      <th>a</th>\n",
       "      <th>b</th>\n",
       "      <th>c</th>\n",
       "      <th>d</th>\n",
       "      <th>e</th>\n",
       "      <th>total</th>\n",
       "    </tr>\n",
       "    <tr>\n",
       "      <th>pnns_groups_1</th>\n",
       "      <th></th>\n",
       "      <th></th>\n",
       "      <th></th>\n",
       "      <th></th>\n",
       "      <th></th>\n",
       "      <th></th>\n",
       "    </tr>\n",
       "  </thead>\n",
       "  <tbody>\n",
       "    <tr>\n",
       "      <th>Beverages</th>\n",
       "      <td>0.874923</td>\n",
       "      <td>10.523722</td>\n",
       "      <td>22.329020</td>\n",
       "      <td>20.012323</td>\n",
       "      <td>46.260012</td>\n",
       "      <td>8115.0</td>\n",
       "    </tr>\n",
       "    <tr>\n",
       "      <th>Cereals And Potatoes</th>\n",
       "      <td>46.640748</td>\n",
       "      <td>19.803183</td>\n",
       "      <td>19.633094</td>\n",
       "      <td>12.695906</td>\n",
       "      <td>1.227068</td>\n",
       "      <td>8231.0</td>\n",
       "    </tr>\n",
       "    <tr>\n",
       "      <th>Composite Foods</th>\n",
       "      <td>16.545505</td>\n",
       "      <td>31.351799</td>\n",
       "      <td>31.324193</td>\n",
       "      <td>19.076102</td>\n",
       "      <td>1.702402</td>\n",
       "      <td>10867.0</td>\n",
       "    </tr>\n",
       "  </tbody>\n",
       "</table>\n",
       "</div>"
      ],
      "text/plain": [
       "                              a          b          c          d          e  \\\n",
       "pnns_groups_1                                                                 \n",
       "Beverages              0.874923  10.523722  22.329020  20.012323  46.260012   \n",
       "Cereals And Potatoes  46.640748  19.803183  19.633094  12.695906   1.227068   \n",
       "Composite Foods       16.545505  31.351799  31.324193  19.076102   1.702402   \n",
       "\n",
       "                        total  \n",
       "pnns_groups_1                  \n",
       "Beverages              8115.0  \n",
       "Cereals And Potatoes   8231.0  \n",
       "Composite Foods       10867.0  "
      ]
     },
     "execution_count": 31,
     "metadata": {},
     "output_type": "execute_result"
    }
   ],
   "source": [
    "# we extract ratio from the counts and the total number of products for each category\n",
    "ratio = count.copy()\n",
    "ratio[['a','b','c','d','e']] = count[['a','b','c','d','e']].div(count['total'].values,axis=0)*100\n",
    "ratio.head(3)"
   ]
  },
  {
   "cell_type": "code",
   "execution_count": 32,
   "metadata": {},
   "outputs": [],
   "source": [
    "# we remove the 'total' column and we sort the category w.r.t to the ratio for the score 'a' (the healthier)\n",
    "ratio_to_plot = ratio.reset_index().drop('total',1).sort_values(by=['a'],ascending=0)\n",
    "\n",
    "# drop 'Unknown' category since not relevant for analysis (regroup multiple categories of products)\n",
    "ratio_to_plot = ratio_to_plot[ratio_to_plot.pnns_groups_1 != 'Unknown'].reset_index(drop=True)"
   ]
  },
  {
   "cell_type": "code",
   "execution_count": 33,
   "metadata": {
    "scrolled": false
   },
   "outputs": [
    {
     "data": {
      "text/html": [
       "<iframe id=\"igraph\" scrolling=\"no\" style=\"border:none;\" seamless=\"seamless\" src=\"https://plot.ly/~tomM/98.embed\" height=\"525px\" width=\"100%\"></iframe>"
      ],
      "text/plain": [
       "<plotly.tools.PlotlyDisplay object>"
      ]
     },
     "execution_count": 33,
     "metadata": {},
     "output_type": "execute_result"
    }
   ],
   "source": [
    "# interative plot\n",
    "data = []\n",
    "colors = sns.color_palette(\"RdBu_r\", 5).as_hex()\n",
    "\n",
    "for index, nutri in enumerate(ratio_to_plot.columns[1:]):\n",
    "    data.append(go.Bar(x=ratio_to_plot['pnns_groups_1'],\n",
    "                       y=ratio_to_plot[ratio_to_plot.columns[index+1]],\n",
    "                       name = ratio_to_plot.columns[index+1],\n",
    "                       marker={'color': colors[index]}))\n",
    "\n",
    "layout = go.Layout(\n",
    "    barmode='stack',\n",
    "    title='Health profile for each food category.',\n",
    "    xaxis=go.layout.XAxis(\n",
    "        title='Food Category',\n",
    "        titlefont=dict(\n",
    "            family='Courier New, monospace',\n",
    "            size=18,\n",
    "            color='#7f7f7f'\n",
    "        ),\n",
    "        tickangle = 20,\n",
    "        tickvals=np.arange(10).astype(str),\n",
    "        ticktext=ratio_to_plot['pnns_groups_1'],\n",
    "    ),\n",
    "    yaxis=dict(\n",
    "        title='Ratio (in %)',\n",
    "        titlefont=dict(\n",
    "            family='Courier New, monospace',\n",
    "            size=18,\n",
    "            color='#7f7f7f'\n",
    "        )\n",
    "    ),\n",
    ")\n",
    "\n",
    "fig = go.FigureWidget(data=data, layout=layout)\n",
    "\n",
    "py.iplot(fig, filename='food_category_vs_nutriscore', auto_open=False)"
   ]
  },
  {
   "cell_type": "markdown",
   "metadata": {},
   "source": [
    "As excepted we can obsevrve than the most healthy products are fruits and vegetables... And that the worst are snacks and beverages. \n",
    "\n",
    "Interestingly, the sugary snacks are worst for health than the salty snacks or the fatty products. Indeed the ratio of 'e' products is 49% for sugary snacks and 14% for salty snacks or 22% for fat and sauces. Moreover, the sum of 'e'+'d' ratios is also higher for sugary snacks. This could demonstrate that the real ennemy is maybe more 'sugar' than 'salt' or 'fat' which contrast with the standard nutritional recommendations which usually emphasize on fat.\n",
    "\n",
    "Finally the most heterogeneous category is the 'Fish Meat Eggs' one. It probably contains good products like fish without any industrial transformation and bad products like breaded fish or bacon."
   ]
  },
  {
   "cell_type": "markdown",
   "metadata": {},
   "source": [
    "# Brand vs Palm Oil in France"
   ]
  },
  {
   "cell_type": "markdown",
   "metadata": {},
   "source": [
    "## load and clean"
   ]
  },
  {
   "cell_type": "raw",
   "metadata": {},
   "source": [
    "# we filter the spark dataframe for products sold in France only \n",
    "# we extract the two columns tagging for palm oil presence\n",
    "bra_palm_raw = data.filter(\"countries_en=='France'\")\\\n",
    "                    .select('brands', 'ingredients_from_palm_oil_n','ingredients_that_may_be_from_palm_oil_n')\\\n",
    "                    .dropna(how='all')"
   ]
  },
  {
   "cell_type": "raw",
   "metadata": {},
   "source": [
    "# we convert the spark dataframe to a pandas dataframe\n",
    "bra_palm_raw_df = bra_palm.toPandas()\n",
    "\n",
    "# we store it in the current folder \n",
    "bra_palm_raw_df.to_pickle('bra_palm_raw_df')"
   ]
  },
  {
   "cell_type": "raw",
   "metadata": {},
   "source": [
    "# read the stored dataframe\n",
    "bra_palm_raw_df = pd.read_pickle('bra_palm_raw_df')"
   ]
  },
  {
   "cell_type": "raw",
   "metadata": {},
   "source": [
    "bra_palm_raw_df.head(3)"
   ]
  },
  {
   "cell_type": "raw",
   "metadata": {},
   "source": [
    "bra_palm_raw_df['new_brands'] = bra_palm_raw_df['brands'].apply(lambda x: clean_brand(x))"
   ]
  },
  {
   "cell_type": "raw",
   "metadata": {},
   "source": [
    "# drop when both 'ingredients_from_palm_oil_n' and 'ingredients_that_may_be_from_palm_oil_n' are None\n",
    "bra_palm_cleaned_df = bra_palm_raw_df.dropna(subset=['ingredients_from_palm_oil_n', \\\n",
    "                                                 'ingredients_that_may_be_from_palm_oil_n'], how='all') "
   ]
  },
  {
   "cell_type": "raw",
   "metadata": {},
   "source": [
    "# we can drop the old column 'brands' since we have the new ones.\n",
    "bra_palm_cleaned_df = bra_palm_cleaned_df.drop('brands',1).rename(columns={'new_brands':'brands'})\n",
    "\n",
    "# reset the index\n",
    "bra_palm_cleaned_df = bra_palm_cleaned_df.reset_index(drop=True)"
   ]
  },
  {
   "cell_type": "raw",
   "metadata": {},
   "source": [
    "# convert into numeric values\n",
    "bra_palm_cleaned_df['ingredients_from_palm_oil_n'] = bra_palm_cleaned_df['ingredients_from_palm_oil_n'].apply(pd.to_numeric)\n",
    "bra_palm_cleaned_df['ingredients_that_may_be_from_palm_oil_n'] = bra_palm_cleaned_df['ingredients_that_may_be_from_palm_oil_n'].apply(pd.to_numeric)"
   ]
  },
  {
   "cell_type": "raw",
   "metadata": {},
   "source": [
    "# save to pickle\n",
    "bra_palm_cleaned_df.to_pickle('bra_palm_cleaned_df')"
   ]
  },
  {
   "cell_type": "markdown",
   "metadata": {},
   "source": [
    "# Load cleaned data"
   ]
  },
  {
   "cell_type": "code",
   "execution_count": 34,
   "metadata": {},
   "outputs": [],
   "source": [
    "bra_palm_df = pd.read_pickle('bra_palm_cleaned_df')"
   ]
  },
  {
   "cell_type": "markdown",
   "metadata": {},
   "source": [
    "## Palm oil presence in the whole dataset"
   ]
  },
  {
   "cell_type": "code",
   "execution_count": 35,
   "metadata": {},
   "outputs": [],
   "source": [
    "bra_palm_bool_df = bra_palm_df.copy()\n",
    "bra_palm_bool_df.iloc[:,0] = bra_palm_bool_df.iloc[:,0].apply(lambda x: x>0) # for 'ingredients_from_palm_oil_n'\n",
    "bra_palm_bool_df.iloc[:,1] = bra_palm_bool_df.iloc[:,1].apply(lambda x: x>0) # for 'ingredients_that_may_be_from_palm_oil_n'"
   ]
  },
  {
   "cell_type": "code",
   "execution_count": 36,
   "metadata": {},
   "outputs": [],
   "source": [
    "bra_palm_to_plot_df = bra_palm_df[['brands']].copy()\n",
    "bra_palm_to_plot_df['no_palm_oil'] = bra_palm_bool_df.apply(lambda x: 1 if not x[0] and not x[1] else 0, axis=1) \n",
    "bra_palm_to_plot_df['may_contain_palm_oil'] = bra_palm_bool_df.apply(lambda x: 1 if x[0] and not x[1] else 0 , axis=1) \n",
    "bra_palm_to_plot_df['contain_palm_oil'] = bra_palm_bool_df.apply(lambda x: 1 if x[1] else 0, axis=1) "
   ]
  },
  {
   "cell_type": "code",
   "execution_count": 37,
   "metadata": {},
   "outputs": [
    {
     "data": {
      "text/html": [
       "<div>\n",
       "<style scoped>\n",
       "    .dataframe tbody tr th:only-of-type {\n",
       "        vertical-align: middle;\n",
       "    }\n",
       "\n",
       "    .dataframe tbody tr th {\n",
       "        vertical-align: top;\n",
       "    }\n",
       "\n",
       "    .dataframe thead th {\n",
       "        text-align: right;\n",
       "    }\n",
       "</style>\n",
       "<table border=\"1\" class=\"dataframe\">\n",
       "  <thead>\n",
       "    <tr style=\"text-align: right;\">\n",
       "      <th></th>\n",
       "      <th>brands</th>\n",
       "      <th>no_palm_oil</th>\n",
       "      <th>may_contain_palm_oil</th>\n",
       "      <th>contain_palm_oil</th>\n",
       "    </tr>\n",
       "  </thead>\n",
       "  <tbody>\n",
       "    <tr>\n",
       "      <th>0</th>\n",
       "      <td>Crous</td>\n",
       "      <td>1</td>\n",
       "      <td>0</td>\n",
       "      <td>0</td>\n",
       "    </tr>\n",
       "    <tr>\n",
       "      <th>1</th>\n",
       "      <td>None</td>\n",
       "      <td>1</td>\n",
       "      <td>0</td>\n",
       "      <td>0</td>\n",
       "    </tr>\n",
       "    <tr>\n",
       "      <th>2</th>\n",
       "      <td>None</td>\n",
       "      <td>1</td>\n",
       "      <td>0</td>\n",
       "      <td>0</td>\n",
       "    </tr>\n",
       "  </tbody>\n",
       "</table>\n",
       "</div>"
      ],
      "text/plain": [
       "  brands  no_palm_oil  may_contain_palm_oil  contain_palm_oil\n",
       "0  Crous            1                     0                 0\n",
       "1   None            1                     0                 0\n",
       "2   None            1                     0                 0"
      ]
     },
     "execution_count": 37,
     "metadata": {},
     "output_type": "execute_result"
    }
   ],
   "source": [
    "bra_palm_to_plot_df.head(3)"
   ]
  },
  {
   "cell_type": "code",
   "execution_count": 38,
   "metadata": {},
   "outputs": [],
   "source": [
    "# count the number of product for each palm category \n",
    "count = bra_palm_to_plot_df.sum(axis=0)"
   ]
  },
  {
   "cell_type": "code",
   "execution_count": 39,
   "metadata": {},
   "outputs": [
    {
     "data": {
      "application/vnd.jupyter.widget-view+json": {
       "model_id": "490a2abfa6db48a5b894fd23808e59e1",
       "version_major": 2,
       "version_minor": 0
      },
      "text/html": [
       "<p>Failed to display Jupyter Widget of type <code>FigureWidget</code>.</p>\n",
       "<p>\n",
       "  If you're reading this message in the Jupyter Notebook or JupyterLab Notebook, it may mean\n",
       "  that the widgets JavaScript is still loading. If this message persists, it\n",
       "  likely means that the widgets JavaScript library is either not installed or\n",
       "  not enabled. See the <a href=\"https://ipywidgets.readthedocs.io/en/stable/user_install.html\">Jupyter\n",
       "  Widgets Documentation</a> for setup instructions.\n",
       "</p>\n",
       "<p>\n",
       "  If you're reading this message in another frontend (for example, a static\n",
       "  rendering on GitHub or <a href=\"https://nbviewer.jupyter.org/\">NBViewer</a>),\n",
       "  it may mean that your frontend doesn't currently support widgets.\n",
       "</p>\n"
      ],
      "text/plain": [
       "FigureWidget({\n",
       "    'data': [{'marker': {'color': '#fcbba1'},\n",
       "              'name': 'no palm oil',\n",
       "              'type': 'bar',\n",
       "              'uid': 'fd1f74ac-011c-11e9-8491-ac220bb8d9d3',\n",
       "              'x': array([0]),\n",
       "              'y': array([150081])},\n",
       "             {'marker': {'color': '#fb694a'},\n",
       "              'name': 'may contain palm oil',\n",
       "              'type': 'bar',\n",
       "              'uid': 'fd1f74ad-011c-11e9-89c7-ac220bb8d9d3',\n",
       "              'x': array([1]),\n",
       "              'y': array([6611])},\n",
       "             {'marker': {'color': '#ca181d'},\n",
       "              'name': 'contain palm oil',\n",
       "              'type': 'bar',\n",
       "              'uid': 'fd1f74ae-011c-11e9-8992-ac220bb8d9d3',\n",
       "              'x': array([2]),\n",
       "              'y': array([15777])}],\n",
       "    'layout': {'showlegend': False,\n",
       "               'title': 'Nutrition score occurences in the original dataset.',\n",
       "               'xaxis': {'ticktext': [no palm oil, may contain palm oil, contain\n",
       "                                      palm oil],\n",
       "                         'tickvals': array(['0', '1', '2'], dtype=object),\n",
       "                         'title': 'Product feature',\n",
       "                         'titlefont': {'color': '#7f7f7f', 'family': 'Courier New, monospace', 'size': 18}},\n",
       "               'yaxis': {'title': 'Count',\n",
       "                         'titlefont': {'color': '#7f7f7f', 'family': 'Courier New, monospace', 'size': 18}}}\n",
       "})"
      ]
     },
     "metadata": {},
     "output_type": "display_data"
    }
   ],
   "source": [
    "# interactive plot\n",
    "data = []\n",
    "colors = sns.color_palette(\"Reds\", 3).as_hex()\n",
    "labels = ['no palm oil', 'may contain palm oil', 'contain palm oil']\n",
    "\n",
    "for index, item in enumerate(count.iteritems()):\n",
    "    data.append(go.Bar(x=np.array(index),\n",
    "                       y=np.array(item[1]),\n",
    "                       name = labels[index],\n",
    "                       marker={'color': colors[index]}))\n",
    "\n",
    "layout = go.Layout(\n",
    "    title='Nutrition score occurences in the original dataset.',\n",
    "    showlegend=False,\n",
    "    xaxis=go.layout.XAxis(\n",
    "        title='Product feature',\n",
    "        titlefont=dict(\n",
    "            family='Courier New, monospace',\n",
    "            size=18,\n",
    "            color='#7f7f7f'\n",
    "        ),\n",
    "        tickvals=np.arange(3).astype(str),\n",
    "        ticktext= labels,\n",
    "    ),\n",
    "    yaxis=dict(\n",
    "        title='Count',\n",
    "        titlefont=dict(\n",
    "            family='Courier New, monospace',\n",
    "            size=18,\n",
    "            color='#7f7f7f'\n",
    "        )\n",
    "    ),\n",
    ")\n",
    "\n",
    "fig = go.FigureWidget(data=data, layout=layout)\n",
    "fig"
   ]
  },
  {
   "cell_type": "code",
   "execution_count": 40,
   "metadata": {
    "scrolled": true
   },
   "outputs": [
    {
     "data": {
      "text/html": [
       "<iframe id=\"igraph\" scrolling=\"no\" style=\"border:none;\" seamless=\"seamless\" src=\"https://plot.ly/~tomM/110.embed\" height=\"525px\" width=\"100%\"></iframe>"
      ],
      "text/plain": [
       "<plotly.tools.PlotlyDisplay object>"
      ]
     },
     "execution_count": 40,
     "metadata": {},
     "output_type": "execute_result"
    }
   ],
   "source": [
    "# interactive plot\n",
    "fig = {\n",
    "    'data': [{'labels': labels,\n",
    "              'values': count.values,\n",
    "              'type': 'pie',\n",
    "              'marker':{'colors':colors}\n",
    "              }\n",
    "            ],\n",
    "    'layout': {'title': 'Palm oil in french products.'}\n",
    "     }\n",
    "\n",
    "py.iplot(fig, filename='palm_oil_in_france', auto_open=False)"
   ]
  },
  {
   "cell_type": "markdown",
   "metadata": {},
   "source": [
    "We observe that the large majority (87%) of the ~170,000 products in the dataset don't contain palm oil. \n",
    "\n",
    "However it is important to bear in mind that it is quite hard to (rapidely) assess if one ingredient contains palm oil in case it is not directly mentionned in the ingredients list. Indeed it is unlikely that all the persons who have added a product in the database have done an exhaustive research on the fabrication process of all the ingredients. "
   ]
  },
  {
   "cell_type": "markdown",
   "metadata": {},
   "source": [
    "## Palm oil presence for each french food brand"
   ]
  },
  {
   "cell_type": "code",
   "execution_count": 41,
   "metadata": {},
   "outputs": [],
   "source": [
    "# read the data\n",
    "bra_palm_df = pd.read_pickle('bra_palm_cleaned_df')"
   ]
  },
  {
   "cell_type": "code",
   "execution_count": 42,
   "metadata": {
    "scrolled": true
   },
   "outputs": [
    {
     "data": {
      "text/html": [
       "<div>\n",
       "<style scoped>\n",
       "    .dataframe tbody tr th:only-of-type {\n",
       "        vertical-align: middle;\n",
       "    }\n",
       "\n",
       "    .dataframe tbody tr th {\n",
       "        vertical-align: top;\n",
       "    }\n",
       "\n",
       "    .dataframe thead th {\n",
       "        text-align: right;\n",
       "    }\n",
       "</style>\n",
       "<table border=\"1\" class=\"dataframe\">\n",
       "  <thead>\n",
       "    <tr style=\"text-align: right;\">\n",
       "      <th></th>\n",
       "      <th>total</th>\n",
       "    </tr>\n",
       "    <tr>\n",
       "      <th>brands</th>\n",
       "      <th></th>\n",
       "    </tr>\n",
       "  </thead>\n",
       "  <tbody>\n",
       "    <tr>\n",
       "      <th>123 bio</th>\n",
       "      <td>592</td>\n",
       "    </tr>\n",
       "    <tr>\n",
       "      <th>7Up</th>\n",
       "      <td>28</td>\n",
       "    </tr>\n",
       "    <tr>\n",
       "      <th>A l'olivier</th>\n",
       "      <td>103</td>\n",
       "    </tr>\n",
       "  </tbody>\n",
       "</table>\n",
       "</div>"
      ],
      "text/plain": [
       "             total\n",
       "brands            \n",
       "123 bio        592\n",
       "7Up             28\n",
       "A l'olivier    103"
      ]
     },
     "execution_count": 42,
     "metadata": {},
     "output_type": "execute_result"
    }
   ],
   "source": [
    "# count number of products per brand\n",
    "brand_count = bra_palm_df[['ingredients_that_may_be_from_palm_oil_n', 'brands']] \\\n",
    "                                    .groupby('brands')\\\n",
    "                                    .count() \\\n",
    "                                    .rename(columns={'ingredients_that_may_be_from_palm_oil_n':'total'})\n",
    "brand_count.head(3)"
   ]
  },
  {
   "cell_type": "code",
   "execution_count": 43,
   "metadata": {},
   "outputs": [
    {
     "data": {
      "text/html": [
       "<div>\n",
       "<style scoped>\n",
       "    .dataframe tbody tr th:only-of-type {\n",
       "        vertical-align: middle;\n",
       "    }\n",
       "\n",
       "    .dataframe tbody tr th {\n",
       "        vertical-align: top;\n",
       "    }\n",
       "\n",
       "    .dataframe thead th {\n",
       "        text-align: right;\n",
       "    }\n",
       "</style>\n",
       "<table border=\"1\" class=\"dataframe\">\n",
       "  <thead>\n",
       "    <tr style=\"text-align: right;\">\n",
       "      <th></th>\n",
       "      <th>total</th>\n",
       "      <th>ingredients_from_palm_oil_n</th>\n",
       "      <th>ingredients_that_may_be_from_palm_oil_n</th>\n",
       "    </tr>\n",
       "    <tr>\n",
       "      <th>brands</th>\n",
       "      <th></th>\n",
       "      <th></th>\n",
       "      <th></th>\n",
       "    </tr>\n",
       "  </thead>\n",
       "  <tbody>\n",
       "    <tr>\n",
       "      <th>123 bio</th>\n",
       "      <td>592</td>\n",
       "      <td>2</td>\n",
       "      <td>1</td>\n",
       "    </tr>\n",
       "    <tr>\n",
       "      <th>7Up</th>\n",
       "      <td>28</td>\n",
       "      <td>0</td>\n",
       "      <td>0</td>\n",
       "    </tr>\n",
       "    <tr>\n",
       "      <th>A l'olivier</th>\n",
       "      <td>103</td>\n",
       "      <td>1</td>\n",
       "      <td>2</td>\n",
       "    </tr>\n",
       "  </tbody>\n",
       "</table>\n",
       "</div>"
      ],
      "text/plain": [
       "             total  ingredients_from_palm_oil_n  \\\n",
       "brands                                            \n",
       "123 bio        592                            2   \n",
       "7Up             28                            0   \n",
       "A l'olivier    103                            1   \n",
       "\n",
       "             ingredients_that_may_be_from_palm_oil_n  \n",
       "brands                                                \n",
       "123 bio                                            1  \n",
       "7Up                                                0  \n",
       "A l'olivier                                        2  "
      ]
     },
     "execution_count": 43,
     "metadata": {},
     "output_type": "execute_result"
    }
   ],
   "source": [
    "# count the number of products for each palm category w.r.t the brands\n",
    "bra_palm_grouped_df = bra_palm_df.groupby('brands').sum()\n",
    "\n",
    "# add the number of products per brand\n",
    "bra_palm_grouped_df = brand_count.join(bra_palm_grouped_df)\n",
    "\n",
    "bra_palm_grouped_df.head(3)"
   ]
  },
  {
   "cell_type": "code",
   "execution_count": 44,
   "metadata": {},
   "outputs": [
    {
     "data": {
      "text/html": [
       "<div>\n",
       "<style scoped>\n",
       "    .dataframe tbody tr th:only-of-type {\n",
       "        vertical-align: middle;\n",
       "    }\n",
       "\n",
       "    .dataframe tbody tr th {\n",
       "        vertical-align: top;\n",
       "    }\n",
       "\n",
       "    .dataframe thead th {\n",
       "        text-align: right;\n",
       "    }\n",
       "</style>\n",
       "<table border=\"1\" class=\"dataframe\">\n",
       "  <thead>\n",
       "    <tr style=\"text-align: right;\">\n",
       "      <th></th>\n",
       "      <th>contain palm oil</th>\n",
       "      <th>may contain palm oil</th>\n",
       "      <th>no palm oil</th>\n",
       "    </tr>\n",
       "    <tr>\n",
       "      <th>brands</th>\n",
       "      <th></th>\n",
       "      <th></th>\n",
       "      <th></th>\n",
       "    </tr>\n",
       "  </thead>\n",
       "  <tbody>\n",
       "    <tr>\n",
       "      <th>123 bio</th>\n",
       "      <td>0.337838</td>\n",
       "      <td>0.168919</td>\n",
       "      <td>99.493243</td>\n",
       "    </tr>\n",
       "    <tr>\n",
       "      <th>7Up</th>\n",
       "      <td>0.000000</td>\n",
       "      <td>0.000000</td>\n",
       "      <td>100.000000</td>\n",
       "    </tr>\n",
       "    <tr>\n",
       "      <th>A l'olivier</th>\n",
       "      <td>0.970874</td>\n",
       "      <td>1.941748</td>\n",
       "      <td>97.087379</td>\n",
       "    </tr>\n",
       "  </tbody>\n",
       "</table>\n",
       "</div>"
      ],
      "text/plain": [
       "             contain palm oil  may contain palm oil  no palm oil\n",
       "brands                                                          \n",
       "123 bio              0.337838              0.168919    99.493243\n",
       "7Up                  0.000000              0.000000   100.000000\n",
       "A l'olivier          0.970874              1.941748    97.087379"
      ]
     },
     "execution_count": 44,
     "metadata": {},
     "output_type": "execute_result"
    }
   ],
   "source": [
    "# get ratio from the counts\n",
    "ratio_df = pd.DataFrame()\n",
    "ratio_df['contain palm oil'] = bra_palm_grouped_df.ingredients_from_palm_oil_n.div(bra_palm_grouped_df.total)\n",
    "ratio_df['may contain palm oil'] = bra_palm_grouped_df.ingredients_that_may_be_from_palm_oil_n.div(bra_palm_grouped_df.total)\n",
    "ratio_df['no palm oil'] = 1 - ratio_df['may contain palm oil'] - ratio_df['contain palm oil']\n",
    "\n",
    "# get percentage\n",
    "ratio_df = ratio_df.applymap(lambda x: 100*x) \n",
    "\n",
    "ratio_df.head(3)"
   ]
  },
  {
   "cell_type": "code",
   "execution_count": 45,
   "metadata": {},
   "outputs": [],
   "source": [
    "# extract the values for the 10 biggest brands in France\n",
    "ratio_top10_df = ratio_df.copy().reset_index()[ratio_df.index.isin(top10_brand_names)].reset_index(drop=True)"
   ]
  },
  {
   "cell_type": "code",
   "execution_count": 46,
   "metadata": {},
   "outputs": [],
   "source": [
    "# sort them to have the more \"environmental\" brands first\n",
    "ratio_top10_df.sort_values(by='no palm oil', ascending=False, inplace=True)"
   ]
  },
  {
   "cell_type": "code",
   "execution_count": 47,
   "metadata": {},
   "outputs": [
    {
     "data": {
      "application/vnd.jupyter.widget-view+json": {
       "model_id": "7af1d0262ff44cc488d5693233a91e69",
       "version_major": 2,
       "version_minor": 0
      },
      "text/html": [
       "<p>Failed to display Jupyter Widget of type <code>FigureWidget</code>.</p>\n",
       "<p>\n",
       "  If you're reading this message in the Jupyter Notebook or JupyterLab Notebook, it may mean\n",
       "  that the widgets JavaScript is still loading. If this message persists, it\n",
       "  likely means that the widgets JavaScript library is either not installed or\n",
       "  not enabled. See the <a href=\"https://ipywidgets.readthedocs.io/en/stable/user_install.html\">Jupyter\n",
       "  Widgets Documentation</a> for setup instructions.\n",
       "</p>\n",
       "<p>\n",
       "  If you're reading this message in another frontend (for example, a static\n",
       "  rendering on GitHub or <a href=\"https://nbviewer.jupyter.org/\">NBViewer</a>),\n",
       "  it may mean that your frontend doesn't currently support widgets.\n",
       "</p>\n"
      ],
      "text/plain": [
       "FigureWidget({\n",
       "    'data': [{'marker': {'color': '#17becf'},\n",
       "              'name': 'Picard',\n",
       "              'type': 'bar',\n",
       "              'uid': '03238876-011d-11e9-8816-ac220bb8d9d3',\n",
       "              'x': array(['contain palm oil', 'may contain palm oil', 'no palm oil'], dtype=object),\n",
       "              'y': array([1.6371971185330716, 13.883431565160445, 84.47937131630648], dtype=object)},\n",
       "             {'marker': {'color': '#7f7f7f'},\n",
       "              'name': 'Monoprix',\n",
       "              'type': 'bar',\n",
       "              'uid': '03238877-011d-11e9-b2b0-ac220bb8d9d3',\n",
       "              'x': array(['contain palm oil', 'may contain palm oil', 'no palm oil'], dtype=object),\n",
       "              'y': array([1.7937219730941705, 14.221652786675207, 83.98462524023061], dtype=object)},\n",
       "             {'marker': {'color': '#d62728'},\n",
       "              'name': 'Casino',\n",
       "              'type': 'bar',\n",
       "              'uid': '03238878-011d-11e9-87cf-ac220bb8d9d3',\n",
       "              'x': array(['contain palm oil', 'may contain palm oil', 'no palm oil'], dtype=object),\n",
       "              'y': array([3.10254735467015, 14.500326583932072, 82.39712606139777], dtype=object)},\n",
       "             {'marker': {'color': '#2ca02c'},\n",
       "              'name': 'Carrefour',\n",
       "              'type': 'bar',\n",
       "              'uid': '03238879-011d-11e9-ae3b-ac220bb8d9d3',\n",
       "              'x': array(['contain palm oil', 'may contain palm oil', 'no palm oil'], dtype=object),\n",
       "              'y': array([5.850263355906696, 12.584650112866816, 81.5650865312265], dtype=object)},\n",
       "             {'marker': {'color': '#9467bd'},\n",
       "              'name': 'Cora',\n",
       "              'type': 'bar',\n",
       "              'uid': '0323887a-011d-11e9-b7eb-ac220bb8d9d3',\n",
       "              'x': array(['contain palm oil', 'may contain palm oil', 'no palm oil'], dtype=object),\n",
       "              'y': array([6.375502008032129, 13.303212851405622, 80.32128514056225], dtype=object)},\n",
       "             {'marker': {'color': '#1f77b4'},\n",
       "              'name': 'Auchan',\n",
       "              'type': 'bar',\n",
       "              'uid': '0323887b-011d-11e9-b3f7-ac220bb8d9d3',\n",
       "              'x': array(['contain palm oil', 'may contain palm oil', 'no palm oil'], dtype=object),\n",
       "              'y': array([5.241460541813899, 15.213977228111503, 79.54456223007459], dtype=object)},\n",
       "             {'marker': {'color': '#8c564b'},\n",
       "              'name': 'Leader Price',\n",
       "              'type': 'bar',\n",
       "              'uid': '0323887c-011d-11e9-8e6a-ac220bb8d9d3',\n",
       "              'x': array(['contain palm oil', 'may contain palm oil', 'no palm oil'], dtype=object),\n",
       "              'y': array([5.447470817120623, 17.438981252210827, 77.11354793066855], dtype=object)},\n",
       "             {'marker': {'color': '#bcbd22'},\n",
       "              'name': 'Netto',\n",
       "              'type': 'bar',\n",
       "              'uid': '0323887d-011d-11e9-a588-ac220bb8d9d3',\n",
       "              'x': array(['contain palm oil', 'may contain palm oil', 'no palm oil'], dtype=object),\n",
       "              'y': array([6.967213114754098, 16.311475409836067, 76.72131147540983], dtype=object)},\n",
       "             {'marker': {'color': '#ff7f0e'},\n",
       "              'name': 'Belle France',\n",
       "              'type': 'bar',\n",
       "              'uid': '0323887e-011d-11e9-aabb-ac220bb8d9d3',\n",
       "              'x': array(['contain palm oil', 'may contain palm oil', 'no palm oil'], dtype=object),\n",
       "              'y': array([6.55893536121673, 16.82509505703422, 76.61596958174904], dtype=object)},\n",
       "             {'marker': {'color': '#e377c2'},\n",
       "              'name': 'Leclerc',\n",
       "              'type': 'bar',\n",
       "              'uid': '0323887f-011d-11e9-a6c3-ac220bb8d9d3',\n",
       "              'x': array(['contain palm oil', 'may contain palm oil', 'no palm oil'], dtype=object),\n",
       "              'y': array([7.310302282541641, 20.913016656384947, 71.77668106107342], dtype=object)}],\n",
       "    'layout': {'title': 'Raio of products with palm oil for the top 10 french brand.',\n",
       "               'xaxis': {'ticktext': array(['contain palm oil', 'may contain palm oil', 'no palm oil'], dtype=object),\n",
       "                         'tickvals': array(['0', '1', '2'], dtype=object),\n",
       "                         'title': 'Product Feature',\n",
       "                         'titlefont': {'color': '#7f7f7f', 'family': 'Courier New, monospace', 'size': 18}},\n",
       "               'yaxis': {'title': 'Ratio (in %)',\n",
       "                         'titlefont': {'color': '#7f7f7f', 'family': 'Courier New, monospace', 'size': 18}}}\n",
       "})"
      ]
     },
     "metadata": {},
     "output_type": "display_data"
    }
   ],
   "source": [
    "# interactive plot\n",
    "data = []\n",
    "colors = sns.color_palette(\"tab10\", 10).as_hex()\n",
    "\n",
    "for index, row in ratio_top10_df.iterrows():\n",
    "    data.append(go.Bar(x=ratio_top10_df.columns[1:],\n",
    "                       y=np.array(row[1:]),\n",
    "                       name = row['brands'],\n",
    "                       marker={'color': colors[index]}))\n",
    "\n",
    "layout = go.Layout(\n",
    "    title='Raio of products with palm oil for the top 10 french brand.',\n",
    "    xaxis=go.layout.XAxis(\n",
    "        title='Product Feature',\n",
    "        titlefont=dict(\n",
    "            family='Courier New, monospace',\n",
    "            size=18,\n",
    "            color='#7f7f7f'\n",
    "        ),\n",
    "        tickvals=np.arange(3).astype(str),\n",
    "        ticktext=ratio_top10_df.columns[1:],\n",
    "    ),\n",
    "    yaxis=dict(\n",
    "        title='Ratio (in %)',\n",
    "        titlefont=dict(\n",
    "            family='Courier New, monospace',\n",
    "            size=18,\n",
    "            color='#7f7f7f'\n",
    "        )\n",
    "    ),\n",
    ")\n",
    "\n",
    "go.FigureWidget(data=data, layout=layout)"
   ]
  },
  {
   "cell_type": "code",
   "execution_count": 48,
   "metadata": {},
   "outputs": [
    {
     "data": {
      "text/html": [
       "<iframe id=\"igraph\" scrolling=\"no\" style=\"border:none;\" seamless=\"seamless\" src=\"https://plot.ly/~tomM/112.embed\" height=\"525px\" width=\"100%\"></iframe>"
      ],
      "text/plain": [
       "<plotly.tools.PlotlyDisplay object>"
      ]
     },
     "execution_count": 48,
     "metadata": {},
     "output_type": "execute_result"
    }
   ],
   "source": [
    "# interactive plot\n",
    "data = []\n",
    "colors = ['#8B0000', '#FFA500', '#008000']\n",
    "\n",
    "for i in range(3):\n",
    "    \n",
    "    data.append(go.Bar(x=ratio_top10_df['brands'],\n",
    "                       y=ratio_top10_df[ratio_top10_df.columns[i+1]],\n",
    "                       name = ratio_top10_df.columns[i+1],\n",
    "                       marker={'color': colors[i]}))\n",
    "\n",
    "layout = go.Layout(\n",
    "    title='Palm oil presence within the 10 biggest food brands in France.',\n",
    "    barmode='stack',\n",
    "    xaxis=go.layout.XAxis(\n",
    "        title='Food Brand',\n",
    "        titlefont=dict(\n",
    "            family='Courier New, monospace',\n",
    "            size=18,\n",
    "            color='#7f7f7f'\n",
    "        ),\n",
    "        tickvals=np.arange(10).astype(str),\n",
    "        ticktext=ratio_top10_df['brands'],\n",
    "    ),\n",
    "    yaxis=dict(\n",
    "        title='Ratio (in %)',\n",
    "        titlefont=dict(\n",
    "            family='Courier New, monospace',\n",
    "            size=18,\n",
    "            color='#7f7f7f'\n",
    "        )\n",
    "    ),\n",
    ")\n",
    "\n",
    "fig = go.FigureWidget(data=data, layout=layout)\n",
    "py.iplot(fig, filename='palm_oil_vs_brands', auto_open=False)"
   ]
  },
  {
   "cell_type": "markdown",
   "metadata": {},
   "source": [
    "For all the brands more than 70% of the products does NOT contain palm oil.  \n",
    "\n",
    "- However, 27% of the products made by 'Leclerc' contain or may contain palm oil, which is a high ratio.\n",
    "- 'Picard' and  'Monoprix' are the more \"environmental\" brand regarding palm oil presence in their products."
   ]
  },
  {
   "cell_type": "markdown",
   "metadata": {},
   "source": [
    "# Score each brand from nutrition score ratios"
   ]
  },
  {
   "cell_type": "code",
   "execution_count": 49,
   "metadata": {},
   "outputs": [
    {
     "data": {
      "text/html": [
       "<div>\n",
       "<style scoped>\n",
       "    .dataframe tbody tr th:only-of-type {\n",
       "        vertical-align: middle;\n",
       "    }\n",
       "\n",
       "    .dataframe tbody tr th {\n",
       "        vertical-align: top;\n",
       "    }\n",
       "\n",
       "    .dataframe thead th {\n",
       "        text-align: right;\n",
       "    }\n",
       "</style>\n",
       "<table border=\"1\" class=\"dataframe\">\n",
       "  <thead>\n",
       "    <tr style=\"text-align: right;\">\n",
       "      <th></th>\n",
       "      <th>a</th>\n",
       "      <th>b</th>\n",
       "      <th>c</th>\n",
       "      <th>d</th>\n",
       "      <th>e</th>\n",
       "      <th>total</th>\n",
       "    </tr>\n",
       "    <tr>\n",
       "      <th>brands</th>\n",
       "      <th></th>\n",
       "      <th></th>\n",
       "      <th></th>\n",
       "      <th></th>\n",
       "      <th></th>\n",
       "      <th></th>\n",
       "    </tr>\n",
       "  </thead>\n",
       "  <tbody>\n",
       "    <tr>\n",
       "      <th>Carrefour</th>\n",
       "      <td>19.763931</td>\n",
       "      <td>15.344496</td>\n",
       "      <td>19.818831</td>\n",
       "      <td>26.269558</td>\n",
       "      <td>18.803184</td>\n",
       "      <td>3643</td>\n",
       "    </tr>\n",
       "    <tr>\n",
       "      <th>Auchan</th>\n",
       "      <td>18.391764</td>\n",
       "      <td>15.303283</td>\n",
       "      <td>21.313300</td>\n",
       "      <td>26.794658</td>\n",
       "      <td>18.196995</td>\n",
       "      <td>3594</td>\n",
       "    </tr>\n",
       "    <tr>\n",
       "      <th>Leclerc</th>\n",
       "      <td>13.648180</td>\n",
       "      <td>15.901213</td>\n",
       "      <td>22.010399</td>\n",
       "      <td>27.816291</td>\n",
       "      <td>20.623917</td>\n",
       "      <td>2308</td>\n",
       "    </tr>\n",
       "  </tbody>\n",
       "</table>\n",
       "</div>"
      ],
      "text/plain": [
       "                   a          b          c          d          e  total\n",
       "brands                                                                 \n",
       "Carrefour  19.763931  15.344496  19.818831  26.269558  18.803184   3643\n",
       "Auchan     18.391764  15.303283  21.313300  26.794658  18.196995   3594\n",
       "Leclerc    13.648180  15.901213  22.010399  27.816291  20.623917   2308"
      ]
     },
     "execution_count": 49,
     "metadata": {},
     "output_type": "execute_result"
    }
   ],
   "source": [
    "brand_nutri_ratio.head(3)"
   ]
  },
  {
   "cell_type": "code",
   "execution_count": 50,
   "metadata": {},
   "outputs": [],
   "source": [
    "# keep only the brand which have more than 100 products\n",
    "brand_nutri_ratio = brand_nutri_ratio[brand_nutri_ratio.total > 100]"
   ]
  },
  {
   "cell_type": "code",
   "execution_count": 51,
   "metadata": {},
   "outputs": [],
   "source": [
    "# we will assign a score to each brand. The best score is 5 (for 'a') and the worst is 1 ('e'). \n",
    "scores = np.array([5,4,3,2,1])\n",
    "\n",
    "# for each brand the score will be the average of the ratios in each category ('a','b'..) weighted by the score of each category (5,4..) \n",
    "brand_score_nutri = brand_nutri_ratio.drop('total', axis=1).multiply(1/100).multiply(scores).mean(axis=1).to_frame(name='nutrition score')\n",
    "brand_score_nutri['nutrition score'] *= 5\n",
    "brand_score_nutri.sort_values(by='nutrition score', ascending=False, inplace=True)"
   ]
  },
  {
   "cell_type": "markdown",
   "metadata": {},
   "source": [
    "A score of 5 for a brand means that 100% of the products sold by the brand are 'a' (very healthy). "
   ]
  },
  {
   "cell_type": "code",
   "execution_count": 52,
   "metadata": {},
   "outputs": [],
   "source": [
    "# take the 10 best (highest score) and 10 worst brand (lowest score)\n",
    "brand_10best_10worst = pd.concat([brand_score_nutri.head(10).reset_index(), brand_score_nutri.tail(10).reset_index()], axis=0).reset_index(drop=True)"
   ]
  },
  {
   "cell_type": "code",
   "execution_count": 53,
   "metadata": {
    "scrolled": true
   },
   "outputs": [
    {
     "data": {
      "text/html": [
       "<iframe id=\"igraph\" scrolling=\"no\" style=\"border:none;\" seamless=\"seamless\" src=\"https://plot.ly/~tomM/114.embed\" height=\"525px\" width=\"100%\"></iframe>"
      ],
      "text/plain": [
       "<plotly.tools.PlotlyDisplay object>"
      ]
     },
     "execution_count": 53,
     "metadata": {},
     "output_type": "execute_result"
    }
   ],
   "source": [
    "# interactive plot\n",
    "data = []\n",
    "colors = sns.color_palette(\"RdBu_r\", 20).as_hex()\n",
    "y_values = ['a','b','c','d','e']\n",
    "\n",
    "for index, row in brand_10best_10worst.iterrows():\n",
    "    data.append(go.Bar(x=np.array(index),\n",
    "                       y=np.array(row['nutrition score']),\n",
    "                       name = row['brands'],\n",
    "                       marker={'color': colors[index]}))\n",
    "\n",
    "layout = go.Layout(\n",
    "    showlegend=False,\n",
    "    title='Health score of the 10 best and 10 worst food brands in France.',\n",
    "    xaxis=go.layout.XAxis(\n",
    "        title='Brand',\n",
    "        titlefont=dict(\n",
    "            family='Courier New, monospace',\n",
    "            size=18,\n",
    "            color='#7f7f7f'\n",
    "        ),\n",
    "        tickvals=np.arange(20).astype(str),\n",
    "        ticktext=brand_10best_10worst.brands.values,\n",
    "    ),\n",
    "    yaxis=dict(\n",
    "        title='Global Nutrition Score',\n",
    "        titlefont=dict(\n",
    "            family='Courier New, monospace',\n",
    "            size=18,\n",
    "            color='#7f7f7f'\n",
    "        ),\n",
    "        showgrid = True,\n",
    "        gridcolor='#bdbdbd',\n",
    "        range=[0, 6],\n",
    "        tickwidth=3,\n",
    "        tickvals=np.arange(1,6).astype(str),\n",
    "        ticktext=y_values[::-1],\n",
    "    ),\n",
    ")\n",
    "\n",
    "fig = go.FigureWidget(data=data, layout=layout)\n",
    "py.iplot(fig, filename='mean_nutriscore_vs_brand', auto_open=False)"
   ]
  },
  {
   "cell_type": "markdown",
   "metadata": {},
   "source": [
    "From this bar plot we can the best and the worst brands for health. \n",
    "\n",
    "- As we could expect, eating chocolate is not good... But, suprisingly the 6 worst brands are all chocolate ones except Monin which sell sirop. \n",
    "\n",
    "- The best brands are 'D'Aucy' - which sells a lot of vegetables and fruits in cans - and 'Charles et Alice' - which sells fruits in cup.  "
   ]
  },
  {
   "cell_type": "code",
   "execution_count": 54,
   "metadata": {},
   "outputs": [
    {
     "data": {
      "text/html": [
       "<div>\n",
       "<style scoped>\n",
       "    .dataframe tbody tr th:only-of-type {\n",
       "        vertical-align: middle;\n",
       "    }\n",
       "\n",
       "    .dataframe tbody tr th {\n",
       "        vertical-align: top;\n",
       "    }\n",
       "\n",
       "    .dataframe thead th {\n",
       "        text-align: right;\n",
       "    }\n",
       "</style>\n",
       "<table border=\"1\" class=\"dataframe\">\n",
       "  <thead>\n",
       "    <tr style=\"text-align: right;\">\n",
       "      <th></th>\n",
       "      <th>Beverages</th>\n",
       "      <th>Cereals And Potatoes</th>\n",
       "      <th>Composite Foods</th>\n",
       "      <th>Fat And Sauces</th>\n",
       "      <th>Fish Meat Eggs</th>\n",
       "      <th>Fruits And Vegetables</th>\n",
       "      <th>Milk And Dairy Products</th>\n",
       "      <th>Salty Snacks</th>\n",
       "      <th>Sugary Snacks</th>\n",
       "      <th>Unknown</th>\n",
       "      <th>total</th>\n",
       "    </tr>\n",
       "    <tr>\n",
       "      <th>brands</th>\n",
       "      <th></th>\n",
       "      <th></th>\n",
       "      <th></th>\n",
       "      <th></th>\n",
       "      <th></th>\n",
       "      <th></th>\n",
       "      <th></th>\n",
       "      <th></th>\n",
       "      <th></th>\n",
       "      <th></th>\n",
       "      <th></th>\n",
       "    </tr>\n",
       "  </thead>\n",
       "  <tbody>\n",
       "    <tr>\n",
       "      <th>Charles &amp; Alice</th>\n",
       "      <td>2.0</td>\n",
       "      <td>1.0</td>\n",
       "      <td>1.0</td>\n",
       "      <td>1.0</td>\n",
       "      <td>0.0</td>\n",
       "      <td>83.0</td>\n",
       "      <td>9.0</td>\n",
       "      <td>0.0</td>\n",
       "      <td>4.0</td>\n",
       "      <td>56.0</td>\n",
       "      <td>157.0</td>\n",
       "    </tr>\n",
       "    <tr>\n",
       "      <th>D'Aucy</th>\n",
       "      <td>0.0</td>\n",
       "      <td>4.0</td>\n",
       "      <td>49.0</td>\n",
       "      <td>0.0</td>\n",
       "      <td>0.0</td>\n",
       "      <td>94.0</td>\n",
       "      <td>0.0</td>\n",
       "      <td>1.0</td>\n",
       "      <td>0.0</td>\n",
       "      <td>51.0</td>\n",
       "      <td>199.0</td>\n",
       "    </tr>\n",
       "  </tbody>\n",
       "</table>\n",
       "</div>"
      ],
      "text/plain": [
       "                 Beverages  Cereals And Potatoes  Composite Foods  \\\n",
       "brands                                                              \n",
       "Charles & Alice        2.0                   1.0              1.0   \n",
       "D'Aucy                 0.0                   4.0             49.0   \n",
       "\n",
       "                 Fat And Sauces  Fish Meat Eggs  Fruits And Vegetables  \\\n",
       "brands                                                                   \n",
       "Charles & Alice             1.0             0.0                   83.0   \n",
       "D'Aucy                      0.0             0.0                   94.0   \n",
       "\n",
       "                 Milk And Dairy Products  Salty Snacks  Sugary Snacks  \\\n",
       "brands                                                                  \n",
       "Charles & Alice                      9.0           0.0            4.0   \n",
       "D'Aucy                               0.0           1.0            0.0   \n",
       "\n",
       "                 Unknown  total  \n",
       "brands                           \n",
       "Charles & Alice     56.0  157.0  \n",
       "D'Aucy              51.0  199.0  "
      ]
     },
     "execution_count": 54,
     "metadata": {},
     "output_type": "execute_result"
    }
   ],
   "source": [
    "brand_of_interest = brand_dummies_count[brand_dummies_count.index.isin([\"D'Aucy\", \"Charles & Alice\"])]\n",
    "brand_of_interest"
   ]
  },
  {
   "cell_type": "code",
   "execution_count": null,
   "metadata": {},
   "outputs": [],
   "source": []
  }
 ],
 "metadata": {
  "kernelspec": {
   "display_name": "Python 3",
   "language": "python",
   "name": "python3"
  },
  "language_info": {
   "codemirror_mode": {
    "name": "ipython",
    "version": 3
   },
   "file_extension": ".py",
   "mimetype": "text/x-python",
   "name": "python",
   "nbconvert_exporter": "python",
   "pygments_lexer": "ipython3",
   "version": "3.6.4"
  }
 },
 "nbformat": 4,
 "nbformat_minor": 2
}

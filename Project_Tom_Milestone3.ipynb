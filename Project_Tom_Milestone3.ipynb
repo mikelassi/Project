{
 "cells": [
  {
   "cell_type": "markdown",
   "metadata": {},
   "source": [
    "# Food For Thought \n",
    "## Digging into the dataset\n",
    "\n",
    "The first step of this project aims at understanding the dataset we have chosen ([Open Food Facts Database](https://world.openfoodfacts.org/)), to check whether it is suitable for the kind of analysis we want to develop.\n",
    "\n",
    "As a reminder, we would like to focus our research on two main topics:\n",
    "1. Impact of food on environment\n",
    "2. Impact of food on the health"
   ]
  },
  {
   "cell_type": "code",
   "execution_count": 1,
   "metadata": {},
   "outputs": [],
   "source": [
    "import re\n",
    "import pandas as pd\n",
    "import numpy as np\n",
    "import matplotlib\n",
    "import seaborn as sns\n",
    "import matplotlib.pyplot as plt\n",
    "import matplotlib.style as style\n",
    "from mpl_toolkits.mplot3d import Axes3D\n",
    "from difflib import get_close_matches\n",
    "\n",
    "import pickle\n",
    "\n",
    "from sklearn.decomposition import PCA\n",
    "from sklearn.preprocessing import StandardScaler\n",
    "\n",
    "import findspark\n",
    "findspark.init()\n",
    "\n",
    "from pyspark.sql import *\n",
    "\n",
    "import pyspark.sql.functions as F\n",
    "\n",
    "from pyspark.sql import SparkSession\n",
    "from pyspark import SparkContext\n",
    "\n",
    "spark = SparkSession.builder.getOrCreate()\n",
    "sc = spark.sparkContext\n",
    "%matplotlib inline\n"
   ]
  },
  {
   "cell_type": "code",
   "execution_count": 2,
   "metadata": {},
   "outputs": [],
   "source": [
    "# functions to save and load intermediate results in pickle format\n",
    "def load_pickle(file_path):\n",
    "    with open(file_path, 'rb') as file:\n",
    "        return pickle.load(file)\n",
    "\n",
    "def save_pickle(result, file_path = 'pickle'):\n",
    "    with open(file_path, 'wb') as file:\n",
    "        pickle.dump(result, file)"
   ]
  },
  {
   "cell_type": "code",
   "execution_count": 3,
   "metadata": {},
   "outputs": [
    {
     "data": {
      "text/html": [
       "\n",
       "            <div>\n",
       "                <p><b>SparkSession - in-memory</b></p>\n",
       "                \n",
       "        <div>\n",
       "            <p><b>SparkContext</b></p>\n",
       "\n",
       "            <p><a href=\"http://DESKTOP-UA7T1RR.home:4041\">Spark UI</a></p>\n",
       "\n",
       "            <dl>\n",
       "              <dt>Version</dt>\n",
       "                <dd><code>v2.3.2</code></dd>\n",
       "              <dt>Master</dt>\n",
       "                <dd><code>local[*]</code></dd>\n",
       "              <dt>AppName</dt>\n",
       "                <dd><code>pyspark-shell</code></dd>\n",
       "            </dl>\n",
       "        </div>\n",
       "        \n",
       "            </div>\n",
       "        "
      ],
      "text/plain": [
       "<pyspark.sql.session.SparkSession at 0x1ba806d32e8>"
      ]
     },
     "execution_count": 3,
     "metadata": {},
     "output_type": "execute_result"
    }
   ],
   "source": [
    "spark"
   ]
  },
  {
   "cell_type": "markdown",
   "metadata": {},
   "source": [
    "We set some basic plot properties with seaborn"
   ]
  },
  {
   "cell_type": "code",
   "execution_count": 4,
   "metadata": {},
   "outputs": [],
   "source": [
    "style.use('seaborn-notebook') #sets the size of the charts\n",
    "style.use('ggplot')"
   ]
  },
  {
   "cell_type": "markdown",
   "metadata": {},
   "source": [
    "As a first operation, we load our dataset in .csv format. The separator of each field is a tab (\\t)"
   ]
  },
  {
   "cell_type": "code",
   "execution_count": 5,
   "metadata": {},
   "outputs": [],
   "source": [
    "DATA_FOLDER = './data/'\n",
    "data = spark.read.csv(DATA_FOLDER +'en.openfoodfacts.org.products.csv',header=True,sep='\\t')          "
   ]
  },
  {
   "cell_type": "code",
   "execution_count": null,
   "metadata": {},
   "outputs": [],
   "source": [
    "number_of_products = data.select('code').count()\n",
    "number_of_products"
   ]
  },
  {
   "cell_type": "markdown",
   "metadata": {},
   "source": [
    "There are about 700k products in the dataset, with the following features:"
   ]
  },
  {
   "cell_type": "code",
   "execution_count": null,
   "metadata": {},
   "outputs": [],
   "source": [
    "data.columns"
   ]
  },
  {
   "cell_type": "markdown",
   "metadata": {},
   "source": [
    "### Missing values"
   ]
  },
  {
   "cell_type": "markdown",
   "metadata": {},
   "source": [
    "Despite the large number of features, we need to check how many values are missing for each of them. Note that the dataset is mostly curated on a volunteer basis (each user can add product information), hence we expect to have many missing values, especially for the less common columns. \n",
    "\n",
    "In order to verify that, we count the missing values in each column and we convert the result to a Pandas dataframe, for plotting ease. The missing values are plotted in proportion of the total number of products. "
   ]
  },
  {
   "cell_type": "code",
   "execution_count": null,
   "metadata": {},
   "outputs": [],
   "source": [
    "missing_data_count = data.select([F.count(F.when(data[c].isNull(),c)).alias(c) \\\n",
    "                                  for c in data.columns]).toPandas()\n",
    "\n",
    "missing_data_count = missing_data_count * 100 / number_of_products #in percent\n",
    "\n",
    "missing_data_count = missing_data_count.transpose().sort_values(by = 0, axis = 0).rename(columns = {0:'missing'})\n",
    "missing_data_count.tail()"
   ]
  },
  {
   "cell_type": "markdown",
   "metadata": {},
   "source": [
    "We already notice that some of the columns have completely missing values (100 % of the products). To better visualize the rest, we use a bar chart. Since the number of features is high, we only show in the plot the features who have less then 80% missing values. Those features can be better used for the analysis."
   ]
  },
  {
   "cell_type": "code",
   "execution_count": null,
   "metadata": {},
   "outputs": [],
   "source": [
    "thresh = 80\n",
    "\n",
    "missing_data_count[missing_data_count['missing'] < thresh].plot(kind = 'bar',figsize=(15, 6), legend=\"\")\n",
    "\n",
    "plt.ylabel('Missing data (%)')\n",
    "plt.title('Missing data count')\n",
    "plt.show()"
   ]
  },
  {
   "cell_type": "markdown",
   "metadata": {},
   "source": [
    "As expected, most of the columns have a large number of missing values. Luckily enough, basic nutrition information (such as energy per 100g, proteins per 100g and so on) have less than 20% missing values. As long as we will work with single variables, the missing values will not compromise our analysis, as we will simply handle a smaller sample (hence we will have a smaller statistical power). The real problem could arise when we will use multiple variables together, as we will have to use only those products that have non-missing values for all the considered columns. For some columns, it could be possible to fill some of the missing gaps by knowledge of the relationship with other columns (e.g.:  if we have information about energy_100g, fat_100g, protein_100g, we can reconstruct the value of carbohydrates_100g as it is connected with all the others). However, this is not possible in general (e.g. with columns like packaging)."
   ]
  },
  {
   "cell_type": "markdown",
   "metadata": {},
   "source": [
    "### Country distribution"
   ]
  },
  {
   "cell_type": "markdown",
   "metadata": {},
   "source": [
    "Another important initial aspect to evaluate are the countries for which we have data available. In fact, the Open Food Facts project started in France, hence we expect to have a larger number of products coming from this country. At the same time, this kind of information allows us to understand the scopes of our research (i.e. how much it can be generalized)."
   ]
  },
  {
   "cell_type": "code",
   "execution_count": null,
   "metadata": {},
   "outputs": [],
   "source": [
    "country_value = data.groupby('countries_en').count().toPandas()\n",
    "country_value = country_value.sort_values(by = 'count', ascending = False)\n",
    "country_value.head()"
   ]
  },
  {
   "cell_type": "markdown",
   "metadata": {},
   "source": [
    "We plot the number of products for the first 5 countries."
   ]
  },
  {
   "cell_type": "code",
   "execution_count": null,
   "metadata": {
    "scrolled": true
   },
   "outputs": [],
   "source": [
    "country_value.iloc[0:5,:].plot(kind = 'bar',x = 'countries_en', legend = '')\n",
    "plt.title('First 5 countries for product number')\n",
    "plt.ylabel('Number of products')\n",
    "plt.show()"
   ]
  },
  {
   "cell_type": "code",
   "execution_count": null,
   "metadata": {},
   "outputs": [],
   "source": [
    "N_fr = country_value.iloc[0]\n",
    "N_us = country_value.iloc[1]\n",
    "\n",
    "print(\"number of products sold in France: \", N_fr.values[1])\n",
    "print(\"number of products sold in the United States: \", N_us.values[1])"
   ]
  },
  {
   "cell_type": "markdown",
   "metadata": {},
   "source": [
    "We can see that the large majority of the products come from France, so our analysis will mostly focus on that country. In case we will do a comparison among countries, we will be careful with our conclusions (since the dishomogeneity in the dataset could lead to bias). Note that some countries' name appear concatenated in the country_en column (like \"Germany,Spain\"). For now, we will not handle these cases, since they are a minority compared to the France and US data."
   ]
  },
  {
   "cell_type": "markdown",
   "metadata": {},
   "source": [
    "### Food categories healthiness"
   ]
  },
  {
   "cell_type": "markdown",
   "metadata": {},
   "source": [
    "Now that we have analyzed our dataset in general, we will focus more on some specific features of interest. In particular, we will handle subsets of the original dataframe on which we conduct our processing.\n",
    "One of this subset contains the basic nutritional features (energy, protein, fat, carbohydrates, sugar, salt and sodium content) along with the categorization done by PNNS ([Programme national nutrition santé](http://www.mangerbouger.fr/PNNS)). The PNNS categorizes food products in 9 groups. We want to understand whether the nutritional basic infos are able to discriminate among these groups. In that case, we will be able to categorize the other products of the dataset (that do not fall in one of the pnns_groups) and also get an idea of the healthiness of the category. On the other side, a negative results on this will indicate us that more features are needed to determine the categorization of a product.  "
   ]
  },
  {
   "cell_type": "markdown",
   "metadata": {},
   "source": [
    "We select only the column of interest mentioned above, and we drop the rows that either have a null pnns value or an 'unknown' one."
   ]
  },
  {
   "cell_type": "code",
   "execution_count": null,
   "metadata": {},
   "outputs": [],
   "source": [
    "columns = [\"pnns_groups_1\",\"energy_100g\",\"fat_100g\",\"sugars_100g\",\\\n",
    "                       \"proteins_100g\",\"carbohydrates_100g\",\"sodium_100g\",\\\n",
    "                       \"salt_100g\",\"product_name\"]\n",
    "data_nutri = data.select(columns)\n",
    "\n",
    "# cleaning the categories by removing null values and the unknown pnns_group\n",
    "data_nutri = data_nutri.where(data.pnns_groups_1.isNotNull()).filter(data.pnns_groups_1!='unknown')"
   ]
  },
  {
   "cell_type": "markdown",
   "metadata": {},
   "source": [
    "We then observe the unique values that pnns_groups has:"
   ]
  },
  {
   "cell_type": "code",
   "execution_count": null,
   "metadata": {},
   "outputs": [],
   "source": [
    "data_nutri.select('pnns_groups_1').distinct().collect()"
   ]
  },
  {
   "cell_type": "markdown",
   "metadata": {},
   "source": [
    "Looking at the unique values of the pnns_group1 we can observe that we can shorten some categories that contain the same name: salty-snacks, cereals and potatoes, fruits and vegetables. We need to merge them in the same category."
   ]
  },
  {
   "cell_type": "code",
   "execution_count": null,
   "metadata": {},
   "outputs": [],
   "source": [
    "# substitute - with a blank space\n",
    "data_nutri=data_nutri.withColumn('pnns_groups_1',(F.regexp_replace('pnns_groups_1', '-', ' ')))\n",
    "\n",
    "# convert all the categories names to have initial capital letter\n",
    "square_udf_int = F.udf(lambda z: z.title())\n",
    "\n",
    "data_nutri = data_nutri.withColumn('pnns_groups_1',square_udf_int('pnns_groups_1'))\n",
    "data_nutri.select('pnns_groups_1').distinct().collect()"
   ]
  },
  {
   "cell_type": "code",
   "execution_count": null,
   "metadata": {},
   "outputs": [],
   "source": [
    "data_nutri.count()"
   ]
  },
  {
   "cell_type": "markdown",
   "metadata": {},
   "source": [
    "Now we have the 9 categories as originally intended. Since we have only 130k products and a few columns, we can pass the data to Pandas for further processing."
   ]
  },
  {
   "cell_type": "code",
   "execution_count": null,
   "metadata": {},
   "outputs": [],
   "source": [
    "data_nutri_pd = data_nutri.toPandas()"
   ]
  },
  {
   "cell_type": "code",
   "execution_count": null,
   "metadata": {},
   "outputs": [],
   "source": [
    "numeric_columns = ['energy_100g','fat_100g','carbohydrates_100g',\\\n",
    "                   'sugars_100g','proteins_100g',\"sodium_100g\",\"salt_100g\"]\n",
    "\n",
    "data_nutri_pd[numeric_columns] = data_nutri_pd[numeric_columns].apply(pd.to_numeric)"
   ]
  },
  {
   "cell_type": "code",
   "execution_count": null,
   "metadata": {},
   "outputs": [],
   "source": [
    "data_nutri_pd.head()"
   ]
  },
  {
   "cell_type": "markdown",
   "metadata": {},
   "source": [
    "We compute the correlation matrix for the numeric features, not discriminated by category. "
   ]
  },
  {
   "cell_type": "code",
   "execution_count": null,
   "metadata": {},
   "outputs": [],
   "source": [
    "plt.figure(figsize=(10,8))\n",
    "sns.heatmap(data_nutri_pd.corr(), annot = True, linewidths=.5)\n",
    "plt.show()\n"
   ]
  },
  {
   "cell_type": "markdown",
   "metadata": {},
   "source": [
    "We can observe that, expectedly, some columns are well correlated (e.g. sugars and carbohydrates) while others have mmuch lower correlation. One thing it's worth noticing. Sodium and salt have exactly 1 as correlation value. Hence, the two columns are the same and we should only consider one of them."
   ]
  },
  {
   "cell_type": "code",
   "execution_count": null,
   "metadata": {},
   "outputs": [],
   "source": [
    "data_nutri_pd = data_nutri_pd.drop(columns = 'sodium_100g')"
   ]
  },
  {
   "cell_type": "markdown",
   "metadata": {},
   "source": [
    "For the sake of visualization, we show the scatterplot of two variables divided by category. This could give us further insights on the data."
   ]
  },
  {
   "cell_type": "code",
   "execution_count": null,
   "metadata": {},
   "outputs": [],
   "source": [
    "fig,ax = plt.subplots(3,3,figsize=(15,15))\n",
    "\n",
    "for i, (name, group) in enumerate(data_nutri_pd.groupby('pnns_groups_1')):\n",
    "    \n",
    "    group.plot(kind='scatter',x='fat_100g',y='proteins_100g',ax=ax[i // 3][i % 3],label=name, s = 0.5)\n",
    "    \n",
    "plt.show()    "
   ]
  },
  {
   "cell_type": "markdown",
   "metadata": {},
   "source": [
    "We can see two interesting things: there are outliers that have unrealistic values (the fat in 100g of products cannot be more than 100g) and each category of food has a different correleration. Hence, we proceed at cleaning the impossible values with the following rule: for nutrients no values should overcome 100 (as discussed for the fat). For energy (that is measured in kJ) the value should not overcome 5000 (supposing each g of fat brings 9 kcal, 100g fats would bring 900 kcal, that are approximately 5000 kJ). We also drop columns containing nan values as they would be not considered in the analysis."
   ]
  },
  {
   "cell_type": "code",
   "execution_count": null,
   "metadata": {},
   "outputs": [],
   "source": [
    "#constrain the data : energy<5000 and fat<100\n",
    "\n",
    "def filterData(data,ParameterEnergy,Parameter):\n",
    "    columns=data.filter(regex='_100g').columns\n",
    "    for i in columns:\n",
    "        if i=='energy_100g':\n",
    "            data[i]=data[i][data[i]<ParameterEnergy]\n",
    "        else:\n",
    "            data[i]=data[i][data[i]<Parameter]\n",
    "    return data\n",
    "\n",
    "\n",
    "data_nutri_pd = filterData(data_nutri_pd,5000,100).dropna() "
   ]
  },
  {
   "cell_type": "markdown",
   "metadata": {},
   "source": [
    "We plot again the correlation heatmap, without outliers. We do it directly divided in categories"
   ]
  },
  {
   "cell_type": "code",
   "execution_count": null,
   "metadata": {},
   "outputs": [],
   "source": [
    "fig,ax = plt.subplots(3,3,figsize=(20,30))\n",
    "\n",
    "for i, (name, group) in enumerate(data_nutri_pd.groupby('pnns_groups_1')):\n",
    "    plt.subplot(3,3,i+1)\n",
    "    sns.heatmap(group.corr(), annot = True,  linewidths=4, cbar = False)\n",
    "    plt.title(name)\n",
    "\n",
    "plt.show()"
   ]
  },
  {
   "cell_type": "markdown",
   "metadata": {},
   "source": [
    "We can see that some of the categories share similar values of correlations, while other have completely different patterns (e.g. \"Fat and sauces\" and \"Fruits and Vegetables\" have opposite sign in some of the correlations values). We show this difference for the exemplar features \"sugars_100g\" and \"energy_100g\"."
   ]
  },
  {
   "cell_type": "code",
   "execution_count": null,
   "metadata": {},
   "outputs": [],
   "source": [
    "fig,ax = plt.subplots(3,3,figsize=(15,15))\n",
    "\n",
    "for i, (name, group) in enumerate(data_nutri_pd.groupby('pnns_groups_1')):\n",
    "    \n",
    "    group.plot(kind='scatter',x='sugars_100g',y='energy_100g',ax=ax[i // 3][i % 3],label=name, s = 0.5)\n",
    "    \n",
    "plt.show()   "
   ]
  },
  {
   "cell_type": "markdown",
   "metadata": {},
   "source": [
    "We now visualize the distribution of one single column along categories, to check the separability of the classes. We chose 'fat_100g' for the visualization."
   ]
  },
  {
   "cell_type": "code",
   "execution_count": null,
   "metadata": {},
   "outputs": [],
   "source": [
    "fig,ax=plt.subplots(figsize=(20,10))\n",
    "nutri = []\n",
    "for i, (name, group) in enumerate(data_nutri_pd[['pnns_groups_1','fat_100g']].groupby('pnns_groups_1')):\n",
    "    nutri.append(group['fat_100g'].values)\n",
    "    \n",
    "nutri=np.asarray(nutri)    \n",
    "g=sns.boxplot(data= nutri)\n",
    "plt.xticks(plt.xticks()[0],sorted(data_nutri_pd.pnns_groups_1.unique()))\n",
    "\n",
    "plt.ylabel('Fat (g))')\n",
    "plt.show()"
   ]
  },
  {
   "cell_type": "markdown",
   "metadata": {},
   "source": [
    "The classes show different distributions for this features, suggesting there could be a good separability when using more features. To analyze the categorization of the data with all the features and visualize it, we decide to perform a PCA and retain the first three principal components."
   ]
  },
  {
   "cell_type": "code",
   "execution_count": null,
   "metadata": {},
   "outputs": [],
   "source": [
    "# prepare the dataset\n",
    "X=data_nutri_pd.iloc[:,1:7].values\n",
    "y=data_nutri_pd.iloc[:,0].values#LABELS\n",
    "\n",
    "#standardize values\n",
    "X_std = StandardScaler().fit_transform(X)\n",
    "\n",
    "#compute pca\n",
    "pca = PCA(n_components=3)\n",
    "Y = pca.fit_transform(X_std)"
   ]
  },
  {
   "cell_type": "code",
   "execution_count": null,
   "metadata": {},
   "outputs": [],
   "source": [
    "fig = plt.figure(figsize = (8,8))\n",
    "ax = Axes3D(fig)\n",
    "\n",
    "for name in data_nutri_pd.pnns_groups_1.unique():\n",
    "        ax.scatter( \n",
    "            Y[y==name,0],\\\n",
    "            Y[y==name,1],\\\n",
    "            Y[y==name,2],\n",
    "            label=name)\n",
    "        \n",
    "plt.legend()\n",
    "plt.title('PCA classification')\n",
    "plt.xlabel('1 component')\n",
    "plt.ylabel('2 component')\n",
    "ax.set_zlabel('3 component')\n",
    "\n",
    "ax.view_init(30, 45)\n",
    "    \n",
    "plt.show()"
   ]
  },
  {
   "cell_type": "markdown",
   "metadata": {},
   "source": [
    "Despite our first clues, the representation in the first 3 principal components does not seem to yield good clustering performances. We will further investigate this phenomenon (for example by removing extreme values and check the explained variance and PC loadings) to check whether a good categorization can be achieved. From there, we will extend the categorization of PNNS to the other products. When the final food score will be computed, this categorization will be the basis for our food selector. "
   ]
  },
  {
   "cell_type": "markdown",
   "metadata": {},
   "source": [
    "### Brand vs Nutrition"
   ]
  },
  {
   "cell_type": "markdown",
   "metadata": {},
   "source": [
    "In this part we investigate the nutrition score of the products in the whole dataset and with respect to each brand. "
   ]
  },
  {
   "cell_type": "code",
   "execution_count": null,
   "metadata": {},
   "outputs": [],
   "source": [
    "data.select([F.count(F.when(F.isnull(c), c)).alias(c) for c in ['brands']]).show()"
   ]
  },
  {
   "cell_type": "markdown",
   "metadata": {},
   "source": [
    "There are 224,276 products over the 685,395 without any brand tag. We remove them, assuming the statistics does not change (very low number). We also remove the products with a null 'countries_en' tag. "
   ]
  },
  {
   "cell_type": "code",
   "execution_count": null,
   "metadata": {},
   "outputs": [],
   "source": [
    "data_brands_countries = data.na.drop(subset=['brands', 'countries_en'])"
   ]
  },
  {
   "cell_type": "code",
   "execution_count": null,
   "metadata": {},
   "outputs": [],
   "source": [
    "data_brands_countries.count()"
   ]
  },
  {
   "cell_type": "markdown",
   "metadata": {},
   "source": [
    "There are 460,800 products with a non-null 'brands' tag and non-null 'countries_en' tag (=country in which the product is sold)."
   ]
  },
  {
   "cell_type": "code",
   "execution_count": null,
   "metadata": {},
   "outputs": [],
   "source": [
    "# we extract the products sold both in the United States and in France.\n",
    "data_us_and_fr = data_brands_countries.rdd.filter(lambda r: re.match('(?=.*united State)(?=.*france)', r['countries_en'], flags=re.IGNORECASE)).toDF(schema=data.schema)\n",
    "count = data_us_and_fr.groupby('brands').count()"
   ]
  },
  {
   "cell_type": "code",
   "execution_count": null,
   "metadata": {},
   "outputs": [],
   "source": [
    "print(\"There are\", count.count(), \"brands present both in the US and in France.\")"
   ]
  },
  {
   "cell_type": "code",
   "execution_count": null,
   "metadata": {},
   "outputs": [],
   "source": [
    "# here is the products sold both in the US and in France. There are mainly american brands. \n",
    "count.orderBy('count',ascending=False).show()"
   ]
  },
  {
   "cell_type": "markdown",
   "metadata": {},
   "source": [
    "In the present dataset there are a very few brands sold both in the United States and in France. "
   ]
  },
  {
   "cell_type": "code",
   "execution_count": null,
   "metadata": {},
   "outputs": [],
   "source": [
    "# here we extract the product sold only in the United States.\n",
    "data_us_only = data_brands_countries.select('brands', \n",
    "            'countries_en',\n",
    "            'nutrition-score-fr_100g',\n",
    "            'nutrition-score-uk_100g',\n",
    "            'nutrition_grade_fr',\n",
    "            'nutrition_grade_uk') \\\n",
    ".filter(\"countries_en=='United States'\")"
   ]
  },
  {
   "cell_type": "code",
   "execution_count": null,
   "metadata": {},
   "outputs": [],
   "source": [
    "# here we see if there are non-null nutrition scores for a large enough number of products.\n",
    "data_us_only.select([F.count(F.when(F.isnull(c), c)).alias(c) for c in \\\n",
    "           ['nutrition-score-fr_100g',\n",
    "            'nutrition-score-uk_100g',\n",
    "            'nutrition_grade_fr',\n",
    "            'nutrition_grade_uk']]).show()"
   ]
  },
  {
   "cell_type": "code",
   "execution_count": null,
   "metadata": {},
   "outputs": [],
   "source": [
    "print(\"number of products sold in the US with a non-null nutrition score:\", N_us.values[1] - 171513)\n",
    "print(\"ratio among the total number of products sold in the US:\", (N_us.values[1] - 171513)/N_us.values[1]*100)"
   ]
  },
  {
   "cell_type": "markdown",
   "metadata": {},
   "source": [
    "Only 1982 products sold in the United States have a nutrition score... We cannot do a statistically significant nutrition analysis on the set of products sold in the US when only 1.14% of the product are annotated with a nutrition score."
   ]
  },
  {
   "cell_type": "code",
   "execution_count": null,
   "metadata": {},
   "outputs": [],
   "source": [
    "# here we extract the products sold only in France.\n",
    "data_fr_only = data_brands_countries.select('brands', \n",
    "            'countries_en',\n",
    "            'nutrition-score-fr_100g',\n",
    "            'nutrition-score-uk_100g',\n",
    "            'nutrition_grade_fr',\n",
    "            'nutrition_grade_uk') \\\n",
    ".filter(\"countries_en=='France'\")"
   ]
  },
  {
   "cell_type": "code",
   "execution_count": null,
   "metadata": {},
   "outputs": [],
   "source": [
    "# number of products sold only in France.\n",
    "data_fr_only.count()"
   ]
  },
  {
   "cell_type": "code",
   "execution_count": null,
   "metadata": {},
   "outputs": [],
   "source": [
    "# here we see if there are non-null nutrition scores for a large enough number of products.\n",
    "data_fr_only.select([F.count(F.when(F.isnull(c), c)).alias(c) for c in \\\n",
    "           ['nutrition-score-fr_100g',\n",
    "            'nutrition-score-uk_100g',\n",
    "            'nutrition_grade_fr',\n",
    "            'nutrition_grade_uk']]).show()"
   ]
  },
  {
   "cell_type": "markdown",
   "metadata": {},
   "source": [
    "Among the 217,393 products sold in France with a non-null brand there are 101,289 (=218,114 -116,825) products with a nutrition score. We are going to focus the analysis \"nutrition vs brand\" on the products sold only in France and using the french nutrition grade.   "
   ]
  },
  {
   "cell_type": "markdown",
   "metadata": {},
   "source": [
    "### Brand vs Nutrition in France "
   ]
  },
  {
   "cell_type": "code",
   "execution_count": null,
   "metadata": {},
   "outputs": [],
   "source": [
    "# we remove the products which have no 'brands' and no 'nutrition_grade_fr' tags.\n",
    "data_brand_nutrition = data.na.drop(subset=['brands', 'nutrition_grade_fr'])"
   ]
  },
  {
   "cell_type": "code",
   "execution_count": null,
   "metadata": {},
   "outputs": [],
   "source": [
    "# we extract the products sold only in France\n",
    "data_fr_only = data_brand_nutrition.filter(\"countries_en=='France'\")"
   ]
  },
  {
   "cell_type": "code",
   "execution_count": null,
   "metadata": {},
   "outputs": [],
   "source": [
    "# we reduce the dataframe to the columns of interest\n",
    "brand = data_fr_only.select('brands', 'nutrition_grade_fr')"
   ]
  },
  {
   "cell_type": "code",
   "execution_count": null,
   "metadata": {},
   "outputs": [],
   "source": [
    "# we convert the spark dataframe to a pandas dataframe\n",
    "#brand_df = brand.toPandas()\n",
    "\n",
    "# we store it in the current folder \n",
    "#brand_df.to_pickle('brand_vs_nutrition_in_France_df')"
   ]
  },
  {
   "cell_type": "code",
   "execution_count": null,
   "metadata": {},
   "outputs": [],
   "source": [
    "# we can now read it everytime we want to continue the analysis\n",
    "brand_df = pd.read_pickle('brand_vs_nutrition_in_France_df')"
   ]
  },
  {
   "cell_type": "markdown",
   "metadata": {},
   "source": [
    "The problem is that the 'brands' tags are not always consistent. For example we can find the brand tag 'carrefour', \"Carrefour\", \"carrfour,bio carrefour' ect. \n",
    "Hence we first clean the brands using a list of food brands present in France and a function to match the 'brands' tag with the closest brand in the list. "
   ]
  },
  {
   "cell_type": "code",
   "execution_count": null,
   "metadata": {},
   "outputs": [],
   "source": [
    "# list of food brands present in France ('Coca Cola', 'Fleury Michon', 'Carrefour' ect.)\n",
    "list_brand_file = open(\"brand_list.txt\", \"r\")\n",
    "list_brand = list_brand_file.read().split('\\n')\n",
    "\n",
    "# Function which find for each value (string) in the column 'brands' the closest brand (string) in 'list_brand'.\n",
    "# Note: the function 'get_close_matches' has been imported from the open-source 'difflib' library.\n",
    "def clean_brand(brand_name):\n",
    "    \n",
    "    # brand name can be of the form 'Carrefour' (one word) or 'Carrefour, Bio Carrefour' (multiple words)\n",
    "    # hence we split the string w.r.t the symbol ',' and find the best matching brand word for each split.\n",
    "    best=[]\n",
    "    for word in brand_name.split(','):\n",
    "        \n",
    "        # the cutoff control for the False Positives possibilities in the 'list_brand' \n",
    "        # that don’t score at least the cutoff are ignored.\n",
    "        # n controls for the the number of possibilities (whose score is higher than the cutoff value).\n",
    "        best.append(get_close_matches(word, list_brand, n=1, cutoff=0.7))\n",
    "    \n",
    "    # remove empty sublists and unravel\n",
    "    best = [brand for sublist in best for brand in sublist if sublist]\n",
    "    \n",
    "    # if there was \n",
    "    if best:\n",
    "        return best[0]\n",
    "    else:\n",
    "        return None\n"
   ]
  },
  {
   "cell_type": "code",
   "execution_count": null,
   "metadata": {},
   "outputs": [],
   "source": [
    "# we create a new column with the new \"consistent\" brand tag. \n",
    "# takes some minutes to run...\n",
    "brand_df['new_brands'] = brand_df['brands'].apply(lambda x: clean_brand(x))"
   ]
  },
  {
   "cell_type": "code",
   "execution_count": null,
   "metadata": {},
   "outputs": [],
   "source": [
    "# we can drop the old column 'brands' since we have the new ones.\n",
    "brand_df_cleaned = brand_df.dropna().drop('brands',1).rename(columns={'new_brands':'brands'})\n",
    "brand_df_cleaned.head()"
   ]
  },
  {
   "cell_type": "code",
   "execution_count": null,
   "metadata": {},
   "outputs": [],
   "source": [
    "# here we count the number of products for each brand. We consider that brand have enough products to be analyzed from 100 products\n",
    "brand_count = brand_df_cleaned.groupby('brands').count().sort_values('nutrition_grade_fr', ascending=False)\n",
    "brand_count['enough_products']= brand_count.apply(lambda x: x>100)\n",
    "brand_count = brand_count[brand_count.enough_products]\n",
    "brand_count.head()"
   ]
  },
  {
   "cell_type": "code",
   "execution_count": null,
   "metadata": {},
   "outputs": [],
   "source": []
  },
  {
   "cell_type": "markdown",
   "metadata": {},
   "source": [
    "The most abundant brands are Carrefour, Auchan and U. There are the brands of the biggest distributors (supermarkets) in France. "
   ]
  },
  {
   "cell_type": "code",
   "execution_count": null,
   "metadata": {},
   "outputs": [],
   "source": [
    "# here we add the column \"enough products\" to the dataframe with the cleaned brand.\n",
    "brand = brand_df_cleaned.join(brand_count[['enough_products']], on='brands')\n",
    "brand = brand.dropna().drop('enough_products',1)\n",
    "brand.head()"
   ]
  },
  {
   "cell_type": "code",
   "execution_count": null,
   "metadata": {},
   "outputs": [],
   "source": [
    "# here we create dummy variables from the 'nutrition_grade_fr' whose value can be:\n",
    "# - 'a' (very good product for health) \n",
    "# - 'b' (good product)\n",
    "# - 'c' ('neutral product')\n",
    "# - 'd' ('not so good product')\n",
    "# - 'e' (bad product for health)\n",
    "\n",
    "brand_expanded = pd.get_dummies(brand.set_index('brands')).reset_index()\n",
    "brand_expanded = brand_expanded.rename(columns={'nutrition_grade_fr_a':'a',\n",
    "                               'nutrition_grade_fr_b':'b',\n",
    "                               'nutrition_grade_fr_c':'c',\n",
    "                               'nutrition_grade_fr_d':'d',\n",
    "                               'nutrition_grade_fr_e':'e'})\n",
    "brand_expanded.head(5)"
   ]
  },
  {
   "cell_type": "markdown",
   "metadata": {},
   "source": [
    "### Food quality in the whole dataset"
   ]
  },
  {
   "cell_type": "code",
   "execution_count": null,
   "metadata": {},
   "outputs": [],
   "source": [
    "count = brand_df[['nutrition_grade_fr','brands']].groupby('nutrition_grade_fr').count().rename(columns={'brands':'count'})\n",
    "count.plot(kind='bar')\n",
    "plt.title('Distribution of the nutrition grades among the whole dataset')\n",
    "plt.xlabel('nutrition grade') \n",
    "plt.show()"
   ]
  },
  {
   "cell_type": "markdown",
   "metadata": {},
   "source": [
    "### Food quality for each brand"
   ]
  },
  {
   "cell_type": "code",
   "execution_count": null,
   "metadata": {},
   "outputs": [],
   "source": [
    "# extract the total number of products for each brands\n",
    "brand_count = brand.groupby('brands').count().rename(columns={'nutrition_grade_fr':'total'})\n",
    "brand_count.head()"
   ]
  },
  {
   "cell_type": "code",
   "execution_count": null,
   "metadata": {},
   "outputs": [],
   "source": [
    "# here we count the nutrition grade occurences for each brand\n",
    "brand_expanded_count = brand_expanded.groupby('brands').sum()\n",
    "brand_expanded_count.head(3)"
   ]
  },
  {
   "cell_type": "code",
   "execution_count": null,
   "metadata": {},
   "outputs": [],
   "source": [
    "# we add the column total (with the total number of products sold for each brand) to further extract the ratio of each grade instead of the raw count.\n",
    "brand_expanded_count = brand_expanded_count.join(brand_count)#.rename(columns = {'nutrition_grade_fr':'total'})\n",
    "brand_expanded_count.head()"
   ]
  },
  {
   "cell_type": "code",
   "execution_count": null,
   "metadata": {},
   "outputs": [],
   "source": [
    "# we convert the counts into ratios. (ex: ratio for 'a' = count for 'a' / total number of products)\n",
    "ratio = brand_expanded_count.copy()\n",
    "ratio[['a','b','c','d','e']] = brand_expanded_count[['a','b','c','d','e']].div(brand_expanded_count['total'].values,axis=0)\n",
    "ratio = ratio.sort_values('total',ascending=False)"
   ]
  },
  {
   "cell_type": "code",
   "execution_count": null,
   "metadata": {},
   "outputs": [],
   "source": [
    "ratio.reset_index().loc[:10].drop('total',1).plot(kind='bar', x='brands',figsize=[15,10], color=sns.color_palette(\"RdBu_r\", 5))\n",
    "plt.ylabel('proportion (in %)')\n",
    "plt.title('Health profile of the 10 biggest food brands in France.')\n",
    "plt.show()"
   ]
  },
  {
   "cell_type": "markdown",
   "metadata": {},
   "source": [
    "We tought we could reduce the number of possible scores to allow even simplier analysis. From the set of 5 grades (a,b,c,d,e) we go to a set of three grades:\n",
    "- 'healthy' food if a or b grades\n",
    "- 'neutral' food if c grade\n",
    "- 'junk' food if d or e grades"
   ]
  },
  {
   "cell_type": "code",
   "execution_count": null,
   "metadata": {},
   "outputs": [],
   "source": [
    "# function to transform the scores contained in a row dataframe. \n",
    "def get_new_score(df_row):\n",
    "    if df_row['a']==1 or df_row['b']==1:\n",
    "        new_score = 'healthy' \n",
    "    if df_row['c']==1:\n",
    "        new_score = 'neutral' \n",
    "    if df_row['d']==1 or df_row['e']==1:\n",
    "        new_score = 'junk'\n",
    "    return new_score"
   ]
  },
  {
   "cell_type": "code",
   "execution_count": null,
   "metadata": {},
   "outputs": [],
   "source": [
    "# here we pass for the \"old\" scores to the \"new\" ones\n",
    "brand_with_new_score = brand_expanded.copy()\n",
    "\n",
    "# we create a new column to store the \"new\" scores\n",
    "brand_with_new_score['new_score'] = brand_expanded.apply(get_new_score, axis=1)\n",
    "\n",
    "# we convert those \"new\" scores to dummy variables, as before for the \"old\" ones\n",
    "brand_with_new_score = pd.get_dummies(brand_with_new_score[['brands','new_score']].set_index('brands')).reset_index()\n",
    "\n",
    "# we rename the columns\n",
    "brand_with_new_score = brand_with_new_score.rename(columns={'new_score_healthy':'healthy',\n",
    "                                     'new_score_junk':'junk',\n",
    "                                     'new_score_neutral':'neutral'})[['brands','healthy','neutral','junk']]\n",
    "brand_with_new_score.head()"
   ]
  },
  {
   "cell_type": "code",
   "execution_count": null,
   "metadata": {},
   "outputs": [],
   "source": [
    "# we can group the products by brands as before to get \n",
    "brand_with_new_score = brand_with_new_score.groupby('brands').sum()\n",
    "brand_with_new_score.head(3)"
   ]
  },
  {
   "cell_type": "code",
   "execution_count": null,
   "metadata": {},
   "outputs": [],
   "source": [
    "# we get the ratios instead of the raw counts, as before\n",
    "brand_with_new_score = brand_with_new_score.join(brand_count)\n",
    "ratio = brand_with_new_score.copy()\n",
    "ratio[['healthy','neutral','junk']] = brand_with_new_score[['healthy','neutral','junk']].div(brand_with_new_score['total'].values,axis=0)\n",
    "ratio = ratio.sort_values('total',ascending=False)"
   ]
  },
  {
   "cell_type": "code",
   "execution_count": null,
   "metadata": {
    "scrolled": true
   },
   "outputs": [],
   "source": [
    "# final plot\n",
    "ratio.reset_index().loc[:20].drop('total',1).plot(kind='bar', x='brands',figsize=[15,10], color=sns.color_palette(\"RdBu_r\", 3))\n",
    "plt.ylabel('proportion (in %)')\n",
    "plt.show()"
   ]
  },
  {
   "cell_type": "markdown",
   "metadata": {},
   "source": [
    "We observe for example that for almost all the biggest food brands present in France the prominent nutrition category is \"junk\" food. We don't eat that well in France... \n",
    "\n",
    "The two biggest exceptions are 'Danone' and 'Picard'. They mainly sell products from milk and frozen food which could be excpected to be healthier than the products sold by Fleury Michon (mainly transformed products from meat).  \n",
    "\n",
    "Interestingly the 'Bio Village' brand solds a lot of 'junk' food... Even more than 'neutral' food."
   ]
  },
  {
   "cell_type": "markdown",
   "metadata": {},
   "source": [
    "### Analysis of the case 'Bio Village'"
   ]
  },
  {
   "cell_type": "code",
   "execution_count": null,
   "metadata": {},
   "outputs": [],
   "source": [
    "bioVillage = data.filter(\"countries_en=='France'\").select('brands', 'nutrition_grade_fr', 'pnns_groups_1')\n",
    "bioVillage_df = bioVillage.toPandas()"
   ]
  },
  {
   "cell_type": "code",
   "execution_count": null,
   "metadata": {},
   "outputs": [],
   "source": [
    "bioVillage_df = bioVillage_df.dropna(how='all')"
   ]
  },
  {
   "cell_type": "code",
   "execution_count": 50,
   "metadata": {
    "scrolled": true
   },
   "outputs": [
    {
     "data": {
      "text/html": [
       "<div>\n",
       "<style scoped>\n",
       "    .dataframe tbody tr th:only-of-type {\n",
       "        vertical-align: middle;\n",
       "    }\n",
       "\n",
       "    .dataframe tbody tr th {\n",
       "        vertical-align: top;\n",
       "    }\n",
       "\n",
       "    .dataframe thead th {\n",
       "        text-align: right;\n",
       "    }\n",
       "</style>\n",
       "<table border=\"1\" class=\"dataframe\">\n",
       "  <thead>\n",
       "    <tr style=\"text-align: right;\">\n",
       "      <th></th>\n",
       "      <th>brands</th>\n",
       "      <th>nutrition_grade_fr</th>\n",
       "      <th>pnns_groups_1</th>\n",
       "    </tr>\n",
       "  </thead>\n",
       "  <tbody>\n",
       "    <tr>\n",
       "      <th>10</th>\n",
       "      <td>CROUS</td>\n",
       "      <td>None</td>\n",
       "      <td>unknown</td>\n",
       "    </tr>\n",
       "    <tr>\n",
       "      <th>11</th>\n",
       "      <td>Crous Resto',Crous</td>\n",
       "      <td>d</td>\n",
       "      <td>unknown</td>\n",
       "    </tr>\n",
       "    <tr>\n",
       "      <th>15</th>\n",
       "      <td>Ferme De La Frémondière</td>\n",
       "      <td>None</td>\n",
       "      <td>unknown</td>\n",
       "    </tr>\n",
       "    <tr>\n",
       "      <th>17</th>\n",
       "      <td>Crous</td>\n",
       "      <td>a</td>\n",
       "      <td>Fruits and vegetables</td>\n",
       "    </tr>\n",
       "    <tr>\n",
       "      <th>22</th>\n",
       "      <td>Crous resto</td>\n",
       "      <td>None</td>\n",
       "      <td>unknown</td>\n",
       "    </tr>\n",
       "  </tbody>\n",
       "</table>\n",
       "</div>"
      ],
      "text/plain": [
       "                     brands nutrition_grade_fr          pnns_groups_1\n",
       "10                    CROUS               None                unknown\n",
       "11       Crous Resto',Crous                  d                unknown\n",
       "15  Ferme De La Frémondière               None                unknown\n",
       "17                    Crous                  a  Fruits and vegetables\n",
       "22              Crous resto               None                unknown"
      ]
     },
     "execution_count": 50,
     "metadata": {},
     "output_type": "execute_result"
    }
   ],
   "source": [
    "#bioVillage_df.to_pickle('bioVillage_df')\n",
    "bioVillage_df = pd.read_pickle('bioVillage_df')\n",
    "bioVillage_df.head()"
   ]
  },
  {
   "cell_type": "code",
   "execution_count": 51,
   "metadata": {},
   "outputs": [],
   "source": [
    "bioVillage_df = bioVillage_df.dropna(subset=['brands'])"
   ]
  },
  {
   "cell_type": "code",
   "execution_count": 52,
   "metadata": {},
   "outputs": [
    {
     "ename": "NameError",
     "evalue": "name 'clean_brand' is not defined",
     "output_type": "error",
     "traceback": [
      "\u001b[1;31m---------------------------------------------------------------------------\u001b[0m",
      "\u001b[1;31mNameError\u001b[0m                                 Traceback (most recent call last)",
      "\u001b[1;32m<ipython-input-52-eeac7544cf51>\u001b[0m in \u001b[0;36m<module>\u001b[1;34m()\u001b[0m\n\u001b[1;32m----> 1\u001b[1;33m \u001b[0mbioVillage_df\u001b[0m\u001b[1;33m[\u001b[0m\u001b[1;34m'new_brands'\u001b[0m\u001b[1;33m]\u001b[0m \u001b[1;33m=\u001b[0m \u001b[0mbioVillage_df\u001b[0m\u001b[1;33m[\u001b[0m\u001b[1;34m'brands'\u001b[0m\u001b[1;33m]\u001b[0m\u001b[1;33m.\u001b[0m\u001b[0mapply\u001b[0m\u001b[1;33m(\u001b[0m\u001b[1;32mlambda\u001b[0m \u001b[0mx\u001b[0m\u001b[1;33m:\u001b[0m \u001b[0mclean_brand\u001b[0m\u001b[1;33m(\u001b[0m\u001b[0mx\u001b[0m\u001b[1;33m)\u001b[0m\u001b[1;33m)\u001b[0m\u001b[1;33m\u001b[0m\u001b[0m\n\u001b[0m",
      "\u001b[1;32m~\\Anaconda3\\lib\\site-packages\\pandas\\core\\series.py\u001b[0m in \u001b[0;36mapply\u001b[1;34m(self, func, convert_dtype, args, **kwds)\u001b[0m\n\u001b[0;32m   3192\u001b[0m             \u001b[1;32melse\u001b[0m\u001b[1;33m:\u001b[0m\u001b[1;33m\u001b[0m\u001b[0m\n\u001b[0;32m   3193\u001b[0m                 \u001b[0mvalues\u001b[0m \u001b[1;33m=\u001b[0m \u001b[0mself\u001b[0m\u001b[1;33m.\u001b[0m\u001b[0mastype\u001b[0m\u001b[1;33m(\u001b[0m\u001b[0mobject\u001b[0m\u001b[1;33m)\u001b[0m\u001b[1;33m.\u001b[0m\u001b[0mvalues\u001b[0m\u001b[1;33m\u001b[0m\u001b[0m\n\u001b[1;32m-> 3194\u001b[1;33m                 \u001b[0mmapped\u001b[0m \u001b[1;33m=\u001b[0m \u001b[0mlib\u001b[0m\u001b[1;33m.\u001b[0m\u001b[0mmap_infer\u001b[0m\u001b[1;33m(\u001b[0m\u001b[0mvalues\u001b[0m\u001b[1;33m,\u001b[0m \u001b[0mf\u001b[0m\u001b[1;33m,\u001b[0m \u001b[0mconvert\u001b[0m\u001b[1;33m=\u001b[0m\u001b[0mconvert_dtype\u001b[0m\u001b[1;33m)\u001b[0m\u001b[1;33m\u001b[0m\u001b[0m\n\u001b[0m\u001b[0;32m   3195\u001b[0m \u001b[1;33m\u001b[0m\u001b[0m\n\u001b[0;32m   3196\u001b[0m         \u001b[1;32mif\u001b[0m \u001b[0mlen\u001b[0m\u001b[1;33m(\u001b[0m\u001b[0mmapped\u001b[0m\u001b[1;33m)\u001b[0m \u001b[1;32mand\u001b[0m \u001b[0misinstance\u001b[0m\u001b[1;33m(\u001b[0m\u001b[0mmapped\u001b[0m\u001b[1;33m[\u001b[0m\u001b[1;36m0\u001b[0m\u001b[1;33m]\u001b[0m\u001b[1;33m,\u001b[0m \u001b[0mSeries\u001b[0m\u001b[1;33m)\u001b[0m\u001b[1;33m:\u001b[0m\u001b[1;33m\u001b[0m\u001b[0m\n",
      "\u001b[1;32mpandas/_libs/src\\inference.pyx\u001b[0m in \u001b[0;36mpandas._libs.lib.map_infer\u001b[1;34m()\u001b[0m\n",
      "\u001b[1;32m<ipython-input-52-eeac7544cf51>\u001b[0m in \u001b[0;36m<lambda>\u001b[1;34m(x)\u001b[0m\n\u001b[1;32m----> 1\u001b[1;33m \u001b[0mbioVillage_df\u001b[0m\u001b[1;33m[\u001b[0m\u001b[1;34m'new_brands'\u001b[0m\u001b[1;33m]\u001b[0m \u001b[1;33m=\u001b[0m \u001b[0mbioVillage_df\u001b[0m\u001b[1;33m[\u001b[0m\u001b[1;34m'brands'\u001b[0m\u001b[1;33m]\u001b[0m\u001b[1;33m.\u001b[0m\u001b[0mapply\u001b[0m\u001b[1;33m(\u001b[0m\u001b[1;32mlambda\u001b[0m \u001b[0mx\u001b[0m\u001b[1;33m:\u001b[0m \u001b[0mclean_brand\u001b[0m\u001b[1;33m(\u001b[0m\u001b[0mx\u001b[0m\u001b[1;33m)\u001b[0m\u001b[1;33m)\u001b[0m\u001b[1;33m\u001b[0m\u001b[0m\n\u001b[0m",
      "\u001b[1;31mNameError\u001b[0m: name 'clean_brand' is not defined"
     ]
    }
   ],
   "source": [
    "bioVillage_df['new_brands'] = bioVillage_df['brands'].apply(lambda x: clean_brand(x))"
   ]
  },
  {
   "cell_type": "code",
   "execution_count": 53,
   "metadata": {},
   "outputs": [
    {
     "ename": "KeyError",
     "evalue": "'new_brands'",
     "output_type": "error",
     "traceback": [
      "\u001b[1;31m---------------------------------------------------------------------------\u001b[0m",
      "\u001b[1;31mKeyError\u001b[0m                                  Traceback (most recent call last)",
      "\u001b[1;32m~\\Anaconda3\\lib\\site-packages\\pandas\\core\\indexes\\base.py\u001b[0m in \u001b[0;36mget_loc\u001b[1;34m(self, key, method, tolerance)\u001b[0m\n\u001b[0;32m   3077\u001b[0m             \u001b[1;32mtry\u001b[0m\u001b[1;33m:\u001b[0m\u001b[1;33m\u001b[0m\u001b[0m\n\u001b[1;32m-> 3078\u001b[1;33m                 \u001b[1;32mreturn\u001b[0m \u001b[0mself\u001b[0m\u001b[1;33m.\u001b[0m\u001b[0m_engine\u001b[0m\u001b[1;33m.\u001b[0m\u001b[0mget_loc\u001b[0m\u001b[1;33m(\u001b[0m\u001b[0mkey\u001b[0m\u001b[1;33m)\u001b[0m\u001b[1;33m\u001b[0m\u001b[0m\n\u001b[0m\u001b[0;32m   3079\u001b[0m             \u001b[1;32mexcept\u001b[0m \u001b[0mKeyError\u001b[0m\u001b[1;33m:\u001b[0m\u001b[1;33m\u001b[0m\u001b[0m\n",
      "\u001b[1;32mpandas\\_libs\\index.pyx\u001b[0m in \u001b[0;36mpandas._libs.index.IndexEngine.get_loc\u001b[1;34m()\u001b[0m\n",
      "\u001b[1;32mpandas\\_libs\\index.pyx\u001b[0m in \u001b[0;36mpandas._libs.index.IndexEngine.get_loc\u001b[1;34m()\u001b[0m\n",
      "\u001b[1;32mpandas\\_libs\\hashtable_class_helper.pxi\u001b[0m in \u001b[0;36mpandas._libs.hashtable.PyObjectHashTable.get_item\u001b[1;34m()\u001b[0m\n",
      "\u001b[1;32mpandas\\_libs\\hashtable_class_helper.pxi\u001b[0m in \u001b[0;36mpandas._libs.hashtable.PyObjectHashTable.get_item\u001b[1;34m()\u001b[0m\n",
      "\u001b[1;31mKeyError\u001b[0m: 'new_brands'",
      "\nDuring handling of the above exception, another exception occurred:\n",
      "\u001b[1;31mKeyError\u001b[0m                                  Traceback (most recent call last)",
      "\u001b[1;32m<ipython-input-53-e80036576b51>\u001b[0m in \u001b[0;36m<module>\u001b[1;34m()\u001b[0m\n\u001b[1;32m----> 1\u001b[1;33m \u001b[0mbioVillage_df\u001b[0m \u001b[1;33m=\u001b[0m \u001b[0mbioVillage_df\u001b[0m\u001b[1;33m[\u001b[0m\u001b[0mbioVillage_df\u001b[0m\u001b[1;33m[\u001b[0m\u001b[1;34m'new_brands'\u001b[0m\u001b[1;33m]\u001b[0m \u001b[1;33m==\u001b[0m \u001b[1;34m'Bio Village'\u001b[0m\u001b[1;33m]\u001b[0m\u001b[1;33m\u001b[0m\u001b[0m\n\u001b[0m",
      "\u001b[1;32m~\\Anaconda3\\lib\\site-packages\\pandas\\core\\frame.py\u001b[0m in \u001b[0;36m__getitem__\u001b[1;34m(self, key)\u001b[0m\n\u001b[0;32m   2686\u001b[0m             \u001b[1;32mreturn\u001b[0m \u001b[0mself\u001b[0m\u001b[1;33m.\u001b[0m\u001b[0m_getitem_multilevel\u001b[0m\u001b[1;33m(\u001b[0m\u001b[0mkey\u001b[0m\u001b[1;33m)\u001b[0m\u001b[1;33m\u001b[0m\u001b[0m\n\u001b[0;32m   2687\u001b[0m         \u001b[1;32melse\u001b[0m\u001b[1;33m:\u001b[0m\u001b[1;33m\u001b[0m\u001b[0m\n\u001b[1;32m-> 2688\u001b[1;33m             \u001b[1;32mreturn\u001b[0m \u001b[0mself\u001b[0m\u001b[1;33m.\u001b[0m\u001b[0m_getitem_column\u001b[0m\u001b[1;33m(\u001b[0m\u001b[0mkey\u001b[0m\u001b[1;33m)\u001b[0m\u001b[1;33m\u001b[0m\u001b[0m\n\u001b[0m\u001b[0;32m   2689\u001b[0m \u001b[1;33m\u001b[0m\u001b[0m\n\u001b[0;32m   2690\u001b[0m     \u001b[1;32mdef\u001b[0m \u001b[0m_getitem_column\u001b[0m\u001b[1;33m(\u001b[0m\u001b[0mself\u001b[0m\u001b[1;33m,\u001b[0m \u001b[0mkey\u001b[0m\u001b[1;33m)\u001b[0m\u001b[1;33m:\u001b[0m\u001b[1;33m\u001b[0m\u001b[0m\n",
      "\u001b[1;32m~\\Anaconda3\\lib\\site-packages\\pandas\\core\\frame.py\u001b[0m in \u001b[0;36m_getitem_column\u001b[1;34m(self, key)\u001b[0m\n\u001b[0;32m   2693\u001b[0m         \u001b[1;31m# get column\u001b[0m\u001b[1;33m\u001b[0m\u001b[1;33m\u001b[0m\u001b[0m\n\u001b[0;32m   2694\u001b[0m         \u001b[1;32mif\u001b[0m \u001b[0mself\u001b[0m\u001b[1;33m.\u001b[0m\u001b[0mcolumns\u001b[0m\u001b[1;33m.\u001b[0m\u001b[0mis_unique\u001b[0m\u001b[1;33m:\u001b[0m\u001b[1;33m\u001b[0m\u001b[0m\n\u001b[1;32m-> 2695\u001b[1;33m             \u001b[1;32mreturn\u001b[0m \u001b[0mself\u001b[0m\u001b[1;33m.\u001b[0m\u001b[0m_get_item_cache\u001b[0m\u001b[1;33m(\u001b[0m\u001b[0mkey\u001b[0m\u001b[1;33m)\u001b[0m\u001b[1;33m\u001b[0m\u001b[0m\n\u001b[0m\u001b[0;32m   2696\u001b[0m \u001b[1;33m\u001b[0m\u001b[0m\n\u001b[0;32m   2697\u001b[0m         \u001b[1;31m# duplicate columns & possible reduce dimensionality\u001b[0m\u001b[1;33m\u001b[0m\u001b[1;33m\u001b[0m\u001b[0m\n",
      "\u001b[1;32m~\\Anaconda3\\lib\\site-packages\\pandas\\core\\generic.py\u001b[0m in \u001b[0;36m_get_item_cache\u001b[1;34m(self, item)\u001b[0m\n\u001b[0;32m   2487\u001b[0m         \u001b[0mres\u001b[0m \u001b[1;33m=\u001b[0m \u001b[0mcache\u001b[0m\u001b[1;33m.\u001b[0m\u001b[0mget\u001b[0m\u001b[1;33m(\u001b[0m\u001b[0mitem\u001b[0m\u001b[1;33m)\u001b[0m\u001b[1;33m\u001b[0m\u001b[0m\n\u001b[0;32m   2488\u001b[0m         \u001b[1;32mif\u001b[0m \u001b[0mres\u001b[0m \u001b[1;32mis\u001b[0m \u001b[1;32mNone\u001b[0m\u001b[1;33m:\u001b[0m\u001b[1;33m\u001b[0m\u001b[0m\n\u001b[1;32m-> 2489\u001b[1;33m             \u001b[0mvalues\u001b[0m \u001b[1;33m=\u001b[0m \u001b[0mself\u001b[0m\u001b[1;33m.\u001b[0m\u001b[0m_data\u001b[0m\u001b[1;33m.\u001b[0m\u001b[0mget\u001b[0m\u001b[1;33m(\u001b[0m\u001b[0mitem\u001b[0m\u001b[1;33m)\u001b[0m\u001b[1;33m\u001b[0m\u001b[0m\n\u001b[0m\u001b[0;32m   2490\u001b[0m             \u001b[0mres\u001b[0m \u001b[1;33m=\u001b[0m \u001b[0mself\u001b[0m\u001b[1;33m.\u001b[0m\u001b[0m_box_item_values\u001b[0m\u001b[1;33m(\u001b[0m\u001b[0mitem\u001b[0m\u001b[1;33m,\u001b[0m \u001b[0mvalues\u001b[0m\u001b[1;33m)\u001b[0m\u001b[1;33m\u001b[0m\u001b[0m\n\u001b[0;32m   2491\u001b[0m             \u001b[0mcache\u001b[0m\u001b[1;33m[\u001b[0m\u001b[0mitem\u001b[0m\u001b[1;33m]\u001b[0m \u001b[1;33m=\u001b[0m \u001b[0mres\u001b[0m\u001b[1;33m\u001b[0m\u001b[0m\n",
      "\u001b[1;32m~\\Anaconda3\\lib\\site-packages\\pandas\\core\\internals.py\u001b[0m in \u001b[0;36mget\u001b[1;34m(self, item, fastpath)\u001b[0m\n\u001b[0;32m   4113\u001b[0m \u001b[1;33m\u001b[0m\u001b[0m\n\u001b[0;32m   4114\u001b[0m             \u001b[1;32mif\u001b[0m \u001b[1;32mnot\u001b[0m \u001b[0misna\u001b[0m\u001b[1;33m(\u001b[0m\u001b[0mitem\u001b[0m\u001b[1;33m)\u001b[0m\u001b[1;33m:\u001b[0m\u001b[1;33m\u001b[0m\u001b[0m\n\u001b[1;32m-> 4115\u001b[1;33m                 \u001b[0mloc\u001b[0m \u001b[1;33m=\u001b[0m \u001b[0mself\u001b[0m\u001b[1;33m.\u001b[0m\u001b[0mitems\u001b[0m\u001b[1;33m.\u001b[0m\u001b[0mget_loc\u001b[0m\u001b[1;33m(\u001b[0m\u001b[0mitem\u001b[0m\u001b[1;33m)\u001b[0m\u001b[1;33m\u001b[0m\u001b[0m\n\u001b[0m\u001b[0;32m   4116\u001b[0m             \u001b[1;32melse\u001b[0m\u001b[1;33m:\u001b[0m\u001b[1;33m\u001b[0m\u001b[0m\n\u001b[0;32m   4117\u001b[0m                 \u001b[0mindexer\u001b[0m \u001b[1;33m=\u001b[0m \u001b[0mnp\u001b[0m\u001b[1;33m.\u001b[0m\u001b[0marange\u001b[0m\u001b[1;33m(\u001b[0m\u001b[0mlen\u001b[0m\u001b[1;33m(\u001b[0m\u001b[0mself\u001b[0m\u001b[1;33m.\u001b[0m\u001b[0mitems\u001b[0m\u001b[1;33m)\u001b[0m\u001b[1;33m)\u001b[0m\u001b[1;33m[\u001b[0m\u001b[0misna\u001b[0m\u001b[1;33m(\u001b[0m\u001b[0mself\u001b[0m\u001b[1;33m.\u001b[0m\u001b[0mitems\u001b[0m\u001b[1;33m)\u001b[0m\u001b[1;33m]\u001b[0m\u001b[1;33m\u001b[0m\u001b[0m\n",
      "\u001b[1;32m~\\Anaconda3\\lib\\site-packages\\pandas\\core\\indexes\\base.py\u001b[0m in \u001b[0;36mget_loc\u001b[1;34m(self, key, method, tolerance)\u001b[0m\n\u001b[0;32m   3078\u001b[0m                 \u001b[1;32mreturn\u001b[0m \u001b[0mself\u001b[0m\u001b[1;33m.\u001b[0m\u001b[0m_engine\u001b[0m\u001b[1;33m.\u001b[0m\u001b[0mget_loc\u001b[0m\u001b[1;33m(\u001b[0m\u001b[0mkey\u001b[0m\u001b[1;33m)\u001b[0m\u001b[1;33m\u001b[0m\u001b[0m\n\u001b[0;32m   3079\u001b[0m             \u001b[1;32mexcept\u001b[0m \u001b[0mKeyError\u001b[0m\u001b[1;33m:\u001b[0m\u001b[1;33m\u001b[0m\u001b[0m\n\u001b[1;32m-> 3080\u001b[1;33m                 \u001b[1;32mreturn\u001b[0m \u001b[0mself\u001b[0m\u001b[1;33m.\u001b[0m\u001b[0m_engine\u001b[0m\u001b[1;33m.\u001b[0m\u001b[0mget_loc\u001b[0m\u001b[1;33m(\u001b[0m\u001b[0mself\u001b[0m\u001b[1;33m.\u001b[0m\u001b[0m_maybe_cast_indexer\u001b[0m\u001b[1;33m(\u001b[0m\u001b[0mkey\u001b[0m\u001b[1;33m)\u001b[0m\u001b[1;33m)\u001b[0m\u001b[1;33m\u001b[0m\u001b[0m\n\u001b[0m\u001b[0;32m   3081\u001b[0m \u001b[1;33m\u001b[0m\u001b[0m\n\u001b[0;32m   3082\u001b[0m         \u001b[0mindexer\u001b[0m \u001b[1;33m=\u001b[0m \u001b[0mself\u001b[0m\u001b[1;33m.\u001b[0m\u001b[0mget_indexer\u001b[0m\u001b[1;33m(\u001b[0m\u001b[1;33m[\u001b[0m\u001b[0mkey\u001b[0m\u001b[1;33m]\u001b[0m\u001b[1;33m,\u001b[0m \u001b[0mmethod\u001b[0m\u001b[1;33m=\u001b[0m\u001b[0mmethod\u001b[0m\u001b[1;33m,\u001b[0m \u001b[0mtolerance\u001b[0m\u001b[1;33m=\u001b[0m\u001b[0mtolerance\u001b[0m\u001b[1;33m)\u001b[0m\u001b[1;33m\u001b[0m\u001b[0m\n",
      "\u001b[1;32mpandas\\_libs\\index.pyx\u001b[0m in \u001b[0;36mpandas._libs.index.IndexEngine.get_loc\u001b[1;34m()\u001b[0m\n",
      "\u001b[1;32mpandas\\_libs\\index.pyx\u001b[0m in \u001b[0;36mpandas._libs.index.IndexEngine.get_loc\u001b[1;34m()\u001b[0m\n",
      "\u001b[1;32mpandas\\_libs\\hashtable_class_helper.pxi\u001b[0m in \u001b[0;36mpandas._libs.hashtable.PyObjectHashTable.get_item\u001b[1;34m()\u001b[0m\n",
      "\u001b[1;32mpandas\\_libs\\hashtable_class_helper.pxi\u001b[0m in \u001b[0;36mpandas._libs.hashtable.PyObjectHashTable.get_item\u001b[1;34m()\u001b[0m\n",
      "\u001b[1;31mKeyError\u001b[0m: 'new_brands'"
     ]
    }
   ],
   "source": [
    "bioVillage_df = bioVillage_df[bioVillage_df['new_brands'] == 'Bio Village']"
   ]
  },
  {
   "cell_type": "code",
   "execution_count": null,
   "metadata": {},
   "outputs": [],
   "source": [
    "count = bioVillage_df.groupby('pnns_groups_1').count()[['brands']].rename(columns={'brands':'count'})\n",
    "count.plot(kind='bar')\n",
    "plt.title('Food category repartition for the brand Bio Village')\n",
    "plt.xlabel('Food category') \n",
    "plt.show()"
   ]
  },
  {
   "cell_type": "markdown",
   "metadata": {},
   "source": [
    "## Nutrition grade repartition per category"
   ]
  },
  {
   "cell_type": "code",
   "execution_count": 6,
   "metadata": {},
   "outputs": [],
   "source": [
    "category_vs_nutrition = data.select('nutrition_grade_fr', 'pnns_groups_1').na.drop()"
   ]
  },
  {
   "cell_type": "code",
   "execution_count": 7,
   "metadata": {},
   "outputs": [],
   "source": [
    "category_vs_nutrition = category_vs_nutrition.withColumn('pnns_groups_1',(F.regexp_replace('pnns_groups_1', '-', ' ')))\n",
    "square_udf_int = F.udf(lambda z: z.title())\n",
    "category_vs_nutrition = category_vs_nutrition.withColumn('pnns_groups_1', square_udf_int('pnns_groups_1'))"
   ]
  },
  {
   "cell_type": "code",
   "execution_count": 8,
   "metadata": {},
   "outputs": [],
   "source": [
    "category_vs_nutrition_df = category_vs_nutrition.toPandas()"
   ]
  },
  {
   "cell_type": "code",
   "execution_count": 9,
   "metadata": {},
   "outputs": [],
   "source": [
    "#category_vs_nutrition_df.to_pickle('category_vs_nutrition_df')\n",
    "category_vs_nutrition_df = pd.read_pickle('category_vs_nutrition_df')"
   ]
  },
  {
   "cell_type": "code",
   "execution_count": 20,
   "metadata": {},
   "outputs": [],
   "source": [
    "category_vs_nutrition_df = pd.get_dummies(category_vs_nutrition_df.set_index('pnns_groups_1')).reset_index()\n",
    "category_vs_nutrition_df = category_vs_nutrition_df.rename(columns={'nutrition_grade_fr_a':'a',\n",
    "                               'nutrition_grade_fr_b':'b',\n",
    "                               'nutrition_grade_fr_c':'c',\n",
    "                               'nutrition_grade_fr_d':'d',\n",
    "                               'nutrition_grade_fr_e':'e'})"
   ]
  },
  {
   "cell_type": "code",
   "execution_count": 27,
   "metadata": {},
   "outputs": [
    {
     "data": {
      "text/html": [
       "<div>\n",
       "<style scoped>\n",
       "    .dataframe tbody tr th:only-of-type {\n",
       "        vertical-align: middle;\n",
       "    }\n",
       "\n",
       "    .dataframe tbody tr th {\n",
       "        vertical-align: top;\n",
       "    }\n",
       "\n",
       "    .dataframe thead th {\n",
       "        text-align: right;\n",
       "    }\n",
       "</style>\n",
       "<table border=\"1\" class=\"dataframe\">\n",
       "  <thead>\n",
       "    <tr style=\"text-align: right;\">\n",
       "      <th></th>\n",
       "      <th>a</th>\n",
       "      <th>b</th>\n",
       "      <th>c</th>\n",
       "      <th>d</th>\n",
       "      <th>e</th>\n",
       "      <th>total</th>\n",
       "    </tr>\n",
       "    <tr>\n",
       "      <th>pnns_groups_1</th>\n",
       "      <th></th>\n",
       "      <th></th>\n",
       "      <th></th>\n",
       "      <th></th>\n",
       "      <th></th>\n",
       "      <th></th>\n",
       "    </tr>\n",
       "  </thead>\n",
       "  <tbody>\n",
       "    <tr>\n",
       "      <th>Beverages</th>\n",
       "      <td>123.0</td>\n",
       "      <td>1222.0</td>\n",
       "      <td>2395.0</td>\n",
       "      <td>2073.0</td>\n",
       "      <td>4301.0</td>\n",
       "      <td>10114.0</td>\n",
       "    </tr>\n",
       "    <tr>\n",
       "      <th>Cereals And Potatoes</th>\n",
       "      <td>5764.0</td>\n",
       "      <td>2457.0</td>\n",
       "      <td>2463.0</td>\n",
       "      <td>1656.0</td>\n",
       "      <td>190.0</td>\n",
       "      <td>12530.0</td>\n",
       "    </tr>\n",
       "    <tr>\n",
       "      <th>Composite Foods</th>\n",
       "      <td>2139.0</td>\n",
       "      <td>4095.0</td>\n",
       "      <td>4339.0</td>\n",
       "      <td>2417.0</td>\n",
       "      <td>203.0</td>\n",
       "      <td>13193.0</td>\n",
       "    </tr>\n",
       "    <tr>\n",
       "      <th>Fat And Sauces</th>\n",
       "      <td>225.0</td>\n",
       "      <td>428.0</td>\n",
       "      <td>2206.0</td>\n",
       "      <td>4612.0</td>\n",
       "      <td>1963.0</td>\n",
       "      <td>9434.0</td>\n",
       "    </tr>\n",
       "    <tr>\n",
       "      <th>Fish Meat Eggs</th>\n",
       "      <td>1150.0</td>\n",
       "      <td>1427.0</td>\n",
       "      <td>2460.0</td>\n",
       "      <td>3855.0</td>\n",
       "      <td>2464.0</td>\n",
       "      <td>11356.0</td>\n",
       "    </tr>\n",
       "  </tbody>\n",
       "</table>\n",
       "</div>"
      ],
      "text/plain": [
       "                           a       b       c       d       e    total\n",
       "pnns_groups_1                                                        \n",
       "Beverages              123.0  1222.0  2395.0  2073.0  4301.0  10114.0\n",
       "Cereals And Potatoes  5764.0  2457.0  2463.0  1656.0   190.0  12530.0\n",
       "Composite Foods       2139.0  4095.0  4339.0  2417.0   203.0  13193.0\n",
       "Fat And Sauces         225.0   428.0  2206.0  4612.0  1963.0   9434.0\n",
       "Fish Meat Eggs        1150.0  1427.0  2460.0  3855.0  2464.0  11356.0"
      ]
     },
     "execution_count": 27,
     "metadata": {},
     "output_type": "execute_result"
    }
   ],
   "source": [
    "count = category_vs_nutrition_df.groupby('pnns_groups_1').sum()\n",
    "count['total'] = count.apply(lambda x: x['a']+x['b']+x['c']+x['d']+x['e'], axis=1) \n",
    "count.head()"
   ]
  },
  {
   "cell_type": "code",
   "execution_count": 31,
   "metadata": {
    "scrolled": true
   },
   "outputs": [
    {
     "data": {
      "text/html": [
       "<div>\n",
       "<style scoped>\n",
       "    .dataframe tbody tr th:only-of-type {\n",
       "        vertical-align: middle;\n",
       "    }\n",
       "\n",
       "    .dataframe tbody tr th {\n",
       "        vertical-align: top;\n",
       "    }\n",
       "\n",
       "    .dataframe thead th {\n",
       "        text-align: right;\n",
       "    }\n",
       "</style>\n",
       "<table border=\"1\" class=\"dataframe\">\n",
       "  <thead>\n",
       "    <tr style=\"text-align: right;\">\n",
       "      <th></th>\n",
       "      <th>a</th>\n",
       "      <th>b</th>\n",
       "      <th>c</th>\n",
       "      <th>d</th>\n",
       "      <th>e</th>\n",
       "      <th>total</th>\n",
       "    </tr>\n",
       "    <tr>\n",
       "      <th>pnns_groups_1</th>\n",
       "      <th></th>\n",
       "      <th></th>\n",
       "      <th></th>\n",
       "      <th></th>\n",
       "      <th></th>\n",
       "      <th></th>\n",
       "    </tr>\n",
       "  </thead>\n",
       "  <tbody>\n",
       "    <tr>\n",
       "      <th>Beverages</th>\n",
       "      <td>1.216136</td>\n",
       "      <td>12.082262</td>\n",
       "      <td>23.680047</td>\n",
       "      <td>20.496342</td>\n",
       "      <td>42.525213</td>\n",
       "      <td>10114.0</td>\n",
       "    </tr>\n",
       "    <tr>\n",
       "      <th>Cereals And Potatoes</th>\n",
       "      <td>46.001596</td>\n",
       "      <td>19.608939</td>\n",
       "      <td>19.656824</td>\n",
       "      <td>13.216281</td>\n",
       "      <td>1.516361</td>\n",
       "      <td>12530.0</td>\n",
       "    </tr>\n",
       "    <tr>\n",
       "      <th>Composite Foods</th>\n",
       "      <td>16.213143</td>\n",
       "      <td>31.039187</td>\n",
       "      <td>32.888653</td>\n",
       "      <td>18.320321</td>\n",
       "      <td>1.538695</td>\n",
       "      <td>13193.0</td>\n",
       "    </tr>\n",
       "    <tr>\n",
       "      <th>Fat And Sauces</th>\n",
       "      <td>2.384990</td>\n",
       "      <td>4.536782</td>\n",
       "      <td>23.383506</td>\n",
       "      <td>48.887004</td>\n",
       "      <td>20.807717</td>\n",
       "      <td>9434.0</td>\n",
       "    </tr>\n",
       "    <tr>\n",
       "      <th>Fish Meat Eggs</th>\n",
       "      <td>10.126805</td>\n",
       "      <td>12.566044</td>\n",
       "      <td>21.662557</td>\n",
       "      <td>33.946812</td>\n",
       "      <td>21.697781</td>\n",
       "      <td>11356.0</td>\n",
       "    </tr>\n",
       "  </tbody>\n",
       "</table>\n",
       "</div>"
      ],
      "text/plain": [
       "                              a          b          c          d          e  \\\n",
       "pnns_groups_1                                                                 \n",
       "Beverages              1.216136  12.082262  23.680047  20.496342  42.525213   \n",
       "Cereals And Potatoes  46.001596  19.608939  19.656824  13.216281   1.516361   \n",
       "Composite Foods       16.213143  31.039187  32.888653  18.320321   1.538695   \n",
       "Fat And Sauces         2.384990   4.536782  23.383506  48.887004  20.807717   \n",
       "Fish Meat Eggs        10.126805  12.566044  21.662557  33.946812  21.697781   \n",
       "\n",
       "                        total  \n",
       "pnns_groups_1                  \n",
       "Beverages             10114.0  \n",
       "Cereals And Potatoes  12530.0  \n",
       "Composite Foods       13193.0  \n",
       "Fat And Sauces         9434.0  \n",
       "Fish Meat Eggs        11356.0  "
      ]
     },
     "execution_count": 31,
     "metadata": {},
     "output_type": "execute_result"
    }
   ],
   "source": [
    "ratio = count.copy()\n",
    "ratio[['a','b','c','d','e']] = count[['a','b','c','d','e']].div(count['total'].values,axis=0)*100\n",
    "ratio.head()"
   ]
  },
  {
   "cell_type": "code",
   "execution_count": 48,
   "metadata": {},
   "outputs": [
    {
     "data": {
      "image/png": "[encoded data removed]",
      "text/plain": [
       "<matplotlib.figure.Figure at 0x1ba8511be80>"
      ]
     },
     "metadata": {},
     "output_type": "display_data"
    }
   ],
   "source": [
    "ratio.reset_index().drop('total',1).sort_values(by=['a'],ascending=0)\\\n",
    ".plot(kind='bar', x='pnns_groups_1',figsize=[10,7], color=sns.color_palette(\"RdBu_r\", 5))\n",
    "plt.xlabel('Food Category')\n",
    "plt.ylabel('proportion (in %)')\n",
    "plt.title('Health profile for each food category.')\n",
    "plt.show()"
   ]
  },
  {
   "cell_type": "code",
   "execution_count": null,
   "metadata": {},
   "outputs": [],
   "source": []
  }
 ],
 "metadata": {
  "kernelspec": {
   "display_name": "Python 3",
   "language": "python",
   "name": "python3"
  },
  "language_info": {
   "codemirror_mode": {
    "name": "ipython",
    "version": 3
   },
   "file_extension": ".py",
   "mimetype": "text/x-python",
   "name": "python",
   "nbconvert_exporter": "python",
   "pygments_lexer": "ipython3",
   "version": "3.6.4"
  }
 },
 "nbformat": 4,
 "nbformat_minor": 2
}

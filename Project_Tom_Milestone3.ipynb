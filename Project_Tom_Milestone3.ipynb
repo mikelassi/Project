{
 "cells": [
  {
   "cell_type": "markdown",
   "metadata": {},
   "source": [
    "# Food For Thought \n",
    "## Digging into the dataset\n",
    "\n",
    "The first step of this project aims at understanding the dataset we have chosen ([Open Food Facts Database](https://world.openfoodfacts.org/)), to check whether it is suitable for the kind of analysis we want to develop.\n",
    "\n",
    "As a reminder, we would like to focus our research on two main topics:\n",
    "1. Impact of food on environment\n",
    "2. Impact of food on the health"
   ]
  },
  {
   "cell_type": "code",
   "execution_count": 1,
   "metadata": {},
   "outputs": [],
   "source": [
    "import re\n",
    "import pandas as pd\n",
    "import numpy as np\n",
    "import matplotlib\n",
    "import seaborn as sns\n",
    "import matplotlib.pyplot as plt\n",
    "import matplotlib.style as style\n",
    "from mpl_toolkits.mplot3d import Axes3D\n",
    "from difflib import get_close_matches\n",
    "\n",
    "import pickle\n",
    "\n",
    "from sklearn.decomposition import PCA\n",
    "from sklearn.preprocessing import StandardScaler\n",
    "\n",
    "import findspark\n",
    "findspark.init()\n",
    "\n",
    "from pyspark.sql import *\n",
    "\n",
    "import pyspark.sql.functions as F\n",
    "\n",
    "from pyspark.sql import SparkSession\n",
    "from pyspark import SparkContext\n",
    "\n",
    "spark = SparkSession.builder.getOrCreate()\n",
    "sc = spark.sparkContext\n",
    "%matplotlib inline\n"
   ]
  },
  {
   "cell_type": "code",
   "execution_count": 2,
   "metadata": {},
   "outputs": [],
   "source": [
    "# functions to save and load intermediate results in pickle format\n",
    "def load_pickle(file_path):\n",
    "    with open(file_path, 'rb') as file:\n",
    "        return pickle.load(file)\n",
    "\n",
    "def save_pickle(result, file_path = 'pickle'):\n",
    "    with open(file_path, 'wb') as file:\n",
    "        pickle.dump(result, file)"
   ]
  },
  {
   "cell_type": "code",
   "execution_count": 3,
   "metadata": {},
   "outputs": [],
   "source": [
    "style.use('seaborn-notebook') #sets the size of the charts\n",
    "style.use('ggplot')"
   ]
  },
  {
   "cell_type": "code",
   "execution_count": null,
   "metadata": {},
   "outputs": [],
   "source": [
    "DATA_FOLDER = './data/'\n",
    "data = spark.read.csv(DATA_FOLDER +'en.openfoodfacts.org.products.csv',header=True,sep='\\t')          "
   ]
  },
  {
   "cell_type": "markdown",
   "metadata": {},
   "source": [
    "### Brand vs Nutrition vs Food Category in France "
   ]
  },
  {
   "cell_type": "markdown",
   "metadata": {},
   "source": [
    "#### load and clean"
   ]
  },
  {
   "cell_type": "code",
   "execution_count": null,
   "metadata": {},
   "outputs": [],
   "source": [
    "bra_cat_nut = data.filter(\"countries_en=='France'\")\\\n",
    "                    .select('brands', 'nutrition_grade_fr', 'pnns_groups_1')\\\n",
    "                    .dropna(how='all')"
   ]
  },
  {
   "cell_type": "code",
   "execution_count": null,
   "metadata": {},
   "outputs": [],
   "source": [
    "bra_cat_nut = bra_cat_nut.withColumn('pnns_groups_1',(F.regexp_replace('pnns_groups_1', '-', ' ')))\n",
    "square_udf_int = F.udf(lambda z: z.title() if z else z)\n",
    "bra_cat_nut = bra_cat_nut.withColumn('pnns_groups_1',square_udf_int('pnns_groups_1'))"
   ]
  },
  {
   "cell_type": "code",
   "execution_count": null,
   "metadata": {},
   "outputs": [],
   "source": [
    "bra_cat_nut.show(5)"
   ]
  },
  {
   "cell_type": "raw",
   "metadata": {},
   "source": [
    "# we convert the spark dataframe to a pandas dataframe\n",
    "bra_cat_nut_df = bra_cat_nut.toPandas()\n",
    "\n",
    "# we store it in the current folder \n",
    "bra_cat_nut_df.to_pickle('bra_cat_nut_df')"
   ]
  },
  {
   "cell_type": "code",
   "execution_count": null,
   "metadata": {},
   "outputs": [],
   "source": [
    "# we can now read it everytime we want to continue the analysis\n",
    "bra_cat_nut_raw_df = pd.read_pickle('bra_cat_nut_raw_df')"
   ]
  },
  {
   "cell_type": "code",
   "execution_count": null,
   "metadata": {},
   "outputs": [],
   "source": [
    "bra_cat_nut_raw_df.head()"
   ]
  },
  {
   "cell_type": "markdown",
   "metadata": {},
   "source": [
    "The problem is that the 'brands' tags are not always consistent. For example we can find the brand tag 'carrefour', \"Carrefour\", \"carrfour,bio carrefour' ect. \n",
    "Hence we first clean the brands using a list of food brands present in France and a function to match the 'brands' tag with the closest brand in the list. "
   ]
  },
  {
   "cell_type": "code",
   "execution_count": null,
   "metadata": {},
   "outputs": [],
   "source": [
    "# list of food brands present in France ('Coca Cola', 'Fleury Michon', 'Carrefour' ect.)\n",
    "list_brand_file = open(\"brand_list.txt\", \"r\")\n",
    "list_brand = list_brand_file.read().split('\\n')\n",
    "\n",
    "# Function which find for each value (string) in the column 'brands' the closest brand (string) in 'list_brand'.\n",
    "# Note: the function 'get_close_matches' has been imported from the open-source 'difflib' library.\n",
    "def clean_brand(brand_name):\n",
    "    \n",
    "    # brand name can be of the form 'Carrefour' (one word) or 'Carrefour, Bio Carrefour' (multiple words)\n",
    "    # hence we split the string w.r.t the symbol ',' and find the best matching brand word for each split.\n",
    "    best=[]\n",
    "    if brand_name:\n",
    "        \n",
    "        for word in brand_name.split(','):\n",
    "\n",
    "            # the cutoff control for the False Positives possibilities in the 'list_brand' \n",
    "            # that don’t score at least the cutoff are ignored.\n",
    "            # n controls for the the number of possibilities (whose score is higher than the cutoff value).\n",
    "            best.append(get_close_matches(word.lower(), list_brand, n=1, cutoff=0.6))\n",
    "\n",
    "        # remove empty sublists and unravel\n",
    "        best = [brand for sublist in best for brand in sublist if sublist]\n",
    " \n",
    "    if best:\n",
    "        return best[0]\n",
    "    else:\n",
    "        return None\n"
   ]
  },
  {
   "cell_type": "code",
   "execution_count": null,
   "metadata": {},
   "outputs": [],
   "source": [
    "# we create a new column with the new \"consistent\" brand tag. \n",
    "# takes some minutes to run...\n",
    "bra_cat_nut_raw_df['new_brands'] = bra_cat_nut_raw_df['brands'].apply(lambda x: clean_brand(x))"
   ]
  },
  {
   "cell_type": "code",
   "execution_count": null,
   "metadata": {},
   "outputs": [],
   "source": [
    "# we set to None the brand when it is \"Sans Marque\" \n",
    "# \"Sans Marque\" means the brands had not been specified, it can be \"Marque Repère\", \"Délisse\" ect. \n",
    "# using the product search tool on https://fr.openfoodfacts.org with the tag \"Sans Marque\".\n",
    "bra_cat_nut_raw_df['new_brands'] = bra_cat_nut_raw_df['new_brands'].apply(lambda x: None if x == 'Sans Marque' else x)"
   ]
  },
  {
   "cell_type": "code",
   "execution_count": null,
   "metadata": {},
   "outputs": [],
   "source": [
    "# drop when both 'nutrition_grade_fr' and 'brands' are None\n",
    "bra_cat_nut_cleaned_df = bra_cat_nut_raw_df.dropna(subset=['nutrition_grade_fr', 'brands'], how='all') \n",
    "\n",
    "# we can drop the old column 'brands' since we have the new ones.\n",
    "bra_cat_nut_cleaned_df = bra_cat_nut_cleaned_df.drop('brands',1).rename(columns={'new_brands':'brands'})\n",
    "\n",
    "bra_cat_nut_cleaned_df.head()"
   ]
  },
  {
   "cell_type": "code",
   "execution_count": null,
   "metadata": {},
   "outputs": [],
   "source": [
    "# here we count the number of products for each brand. \n",
    "# we consider that brand have enough products to be analyzed from 100 products\n",
    "count = bra_cat_nut_cleaned_df.groupby('brands').count().sort_values('nutrition_grade_fr', ascending=False)\n",
    "count.head()"
   ]
  },
  {
   "cell_type": "code",
   "execution_count": null,
   "metadata": {},
   "outputs": [],
   "source": [
    "count['enough_products']= count[['nutrition_grade_fr']].apply(lambda x: x>100)\n",
    "count = count[count.enough_products]\n",
    "count.head()"
   ]
  },
  {
   "cell_type": "markdown",
   "metadata": {},
   "source": [
    "The most abundant brands are Carrefour, Auchan and U. There are the brands of the biggest distributors (supermarkets) in France. "
   ]
  },
  {
   "cell_type": "code",
   "execution_count": null,
   "metadata": {},
   "outputs": [],
   "source": [
    "# here we add the column \"enough products\" to the dataframe with the cleaned brand.\n",
    "bra_cat_nut_cleaned_df = bra_cat_nut_cleaned_df.join(count[['enough_products']], on='brands')\n",
    "bra_cat_nut_cleaned_df = bra_cat_nut_cleaned_df.drop('enough_products',1)\n",
    "bra_cat_nut_cleaned_df.head()"
   ]
  },
  {
   "cell_type": "code",
   "execution_count": null,
   "metadata": {},
   "outputs": [],
   "source": [
    "# here we create dummy variables from the 'nutrition_grade_fr' whose value can be:\n",
    "# - 'a' (very good product for health) \n",
    "# - 'b' (good product)\n",
    "# - 'c' ('neutral product')\n",
    "# - 'd' ('not so good product')\n",
    "# - 'e' (bad product for health)\n",
    "\n",
    "bra_cat_nut_cleaned_dummies_df = pd.get_dummies(bra_cat_nut_cleaned_df.set_index('brands')).reset_index()\n",
    "bra_cat_nut_cleaned_dummies_df = bra_cat_nut_cleaned_expanded_df.rename(columns=\n",
    "                              {'nutrition_grade_fr_a':'a',\n",
    "                               'nutrition_grade_fr_b':'b',\n",
    "                               'nutrition_grade_fr_c':'c',\n",
    "                               'nutrition_grade_fr_d':'d',\n",
    "                               'nutrition_grade_fr_e':'e',\n",
    "                              'pnns_groups_1_Beverages': 'Beverages',\n",
    "                              'pnns_groups_1_Cereals And Potatoes':'Cereals And Potatoes',\n",
    "                              'pnns_groups_1_Composite Foods': 'Composite Foods',\n",
    "                              'pnns_groups_1_Fat And Sauces':'Fat And Sauces',\n",
    "                              'pnns_groups_1_Fish Meat Eggs':'Fish Meat Eggs',\n",
    "                              'pnns_groups_1_Fruits And Vegetables':'Fruits And Vegetables',\n",
    "                              'pnns_groups_1_Milk And Dairy Products':'Milk And Dairy Products',\n",
    "                              'pnns_groups_1_Salty Snacks':'Salty Snacks',\n",
    "                              'pnns_groups_1_Sugary Snacks':'Sugary Snacks',\n",
    "                              'pnns_groups_1_Unknown': 'Unknown'})\n",
    "bra_cat_nut_cleaned_dummies_df.head(5)"
   ]
  },
  {
   "cell_type": "raw",
   "metadata": {},
   "source": [
    "# we store it in the current folder \n",
    "bra_cat_nut_cleaned_df.to_pickle('bra_cat_nut_cleaned_df')\n",
    "bra_cat_nut_cleaned_dummies_df.to_pickle('bra_cat_nut_cleaned_dummies_df')"
   ]
  },
  {
   "cell_type": "markdown",
   "metadata": {},
   "source": [
    "#### Load data"
   ]
  },
  {
   "cell_type": "code",
   "execution_count": 4,
   "metadata": {},
   "outputs": [],
   "source": [
    "bra_cat_nut_df = pd.read_pickle('bra_cat_nut_cleaned_df')\n",
    "bra_cat_nut_dummies_df = pd.read_pickle('bra_cat_nut_cleaned_dummies_df')"
   ]
  },
  {
   "cell_type": "markdown",
   "metadata": {},
   "source": [
    "#### Food quality in the whole dataset"
   ]
  },
  {
   "cell_type": "code",
   "execution_count": 5,
   "metadata": {},
   "outputs": [
    {
     "data": {
      "text/html": [
       "<div>\n",
       "<style scoped>\n",
       "    .dataframe tbody tr th:only-of-type {\n",
       "        vertical-align: middle;\n",
       "    }\n",
       "\n",
       "    .dataframe tbody tr th {\n",
       "        vertical-align: top;\n",
       "    }\n",
       "\n",
       "    .dataframe thead th {\n",
       "        text-align: right;\n",
       "    }\n",
       "</style>\n",
       "<table border=\"1\" class=\"dataframe\">\n",
       "  <thead>\n",
       "    <tr style=\"text-align: right;\">\n",
       "      <th></th>\n",
       "      <th>nutrition_grade_fr</th>\n",
       "      <th>pnns_groups_1</th>\n",
       "      <th>brands</th>\n",
       "    </tr>\n",
       "  </thead>\n",
       "  <tbody>\n",
       "    <tr>\n",
       "      <th>0</th>\n",
       "      <td>None</td>\n",
       "      <td>Unknown</td>\n",
       "      <td>Crous</td>\n",
       "    </tr>\n",
       "    <tr>\n",
       "      <th>1</th>\n",
       "      <td>d</td>\n",
       "      <td>Unknown</td>\n",
       "      <td>Crous</td>\n",
       "    </tr>\n",
       "    <tr>\n",
       "      <th>2</th>\n",
       "      <td>None</td>\n",
       "      <td>Unknown</td>\n",
       "      <td>None</td>\n",
       "    </tr>\n",
       "  </tbody>\n",
       "</table>\n",
       "</div>"
      ],
      "text/plain": [
       "  nutrition_grade_fr pnns_groups_1 brands\n",
       "0               None       Unknown  Crous\n",
       "1                  d       Unknown  Crous\n",
       "2               None       Unknown   None"
      ]
     },
     "execution_count": 5,
     "metadata": {},
     "output_type": "execute_result"
    }
   ],
   "source": [
    "bra_cat_nut_df.head(3)"
   ]
  },
  {
   "cell_type": "code",
   "execution_count": 6,
   "metadata": {
    "scrolled": false
   },
   "outputs": [
    {
     "data": {
      "image/png": "[encoded data removed]",
      "text/plain": [
       "<matplotlib.figure.Figure at 0x1c22a21d128>"
      ]
     },
     "metadata": {},
     "output_type": "display_data"
    }
   ],
   "source": [
    "count = bra_cat_nut_df[['nutrition_grade_fr','brands']].groupby('nutrition_grade_fr').count().rename(columns={'brands':'count'})\n",
    "count.plot(kind='bar', color='bcwyr')\n",
    "plt.title('Distribution of the nutrition grades among the whole dataset')\n",
    "plt.xlabel('nutrition grade') \n",
    "plt.show()"
   ]
  },
  {
   "cell_type": "markdown",
   "metadata": {},
   "source": [
    "### Food quality for each brand"
   ]
  },
  {
   "cell_type": "code",
   "execution_count": 7,
   "metadata": {},
   "outputs": [],
   "source": [
    "bra_nut_df = bra_cat_nut_df[['brands', 'nutrition_grade_fr']]\n",
    "bra_nut_dummies_df = bra_cat_nut_dummies_df.iloc[:,np.arange(6)]"
   ]
  },
  {
   "cell_type": "code",
   "execution_count": 8,
   "metadata": {},
   "outputs": [
    {
     "data": {
      "text/html": [
       "<div>\n",
       "<style scoped>\n",
       "    .dataframe tbody tr th:only-of-type {\n",
       "        vertical-align: middle;\n",
       "    }\n",
       "\n",
       "    .dataframe tbody tr th {\n",
       "        vertical-align: top;\n",
       "    }\n",
       "\n",
       "    .dataframe thead th {\n",
       "        text-align: right;\n",
       "    }\n",
       "</style>\n",
       "<table border=\"1\" class=\"dataframe\">\n",
       "  <thead>\n",
       "    <tr style=\"text-align: right;\">\n",
       "      <th></th>\n",
       "      <th>total</th>\n",
       "    </tr>\n",
       "    <tr>\n",
       "      <th>brands</th>\n",
       "      <th></th>\n",
       "    </tr>\n",
       "  </thead>\n",
       "  <tbody>\n",
       "    <tr>\n",
       "      <th></th>\n",
       "      <td>0</td>\n",
       "    </tr>\n",
       "    <tr>\n",
       "      <th>123 bio</th>\n",
       "      <td>421</td>\n",
       "    </tr>\n",
       "    <tr>\n",
       "      <th>7Up</th>\n",
       "      <td>34</td>\n",
       "    </tr>\n",
       "    <tr>\n",
       "      <th>A l'olivier</th>\n",
       "      <td>67</td>\n",
       "    </tr>\n",
       "    <tr>\n",
       "      <th>Ajax</th>\n",
       "      <td>2</td>\n",
       "    </tr>\n",
       "  </tbody>\n",
       "</table>\n",
       "</div>"
      ],
      "text/plain": [
       "             total\n",
       "brands            \n",
       "                 0\n",
       "123 bio        421\n",
       "7Up             34\n",
       "A l'olivier     67\n",
       "Ajax             2"
      ]
     },
     "execution_count": 8,
     "metadata": {},
     "output_type": "execute_result"
    }
   ],
   "source": [
    "# extract the total number of products for each brands\n",
    "brand_count = bra_nut_df.groupby('brands').count().rename(columns={'nutrition_grade_fr':'total'})\n",
    "brand_count.head()"
   ]
  },
  {
   "cell_type": "code",
   "execution_count": 9,
   "metadata": {},
   "outputs": [
    {
     "data": {
      "text/html": [
       "<div>\n",
       "<style scoped>\n",
       "    .dataframe tbody tr th:only-of-type {\n",
       "        vertical-align: middle;\n",
       "    }\n",
       "\n",
       "    .dataframe tbody tr th {\n",
       "        vertical-align: top;\n",
       "    }\n",
       "\n",
       "    .dataframe thead th {\n",
       "        text-align: right;\n",
       "    }\n",
       "</style>\n",
       "<table border=\"1\" class=\"dataframe\">\n",
       "  <thead>\n",
       "    <tr style=\"text-align: right;\">\n",
       "      <th></th>\n",
       "      <th>a</th>\n",
       "      <th>b</th>\n",
       "      <th>c</th>\n",
       "      <th>d</th>\n",
       "      <th>e</th>\n",
       "    </tr>\n",
       "    <tr>\n",
       "      <th>brands</th>\n",
       "      <th></th>\n",
       "      <th></th>\n",
       "      <th></th>\n",
       "      <th></th>\n",
       "      <th></th>\n",
       "    </tr>\n",
       "  </thead>\n",
       "  <tbody>\n",
       "    <tr>\n",
       "      <th></th>\n",
       "      <td>0.0</td>\n",
       "      <td>0.0</td>\n",
       "      <td>0.0</td>\n",
       "      <td>0.0</td>\n",
       "      <td>0.0</td>\n",
       "    </tr>\n",
       "    <tr>\n",
       "      <th>123 bio</th>\n",
       "      <td>121.0</td>\n",
       "      <td>75.0</td>\n",
       "      <td>54.0</td>\n",
       "      <td>91.0</td>\n",
       "      <td>80.0</td>\n",
       "    </tr>\n",
       "    <tr>\n",
       "      <th>7Up</th>\n",
       "      <td>0.0</td>\n",
       "      <td>5.0</td>\n",
       "      <td>1.0</td>\n",
       "      <td>4.0</td>\n",
       "      <td>24.0</td>\n",
       "    </tr>\n",
       "  </tbody>\n",
       "</table>\n",
       "</div>"
      ],
      "text/plain": [
       "             a     b     c     d     e\n",
       "brands                                \n",
       "           0.0   0.0   0.0   0.0   0.0\n",
       "123 bio  121.0  75.0  54.0  91.0  80.0\n",
       "7Up        0.0   5.0   1.0   4.0  24.0"
      ]
     },
     "execution_count": 9,
     "metadata": {},
     "output_type": "execute_result"
    }
   ],
   "source": [
    "# here we count the nutrition grade occurences for each brand\n",
    "brand_dummies_count = bra_nut_dummies_df.groupby('brands').sum()\n",
    "brand_dummies_count.head(3)"
   ]
  },
  {
   "cell_type": "code",
   "execution_count": 10,
   "metadata": {},
   "outputs": [
    {
     "data": {
      "text/html": [
       "<div>\n",
       "<style scoped>\n",
       "    .dataframe tbody tr th:only-of-type {\n",
       "        vertical-align: middle;\n",
       "    }\n",
       "\n",
       "    .dataframe tbody tr th {\n",
       "        vertical-align: top;\n",
       "    }\n",
       "\n",
       "    .dataframe thead th {\n",
       "        text-align: right;\n",
       "    }\n",
       "</style>\n",
       "<table border=\"1\" class=\"dataframe\">\n",
       "  <thead>\n",
       "    <tr style=\"text-align: right;\">\n",
       "      <th></th>\n",
       "      <th>a</th>\n",
       "      <th>b</th>\n",
       "      <th>c</th>\n",
       "      <th>d</th>\n",
       "      <th>e</th>\n",
       "      <th>total</th>\n",
       "    </tr>\n",
       "    <tr>\n",
       "      <th>brands</th>\n",
       "      <th></th>\n",
       "      <th></th>\n",
       "      <th></th>\n",
       "      <th></th>\n",
       "      <th></th>\n",
       "      <th></th>\n",
       "    </tr>\n",
       "  </thead>\n",
       "  <tbody>\n",
       "    <tr>\n",
       "      <th></th>\n",
       "      <td>0.0</td>\n",
       "      <td>0.0</td>\n",
       "      <td>0.0</td>\n",
       "      <td>0.0</td>\n",
       "      <td>0.0</td>\n",
       "      <td>0.0</td>\n",
       "    </tr>\n",
       "    <tr>\n",
       "      <th>123 bio</th>\n",
       "      <td>121.0</td>\n",
       "      <td>75.0</td>\n",
       "      <td>54.0</td>\n",
       "      <td>91.0</td>\n",
       "      <td>80.0</td>\n",
       "      <td>421.0</td>\n",
       "    </tr>\n",
       "    <tr>\n",
       "      <th>7Up</th>\n",
       "      <td>0.0</td>\n",
       "      <td>5.0</td>\n",
       "      <td>1.0</td>\n",
       "      <td>4.0</td>\n",
       "      <td>24.0</td>\n",
       "      <td>34.0</td>\n",
       "    </tr>\n",
       "    <tr>\n",
       "      <th>A l'olivier</th>\n",
       "      <td>0.0</td>\n",
       "      <td>2.0</td>\n",
       "      <td>19.0</td>\n",
       "      <td>43.0</td>\n",
       "      <td>3.0</td>\n",
       "      <td>67.0</td>\n",
       "    </tr>\n",
       "    <tr>\n",
       "      <th>Ajax</th>\n",
       "      <td>1.0</td>\n",
       "      <td>0.0</td>\n",
       "      <td>0.0</td>\n",
       "      <td>0.0</td>\n",
       "      <td>1.0</td>\n",
       "      <td>2.0</td>\n",
       "    </tr>\n",
       "  </tbody>\n",
       "</table>\n",
       "</div>"
      ],
      "text/plain": [
       "                 a     b     c     d     e  total\n",
       "brands                                           \n",
       "               0.0   0.0   0.0   0.0   0.0    0.0\n",
       "123 bio      121.0  75.0  54.0  91.0  80.0  421.0\n",
       "7Up            0.0   5.0   1.0   4.0  24.0   34.0\n",
       "A l'olivier    0.0   2.0  19.0  43.0   3.0   67.0\n",
       "Ajax           1.0   0.0   0.0   0.0   1.0    2.0"
      ]
     },
     "execution_count": 10,
     "metadata": {},
     "output_type": "execute_result"
    }
   ],
   "source": [
    "# we add the column total (with the total number of products sold for each brand) to further extract the ratio of each grade instead of the raw count.\n",
    "brand_dummies_count = brand_dummies_count.join(brand_count)#.rename(columns = {'nutrition_grade_fr':'total'})\n",
    "brand_dummies_count.head()"
   ]
  },
  {
   "cell_type": "code",
   "execution_count": 11,
   "metadata": {},
   "outputs": [],
   "source": [
    "# we convert the counts into ratios. (ex: ratio for 'a' = count for 'a' / total number of products)\n",
    "ratio = brand_dummies_count.copy()\n",
    "ratio[['a','b','c','d','e']] = brand_dummies_count[['a','b','c','d','e']].div(brand_dummies_count['total'].values,axis=0)\n",
    "ratio = ratio.sort_values('total',ascending=False)"
   ]
  },
  {
   "cell_type": "code",
   "execution_count": 12,
   "metadata": {},
   "outputs": [
    {
     "data": {
      "image/png": "[encoded data removed]",
      "text/plain": [
       "<matplotlib.figure.Figure at 0x1c22a2224e0>"
      ]
     },
     "metadata": {},
     "output_type": "display_data"
    }
   ],
   "source": [
    "ratio.reset_index().loc[:9].drop('total',1).plot(kind='bar', x='brands',figsize=[13,7], color=sns.color_palette(\"RdBu_r\", 5))\n",
    "plt.ylabel('proportion (in %)')\n",
    "plt.title('Health profile of the 10 biggest food brands in France.')\n",
    "plt.show()"
   ]
  },
  {
   "cell_type": "code",
   "execution_count": 13,
   "metadata": {},
   "outputs": [],
   "source": [
    "top10_brand_names = ratio.index[:9]"
   ]
  },
  {
   "cell_type": "markdown",
   "metadata": {},
   "source": [
    "We observe for example that for almost all the biggest food brands present in France the prominent nutrition category is \"junk\" food. We don't eat that well in France... \n",
    "\n",
    "The two biggest exceptions are 'Danone' and 'Picard'. They mainly sell products from milk and frozen food which could be excpected to be healthier than the products sold by Fleury Michon (mainly transformed products from meat).  \n",
    "\n",
    "Interestingly the 'Bio Village' brand solds a lot of 'junk' food... Even more than 'neutral' food."
   ]
  },
  {
   "cell_type": "markdown",
   "metadata": {},
   "source": [
    "### Category Distribution in the 10 biggest food brands in France. "
   ]
  },
  {
   "cell_type": "code",
   "execution_count": 14,
   "metadata": {},
   "outputs": [
    {
     "data": {
      "text/html": [
       "<div>\n",
       "<style scoped>\n",
       "    .dataframe tbody tr th:only-of-type {\n",
       "        vertical-align: middle;\n",
       "    }\n",
       "\n",
       "    .dataframe tbody tr th {\n",
       "        vertical-align: top;\n",
       "    }\n",
       "\n",
       "    .dataframe thead th {\n",
       "        text-align: right;\n",
       "    }\n",
       "</style>\n",
       "<table border=\"1\" class=\"dataframe\">\n",
       "  <thead>\n",
       "    <tr style=\"text-align: right;\">\n",
       "      <th></th>\n",
       "      <th>brands</th>\n",
       "      <th>Beverages</th>\n",
       "      <th>Cereals And Potatoes</th>\n",
       "      <th>Composite Foods</th>\n",
       "      <th>Fat And Sauces</th>\n",
       "      <th>Fish Meat Eggs</th>\n",
       "      <th>Fruits And Vegetables</th>\n",
       "      <th>Milk And Dairy Products</th>\n",
       "      <th>Salty Snacks</th>\n",
       "      <th>Sugary Snacks</th>\n",
       "      <th>Unknown</th>\n",
       "    </tr>\n",
       "  </thead>\n",
       "  <tbody>\n",
       "    <tr>\n",
       "      <th>0</th>\n",
       "      <td>Crous</td>\n",
       "      <td>0</td>\n",
       "      <td>0</td>\n",
       "      <td>0</td>\n",
       "      <td>0</td>\n",
       "      <td>0</td>\n",
       "      <td>0</td>\n",
       "      <td>0</td>\n",
       "      <td>0</td>\n",
       "      <td>0</td>\n",
       "      <td>1</td>\n",
       "    </tr>\n",
       "    <tr>\n",
       "      <th>1</th>\n",
       "      <td>Crous</td>\n",
       "      <td>0</td>\n",
       "      <td>0</td>\n",
       "      <td>0</td>\n",
       "      <td>0</td>\n",
       "      <td>0</td>\n",
       "      <td>0</td>\n",
       "      <td>0</td>\n",
       "      <td>0</td>\n",
       "      <td>0</td>\n",
       "      <td>1</td>\n",
       "    </tr>\n",
       "    <tr>\n",
       "      <th>2</th>\n",
       "      <td>Crous</td>\n",
       "      <td>0</td>\n",
       "      <td>0</td>\n",
       "      <td>0</td>\n",
       "      <td>0</td>\n",
       "      <td>0</td>\n",
       "      <td>1</td>\n",
       "      <td>0</td>\n",
       "      <td>0</td>\n",
       "      <td>0</td>\n",
       "      <td>0</td>\n",
       "    </tr>\n",
       "    <tr>\n",
       "      <th>3</th>\n",
       "      <td>Crous</td>\n",
       "      <td>0</td>\n",
       "      <td>0</td>\n",
       "      <td>0</td>\n",
       "      <td>0</td>\n",
       "      <td>0</td>\n",
       "      <td>0</td>\n",
       "      <td>0</td>\n",
       "      <td>0</td>\n",
       "      <td>0</td>\n",
       "      <td>1</td>\n",
       "    </tr>\n",
       "    <tr>\n",
       "      <th>4</th>\n",
       "      <td>Crous</td>\n",
       "      <td>0</td>\n",
       "      <td>0</td>\n",
       "      <td>0</td>\n",
       "      <td>0</td>\n",
       "      <td>0</td>\n",
       "      <td>0</td>\n",
       "      <td>0</td>\n",
       "      <td>0</td>\n",
       "      <td>0</td>\n",
       "      <td>1</td>\n",
       "    </tr>\n",
       "  </tbody>\n",
       "</table>\n",
       "</div>"
      ],
      "text/plain": [
       "  brands  Beverages  Cereals And Potatoes  Composite Foods  Fat And Sauces  \\\n",
       "0  Crous          0                     0                0               0   \n",
       "1  Crous          0                     0                0               0   \n",
       "2  Crous          0                     0                0               0   \n",
       "3  Crous          0                     0                0               0   \n",
       "4  Crous          0                     0                0               0   \n",
       "\n",
       "   Fish Meat Eggs  Fruits And Vegetables  Milk And Dairy Products  \\\n",
       "0               0                      0                        0   \n",
       "1               0                      0                        0   \n",
       "2               0                      1                        0   \n",
       "3               0                      0                        0   \n",
       "4               0                      0                        0   \n",
       "\n",
       "   Salty Snacks  Sugary Snacks  Unknown  \n",
       "0             0              0        1  \n",
       "1             0              0        1  \n",
       "2             0              0        0  \n",
       "3             0              0        1  \n",
       "4             0              0        1  "
      ]
     },
     "execution_count": 14,
     "metadata": {},
     "output_type": "execute_result"
    }
   ],
   "source": [
    "bra_cat_df = bra_cat_nut_df[['brands', 'pnns_groups_1']]\n",
    "bra_cat_dummies_df = bra_cat_nut_dummies_df.iloc[:,[0,6,7,8,9,10,11,12,13,14,15]]\n",
    "bra_cat_dummies_df.head()"
   ]
  },
  {
   "cell_type": "code",
   "execution_count": 15,
   "metadata": {},
   "outputs": [
    {
     "data": {
      "text/html": [
       "<div>\n",
       "<style scoped>\n",
       "    .dataframe tbody tr th:only-of-type {\n",
       "        vertical-align: middle;\n",
       "    }\n",
       "\n",
       "    .dataframe tbody tr th {\n",
       "        vertical-align: top;\n",
       "    }\n",
       "\n",
       "    .dataframe thead th {\n",
       "        text-align: right;\n",
       "    }\n",
       "</style>\n",
       "<table border=\"1\" class=\"dataframe\">\n",
       "  <thead>\n",
       "    <tr style=\"text-align: right;\">\n",
       "      <th></th>\n",
       "      <th>Beverages</th>\n",
       "      <th>Cereals And Potatoes</th>\n",
       "      <th>Composite Foods</th>\n",
       "      <th>Fat And Sauces</th>\n",
       "      <th>Fish Meat Eggs</th>\n",
       "      <th>Fruits And Vegetables</th>\n",
       "      <th>Milk And Dairy Products</th>\n",
       "      <th>Salty Snacks</th>\n",
       "      <th>Sugary Snacks</th>\n",
       "      <th>Unknown</th>\n",
       "    </tr>\n",
       "    <tr>\n",
       "      <th>brands</th>\n",
       "      <th></th>\n",
       "      <th></th>\n",
       "      <th></th>\n",
       "      <th></th>\n",
       "      <th></th>\n",
       "      <th></th>\n",
       "      <th></th>\n",
       "      <th></th>\n",
       "      <th></th>\n",
       "      <th></th>\n",
       "    </tr>\n",
       "  </thead>\n",
       "  <tbody>\n",
       "    <tr>\n",
       "      <th></th>\n",
       "      <td>0.0</td>\n",
       "      <td>0.0</td>\n",
       "      <td>0.0</td>\n",
       "      <td>0.0</td>\n",
       "      <td>0.0</td>\n",
       "      <td>0.0</td>\n",
       "      <td>0.0</td>\n",
       "      <td>0.0</td>\n",
       "      <td>0.0</td>\n",
       "      <td>0.0</td>\n",
       "    </tr>\n",
       "    <tr>\n",
       "      <th>123 bio</th>\n",
       "      <td>38.0</td>\n",
       "      <td>60.0</td>\n",
       "      <td>28.0</td>\n",
       "      <td>38.0</td>\n",
       "      <td>28.0</td>\n",
       "      <td>64.0</td>\n",
       "      <td>43.0</td>\n",
       "      <td>15.0</td>\n",
       "      <td>72.0</td>\n",
       "      <td>222.0</td>\n",
       "    </tr>\n",
       "    <tr>\n",
       "      <th>7Up</th>\n",
       "      <td>29.0</td>\n",
       "      <td>0.0</td>\n",
       "      <td>0.0</td>\n",
       "      <td>0.0</td>\n",
       "      <td>0.0</td>\n",
       "      <td>0.0</td>\n",
       "      <td>0.0</td>\n",
       "      <td>0.0</td>\n",
       "      <td>0.0</td>\n",
       "      <td>8.0</td>\n",
       "    </tr>\n",
       "  </tbody>\n",
       "</table>\n",
       "</div>"
      ],
      "text/plain": [
       "         Beverages  Cereals And Potatoes  Composite Foods  Fat And Sauces  \\\n",
       "brands                                                                      \n",
       "               0.0                   0.0              0.0             0.0   \n",
       "123 bio       38.0                  60.0             28.0            38.0   \n",
       "7Up           29.0                   0.0              0.0             0.0   \n",
       "\n",
       "         Fish Meat Eggs  Fruits And Vegetables  Milk And Dairy Products  \\\n",
       "brands                                                                    \n",
       "                    0.0                    0.0                      0.0   \n",
       "123 bio            28.0                   64.0                     43.0   \n",
       "7Up                 0.0                    0.0                      0.0   \n",
       "\n",
       "         Salty Snacks  Sugary Snacks  Unknown  \n",
       "brands                                         \n",
       "                  0.0            0.0      0.0  \n",
       "123 bio          15.0           72.0    222.0  \n",
       "7Up               0.0            0.0      8.0  "
      ]
     },
     "execution_count": 15,
     "metadata": {},
     "output_type": "execute_result"
    }
   ],
   "source": [
    "# here we count the category occurences for each brand\n",
    "brand_dummies_count = bra_cat_dummies_df.groupby('brands').sum()\n",
    "brand_dummies_count.head(3)"
   ]
  },
  {
   "cell_type": "code",
   "execution_count": 16,
   "metadata": {
    "scrolled": false
   },
   "outputs": [
    {
     "data": {
      "text/html": [
       "<div>\n",
       "<style scoped>\n",
       "    .dataframe tbody tr th:only-of-type {\n",
       "        vertical-align: middle;\n",
       "    }\n",
       "\n",
       "    .dataframe tbody tr th {\n",
       "        vertical-align: top;\n",
       "    }\n",
       "\n",
       "    .dataframe thead th {\n",
       "        text-align: right;\n",
       "    }\n",
       "</style>\n",
       "<table border=\"1\" class=\"dataframe\">\n",
       "  <thead>\n",
       "    <tr style=\"text-align: right;\">\n",
       "      <th></th>\n",
       "      <th>Beverages</th>\n",
       "      <th>Cereals And Potatoes</th>\n",
       "      <th>Composite Foods</th>\n",
       "      <th>Fat And Sauces</th>\n",
       "      <th>Fish Meat Eggs</th>\n",
       "      <th>Fruits And Vegetables</th>\n",
       "      <th>Milk And Dairy Products</th>\n",
       "      <th>Salty Snacks</th>\n",
       "      <th>Sugary Snacks</th>\n",
       "      <th>Unknown</th>\n",
       "      <th>total</th>\n",
       "    </tr>\n",
       "    <tr>\n",
       "      <th>brands</th>\n",
       "      <th></th>\n",
       "      <th></th>\n",
       "      <th></th>\n",
       "      <th></th>\n",
       "      <th></th>\n",
       "      <th></th>\n",
       "      <th></th>\n",
       "      <th></th>\n",
       "      <th></th>\n",
       "      <th></th>\n",
       "      <th></th>\n",
       "    </tr>\n",
       "  </thead>\n",
       "  <tbody>\n",
       "    <tr>\n",
       "      <th></th>\n",
       "      <td>0.0</td>\n",
       "      <td>0.0</td>\n",
       "      <td>0.0</td>\n",
       "      <td>0.0</td>\n",
       "      <td>0.0</td>\n",
       "      <td>0.0</td>\n",
       "      <td>0.0</td>\n",
       "      <td>0.0</td>\n",
       "      <td>0.0</td>\n",
       "      <td>0.0</td>\n",
       "      <td>0.0</td>\n",
       "    </tr>\n",
       "    <tr>\n",
       "      <th>123 bio</th>\n",
       "      <td>38.0</td>\n",
       "      <td>60.0</td>\n",
       "      <td>28.0</td>\n",
       "      <td>38.0</td>\n",
       "      <td>28.0</td>\n",
       "      <td>64.0</td>\n",
       "      <td>43.0</td>\n",
       "      <td>15.0</td>\n",
       "      <td>72.0</td>\n",
       "      <td>222.0</td>\n",
       "      <td>421.0</td>\n",
       "    </tr>\n",
       "    <tr>\n",
       "      <th>7Up</th>\n",
       "      <td>29.0</td>\n",
       "      <td>0.0</td>\n",
       "      <td>0.0</td>\n",
       "      <td>0.0</td>\n",
       "      <td>0.0</td>\n",
       "      <td>0.0</td>\n",
       "      <td>0.0</td>\n",
       "      <td>0.0</td>\n",
       "      <td>0.0</td>\n",
       "      <td>8.0</td>\n",
       "      <td>34.0</td>\n",
       "    </tr>\n",
       "    <tr>\n",
       "      <th>A l'olivier</th>\n",
       "      <td>0.0</td>\n",
       "      <td>1.0</td>\n",
       "      <td>2.0</td>\n",
       "      <td>41.0</td>\n",
       "      <td>1.0</td>\n",
       "      <td>0.0</td>\n",
       "      <td>0.0</td>\n",
       "      <td>0.0</td>\n",
       "      <td>2.0</td>\n",
       "      <td>67.0</td>\n",
       "      <td>67.0</td>\n",
       "    </tr>\n",
       "    <tr>\n",
       "      <th>Ajax</th>\n",
       "      <td>1.0</td>\n",
       "      <td>0.0</td>\n",
       "      <td>0.0</td>\n",
       "      <td>0.0</td>\n",
       "      <td>0.0</td>\n",
       "      <td>0.0</td>\n",
       "      <td>1.0</td>\n",
       "      <td>0.0</td>\n",
       "      <td>0.0</td>\n",
       "      <td>4.0</td>\n",
       "      <td>2.0</td>\n",
       "    </tr>\n",
       "  </tbody>\n",
       "</table>\n",
       "</div>"
      ],
      "text/plain": [
       "             Beverages  Cereals And Potatoes  Composite Foods  Fat And Sauces  \\\n",
       "brands                                                                          \n",
       "                   0.0                   0.0              0.0             0.0   \n",
       "123 bio           38.0                  60.0             28.0            38.0   \n",
       "7Up               29.0                   0.0              0.0             0.0   \n",
       "A l'olivier        0.0                   1.0              2.0            41.0   \n",
       "Ajax               1.0                   0.0              0.0             0.0   \n",
       "\n",
       "             Fish Meat Eggs  Fruits And Vegetables  Milk And Dairy Products  \\\n",
       "brands                                                                        \n",
       "                        0.0                    0.0                      0.0   \n",
       "123 bio                28.0                   64.0                     43.0   \n",
       "7Up                     0.0                    0.0                      0.0   \n",
       "A l'olivier             1.0                    0.0                      0.0   \n",
       "Ajax                    0.0                    0.0                      1.0   \n",
       "\n",
       "             Salty Snacks  Sugary Snacks  Unknown  total  \n",
       "brands                                                    \n",
       "                      0.0            0.0      0.0    0.0  \n",
       "123 bio              15.0           72.0    222.0  421.0  \n",
       "7Up                   0.0            0.0      8.0   34.0  \n",
       "A l'olivier           0.0            2.0     67.0   67.0  \n",
       "Ajax                  0.0            0.0      4.0    2.0  "
      ]
     },
     "execution_count": 16,
     "metadata": {},
     "output_type": "execute_result"
    }
   ],
   "source": [
    "# we add the column total (with the total number of products sold for each brand) to further extract the ratio of each grade instead of the raw count.\n",
    "brand_dummies_count = brand_dummies_count.join(brand_count)#.rename(columns = {'nutrition_grade_fr':'total'})\n",
    "brand_dummies_count.head()"
   ]
  },
  {
   "cell_type": "code",
   "execution_count": 17,
   "metadata": {
    "scrolled": true
   },
   "outputs": [
    {
     "data": {
      "text/html": [
       "<div>\n",
       "<style scoped>\n",
       "    .dataframe tbody tr th:only-of-type {\n",
       "        vertical-align: middle;\n",
       "    }\n",
       "\n",
       "    .dataframe tbody tr th {\n",
       "        vertical-align: top;\n",
       "    }\n",
       "\n",
       "    .dataframe thead th {\n",
       "        text-align: right;\n",
       "    }\n",
       "</style>\n",
       "<table border=\"1\" class=\"dataframe\">\n",
       "  <thead>\n",
       "    <tr style=\"text-align: right;\">\n",
       "      <th></th>\n",
       "      <th>Beverages</th>\n",
       "      <th>Cereals And Potatoes</th>\n",
       "      <th>Composite Foods</th>\n",
       "      <th>Fat And Sauces</th>\n",
       "      <th>Fish Meat Eggs</th>\n",
       "      <th>Fruits And Vegetables</th>\n",
       "      <th>Milk And Dairy Products</th>\n",
       "      <th>Salty Snacks</th>\n",
       "      <th>Sugary Snacks</th>\n",
       "      <th>Unknown</th>\n",
       "      <th>total</th>\n",
       "    </tr>\n",
       "    <tr>\n",
       "      <th>brands</th>\n",
       "      <th></th>\n",
       "      <th></th>\n",
       "      <th></th>\n",
       "      <th></th>\n",
       "      <th></th>\n",
       "      <th></th>\n",
       "      <th></th>\n",
       "      <th></th>\n",
       "      <th></th>\n",
       "      <th></th>\n",
       "      <th></th>\n",
       "    </tr>\n",
       "  </thead>\n",
       "  <tbody>\n",
       "    <tr>\n",
       "      <th>Auchan</th>\n",
       "      <td>0.083194</td>\n",
       "      <td>0.100723</td>\n",
       "      <td>0.137173</td>\n",
       "      <td>0.076238</td>\n",
       "      <td>0.129382</td>\n",
       "      <td>0.105732</td>\n",
       "      <td>0.140234</td>\n",
       "      <td>0.034780</td>\n",
       "      <td>0.125487</td>\n",
       "      <td>0.647190</td>\n",
       "      <td>3594.0</td>\n",
       "    </tr>\n",
       "    <tr>\n",
       "      <th>Belle France</th>\n",
       "      <td>0.072476</td>\n",
       "      <td>0.082248</td>\n",
       "      <td>0.133550</td>\n",
       "      <td>0.067590</td>\n",
       "      <td>0.113192</td>\n",
       "      <td>0.105863</td>\n",
       "      <td>0.157166</td>\n",
       "      <td>0.051303</td>\n",
       "      <td>0.172638</td>\n",
       "      <td>0.181596</td>\n",
       "      <td>1228.0</td>\n",
       "    </tr>\n",
       "    <tr>\n",
       "      <th>Carrefour</th>\n",
       "      <td>0.077958</td>\n",
       "      <td>0.129015</td>\n",
       "      <td>0.136152</td>\n",
       "      <td>0.069174</td>\n",
       "      <td>0.139995</td>\n",
       "      <td>0.117486</td>\n",
       "      <td>0.123799</td>\n",
       "      <td>0.040626</td>\n",
       "      <td>0.163601</td>\n",
       "      <td>0.599231</td>\n",
       "      <td>3643.0</td>\n",
       "    </tr>\n",
       "    <tr>\n",
       "      <th>Casino</th>\n",
       "      <td>0.097216</td>\n",
       "      <td>0.109995</td>\n",
       "      <td>0.143770</td>\n",
       "      <td>0.059790</td>\n",
       "      <td>0.101324</td>\n",
       "      <td>0.095847</td>\n",
       "      <td>0.119580</td>\n",
       "      <td>0.044272</td>\n",
       "      <td>0.160201</td>\n",
       "      <td>0.628024</td>\n",
       "      <td>2191.0</td>\n",
       "    </tr>\n",
       "    <tr>\n",
       "      <th>Cora</th>\n",
       "      <td>0.108409</td>\n",
       "      <td>0.074357</td>\n",
       "      <td>0.124392</td>\n",
       "      <td>0.068798</td>\n",
       "      <td>0.138290</td>\n",
       "      <td>0.107019</td>\n",
       "      <td>0.100069</td>\n",
       "      <td>0.054899</td>\n",
       "      <td>0.164698</td>\n",
       "      <td>0.655316</td>\n",
       "      <td>1439.0</td>\n",
       "    </tr>\n",
       "  </tbody>\n",
       "</table>\n",
       "</div>"
      ],
      "text/plain": [
       "              Beverages  Cereals And Potatoes  Composite Foods  \\\n",
       "brands                                                           \n",
       "Auchan         0.083194              0.100723         0.137173   \n",
       "Belle France   0.072476              0.082248         0.133550   \n",
       "Carrefour      0.077958              0.129015         0.136152   \n",
       "Casino         0.097216              0.109995         0.143770   \n",
       "Cora           0.108409              0.074357         0.124392   \n",
       "\n",
       "              Fat And Sauces  Fish Meat Eggs  Fruits And Vegetables  \\\n",
       "brands                                                                \n",
       "Auchan              0.076238        0.129382               0.105732   \n",
       "Belle France        0.067590        0.113192               0.105863   \n",
       "Carrefour           0.069174        0.139995               0.117486   \n",
       "Casino              0.059790        0.101324               0.095847   \n",
       "Cora                0.068798        0.138290               0.107019   \n",
       "\n",
       "              Milk And Dairy Products  Salty Snacks  Sugary Snacks   Unknown  \\\n",
       "brands                                                                         \n",
       "Auchan                       0.140234      0.034780       0.125487  0.647190   \n",
       "Belle France                 0.157166      0.051303       0.172638  0.181596   \n",
       "Carrefour                    0.123799      0.040626       0.163601  0.599231   \n",
       "Casino                       0.119580      0.044272       0.160201  0.628024   \n",
       "Cora                         0.100069      0.054899       0.164698  0.655316   \n",
       "\n",
       "               total  \n",
       "brands                \n",
       "Auchan        3594.0  \n",
       "Belle France  1228.0  \n",
       "Carrefour     3643.0  \n",
       "Casino        2191.0  \n",
       "Cora          1439.0  "
      ]
     },
     "execution_count": 17,
     "metadata": {},
     "output_type": "execute_result"
    }
   ],
   "source": [
    "# we convert the counts into ratios. (ex: ratio for 'a' = count for 'a' / total number of products)\n",
    "ratio = brand_dummies_count.copy().reset_index()\n",
    "ratio = ratio[ratio['brands'].isin(top10_brand_names)].set_index('brands')\n",
    "ratio.iloc[:,[0,1,2,3,4,5,6,7,8,9]] = brand_dummies_count.iloc[:,[0,1,2,3,4,5,6,7,8,9]].div(brand_dummies_count['total'].values,axis=0)\n",
    "ratio.head()"
   ]
  },
  {
   "cell_type": "code",
   "execution_count": 18,
   "metadata": {
    "scrolled": true
   },
   "outputs": [
    {
     "data": {
      "image/png": "[encoded data removed]",
      "text/plain": [
       "<matplotlib.figure.Figure at 0x1c229e2e828>"
      ]
     },
     "metadata": {},
     "output_type": "display_data"
    }
   ],
   "source": [
    "ratio.reset_index().drop(['total','Unknown'],1).plot(kind='bar', x='brands',figsize=[15,10], color=sns.color_palette(\"RdBu_r\", 5))\n",
    "plt.ylabel('proportion (in %)')\n",
    "plt.title('Health profile of the 10 biggest food brands in France.')\n",
    "plt.show()"
   ]
  },
  {
   "cell_type": "code",
   "execution_count": 19,
   "metadata": {},
   "outputs": [
    {
     "data": {
      "image/png": "[encoded data removed]",
      "text/plain": [
       "<matplotlib.figure.Figure at 0x1c22a243d68>"
      ]
     },
     "metadata": {},
     "output_type": "display_data"
    }
   ],
   "source": [
    "ratio.reset_index().drop(['total','Unknown'],1).plot(kind='line',figsize=[15,10], color=sns.color_palette(\"RdBu_r\", 5))\n",
    "plt.ylabel('proportion (in %)')\n",
    "plt.title('Health profile of the 10 biggest food brands in France.')\n",
    "plt.show()"
   ]
  },
  {
   "cell_type": "markdown",
   "metadata": {},
   "source": [
    "## Nutrition grade repartition per category"
   ]
  },
  {
   "cell_type": "code",
   "execution_count": 20,
   "metadata": {},
   "outputs": [],
   "source": [
    "cat_nut_df = bra_cat_nut_df[['pnns_groups_1', 'nutrition_grade_fr']].dropna()"
   ]
  },
  {
   "cell_type": "code",
   "execution_count": 21,
   "metadata": {},
   "outputs": [],
   "source": [
    "cat_nut_df = pd.get_dummies(cat_nut_df.set_index('pnns_groups_1')).rename(columns=\n",
    "                              {'nutrition_grade_fr_a':'a',\n",
    "                               'nutrition_grade_fr_b':'b',\n",
    "                               'nutrition_grade_fr_c':'c',\n",
    "                               'nutrition_grade_fr_d':'d',\n",
    "                               'nutrition_grade_fr_e':'e'})"
   ]
  },
  {
   "cell_type": "code",
   "execution_count": 22,
   "metadata": {},
   "outputs": [
    {
     "data": {
      "text/html": [
       "<div>\n",
       "<style scoped>\n",
       "    .dataframe tbody tr th:only-of-type {\n",
       "        vertical-align: middle;\n",
       "    }\n",
       "\n",
       "    .dataframe tbody tr th {\n",
       "        vertical-align: top;\n",
       "    }\n",
       "\n",
       "    .dataframe thead th {\n",
       "        text-align: right;\n",
       "    }\n",
       "</style>\n",
       "<table border=\"1\" class=\"dataframe\">\n",
       "  <thead>\n",
       "    <tr style=\"text-align: right;\">\n",
       "      <th></th>\n",
       "      <th>a</th>\n",
       "      <th>b</th>\n",
       "      <th>c</th>\n",
       "      <th>d</th>\n",
       "      <th>e</th>\n",
       "      <th>total</th>\n",
       "    </tr>\n",
       "    <tr>\n",
       "      <th>pnns_groups_1</th>\n",
       "      <th></th>\n",
       "      <th></th>\n",
       "      <th></th>\n",
       "      <th></th>\n",
       "      <th></th>\n",
       "      <th></th>\n",
       "    </tr>\n",
       "  </thead>\n",
       "  <tbody>\n",
       "    <tr>\n",
       "      <th>Beverages</th>\n",
       "      <td>71.0</td>\n",
       "      <td>854.0</td>\n",
       "      <td>1812.0</td>\n",
       "      <td>1624.0</td>\n",
       "      <td>3754.0</td>\n",
       "      <td>8115.0</td>\n",
       "    </tr>\n",
       "    <tr>\n",
       "      <th>Cereals And Potatoes</th>\n",
       "      <td>3839.0</td>\n",
       "      <td>1630.0</td>\n",
       "      <td>1616.0</td>\n",
       "      <td>1045.0</td>\n",
       "      <td>101.0</td>\n",
       "      <td>8231.0</td>\n",
       "    </tr>\n",
       "    <tr>\n",
       "      <th>Composite Foods</th>\n",
       "      <td>1798.0</td>\n",
       "      <td>3407.0</td>\n",
       "      <td>3404.0</td>\n",
       "      <td>2073.0</td>\n",
       "      <td>185.0</td>\n",
       "      <td>10867.0</td>\n",
       "    </tr>\n",
       "    <tr>\n",
       "      <th>Fat And Sauces</th>\n",
       "      <td>164.0</td>\n",
       "      <td>316.0</td>\n",
       "      <td>1560.0</td>\n",
       "      <td>3408.0</td>\n",
       "      <td>1591.0</td>\n",
       "      <td>7039.0</td>\n",
       "    </tr>\n",
       "    <tr>\n",
       "      <th>Fish Meat Eggs</th>\n",
       "      <td>966.0</td>\n",
       "      <td>1144.0</td>\n",
       "      <td>2158.0</td>\n",
       "      <td>3270.0</td>\n",
       "      <td>2134.0</td>\n",
       "      <td>9672.0</td>\n",
       "    </tr>\n",
       "  </tbody>\n",
       "</table>\n",
       "</div>"
      ],
      "text/plain": [
       "                           a       b       c       d       e    total\n",
       "pnns_groups_1                                                        \n",
       "Beverages               71.0   854.0  1812.0  1624.0  3754.0   8115.0\n",
       "Cereals And Potatoes  3839.0  1630.0  1616.0  1045.0   101.0   8231.0\n",
       "Composite Foods       1798.0  3407.0  3404.0  2073.0   185.0  10867.0\n",
       "Fat And Sauces         164.0   316.0  1560.0  3408.0  1591.0   7039.0\n",
       "Fish Meat Eggs         966.0  1144.0  2158.0  3270.0  2134.0   9672.0"
      ]
     },
     "execution_count": 22,
     "metadata": {},
     "output_type": "execute_result"
    }
   ],
   "source": [
    "count = cat_nut_df.groupby('pnns_groups_1').sum()\n",
    "count['total'] = count.apply(lambda x: x['a']+x['b']+x['c']+x['d']+x['e'], axis=1) \n",
    "count.head()"
   ]
  },
  {
   "cell_type": "code",
   "execution_count": 23,
   "metadata": {
    "scrolled": true
   },
   "outputs": [
    {
     "data": {
      "text/html": [
       "<div>\n",
       "<style scoped>\n",
       "    .dataframe tbody tr th:only-of-type {\n",
       "        vertical-align: middle;\n",
       "    }\n",
       "\n",
       "    .dataframe tbody tr th {\n",
       "        vertical-align: top;\n",
       "    }\n",
       "\n",
       "    .dataframe thead th {\n",
       "        text-align: right;\n",
       "    }\n",
       "</style>\n",
       "<table border=\"1\" class=\"dataframe\">\n",
       "  <thead>\n",
       "    <tr style=\"text-align: right;\">\n",
       "      <th></th>\n",
       "      <th>a</th>\n",
       "      <th>b</th>\n",
       "      <th>c</th>\n",
       "      <th>d</th>\n",
       "      <th>e</th>\n",
       "      <th>total</th>\n",
       "    </tr>\n",
       "    <tr>\n",
       "      <th>pnns_groups_1</th>\n",
       "      <th></th>\n",
       "      <th></th>\n",
       "      <th></th>\n",
       "      <th></th>\n",
       "      <th></th>\n",
       "      <th></th>\n",
       "    </tr>\n",
       "  </thead>\n",
       "  <tbody>\n",
       "    <tr>\n",
       "      <th>Beverages</th>\n",
       "      <td>0.874923</td>\n",
       "      <td>10.523722</td>\n",
       "      <td>22.329020</td>\n",
       "      <td>20.012323</td>\n",
       "      <td>46.260012</td>\n",
       "      <td>8115.0</td>\n",
       "    </tr>\n",
       "    <tr>\n",
       "      <th>Cereals And Potatoes</th>\n",
       "      <td>46.640748</td>\n",
       "      <td>19.803183</td>\n",
       "      <td>19.633094</td>\n",
       "      <td>12.695906</td>\n",
       "      <td>1.227068</td>\n",
       "      <td>8231.0</td>\n",
       "    </tr>\n",
       "    <tr>\n",
       "      <th>Composite Foods</th>\n",
       "      <td>16.545505</td>\n",
       "      <td>31.351799</td>\n",
       "      <td>31.324193</td>\n",
       "      <td>19.076102</td>\n",
       "      <td>1.702402</td>\n",
       "      <td>10867.0</td>\n",
       "    </tr>\n",
       "    <tr>\n",
       "      <th>Fat And Sauces</th>\n",
       "      <td>2.329876</td>\n",
       "      <td>4.489274</td>\n",
       "      <td>22.162239</td>\n",
       "      <td>48.415968</td>\n",
       "      <td>22.602642</td>\n",
       "      <td>7039.0</td>\n",
       "    </tr>\n",
       "    <tr>\n",
       "      <th>Fish Meat Eggs</th>\n",
       "      <td>9.987593</td>\n",
       "      <td>11.827957</td>\n",
       "      <td>22.311828</td>\n",
       "      <td>33.808933</td>\n",
       "      <td>22.063689</td>\n",
       "      <td>9672.0</td>\n",
       "    </tr>\n",
       "  </tbody>\n",
       "</table>\n",
       "</div>"
      ],
      "text/plain": [
       "                              a          b          c          d          e  \\\n",
       "pnns_groups_1                                                                 \n",
       "Beverages              0.874923  10.523722  22.329020  20.012323  46.260012   \n",
       "Cereals And Potatoes  46.640748  19.803183  19.633094  12.695906   1.227068   \n",
       "Composite Foods       16.545505  31.351799  31.324193  19.076102   1.702402   \n",
       "Fat And Sauces         2.329876   4.489274  22.162239  48.415968  22.602642   \n",
       "Fish Meat Eggs         9.987593  11.827957  22.311828  33.808933  22.063689   \n",
       "\n",
       "                        total  \n",
       "pnns_groups_1                  \n",
       "Beverages              8115.0  \n",
       "Cereals And Potatoes   8231.0  \n",
       "Composite Foods       10867.0  \n",
       "Fat And Sauces         7039.0  \n",
       "Fish Meat Eggs         9672.0  "
      ]
     },
     "execution_count": 23,
     "metadata": {},
     "output_type": "execute_result"
    }
   ],
   "source": [
    "ratio = count.copy()\n",
    "ratio[['a','b','c','d','e']] = count[['a','b','c','d','e']].div(count['total'].values,axis=0)*100\n",
    "ratio.head()"
   ]
  },
  {
   "cell_type": "code",
   "execution_count": 24,
   "metadata": {},
   "outputs": [
    {
     "data": {
      "image/png": "[encoded data removed]",
      "text/plain": [
       "<matplotlib.figure.Figure at 0x1c22a55c8d0>"
      ]
     },
     "metadata": {},
     "output_type": "display_data"
    }
   ],
   "source": [
    "ratio.reset_index().drop('total',1).sort_values(by=['a'],ascending=0)\\\n",
    ".plot(kind='bar', x='pnns_groups_1',figsize=[10,7], color=sns.color_palette(\"RdBu_r\", 5))\n",
    "plt.xlabel('Food Category')\n",
    "plt.ylabel('proportion (in %)')\n",
    "plt.title('Health profile for each food category.')\n",
    "plt.show()"
   ]
  },
  {
   "cell_type": "code",
   "execution_count": null,
   "metadata": {},
   "outputs": [],
   "source": []
  }
 ],
 "metadata": {
  "kernelspec": {
   "display_name": "Python 3",
   "language": "python",
   "name": "python3"
  },
  "language_info": {
   "codemirror_mode": {
    "name": "ipython",
    "version": 3
   },
   "file_extension": ".py",
   "mimetype": "text/x-python",
   "name": "python",
   "nbconvert_exporter": "python",
   "pygments_lexer": "ipython3",
   "version": "3.6.4"
  }
 },
 "nbformat": 4,
 "nbformat_minor": 2
}

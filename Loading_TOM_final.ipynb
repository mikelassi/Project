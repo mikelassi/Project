{
 "cells": [
  {
   "cell_type": "code",
   "execution_count": 1,
   "metadata": {},
   "outputs": [],
   "source": [
    "import pandas as pd\n",
    "import numpy as np\n",
    "import scipy as sp\n",
    "import matplotlib.pyplot as plt\n",
    "import seaborn as sns\n",
    "import scipy as sp\n",
    "from decimal import Decimal\n",
    "from datetime import datetime\n",
    "import re\n",
    "\n",
    "%matplotlib inline\n",
    "\n",
    "import findspark\n",
    "findspark.init()\n",
    "\n",
    "from pyspark.sql import *\n",
    "from pyspark.sql.functions import  isnan, when, count, col,isnull\n",
    "\n",
    "%matplotlib inline\n",
    "\n",
    "spark = SparkSession.builder.getOrCreate()\n",
    "sc = spark.sparkContext"
   ]
  },
  {
   "cell_type": "code",
   "execution_count": 2,
   "metadata": {},
   "outputs": [],
   "source": [
    "sns.set_context('talk')\n",
    "%matplotlib inline\n",
    "\n",
    "sns.set_style(\"darkgrid\", {\"axes.facecolor\": \".9\"})\n",
    "sns.set_context('notebook')"
   ]
  },
  {
   "cell_type": "markdown",
   "metadata": {},
   "source": [
    "# Load the data"
   ]
  },
  {
   "cell_type": "code",
   "execution_count": 5,
   "metadata": {},
   "outputs": [],
   "source": [
    "data_folder = './data/'"
   ]
  },
  {
   "cell_type": "code",
   "execution_count": 6,
   "metadata": {
    "scrolled": true
   },
   "outputs": [
    {
     "name": "stdout",
     "output_type": "stream",
     "text": [
      "Full data set!\n"
     ]
    }
   ],
   "source": [
    "data_raw = spark.read.csv(data_folder+'en.openfoodfacts.org.products.csv',header = True, sep=\"\\t\")\n",
    "\n",
    "N_subset = 0\n",
    "\n",
    "if N_subset>0:\n",
    "    print(\"Subset with\", N_subset, \"products of the csv taken.\")\n",
    "    rdd = spark.sparkContext.parallelize(data_raw.take(N_subset))\n",
    "    data_raw = spark.createDataFrame(rdd, data_raw.schema)\n",
    "else:\n",
    "    print(\"Full data set!\")\n"
   ]
  },
  {
   "cell_type": "markdown",
   "metadata": {},
   "source": [
    "## Number of products sold in each country"
   ]
  },
  {
   "cell_type": "markdown",
   "metadata": {},
   "source": [
    "In this part we obtain the number of products sold in each country. The tag 'countries_en' gives the country in which the product is sold. The tag 'countries' and 'countries_tag' give the same information, but the content is not consistent (e.g. multiple values for one country). "
   ]
  },
  {
   "cell_type": "code",
   "execution_count": 8,
   "metadata": {},
   "outputs": [
    {
     "data": {
      "text/plain": [
       "692892"
      ]
     },
     "execution_count": 8,
     "metadata": {},
     "output_type": "execute_result"
    }
   ],
   "source": [
    "data_raw.count()"
   ]
  },
  {
   "cell_type": "markdown",
   "metadata": {},
   "source": [
    "There are products in the dataset. "
   ]
  },
  {
   "cell_type": "code",
   "execution_count": 7,
   "metadata": {},
   "outputs": [
    {
     "name": "stdout",
     "output_type": "stream",
     "text": [
      "+---------+--------------+------------+\n",
      "|countries|countries_tags|countries_en|\n",
      "+---------+--------------+------------+\n",
      "|      599|           599|         599|\n",
      "+---------+--------------+------------+\n",
      "\n"
     ]
    }
   ],
   "source": [
    "data_raw.select([count(when(isnull(c), c)).alias(c) for c in ['countries', 'countries_tags', 'countries_en']]).show()"
   ]
  },
  {
   "cell_type": "code",
   "execution_count": 10,
   "metadata": {},
   "outputs": [
    {
     "data": {
      "text/plain": [
       "0.08644925904758606"
      ]
     },
     "execution_count": 10,
     "metadata": {},
     "output_type": "execute_result"
    }
   ],
   "source": [
    "599/692892*100"
   ]
  },
  {
   "cell_type": "markdown",
   "metadata": {},
   "source": [
    "They are 599 over all the 692,892 products in the dataset. We assume removing 0.086% of the dataset doesn't change the analysis."
   ]
  },
  {
   "cell_type": "code",
   "execution_count": 12,
   "metadata": {},
   "outputs": [],
   "source": [
    "data = data_raw.na.drop(subset=['countries_en'])"
   ]
  },
  {
   "cell_type": "code",
   "execution_count": 14,
   "metadata": {},
   "outputs": [],
   "source": [
    "# we flatten the data to have one country (in which the product is sold) per product\n",
    "country_frequency = data.rdd.flatMap(lambda r: [(country, 1) for country in filter(None, r['countries_en'].split(','))])\n",
    "\n",
    "# we count the number of product per country\n",
    "country_frequency =country_frequency.reduceByKey(lambda a,b: a+b)"
   ]
  },
  {
   "cell_type": "code",
   "execution_count": 15,
   "metadata": {},
   "outputs": [],
   "source": [
    "# we take the countries with the 10 highest number of products sold in them\n",
    "country_top10 = country_frequency.sortBy(lambda r: r[1], ascending = False).take(10)"
   ]
  },
  {
   "cell_type": "code",
   "execution_count": 17,
   "metadata": {},
   "outputs": [],
   "source": [
    "# we counvert in to a Pandas dataframe to plot the counts\n",
    "country_top10_df = pd.DataFrame(country_top10, columns=['country', 'count']).set_index('country')"
   ]
  },
  {
   "cell_type": "code",
   "execution_count": 18,
   "metadata": {
    "scrolled": true
   },
   "outputs": [
    {
     "data": {
      "image/png": "[encoded data removed]",
      "text/plain": [
       "<matplotlib.figure.Figure at 0x178eab2fda0>"
      ]
     },
     "metadata": {},
     "output_type": "display_data"
    }
   ],
   "source": [
    "country_top10_df.plot(kind='barh', logx=True)\n",
    "plt.title(\"Number of products sold by country.\")\n",
    "plt.show()"
   ]
  },
  {
   "cell_type": "code",
   "execution_count": 19,
   "metadata": {
    "scrolled": true
   },
   "outputs": [
    {
     "name": "stdout",
     "output_type": "stream",
     "text": [
      "number of products sold in France:  445471\n",
      "number of products sold in the United States:  175468\n",
      "Total number of products:  724349\n",
      "Ratio (us+fr)/total:  0.857237326206014\n"
     ]
    }
   ],
   "source": [
    "N_fr = country_top10_df.iloc[0]\n",
    "N_us = country_top10_df.iloc[1]\n",
    "N_all = sum([c[1] for c in country_frequency.countByValue().keys()])\n",
    "\n",
    "print(\"number of products sold in France: \", int(N_fr))\n",
    "print(\"number of products sold in the United States: \", int(N_us))\n",
    "print(\"Total number of products: \", N_all)\n",
    "print(\"Ratio (us+fr)/total: \", float((N_fr + N_us) / N_all))"
   ]
  },
  {
   "cell_type": "markdown",
   "metadata": {},
   "source": [
    "The products sold in France and/or United States represent 85% of the total amount of products. We are going to limit the analysis to those two countries. The other countries will be filtered out."
   ]
  },
  {
   "cell_type": "markdown",
   "metadata": {},
   "source": [
    "# Brand vs Nutrition"
   ]
  },
  {
   "cell_type": "markdown",
   "metadata": {},
   "source": [
    "In this part we investigate the nutrition score of the products in the whole dataset and with respect to each brand. "
   ]
  },
  {
   "cell_type": "code",
   "execution_count": 20,
   "metadata": {},
   "outputs": [
    {
     "name": "stdout",
     "output_type": "stream",
     "text": [
      "+------+\n",
      "|brands|\n",
      "+------+\n",
      "|229610|\n",
      "+------+\n",
      "\n"
     ]
    }
   ],
   "source": [
    "data_raw.select([count(when(isnull(c), c)).alias(c) for c in ['brands']]).show()"
   ]
  },
  {
   "cell_type": "markdown",
   "metadata": {},
   "source": [
    "There are 229,610 products over the 692,892 without any brand tag. We remove them, assuming the statistics does not change (very low number). We also remove the products with a null 'countries_en' tag. "
   ]
  },
  {
   "cell_type": "code",
   "execution_count": 22,
   "metadata": {},
   "outputs": [],
   "source": [
    "data = data_raw.na.drop(subset=['brands', 'countries_en'])"
   ]
  },
  {
   "cell_type": "code",
   "execution_count": 23,
   "metadata": {},
   "outputs": [
    {
     "data": {
      "text/plain": [
       "462935"
      ]
     },
     "execution_count": 23,
     "metadata": {},
     "output_type": "execute_result"
    }
   ],
   "source": [
    "data.count()"
   ]
  },
  {
   "cell_type": "markdown",
   "metadata": {},
   "source": [
    "There are 462,935 products with a non-null 'brands' tag and non-null 'countries_en' tag (=country in which the product is sold)."
   ]
  },
  {
   "cell_type": "code",
   "execution_count": 24,
   "metadata": {},
   "outputs": [],
   "source": [
    "# we extract the products sold both in the United States and in France.\n",
    "data_us_and_fr = data.rdd.filter(lambda r: re.match('(?=.*united State)(?=.*france)', r['countries_en'], flags=re.IGNORECASE)).toDF(schema=data_raw.schema)\n",
    "count = data_us_and_fr.groupby('brands').count()"
   ]
  },
  {
   "cell_type": "code",
   "execution_count": 25,
   "metadata": {
    "scrolled": true
   },
   "outputs": [
    {
     "name": "stdout",
     "output_type": "stream",
     "text": [
      "There are 1138 brands present both in the US and in France.\n"
     ]
    }
   ],
   "source": [
    "print(\"There are\", count.count(), \"brands present both in the US and in France.\")"
   ]
  },
  {
   "cell_type": "code",
   "execution_count": 26,
   "metadata": {
    "scrolled": true
   },
   "outputs": [
    {
     "name": "stdout",
     "output_type": "stream",
     "text": [
      "+--------------------+-----+\n",
      "|              brands|count|\n",
      "+--------------------+-----+\n",
      "|        Trader Joe's|   28|\n",
      "|       Nature's Path|   13|\n",
      "|         Lee Kum Kee|   13|\n",
      "|              Skippy|   10|\n",
      "|           Kellogg's|    9|\n",
      "|Arizona,  Ferolit...|    8|\n",
      "|Foco,  Thai Agri ...|    8|\n",
      "|               Kraft|    8|\n",
      "|         Great Value|    8|\n",
      "|                Kind|    6|\n",
      "|     Lenny & Larry's|    6|\n",
      "|        Fresh & Easy|    6|\n",
      "|  Kirkland Signature|    6|\n",
      "|                Foco|    6|\n",
      "|           Hershey's|    6|\n",
      "|     Pepperidge Farm|    6|\n",
      "|             Walkers|    5|\n",
      "|       Crystal Light|    5|\n",
      "|           Starbucks|    5|\n",
      "|              Auchan|    5|\n",
      "+--------------------+-----+\n",
      "only showing top 20 rows\n",
      "\n"
     ]
    }
   ],
   "source": [
    "# here is the products sold both in the US and in France. There are mainly american brands. \n",
    "count.orderBy('count',ascending=False).show()"
   ]
  },
  {
   "cell_type": "markdown",
   "metadata": {},
   "source": [
    "In the present dataset there are a very few brands sold both in the United States and in France. "
   ]
  },
  {
   "cell_type": "code",
   "execution_count": 62,
   "metadata": {},
   "outputs": [],
   "source": [
    "# here we extract the product sold only in the United States.\n",
    "data_us_only = data.select('brands', \n",
    "            'countries_en',\n",
    "            'nutrition-score-fr_100g',\n",
    "            'nutrition-score-uk_100g',\n",
    "            'nutrition_grade_fr',\n",
    "            'nutrition_grade_uk') \\\n",
    ".filter(\"countries_en=='United States'\")"
   ]
  },
  {
   "cell_type": "code",
   "execution_count": 63,
   "metadata": {
    "scrolled": false
   },
   "outputs": [
    {
     "name": "stdout",
     "output_type": "stream",
     "text": [
      "+-----------------------+-----------------------+------------------+------------------+\n",
      "|nutrition-score-fr_100g|nutrition-score-uk_100g|nutrition_grade_fr|nutrition_grade_uk|\n",
      "+-----------------------+-----------------------+------------------+------------------+\n",
      "|                 171513|                 171513|            171513|            173557|\n",
      "+-----------------------+-----------------------+------------------+------------------+\n",
      "\n"
     ]
    }
   ],
   "source": [
    "# here we see if there are non-null nutrition scores for a large enough number of products.\n",
    "data_us_only.select([count(when(isnull(c), c)).alias(c) for c in \\\n",
    "           ['nutrition-score-fr_100g',\n",
    "            'nutrition-score-uk_100g',\n",
    "            'nutrition_grade_fr',\n",
    "            'nutrition_grade_uk']]).show()"
   ]
  },
  {
   "cell_type": "code",
   "execution_count": 34,
   "metadata": {},
   "outputs": [
    {
     "name": "stdout",
     "output_type": "stream",
     "text": [
      "number of products sold in the US with a non-null nutrition score: 3955\n",
      "ratio among the total number of products sold in the US: 2.253972234253539\n"
     ]
    }
   ],
   "source": [
    "print(\"number of products sold in the US with a non-null nutrition score:\", N_us.values[0] - 171513)\n",
    "print(\"ratio among the total number of products sold in the US:\", (N_us.values[0] - 171513)/N_us.values[0]*100)"
   ]
  },
  {
   "cell_type": "markdown",
   "metadata": {},
   "source": [
    "Only 3955 products sold in the United States have a nutrition score... We cannot do a statistically significant nutrition analysis on the set of products sold in the US when only 2.25% of the product are annotated with a nutrition score."
   ]
  },
  {
   "cell_type": "code",
   "execution_count": 82,
   "metadata": {},
   "outputs": [],
   "source": [
    "# here we extract the products sold only in France.\n",
    "data_fr_only = data.select('brands', \n",
    "            'countries_en',\n",
    "            'nutrition-score-fr_100g',\n",
    "            'nutrition-score-uk_100g',\n",
    "            'nutrition_grade_fr',\n",
    "            'nutrition_grade_uk') \\\n",
    ".filter(\"countries_en=='France'\")"
   ]
  },
  {
   "cell_type": "code",
   "execution_count": 83,
   "metadata": {},
   "outputs": [
    {
     "data": {
      "text/plain": [
       "218114"
      ]
     },
     "execution_count": 83,
     "metadata": {},
     "output_type": "execute_result"
    }
   ],
   "source": [
    "# number of products sold only in France.\n",
    "data_fr_only.count()"
   ]
  },
  {
   "cell_type": "code",
   "execution_count": 84,
   "metadata": {},
   "outputs": [
    {
     "name": "stdout",
     "output_type": "stream",
     "text": [
      "+-----------------------+-----------------------+------------------+------------------+\n",
      "|nutrition-score-fr_100g|nutrition-score-uk_100g|nutrition_grade_fr|nutrition_grade_uk|\n",
      "+-----------------------+-----------------------+------------------+------------------+\n",
      "|                 116993|                 116993|            116993|            218114|\n",
      "+-----------------------+-----------------------+------------------+------------------+\n",
      "\n"
     ]
    }
   ],
   "source": [
    "# here we see if there are non-null nutrition scores for a large enough number of products.\n",
    "data_fr_only.select([count(when(isnull(c), c)).alias(c) for c in \\\n",
    "           ['nutrition-score-fr_100g',\n",
    "            'nutrition-score-uk_100g',\n",
    "            'nutrition_grade_fr',\n",
    "            'nutrition_grade_uk']]).show()"
   ]
  },
  {
   "cell_type": "markdown",
   "metadata": {},
   "source": [
    "Among the 218,114 products sold in France with a non-null brand there are 101,121 (=218,114 -116,993) products with a nutrition score. We are going to focus the analysis \"nutrition vs brand\" on the products sold only in France and using the french nutrition grade.   "
   ]
  },
  {
   "cell_type": "markdown",
   "metadata": {},
   "source": [
    "## Brand vs Nutrition in France "
   ]
  },
  {
   "cell_type": "code",
   "execution_count": 35,
   "metadata": {},
   "outputs": [],
   "source": [
    "# we remove the products which have no 'brands' and no 'nutrition_grade_fr' tags.\n",
    "data = data_raw.na.drop(subset=['brands', 'nutrition_grade_fr'])"
   ]
  },
  {
   "cell_type": "code",
   "execution_count": 36,
   "metadata": {},
   "outputs": [],
   "source": [
    "# we extract the products sold only in France\n",
    "data_fr_only = data.filter(\"countries_en=='France'\")"
   ]
  },
  {
   "cell_type": "code",
   "execution_count": 37,
   "metadata": {},
   "outputs": [],
   "source": [
    "# we reduce the dataframe to the columns of interest\n",
    "brand = data_fr_only.select('brands', 'nutrition_grade_fr')"
   ]
  },
  {
   "cell_type": "code",
   "execution_count": null,
   "metadata": {},
   "outputs": [],
   "source": [
    "# we convert the spark dataframe to a pandas dataframe\n",
    "brand_df = brand.toPandas()\n",
    "\n",
    "# we store it in the current folder \n",
    "brand_df.to_pickle('brand_vs_nutrition_in_France_df')"
   ]
  },
  {
   "cell_type": "code",
   "execution_count": 38,
   "metadata": {},
   "outputs": [],
   "source": [
    "# we can now read it everytime we want to continue the analysis\n",
    "brand_df = pd.read_pickle('brand_vs_nutrition_in_France_df')"
   ]
  },
  {
   "cell_type": "markdown",
   "metadata": {},
   "source": [
    "The problem is that the 'brands' tags are not always consistent. For example we can find the brand tag 'carrefour', \"Carrefour\", \"carrfour,bio carrefour' ect. \n",
    "Hence we first clean the brands using a list of food brands present in France and a function to match the 'brands' tag with the closest brand in the list. "
   ]
  },
  {
   "cell_type": "code",
   "execution_count": 39,
   "metadata": {},
   "outputs": [],
   "source": [
    "from difflib import get_close_matches\n",
    "\n",
    "# list of food brands present in France ('Coca Cola', 'Fleury Michon', 'Carrefour' ect.)\n",
    "list_brand_file = open(\"brand_list.txt\", \"r\")\n",
    "list_brand = list_brand_file.read().split('\\n')\n",
    "\n",
    "# Function which find for each value (string) in the column 'brands' the closest brand (string) in 'list_brand'.\n",
    "# Note: the function 'get_close_matches' has been imported from the open-source 'difflib' library.\n",
    "def clean_brand(brand_name):\n",
    "    \n",
    "    # brand name can be of the form 'Carrefour' (one word) or 'Carrefour, Bio Carrefour' (multiple words)\n",
    "    # hence we split the string w.r.t the symbol ',' and find the best matching brand word for each split.\n",
    "    best=[]\n",
    "    for word in brand_name.split(','):\n",
    "        \n",
    "        # the cutoff control for the False Positives possibilities in the 'list_brand' \n",
    "        # that don’t score at least the cutoff are ignored.\n",
    "        # n controls for the the number of possibilities (whose score is higher than the cutoff value).\n",
    "        best.append(get_close_matches(word, list_brand, n=1, cutoff=0.7))\n",
    "    \n",
    "    # remove empty sublists and unravel\n",
    "    best = [brand for sublist in best for brand in sublist if sublist]\n",
    "    \n",
    "    # if there was \n",
    "    if best:\n",
    "        return best[0]\n",
    "    else:\n",
    "        return None\n"
   ]
  },
  {
   "cell_type": "code",
   "execution_count": 40,
   "metadata": {
    "scrolled": true
   },
   "outputs": [],
   "source": [
    "# we create a new column with the new \"consistent\" brand tag. \n",
    "# takes some minutes to run...\n",
    "brand_df['new_brands'] = brand_df['brands'].apply(lambda x: clean_brand(x))"
   ]
  },
  {
   "cell_type": "code",
   "execution_count": 42,
   "metadata": {},
   "outputs": [
    {
     "data": {
      "text/html": [
       "<div>\n",
       "<style scoped>\n",
       "    .dataframe tbody tr th:only-of-type {\n",
       "        vertical-align: middle;\n",
       "    }\n",
       "\n",
       "    .dataframe tbody tr th {\n",
       "        vertical-align: top;\n",
       "    }\n",
       "\n",
       "    .dataframe thead th {\n",
       "        text-align: right;\n",
       "    }\n",
       "</style>\n",
       "<table border=\"1\" class=\"dataframe\">\n",
       "  <thead>\n",
       "    <tr style=\"text-align: right;\">\n",
       "      <th></th>\n",
       "      <th>nutrition_grade_fr</th>\n",
       "      <th>brands</th>\n",
       "    </tr>\n",
       "  </thead>\n",
       "  <tbody>\n",
       "    <tr>\n",
       "      <th>0</th>\n",
       "      <td>d</td>\n",
       "      <td>Crous</td>\n",
       "    </tr>\n",
       "    <tr>\n",
       "      <th>1</th>\n",
       "      <td>a</td>\n",
       "      <td>Crous</td>\n",
       "    </tr>\n",
       "    <tr>\n",
       "      <th>3</th>\n",
       "      <td>b</td>\n",
       "      <td>Comme J'aime</td>\n",
       "    </tr>\n",
       "    <tr>\n",
       "      <th>4</th>\n",
       "      <td>b</td>\n",
       "      <td>Comme J'aime</td>\n",
       "    </tr>\n",
       "    <tr>\n",
       "      <th>8</th>\n",
       "      <td>c</td>\n",
       "      <td>Alice Délice</td>\n",
       "    </tr>\n",
       "  </tbody>\n",
       "</table>\n",
       "</div>"
      ],
      "text/plain": [
       "  nutrition_grade_fr        brands\n",
       "0                  d         Crous\n",
       "1                  a         Crous\n",
       "3                  b  Comme J'aime\n",
       "4                  b  Comme J'aime\n",
       "8                  c  Alice Délice"
      ]
     },
     "execution_count": 42,
     "metadata": {},
     "output_type": "execute_result"
    }
   ],
   "source": [
    "# we can drop the old column 'brands' since we have the new ones.\n",
    "brand_df_cleaned = brand_df.dropna().drop('brands',1).rename(columns={'new_brands':'brands'})\n",
    "brand_df_cleaned.head()"
   ]
  },
  {
   "cell_type": "code",
   "execution_count": 44,
   "metadata": {
    "scrolled": false
   },
   "outputs": [
    {
     "data": {
      "text/html": [
       "<div>\n",
       "<style scoped>\n",
       "    .dataframe tbody tr th:only-of-type {\n",
       "        vertical-align: middle;\n",
       "    }\n",
       "\n",
       "    .dataframe tbody tr th {\n",
       "        vertical-align: top;\n",
       "    }\n",
       "\n",
       "    .dataframe thead th {\n",
       "        text-align: right;\n",
       "    }\n",
       "</style>\n",
       "<table border=\"1\" class=\"dataframe\">\n",
       "  <thead>\n",
       "    <tr style=\"text-align: right;\">\n",
       "      <th></th>\n",
       "      <th>nutrition_grade_fr</th>\n",
       "      <th>enough_products</th>\n",
       "    </tr>\n",
       "    <tr>\n",
       "      <th>brands</th>\n",
       "      <th></th>\n",
       "      <th></th>\n",
       "    </tr>\n",
       "  </thead>\n",
       "  <tbody>\n",
       "    <tr>\n",
       "      <th>Carrefour</th>\n",
       "      <td>3635</td>\n",
       "      <td>True</td>\n",
       "    </tr>\n",
       "    <tr>\n",
       "      <th>Auchan</th>\n",
       "      <td>3567</td>\n",
       "      <td>True</td>\n",
       "    </tr>\n",
       "    <tr>\n",
       "      <th>U</th>\n",
       "      <td>3276</td>\n",
       "      <td>True</td>\n",
       "    </tr>\n",
       "    <tr>\n",
       "      <th>Marque Repère</th>\n",
       "      <td>2463</td>\n",
       "      <td>True</td>\n",
       "    </tr>\n",
       "    <tr>\n",
       "      <th>Casino</th>\n",
       "      <td>2162</td>\n",
       "      <td>True</td>\n",
       "    </tr>\n",
       "  </tbody>\n",
       "</table>\n",
       "</div>"
      ],
      "text/plain": [
       "               nutrition_grade_fr  enough_products\n",
       "brands                                            \n",
       "Carrefour                    3635             True\n",
       "Auchan                       3567             True\n",
       "U                            3276             True\n",
       "Marque Repère                2463             True\n",
       "Casino                       2162             True"
      ]
     },
     "execution_count": 44,
     "metadata": {},
     "output_type": "execute_result"
    }
   ],
   "source": [
    "# here we count the number of products for each brand. We consider that brand have enough products to be analyzed from 100 products\n",
    "brand_count = brand_df_cleaned.groupby('brands').count().sort_values('nutrition_grade_fr', ascending=False)\n",
    "brand_count['enough_products']= brand_count.apply(lambda x: x>100)\n",
    "brand_count = brand_count[brand_count.enough_products]\n",
    "brand_count.head(5)"
   ]
  },
  {
   "cell_type": "markdown",
   "metadata": {},
   "source": [
    "The most abundant brands are Carrefour, Auchan and U. There are the brands of the biggest distributors (supermarkets) in France. "
   ]
  },
  {
   "cell_type": "code",
   "execution_count": 45,
   "metadata": {},
   "outputs": [],
   "source": [
    "# here we add the column \"enough products\" to the dataframe with the cleaned brand.\n",
    "brand = brand_df_cleaned.join(brand_count[['enough_products']], on='brands')\n",
    "brand = brand.dropna().drop('enough_products',1)"
   ]
  },
  {
   "cell_type": "code",
   "execution_count": 48,
   "metadata": {},
   "outputs": [
    {
     "data": {
      "text/html": [
       "<div>\n",
       "<style scoped>\n",
       "    .dataframe tbody tr th:only-of-type {\n",
       "        vertical-align: middle;\n",
       "    }\n",
       "\n",
       "    .dataframe tbody tr th {\n",
       "        vertical-align: top;\n",
       "    }\n",
       "\n",
       "    .dataframe thead th {\n",
       "        text-align: right;\n",
       "    }\n",
       "</style>\n",
       "<table border=\"1\" class=\"dataframe\">\n",
       "  <thead>\n",
       "    <tr style=\"text-align: right;\">\n",
       "      <th></th>\n",
       "      <th>nutrition_grade_fr</th>\n",
       "      <th>brands</th>\n",
       "    </tr>\n",
       "  </thead>\n",
       "  <tbody>\n",
       "    <tr>\n",
       "      <th>14</th>\n",
       "      <td>d</td>\n",
       "      <td>Heinz</td>\n",
       "    </tr>\n",
       "    <tr>\n",
       "      <th>15</th>\n",
       "      <td>e</td>\n",
       "      <td>Coca Cola</td>\n",
       "    </tr>\n",
       "    <tr>\n",
       "      <th>21</th>\n",
       "      <td>d</td>\n",
       "      <td>Heinz</td>\n",
       "    </tr>\n",
       "    <tr>\n",
       "      <th>32</th>\n",
       "      <td>e</td>\n",
       "      <td>Marks &amp; Spencer</td>\n",
       "    </tr>\n",
       "    <tr>\n",
       "      <th>33</th>\n",
       "      <td>e</td>\n",
       "      <td>Marks &amp; Spencer</td>\n",
       "    </tr>\n",
       "  </tbody>\n",
       "</table>\n",
       "</div>"
      ],
      "text/plain": [
       "   nutrition_grade_fr           brands\n",
       "14                  d            Heinz\n",
       "15                  e        Coca Cola\n",
       "21                  d            Heinz\n",
       "32                  e  Marks & Spencer\n",
       "33                  e  Marks & Spencer"
      ]
     },
     "execution_count": 48,
     "metadata": {},
     "output_type": "execute_result"
    }
   ],
   "source": [
    "brand.head()"
   ]
  },
  {
   "cell_type": "code",
   "execution_count": 49,
   "metadata": {},
   "outputs": [],
   "source": [
    "# here we create dummy variables from the 'nutrition_grade_fr' whose value can be:\n",
    "# - 'a' (very good product for health) \n",
    "# - 'b' (good product)\n",
    "# - 'c' ('neutral product')\n",
    "# - 'd' ('not so good product')\n",
    "# - 'e' (bad product for health)\n",
    "\n",
    "brand_expanded = pd.get_dummies(brand.set_index('brands')).reset_index()\n",
    "brand_expanded = brand_expanded.rename(columns={'nutrition_grade_fr_a':'a',\n",
    "                               'nutrition_grade_fr_b':'b',\n",
    "                               'nutrition_grade_fr_c':'c',\n",
    "                               'nutrition_grade_fr_d':'d',\n",
    "                               'nutrition_grade_fr_e':'e'})"
   ]
  },
  {
   "cell_type": "code",
   "execution_count": 50,
   "metadata": {
    "scrolled": true
   },
   "outputs": [
    {
     "data": {
      "text/html": [
       "<div>\n",
       "<style scoped>\n",
       "    .dataframe tbody tr th:only-of-type {\n",
       "        vertical-align: middle;\n",
       "    }\n",
       "\n",
       "    .dataframe tbody tr th {\n",
       "        vertical-align: top;\n",
       "    }\n",
       "\n",
       "    .dataframe thead th {\n",
       "        text-align: right;\n",
       "    }\n",
       "</style>\n",
       "<table border=\"1\" class=\"dataframe\">\n",
       "  <thead>\n",
       "    <tr style=\"text-align: right;\">\n",
       "      <th></th>\n",
       "      <th>brands</th>\n",
       "      <th>a</th>\n",
       "      <th>b</th>\n",
       "      <th>c</th>\n",
       "      <th>d</th>\n",
       "      <th>e</th>\n",
       "    </tr>\n",
       "  </thead>\n",
       "  <tbody>\n",
       "    <tr>\n",
       "      <th>0</th>\n",
       "      <td>Heinz</td>\n",
       "      <td>0</td>\n",
       "      <td>0</td>\n",
       "      <td>0</td>\n",
       "      <td>1</td>\n",
       "      <td>0</td>\n",
       "    </tr>\n",
       "    <tr>\n",
       "      <th>1</th>\n",
       "      <td>Coca Cola</td>\n",
       "      <td>0</td>\n",
       "      <td>0</td>\n",
       "      <td>0</td>\n",
       "      <td>0</td>\n",
       "      <td>1</td>\n",
       "    </tr>\n",
       "    <tr>\n",
       "      <th>2</th>\n",
       "      <td>Heinz</td>\n",
       "      <td>0</td>\n",
       "      <td>0</td>\n",
       "      <td>0</td>\n",
       "      <td>1</td>\n",
       "      <td>0</td>\n",
       "    </tr>\n",
       "    <tr>\n",
       "      <th>3</th>\n",
       "      <td>Marks &amp; Spencer</td>\n",
       "      <td>0</td>\n",
       "      <td>0</td>\n",
       "      <td>0</td>\n",
       "      <td>0</td>\n",
       "      <td>1</td>\n",
       "    </tr>\n",
       "    <tr>\n",
       "      <th>4</th>\n",
       "      <td>Marks &amp; Spencer</td>\n",
       "      <td>0</td>\n",
       "      <td>0</td>\n",
       "      <td>0</td>\n",
       "      <td>0</td>\n",
       "      <td>1</td>\n",
       "    </tr>\n",
       "  </tbody>\n",
       "</table>\n",
       "</div>"
      ],
      "text/plain": [
       "            brands  a  b  c  d  e\n",
       "0            Heinz  0  0  0  1  0\n",
       "1        Coca Cola  0  0  0  0  1\n",
       "2            Heinz  0  0  0  1  0\n",
       "3  Marks & Spencer  0  0  0  0  1\n",
       "4  Marks & Spencer  0  0  0  0  1"
      ]
     },
     "execution_count": 50,
     "metadata": {},
     "output_type": "execute_result"
    }
   ],
   "source": [
    "brand_expanded.head(5)"
   ]
  },
  {
   "cell_type": "markdown",
   "metadata": {},
   "source": [
    "### Food quality in the whole dataset"
   ]
  },
  {
   "cell_type": "code",
   "execution_count": 63,
   "metadata": {},
   "outputs": [
    {
     "data": {
      "image/png": "[encoded data removed]",
      "text/plain": [
       "<matplotlib.figure.Figure at 0x178f18b9a58>"
      ]
     },
     "metadata": {},
     "output_type": "display_data"
    }
   ],
   "source": [
    "count = brand_df[['nutrition_grade_fr','brands']].groupby('nutrition_grade_fr').count().rename(columns={'brands':'count'})\n",
    "count.plot(kind='bar')\n",
    "plt.title('Distribution of the nutrition grades among the whole dataset')\n",
    "plt.xlabel('nutrition grade') \n",
    "plt.show()"
   ]
  },
  {
   "cell_type": "markdown",
   "metadata": {},
   "source": [
    "### Food quality for each brand"
   ]
  },
  {
   "cell_type": "code",
   "execution_count": 65,
   "metadata": {},
   "outputs": [
    {
     "data": {
      "text/html": [
       "<div>\n",
       "<style scoped>\n",
       "    .dataframe tbody tr th:only-of-type {\n",
       "        vertical-align: middle;\n",
       "    }\n",
       "\n",
       "    .dataframe tbody tr th {\n",
       "        vertical-align: top;\n",
       "    }\n",
       "\n",
       "    .dataframe thead th {\n",
       "        text-align: right;\n",
       "    }\n",
       "</style>\n",
       "<table border=\"1\" class=\"dataframe\">\n",
       "  <thead>\n",
       "    <tr style=\"text-align: right;\">\n",
       "      <th></th>\n",
       "      <th>a</th>\n",
       "      <th>b</th>\n",
       "      <th>c</th>\n",
       "      <th>d</th>\n",
       "      <th>e</th>\n",
       "    </tr>\n",
       "    <tr>\n",
       "      <th>brands</th>\n",
       "      <th></th>\n",
       "      <th></th>\n",
       "      <th></th>\n",
       "      <th></th>\n",
       "      <th></th>\n",
       "    </tr>\n",
       "  </thead>\n",
       "  <tbody>\n",
       "    <tr>\n",
       "      <th>Amora</th>\n",
       "      <td>1.0</td>\n",
       "      <td>3.0</td>\n",
       "      <td>23.0</td>\n",
       "      <td>90.0</td>\n",
       "      <td>22.0</td>\n",
       "    </tr>\n",
       "    <tr>\n",
       "      <th>Andros</th>\n",
       "      <td>117.0</td>\n",
       "      <td>13.0</td>\n",
       "      <td>84.0</td>\n",
       "      <td>37.0</td>\n",
       "      <td>31.0</td>\n",
       "    </tr>\n",
       "    <tr>\n",
       "      <th>Auchan</th>\n",
       "      <td>659.0</td>\n",
       "      <td>548.0</td>\n",
       "      <td>778.0</td>\n",
       "      <td>965.0</td>\n",
       "      <td>617.0</td>\n",
       "    </tr>\n",
       "  </tbody>\n",
       "</table>\n",
       "</div>"
      ],
      "text/plain": [
       "            a      b      c      d      e\n",
       "brands                                   \n",
       "Amora     1.0    3.0   23.0   90.0   22.0\n",
       "Andros  117.0   13.0   84.0   37.0   31.0\n",
       "Auchan  659.0  548.0  778.0  965.0  617.0"
      ]
     },
     "execution_count": 65,
     "metadata": {},
     "output_type": "execute_result"
    }
   ],
   "source": [
    "# here we count the nutrition grade occurences for each brand\n",
    "brand_expanded_count = brand_expanded.groupby('brands').sum()\n",
    "brand_expanded_count.head(3)"
   ]
  },
  {
   "cell_type": "code",
   "execution_count": 66,
   "metadata": {},
   "outputs": [
    {
     "data": {
      "text/html": [
       "<div>\n",
       "<style scoped>\n",
       "    .dataframe tbody tr th:only-of-type {\n",
       "        vertical-align: middle;\n",
       "    }\n",
       "\n",
       "    .dataframe tbody tr th {\n",
       "        vertical-align: top;\n",
       "    }\n",
       "\n",
       "    .dataframe thead th {\n",
       "        text-align: right;\n",
       "    }\n",
       "</style>\n",
       "<table border=\"1\" class=\"dataframe\">\n",
       "  <thead>\n",
       "    <tr style=\"text-align: right;\">\n",
       "      <th></th>\n",
       "      <th>a</th>\n",
       "      <th>b</th>\n",
       "      <th>c</th>\n",
       "      <th>d</th>\n",
       "      <th>e</th>\n",
       "      <th>total</th>\n",
       "    </tr>\n",
       "    <tr>\n",
       "      <th>brands</th>\n",
       "      <th></th>\n",
       "      <th></th>\n",
       "      <th></th>\n",
       "      <th></th>\n",
       "      <th></th>\n",
       "      <th></th>\n",
       "    </tr>\n",
       "  </thead>\n",
       "  <tbody>\n",
       "    <tr>\n",
       "      <th>Amora</th>\n",
       "      <td>1.0</td>\n",
       "      <td>3.0</td>\n",
       "      <td>23.0</td>\n",
       "      <td>90.0</td>\n",
       "      <td>22.0</td>\n",
       "      <td>139</td>\n",
       "    </tr>\n",
       "    <tr>\n",
       "      <th>Andros</th>\n",
       "      <td>117.0</td>\n",
       "      <td>13.0</td>\n",
       "      <td>84.0</td>\n",
       "      <td>37.0</td>\n",
       "      <td>31.0</td>\n",
       "      <td>282</td>\n",
       "    </tr>\n",
       "    <tr>\n",
       "      <th>Auchan</th>\n",
       "      <td>659.0</td>\n",
       "      <td>548.0</td>\n",
       "      <td>778.0</td>\n",
       "      <td>965.0</td>\n",
       "      <td>617.0</td>\n",
       "      <td>3567</td>\n",
       "    </tr>\n",
       "    <tr>\n",
       "      <th>Belin</th>\n",
       "      <td>5.0</td>\n",
       "      <td>4.0</td>\n",
       "      <td>19.0</td>\n",
       "      <td>59.0</td>\n",
       "      <td>54.0</td>\n",
       "      <td>141</td>\n",
       "    </tr>\n",
       "    <tr>\n",
       "      <th>Belle France</th>\n",
       "      <td>194.0</td>\n",
       "      <td>154.0</td>\n",
       "      <td>251.0</td>\n",
       "      <td>356.0</td>\n",
       "      <td>233.0</td>\n",
       "      <td>1188</td>\n",
       "    </tr>\n",
       "  </tbody>\n",
       "</table>\n",
       "</div>"
      ],
      "text/plain": [
       "                  a      b      c      d      e  total\n",
       "brands                                                \n",
       "Amora           1.0    3.0   23.0   90.0   22.0    139\n",
       "Andros        117.0   13.0   84.0   37.0   31.0    282\n",
       "Auchan        659.0  548.0  778.0  965.0  617.0   3567\n",
       "Belin           5.0    4.0   19.0   59.0   54.0    141\n",
       "Belle France  194.0  154.0  251.0  356.0  233.0   1188"
      ]
     },
     "execution_count": 66,
     "metadata": {},
     "output_type": "execute_result"
    }
   ],
   "source": [
    "# we add the column total (with the total number of products sold for each brand) to further extract the ratio of each grade instead of the raw count.\n",
    "brand_expanded_count = brand_expanded_count.join(brand_count)\n",
    "brand_expanded_count.head()"
   ]
  },
  {
   "cell_type": "code",
   "execution_count": 67,
   "metadata": {},
   "outputs": [],
   "source": [
    "# we convert the counts into ratios. (ex: ratio for 'a' = count for 'a' / total number of products)\n",
    "ratio = brand_expanded_count.copy()\n",
    "ratio[['a','b','c','d','e']] = brand_expanded_count[['a','b','c','d','e']].div(brand_expanded_count['total'].values,axis=0)\n",
    "ratio = ratio.sort_values('total',ascending=False)"
   ]
  },
  {
   "cell_type": "code",
   "execution_count": 69,
   "metadata": {
    "scrolled": true
   },
   "outputs": [
    {
     "data": {
      "image/png": "[encoded data removed]",
      "text/plain": [
       "<matplotlib.figure.Figure at 0x178f285d828>"
      ]
     },
     "metadata": {},
     "output_type": "display_data"
    }
   ],
   "source": [
    "ratio.reset_index().loc[:10].drop('total',1).plot(kind='bar', x='brands',figsize=[15,10])\n",
    "plt.ylabel('proportion (in %)')\n",
    "plt.title('Health profile of the 10 biggest food brands in France.')\n",
    "plt.show()"
   ]
  },
  {
   "cell_type": "markdown",
   "metadata": {},
   "source": [
    "We tought we could reduce the number of possible scores to allow even simplier analysis. From the set of 5 grades (a,b,c,d,e) we go to a set of three grades:\n",
    "- 'healthy' food if a or b grades\n",
    "- 'neutral' food if c grade\n",
    "- 'junk' food if d or e grades"
   ]
  },
  {
   "cell_type": "code",
   "execution_count": 71,
   "metadata": {},
   "outputs": [],
   "source": [
    "# function to transform the scores contained in a row dataframe. \n",
    "def get_new_score(df_row):\n",
    "    if df_row['a']==1 or df_row['b']==1:\n",
    "        new_score = 'healthy' \n",
    "    if df_row['c']==1:\n",
    "        new_score = 'neutral' \n",
    "    if df_row['d']==1 or df_row['e']==1:\n",
    "        new_score = 'junk'\n",
    "    return new_score"
   ]
  },
  {
   "cell_type": "code",
   "execution_count": 72,
   "metadata": {
    "scrolled": true
   },
   "outputs": [
    {
     "data": {
      "text/html": [
       "<div>\n",
       "<style scoped>\n",
       "    .dataframe tbody tr th:only-of-type {\n",
       "        vertical-align: middle;\n",
       "    }\n",
       "\n",
       "    .dataframe tbody tr th {\n",
       "        vertical-align: top;\n",
       "    }\n",
       "\n",
       "    .dataframe thead th {\n",
       "        text-align: right;\n",
       "    }\n",
       "</style>\n",
       "<table border=\"1\" class=\"dataframe\">\n",
       "  <thead>\n",
       "    <tr style=\"text-align: right;\">\n",
       "      <th></th>\n",
       "      <th>brands</th>\n",
       "      <th>healthy</th>\n",
       "      <th>junk</th>\n",
       "      <th>neutral</th>\n",
       "    </tr>\n",
       "  </thead>\n",
       "  <tbody>\n",
       "    <tr>\n",
       "      <th>0</th>\n",
       "      <td>Heinz</td>\n",
       "      <td>0</td>\n",
       "      <td>1</td>\n",
       "      <td>0</td>\n",
       "    </tr>\n",
       "    <tr>\n",
       "      <th>1</th>\n",
       "      <td>Coca Cola</td>\n",
       "      <td>0</td>\n",
       "      <td>1</td>\n",
       "      <td>0</td>\n",
       "    </tr>\n",
       "    <tr>\n",
       "      <th>2</th>\n",
       "      <td>Heinz</td>\n",
       "      <td>0</td>\n",
       "      <td>1</td>\n",
       "      <td>0</td>\n",
       "    </tr>\n",
       "    <tr>\n",
       "      <th>3</th>\n",
       "      <td>Marks &amp; Spencer</td>\n",
       "      <td>0</td>\n",
       "      <td>1</td>\n",
       "      <td>0</td>\n",
       "    </tr>\n",
       "    <tr>\n",
       "      <th>4</th>\n",
       "      <td>Marks &amp; Spencer</td>\n",
       "      <td>0</td>\n",
       "      <td>1</td>\n",
       "      <td>0</td>\n",
       "    </tr>\n",
       "  </tbody>\n",
       "</table>\n",
       "</div>"
      ],
      "text/plain": [
       "            brands  healthy  junk  neutral\n",
       "0            Heinz        0     1        0\n",
       "1        Coca Cola        0     1        0\n",
       "2            Heinz        0     1        0\n",
       "3  Marks & Spencer        0     1        0\n",
       "4  Marks & Spencer        0     1        0"
      ]
     },
     "execution_count": 72,
     "metadata": {},
     "output_type": "execute_result"
    }
   ],
   "source": [
    "# here we pass for the \"old\" scores to the \"new\" ones\n",
    "brand_with_new_score = brand_expanded.copy()\n",
    "\n",
    "# we create a new column to store the \"new\" scores\n",
    "brand_with_new_score['new_score'] = brand_expanded.apply(get_new_score, axis=1)\n",
    "\n",
    "# we convert those \"new\" scores to dummy variables, as before for the \"old\" ones\n",
    "brand_with_new_score = pd.get_dummies(brand_with_new_score[['brands','new_score']].set_index('brands')).reset_index()\n",
    "\n",
    "# we rename the columns\n",
    "brand_with_new_score = brand_with_new_score.rename(columns={'new_score_healthy':'healthy',\n",
    "                                     'new_score_junk':'junk',\n",
    "                                     'new_score_neutral':'neutral'})\n",
    "brand_with_new_score.head()"
   ]
  },
  {
   "cell_type": "code",
   "execution_count": 73,
   "metadata": {},
   "outputs": [
    {
     "data": {
      "text/html": [
       "<div>\n",
       "<style scoped>\n",
       "    .dataframe tbody tr th:only-of-type {\n",
       "        vertical-align: middle;\n",
       "    }\n",
       "\n",
       "    .dataframe tbody tr th {\n",
       "        vertical-align: top;\n",
       "    }\n",
       "\n",
       "    .dataframe thead th {\n",
       "        text-align: right;\n",
       "    }\n",
       "</style>\n",
       "<table border=\"1\" class=\"dataframe\">\n",
       "  <thead>\n",
       "    <tr style=\"text-align: right;\">\n",
       "      <th></th>\n",
       "      <th>healthy</th>\n",
       "      <th>junk</th>\n",
       "      <th>neutral</th>\n",
       "    </tr>\n",
       "    <tr>\n",
       "      <th>brands</th>\n",
       "      <th></th>\n",
       "      <th></th>\n",
       "      <th></th>\n",
       "    </tr>\n",
       "  </thead>\n",
       "  <tbody>\n",
       "    <tr>\n",
       "      <th>Amora</th>\n",
       "      <td>4.0</td>\n",
       "      <td>112.0</td>\n",
       "      <td>23.0</td>\n",
       "    </tr>\n",
       "    <tr>\n",
       "      <th>Andros</th>\n",
       "      <td>130.0</td>\n",
       "      <td>68.0</td>\n",
       "      <td>84.0</td>\n",
       "    </tr>\n",
       "    <tr>\n",
       "      <th>Auchan</th>\n",
       "      <td>1207.0</td>\n",
       "      <td>1582.0</td>\n",
       "      <td>778.0</td>\n",
       "    </tr>\n",
       "  </tbody>\n",
       "</table>\n",
       "</div>"
      ],
      "text/plain": [
       "        healthy    junk  neutral\n",
       "brands                          \n",
       "Amora       4.0   112.0     23.0\n",
       "Andros    130.0    68.0     84.0\n",
       "Auchan   1207.0  1582.0    778.0"
      ]
     },
     "execution_count": 73,
     "metadata": {},
     "output_type": "execute_result"
    }
   ],
   "source": [
    "# we can group the products by brands as before to get \n",
    "brand_with_new_score = brand_with_new_score.groupby('brands').sum()\n",
    "brand_with_new_score.head(3)"
   ]
  },
  {
   "cell_type": "code",
   "execution_count": 74,
   "metadata": {},
   "outputs": [],
   "source": [
    "# we get the ratios instead of the raw counts, as before\n",
    "brand_with_new_score = brand_with_new_score.join(brand_count)\n",
    "ratio = brand_with_new_score.copy()\n",
    "ratio[['healthy','neutral','junk']] = brand_with_new_score[['healthy','neutral','junk']].div(brand_with_new_score['total'].values,axis=0)\n",
    "ratio = ratio.sort_values('total',ascending=False)"
   ]
  },
  {
   "cell_type": "code",
   "execution_count": 75,
   "metadata": {},
   "outputs": [
    {
     "data": {
      "image/png": "[encoded data removed]",
      "text/plain": [
       "<matplotlib.figure.Figure at 0x178f28f7c18>"
      ]
     },
     "metadata": {},
     "output_type": "display_data"
    }
   ],
   "source": [
    "ratio.reset_index().loc[:20].drop('total',1).plot(kind='bar', x='brands',figsize=[15,10])\n",
    "plt.ylabel('proportion (in %)')\n",
    "plt.show()"
   ]
  },
  {
   "cell_type": "markdown",
   "metadata": {},
   "source": [
    "We observe for example that for almost all the biggest food brands present in France the prominent nutrition category is \"junk\" food. We don't eat that well in France... \n",
    "\n",
    "The two biggest exceptions are 'Danone' and 'Picard'. They mainly sell products from milk and frozen food which could be excpected to be healthier than the products sold by Fleury Michon (mainly transformed products from meat).  \n",
    "\n",
    "Interestingly the 'Bio Village' brand solds a lot of 'jiunk' food... Even more than 'neutral' food."
   ]
  },
  {
   "cell_type": "code",
   "execution_count": null,
   "metadata": {},
   "outputs": [],
   "source": []
  }
 ],
 "metadata": {
  "kernelspec": {
   "display_name": "Python 3",
   "language": "python",
   "name": "python3"
  },
  "language_info": {
   "codemirror_mode": {
    "name": "ipython",
    "version": 3
   },
   "file_extension": ".py",
   "mimetype": "text/x-python",
   "name": "python",
   "nbconvert_exporter": "python",
   "pygments_lexer": "ipython3",
   "version": "3.6.4"
  }
 },
 "nbformat": 4,
 "nbformat_minor": 2
}

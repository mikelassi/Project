{
 "cells": [
  {
   "cell_type": "markdown",
   "metadata": {},
   "source": [
    "# Food For Thought \n",
    "## Digging into the dataset\n",
    "\n",
    "The first step of this project aims at understanding the dataset we have chosen ([Open Food Facts Database](https://world.openfoodfacts.org/)), to check whether it is suitable for the kind of analysis we want to develop.\n",
    "\n",
    "As a reminder, we would like to focus our research on two main topics:\n",
    "1. Impact of food on environment\n",
    "2. Impact of food on the health"
   ]
  },
  {
   "cell_type": "code",
   "execution_count": 1,
   "metadata": {},
   "outputs": [],
   "source": [
    "import re\n",
    "import pandas as pd\n",
    "import numpy as np\n",
    "import matplotlib\n",
    "import seaborn as sns\n",
    "import matplotlib.pyplot as plt\n",
    "import matplotlib.style as style\n",
    "from mpl_toolkits.mplot3d import Axes3D\n",
    "from difflib import get_close_matches\n",
    "\n",
    "import pickle"
   ]
  },
  {
   "cell_type": "code",
   "execution_count": null,
   "metadata": {},
   "outputs": [],
   "source": [
    "from sklearn.decomposition import PCA\n",
    "from sklearn.preprocessing import StandardScaler\n",
    "\n",
    "import findspark\n",
    "findspark.init()\n",
    "\n",
    "from pyspark.sql import *\n",
    "import pyspark.sql.functions as F\n",
    "\n",
    "from pyspark.sql import SparkSession\n",
    "from pyspark import SparkContext\n",
    "\n",
    "spark = SparkSession.builder.getOrCreate()\n",
    "sc = spark.sparkContext\n",
    "%matplotlib inline"
   ]
  },
  {
   "cell_type": "code",
   "execution_count": 2,
   "metadata": {},
   "outputs": [
    {
     "data": {
      "text/html": [
       "<script>requirejs.config({paths: { 'plotly': ['https://cdn.plot.ly/plotly-latest.min']},});if(!window.Plotly) {{require(['plotly'],function(plotly) {window.Plotly=plotly;});}}</script>"
      ],
      "text/vnd.plotly.v1+html": [
       "<script>requirejs.config({paths: { 'plotly': ['https://cdn.plot.ly/plotly-latest.min']},});if(!window.Plotly) {{require(['plotly'],function(plotly) {window.Plotly=plotly;});}}</script>"
      ]
     },
     "metadata": {},
     "output_type": "display_data"
    }
   ],
   "source": [
    "from plotly.offline import download_plotlyjs, init_notebook_mode\n",
    "import plotly.plotly as py\n",
    "import plotly.graph_objs as go\n",
    "import plotly.tools as tools\n",
    "\n",
    "# pytools.set_credentials_file(username='tomM', api_key='oS78cBzIZzmTHXpgY4Rq')\n",
    "init_notebook_mode(connected=True)"
   ]
  },
  {
   "cell_type": "markdown",
   "metadata": {},
   "source": [
    "## load the raw csv file"
   ]
  },
  {
   "cell_type": "raw",
   "metadata": {},
   "source": [
    "DATA_FOLDER = './data/'\n",
    "data = spark.read.csv(DATA_FOLDER +'en.openfoodfacts.org.products.csv',header=True,sep='\\t')          "
   ]
  },
  {
   "cell_type": "markdown",
   "metadata": {},
   "source": [
    "## Brand vs Nutrition vs Food Category in France "
   ]
  },
  {
   "cell_type": "markdown",
   "metadata": {},
   "source": [
    "## load and clean"
   ]
  },
  {
   "cell_type": "raw",
   "metadata": {},
   "source": [
    "# extract the products only sold in France\n",
    "# get the features of interest ('brands,','nutrition_grade_fr' and 'pnns_groups_1')\n",
    "bra_cat_nut = data.filter(\"countries_en=='France'\")\\\n",
    "                    .select('brands', 'nutrition_grade_fr', 'pnns_groups_1')\\\n",
    "                    .dropna(how='all')"
   ]
  },
  {
   "cell_type": "raw",
   "metadata": {},
   "source": [
    "# clean the column 'pnns_groups_1' as done before to end with consistent category names.\n",
    "bra_cat_nut = bra_cat_nut.withColumn('pnns_groups_1',(F.regexp_replace('pnns_groups_1', '-', ' ')))\n",
    "square_udf_int = F.udf(lambda z: z.title() if z else z)\n",
    "bra_cat_nut = bra_cat_nut.withColumn('pnns_groups_1',square_udf_int('pnns_groups_1'))"
   ]
  },
  {
   "cell_type": "raw",
   "metadata": {},
   "source": [
    "# we convert the spark dataframe to a pandas dataframe\n",
    "bra_cat_nut_df = bra_cat_nut.toPandas()\n",
    "\n",
    "# we store it in the current folder \n",
    "bra_cat_nut_df.to_pickle('bra_cat_nut_df')"
   ]
  },
  {
   "cell_type": "code",
   "execution_count": 3,
   "metadata": {},
   "outputs": [],
   "source": [
    "# we can now read it everytime we want to continue the analysis\n",
    "bra_cat_nut_raw_df = pd.read_pickle('bra_cat_nut_raw_df')"
   ]
  },
  {
   "cell_type": "code",
   "execution_count": 5,
   "metadata": {},
   "outputs": [
    {
     "data": {
      "text/html": [
       "<div>\n",
       "<style scoped>\n",
       "    .dataframe tbody tr th:only-of-type {\n",
       "        vertical-align: middle;\n",
       "    }\n",
       "\n",
       "    .dataframe tbody tr th {\n",
       "        vertical-align: top;\n",
       "    }\n",
       "\n",
       "    .dataframe thead th {\n",
       "        text-align: right;\n",
       "    }\n",
       "</style>\n",
       "<table border=\"1\" class=\"dataframe\">\n",
       "  <thead>\n",
       "    <tr style=\"text-align: right;\">\n",
       "      <th></th>\n",
       "      <th>brands</th>\n",
       "      <th>nutrition_grade_fr</th>\n",
       "      <th>pnns_groups_1</th>\n",
       "    </tr>\n",
       "  </thead>\n",
       "  <tbody>\n",
       "    <tr>\n",
       "      <th>0</th>\n",
       "      <td>CROUS</td>\n",
       "      <td>None</td>\n",
       "      <td>Unknown</td>\n",
       "    </tr>\n",
       "    <tr>\n",
       "      <th>1</th>\n",
       "      <td>Crous Resto',Crous</td>\n",
       "      <td>d</td>\n",
       "      <td>Unknown</td>\n",
       "    </tr>\n",
       "    <tr>\n",
       "      <th>2</th>\n",
       "      <td>Ferme De La Frémondière</td>\n",
       "      <td>None</td>\n",
       "      <td>Unknown</td>\n",
       "    </tr>\n",
       "  </tbody>\n",
       "</table>\n",
       "</div>"
      ],
      "text/plain": [
       "                    brands nutrition_grade_fr pnns_groups_1\n",
       "0                    CROUS               None       Unknown\n",
       "1       Crous Resto',Crous                  d       Unknown\n",
       "2  Ferme De La Frémondière               None       Unknown"
      ]
     },
     "execution_count": 5,
     "metadata": {},
     "output_type": "execute_result"
    }
   ],
   "source": [
    "bra_cat_nut_raw_df.head(3)"
   ]
  },
  {
   "cell_type": "markdown",
   "metadata": {},
   "source": [
    "- We create a dictonary of parent brand to replace a brand by its \"parent brand\" when it belongs to a bigger one\n",
    "For example 'Bio Village' is a brand of Leclerc which owes also 'Marque Repère' then we can replace 'Bio Village' and 'Marque Repère' by 'Leclerc'. We will to analysis the food sold by the company Leclerc.\n",
    "\n",
    "\n",
    "- Moreover, we set to None the brand when it is \"Sans Marque\". \"Sans Marque\" means the brand had not been specified by the user: it can be \"Marque Repère\", \"Carrefour\", \"Délisse\" ect.To understand the 'Sans Marque' products we checked them using the product search tool on https://fr.openfoodfacts.org with the tag \"Sans Marque\"."
   ]
  },
  {
   "cell_type": "code",
   "execution_count": null,
   "metadata": {},
   "outputs": [],
   "source": [
    "# list of food brands present in France ('Coca Cola', 'Fleury Michon', 'Carrefour' ect.)\n",
    "list_brand_file = open(\"brand_list.txt\", \"r\")\n",
    "list_brand = list_brand_file.read().split('\\n')\n",
    "\n",
    "# dictonary of parent brands. \n",
    "dict_parent_brand= {'Bio Village': 'Leclerc',\n",
    "                    'Marque Repère': 'Leclerc',\n",
    "                    'Sans Marque': None}"
   ]
  },
  {
   "cell_type": "markdown",
   "metadata": {},
   "source": [
    "The problem is that the 'brands' tags are not always consistent. For example we can find the brand tag 'carrefour', \"Carrefour\", \"carrfour,bio carrefour' ect. \n",
    "Hence we first clean the brands using a list of food brands present in France and a function to match the 'brands' tag with the closest brand in the list. "
   ]
  },
  {
   "cell_type": "code",
   "execution_count": null,
   "metadata": {},
   "outputs": [],
   "source": [
    "# Function which finds for each value (string) in the column 'brands' the closest brand (string) in 'list_brand'.\n",
    "# Note: the function 'get_close_matches' has been imported from the open-source 'difflib' library.\n",
    "def clean_brand(brand_name):\n",
    "    \n",
    "    # brand name can be of the form 'Carrefour' (one word) or 'Carrefour, Bio Carrefour' (multiple words)\n",
    "    # hence we split the string w.r.t the symbol ',' and find the best matching brand word for each split.\n",
    "    matches=[]\n",
    "    if brand_name:\n",
    "        \n",
    "        for word in brand_name.split(','):\n",
    "\n",
    "            # the cutoff control for the False Positives possibilities in the 'list_brand' \n",
    "            # that don’t score at least the cutoff are ignored.\n",
    "            # the parameter 'n' controls for the the number of possibilities (whose score is higher than the cutoff value).\n",
    "            matches.append(get_close_matches(word.lower(), list_brand, n=1, cutoff=0.6))\n",
    "\n",
    "        # remove empty sublists and unravel\n",
    "        matches = [brand for sublist in matches for brand in sublist if sublist]\n",
    "        \n",
    "        # output brand\n",
    "        if matches:\n",
    "            output = matches[0]\n",
    "        else:\n",
    "            output = None\n",
    "                \n",
    "        # check for parent brand\n",
    "        if output in dict_parent_brand:\n",
    "            output = dict_parent_brand[output]\n",
    "        \n",
    "        return output"
   ]
  },
  {
   "cell_type": "code",
   "execution_count": null,
   "metadata": {},
   "outputs": [],
   "source": [
    "# we create a new column with the new \"consistent\" brand tag. \n",
    "# takes some minutes to run...\n",
    "bra_cat_nut_raw_df['new_brands'] = bra_cat_nut_raw_df['brands'].apply(lambda x: clean_brand(x))"
   ]
  },
  {
   "cell_type": "code",
   "execution_count": null,
   "metadata": {},
   "outputs": [],
   "source": [
    "# drop when both 'nutrition_grade_fr' and 'brands' are None\n",
    "bra_cat_nut_cleaned_df = bra_cat_nut_raw_df.dropna(subset=['nutrition_grade_fr', 'brands'], how='all') \n",
    "\n",
    "# we can drop the old column 'brands' since we have the new ones.\n",
    "bra_cat_nut_cleaned_df = bra_cat_nut_cleaned_df.drop('brands',1).rename(columns={'new_brands':'brands'})\n",
    "\n",
    "bra_cat_nut_cleaned_df.head()"
   ]
  },
  {
   "cell_type": "code",
   "execution_count": null,
   "metadata": {},
   "outputs": [],
   "source": [
    "# here we count the number of products for each brand. \n",
    "count = bra_cat_nut_cleaned_df.groupby('brands').count().sort_values('nutrition_grade_fr', ascending=False)"
   ]
  },
  {
   "cell_type": "code",
   "execution_count": null,
   "metadata": {},
   "outputs": [],
   "source": [
    "# we consider that brand can be analysed if at least 100 products in the dataset belong to this brand.\n",
    "count['enough_products']= count[['nutrition_grade_fr']].apply(lambda x: x>100)\n",
    "count = count[count.enough_products]\n",
    "count.head()"
   ]
  },
  {
   "cell_type": "markdown",
   "metadata": {},
   "source": [
    "The most abundant brands are Carrefour, Auchan and U. There are the brands of the biggest distributors (supermarkets) in France. "
   ]
  },
  {
   "cell_type": "code",
   "execution_count": null,
   "metadata": {},
   "outputs": [],
   "source": [
    "# here we add the column \"enough products\" to the dataframe with the cleaned brand.\n",
    "bra_cat_nut_cleaned_df = bra_cat_nut_cleaned_df.join(count[['enough_products']], on='brands')\n",
    "bra_cat_nut_cleaned_df = bra_cat_nut_cleaned_df.drop('enough_products',1)\n",
    "bra_cat_nut_cleaned_df.head()"
   ]
  },
  {
   "cell_type": "markdown",
   "metadata": {},
   "source": [
    "The nutrition score in 'nutrition_grade_fr' is the Nutri-Score developped by the french governement and based on the components present in the food (sugar, fiber, fat ect.). You can find more information at https://fr.wikipedia.org/wiki/Nutri-score.\n",
    "\n",
    "- 'a' (very good product for health) \n",
    "- 'b' (good product)\n",
    "- 'c' ('neutral product')\n",
    "- 'd' ('not so good product')\n",
    "- 'e' (bad product for health)"
   ]
  },
  {
   "cell_type": "code",
   "execution_count": null,
   "metadata": {},
   "outputs": [],
   "source": [
    "# here we create dummy variables from the 'nutrition_grade_fr'.\n",
    "bra_cat_nut_cleaned_expanded_df = pd.get_dummies(bra_cat_nut_cleaned_df.set_index('brands')).reset_index()\n",
    "bra_cat_nut_cleaned_dummies_df = bra_cat_nut_cleaned_expanded_df.rename(columns=\n",
    "                              {'nutrition_grade_fr_a':'a',\n",
    "                               'nutrition_grade_fr_b':'b',\n",
    "                               'nutrition_grade_fr_c':'c',\n",
    "                               'nutrition_grade_fr_d':'d',\n",
    "                               'nutrition_grade_fr_e':'e',\n",
    "                               'pnns_groups_1_Beverages': 'Beverages',\n",
    "                               'pnns_groups_1_Cereals And Potatoes':'Cereals And Potatoes',\n",
    "                               'pnns_groups_1_Composite Foods': 'Composite Foods',\n",
    "                               'pnns_groups_1_Fat And Sauces':'Fat And Sauces',\n",
    "                               'pnns_groups_1_Fish Meat Eggs':'Fish Meat Eggs',\n",
    "                               'pnns_groups_1_Fruits And Vegetables':'Fruits And Vegetables',\n",
    "                               'pnns_groups_1_Milk And Dairy Products':'Milk And Dairy Products',\n",
    "                               'pnns_groups_1_Salty Snacks':'Salty Snacks',\n",
    "                               'pnns_groups_1_Sugary Snacks':'Sugary Snacks',\n",
    "                               'pnns_groups_1_Unknown': 'Unknown'})\n",
    "bra_cat_nut_cleaned_dummies_df.head(5)"
   ]
  },
  {
   "cell_type": "raw",
   "metadata": {},
   "source": [
    "# we store it in the current Notebook folder \n",
    "bra_cat_nut_cleaned_df.to_pickle('bra_cat_nut_cleaned_df')\n",
    "bra_cat_nut_cleaned_dummies_df.to_pickle('bra_cat_nut_cleaned_dummies_df')"
   ]
  },
  {
   "cell_type": "markdown",
   "metadata": {},
   "source": [
    "## Load cleaned data"
   ]
  },
  {
   "cell_type": "code",
   "execution_count": 6,
   "metadata": {},
   "outputs": [],
   "source": [
    "bra_cat_nut_df = pd.read_pickle('bra_cat_nut_cleaned_df')\n",
    "bra_cat_nut_dummies_df = pd.read_pickle('bra_cat_nut_cleaned_dummies_df')"
   ]
  },
  {
   "cell_type": "markdown",
   "metadata": {},
   "source": [
    "## Food quality in the whole dataset"
   ]
  },
  {
   "cell_type": "code",
   "execution_count": 9,
   "metadata": {},
   "outputs": [
    {
     "data": {
      "text/html": [
       "<div>\n",
       "<style scoped>\n",
       "    .dataframe tbody tr th:only-of-type {\n",
       "        vertical-align: middle;\n",
       "    }\n",
       "\n",
       "    .dataframe tbody tr th {\n",
       "        vertical-align: top;\n",
       "    }\n",
       "\n",
       "    .dataframe thead th {\n",
       "        text-align: right;\n",
       "    }\n",
       "</style>\n",
       "<table border=\"1\" class=\"dataframe\">\n",
       "  <thead>\n",
       "    <tr style=\"text-align: right;\">\n",
       "      <th></th>\n",
       "      <th>count</th>\n",
       "    </tr>\n",
       "    <tr>\n",
       "      <th>nutrition_grade_fr</th>\n",
       "      <th></th>\n",
       "    </tr>\n",
       "  </thead>\n",
       "  <tbody>\n",
       "    <tr>\n",
       "      <th>a</th>\n",
       "      <td>8951</td>\n",
       "    </tr>\n",
       "    <tr>\n",
       "      <th>b</th>\n",
       "      <td>8831</td>\n",
       "    </tr>\n",
       "    <tr>\n",
       "      <th>c</th>\n",
       "      <td>12866</td>\n",
       "    </tr>\n",
       "  </tbody>\n",
       "</table>\n",
       "</div>"
      ],
      "text/plain": [
       "                    count\n",
       "nutrition_grade_fr       \n",
       "a                    8951\n",
       "b                    8831\n",
       "c                   12866"
      ]
     },
     "execution_count": 9,
     "metadata": {},
     "output_type": "execute_result"
    }
   ],
   "source": [
    "# here we count the number of products inside each nutrition category (5 categories from 'a' to 'e')\n",
    "count = bra_cat_nut_df[['nutrition_grade_fr','brands']].groupby('nutrition_grade_fr').count().rename(columns={'brands':'count'})\n",
    "count.head(3)"
   ]
  },
  {
   "cell_type": "code",
   "execution_count": 10,
   "metadata": {
    "scrolled": false
   },
   "outputs": [
    {
     "data": {
      "application/vnd.jupyter.widget-view+json": {
       "model_id": "2753db82885b4867b6dcc68243d6af3a",
       "version_major": 2,
       "version_minor": 0
      },
      "text/html": [
       "<p>Failed to display Jupyter Widget of type <code>FigureWidget</code>.</p>\n",
       "<p>\n",
       "  If you're reading this message in the Jupyter Notebook or JupyterLab Notebook, it may mean\n",
       "  that the widgets JavaScript is still loading. If this message persists, it\n",
       "  likely means that the widgets JavaScript library is either not installed or\n",
       "  not enabled. See the <a href=\"https://ipywidgets.readthedocs.io/en/stable/user_install.html\">Jupyter\n",
       "  Widgets Documentation</a> for setup instructions.\n",
       "</p>\n",
       "<p>\n",
       "  If you're reading this message in another frontend (for example, a static\n",
       "  rendering on GitHub or <a href=\"https://nbviewer.jupyter.org/\">NBViewer</a>),\n",
       "  it may mean that your frontend doesn't currently support widgets.\n",
       "</p>\n"
      ],
      "text/plain": [
       "FigureWidget({\n",
       "    'data': [{'marker': {'color': '#3783bb'},\n",
       "              'name': 'a',\n",
       "              'type': 'bar',\n",
       "              'uid': '95fe0d74-ffce-11e8-8699-ac220bb8d9d3',\n",
       "              'x': array([0]),\n",
       "              'y': array([8951])},\n",
       "             {'marker': {'color': '#a7d0e4'},\n",
       "              'name': 'b',\n",
       "              'type': 'bar',\n",
       "              'uid': '96006fda-ffce-11e8-9fb4-ac220bb8d9d3',\n",
       "              'x': array([1]),\n",
       "              'y': array([8831])},\n",
       "             {'marker': {'color': '#f7f6f6'},\n",
       "              'name': 'c',\n",
       "              'type': 'bar',\n",
       "              'uid': '96006fdb-ffce-11e8-b2ff-ac220bb8d9d3',\n",
       "              'x': array([2]),\n",
       "              'y': array([12866])},\n",
       "             {'marker': {'color': '#f7b799'},\n",
       "              'name': 'd',\n",
       "              'type': 'bar',\n",
       "              'uid': '96006fdc-ffce-11e8-8e90-ac220bb8d9d3',\n",
       "              'x': array([3]),\n",
       "              'y': array([17081])},\n",
       "             {'marker': {'color': '#c94741'},\n",
       "              'name': 'e',\n",
       "              'type': 'bar',\n",
       "              'uid': '96006fdd-ffce-11e8-b9cb-ac220bb8d9d3',\n",
       "              'x': array([4]),\n",
       "              'y': array([13428])}],\n",
       "    'layout': {'title': 'Nutrition score occurences in the original dataset.',\n",
       "               'xaxis': {'ticktext': array(['a', 'b', 'c', 'd', 'e'], dtype=object),\n",
       "                         'tickvals': array(['0', '1', '2', '3', '4'], dtype=object),\n",
       "                         'title': 'Nutriscore',\n",
       "                         'titlefont': {'color': '#7f7f7f', 'family': 'Courier New, monospace', 'size': 18}},\n",
       "               'yaxis': {'title': 'Count',\n",
       "                         'titlefont': {'color': '#7f7f7f', 'family': 'Courier New, monospace', 'size': 18}}}\n",
       "})"
      ]
     },
     "metadata": {},
     "output_type": "display_data"
    }
   ],
   "source": [
    "# interactive plot\n",
    "data = []\n",
    "colors = sns.color_palette(\"RdBu_r\", 5).as_hex()\n",
    "\n",
    "for index, row in count.reset_index().iterrows():\n",
    "    data.append(go.Bar(x=np.array(index),\n",
    "                       y=np.array(row['count']),\n",
    "                       name = row['nutrition_grade_fr'],\n",
    "                       marker={'color': colors[index]}))\n",
    "\n",
    "layout = go.Layout(\n",
    "    title='Nutrition score occurences in the original dataset.',\n",
    "    xaxis=go.layout.XAxis(\n",
    "        title='Nutriscore',\n",
    "        titlefont=dict(\n",
    "            family='Courier New, monospace',\n",
    "            size=18,\n",
    "            color='#7f7f7f'\n",
    "        ),\n",
    "        tickvals=np.arange(5).astype(str),\n",
    "        ticktext=count.index,\n",
    "    ),\n",
    "    yaxis=dict(\n",
    "        title='Count',\n",
    "        titlefont=dict(\n",
    "            family='Courier New, monospace',\n",
    "            size=18,\n",
    "            color='#7f7f7f'\n",
    "        )\n",
    "    ),\n",
    ")\n",
    "\n",
    "go.FigureWidget(data=data, layout=layout)"
   ]
  },
  {
   "cell_type": "code",
   "execution_count": 11,
   "metadata": {},
   "outputs": [
    {
     "data": {
      "text/html": [
       "<iframe id=\"igraph\" scrolling=\"no\" style=\"border:none;\" seamless=\"seamless\" src=\"https://plot.ly/~tomM/76.embed\" height=\"525px\" width=\"100%\"></iframe>"
      ],
      "text/plain": [
       "<plotly.tools.PlotlyDisplay object>"
      ]
     },
     "execution_count": 11,
     "metadata": {},
     "output_type": "execute_result"
    }
   ],
   "source": [
    "# interactive plot\n",
    "labels = count.index\n",
    "values = count['count'].values\n",
    "colors = sns.color_palette(\"RdBu_r\", 5).as_hex()\n",
    "\n",
    "fig = {\n",
    "    'data': [{'labels': labels,\n",
    "              'values': values,\n",
    "              'type': 'pie',\n",
    "              'marker':{'colors':colors}\n",
    "              }\n",
    "            ],\n",
    "    'layout': {'title': 'Nutrition score occurences in the original dataset.'}\n",
    "     }\n",
    "\n",
    "py.iplot(fig)"
   ]
  },
  {
   "cell_type": "markdown",
   "metadata": {},
   "source": [
    "## Food quality for each french food brand"
   ]
  },
  {
   "cell_type": "code",
   "execution_count": 12,
   "metadata": {},
   "outputs": [],
   "source": [
    "# read the data\n",
    "bra_nut_df = bra_cat_nut_df[['brands', 'nutrition_grade_fr']]\n",
    "bra_nut_dummies_df = bra_cat_nut_dummies_df[['brands','a','b','c','d','e']]"
   ]
  },
  {
   "cell_type": "code",
   "execution_count": 18,
   "metadata": {},
   "outputs": [],
   "source": [
    "# extract the total number of products for each brands\n",
    "brand_count = bra_nut_df.groupby('brands').count().rename(columns={'nutrition_grade_fr':'total'})"
   ]
  },
  {
   "cell_type": "code",
   "execution_count": 20,
   "metadata": {},
   "outputs": [],
   "source": [
    "# count the nutrition grade occurences for each brand\n",
    "brand_dummies_count = bra_nut_dummies_df.groupby('brands').sum()"
   ]
  },
  {
   "cell_type": "code",
   "execution_count": 21,
   "metadata": {},
   "outputs": [
    {
     "data": {
      "text/html": [
       "<div>\n",
       "<style scoped>\n",
       "    .dataframe tbody tr th:only-of-type {\n",
       "        vertical-align: middle;\n",
       "    }\n",
       "\n",
       "    .dataframe tbody tr th {\n",
       "        vertical-align: top;\n",
       "    }\n",
       "\n",
       "    .dataframe thead th {\n",
       "        text-align: right;\n",
       "    }\n",
       "</style>\n",
       "<table border=\"1\" class=\"dataframe\">\n",
       "  <thead>\n",
       "    <tr style=\"text-align: right;\">\n",
       "      <th></th>\n",
       "      <th>a</th>\n",
       "      <th>b</th>\n",
       "      <th>c</th>\n",
       "      <th>d</th>\n",
       "      <th>e</th>\n",
       "      <th>total</th>\n",
       "    </tr>\n",
       "    <tr>\n",
       "      <th>brands</th>\n",
       "      <th></th>\n",
       "      <th></th>\n",
       "      <th></th>\n",
       "      <th></th>\n",
       "      <th></th>\n",
       "      <th></th>\n",
       "    </tr>\n",
       "  </thead>\n",
       "  <tbody>\n",
       "    <tr>\n",
       "      <th>123 bio</th>\n",
       "      <td>121.0</td>\n",
       "      <td>75.0</td>\n",
       "      <td>54.0</td>\n",
       "      <td>91.0</td>\n",
       "      <td>80.0</td>\n",
       "      <td>421</td>\n",
       "    </tr>\n",
       "    <tr>\n",
       "      <th>7Up</th>\n",
       "      <td>0.0</td>\n",
       "      <td>5.0</td>\n",
       "      <td>1.0</td>\n",
       "      <td>4.0</td>\n",
       "      <td>24.0</td>\n",
       "      <td>34</td>\n",
       "    </tr>\n",
       "    <tr>\n",
       "      <th>A l'olivier</th>\n",
       "      <td>0.0</td>\n",
       "      <td>2.0</td>\n",
       "      <td>19.0</td>\n",
       "      <td>43.0</td>\n",
       "      <td>3.0</td>\n",
       "      <td>67</td>\n",
       "    </tr>\n",
       "    <tr>\n",
       "      <th>Ajax</th>\n",
       "      <td>1.0</td>\n",
       "      <td>0.0</td>\n",
       "      <td>0.0</td>\n",
       "      <td>0.0</td>\n",
       "      <td>1.0</td>\n",
       "      <td>2</td>\n",
       "    </tr>\n",
       "    <tr>\n",
       "      <th>Albert Menes</th>\n",
       "      <td>2.0</td>\n",
       "      <td>6.0</td>\n",
       "      <td>27.0</td>\n",
       "      <td>37.0</td>\n",
       "      <td>22.0</td>\n",
       "      <td>94</td>\n",
       "    </tr>\n",
       "  </tbody>\n",
       "</table>\n",
       "</div>"
      ],
      "text/plain": [
       "                  a     b     c     d     e  total\n",
       "brands                                            \n",
       "123 bio       121.0  75.0  54.0  91.0  80.0    421\n",
       "7Up             0.0   5.0   1.0   4.0  24.0     34\n",
       "A l'olivier     0.0   2.0  19.0  43.0   3.0     67\n",
       "Ajax            1.0   0.0   0.0   0.0   1.0      2\n",
       "Albert Menes    2.0   6.0  27.0  37.0  22.0     94"
      ]
     },
     "execution_count": 21,
     "metadata": {},
     "output_type": "execute_result"
    }
   ],
   "source": [
    "# we add the column 'total' to further extract the ratio of each grade instead of the raw count.\n",
    "brand_dummies_count = brand_dummies_count.join(brand_count)\n",
    "brand_dummies_count.head()"
   ]
  },
  {
   "cell_type": "code",
   "execution_count": 22,
   "metadata": {},
   "outputs": [],
   "source": [
    "# we convert the counts into ratios. \n",
    "# ex: ratio for 'a' = (count for 'a') / (total number of products)\n",
    "brand_nutri_ratio = brand_dummies_count.copy()\n",
    "brand_nutri_ratio[['a','b','c','d','e']] = brand_dummies_count[['a','b','c','d','e']].div(brand_dummies_count['total'].values,axis=0)*100\n",
    "brand_nutri_ratio = brand_nutri_ratio.sort_values('total',ascending=False)"
   ]
  },
  {
   "cell_type": "code",
   "execution_count": 23,
   "metadata": {},
   "outputs": [
    {
     "data": {
      "text/html": [
       "<div>\n",
       "<style scoped>\n",
       "    .dataframe tbody tr th:only-of-type {\n",
       "        vertical-align: middle;\n",
       "    }\n",
       "\n",
       "    .dataframe tbody tr th {\n",
       "        vertical-align: top;\n",
       "    }\n",
       "\n",
       "    .dataframe thead th {\n",
       "        text-align: right;\n",
       "    }\n",
       "</style>\n",
       "<table border=\"1\" class=\"dataframe\">\n",
       "  <thead>\n",
       "    <tr style=\"text-align: right;\">\n",
       "      <th></th>\n",
       "      <th>brands</th>\n",
       "      <th>a</th>\n",
       "      <th>b</th>\n",
       "      <th>c</th>\n",
       "      <th>d</th>\n",
       "      <th>e</th>\n",
       "    </tr>\n",
       "  </thead>\n",
       "  <tbody>\n",
       "    <tr>\n",
       "      <th>0</th>\n",
       "      <td>Carrefour</td>\n",
       "      <td>19.763931</td>\n",
       "      <td>15.344496</td>\n",
       "      <td>19.818831</td>\n",
       "      <td>26.269558</td>\n",
       "      <td>18.803184</td>\n",
       "    </tr>\n",
       "    <tr>\n",
       "      <th>1</th>\n",
       "      <td>Auchan</td>\n",
       "      <td>18.391764</td>\n",
       "      <td>15.303283</td>\n",
       "      <td>21.313300</td>\n",
       "      <td>26.794658</td>\n",
       "      <td>18.196995</td>\n",
       "    </tr>\n",
       "    <tr>\n",
       "      <th>2</th>\n",
       "      <td>Leclerc</td>\n",
       "      <td>13.648180</td>\n",
       "      <td>15.901213</td>\n",
       "      <td>22.010399</td>\n",
       "      <td>27.816291</td>\n",
       "      <td>20.623917</td>\n",
       "    </tr>\n",
       "    <tr>\n",
       "      <th>3</th>\n",
       "      <td>Casino</td>\n",
       "      <td>18.849840</td>\n",
       "      <td>15.609311</td>\n",
       "      <td>20.903697</td>\n",
       "      <td>25.604747</td>\n",
       "      <td>19.032405</td>\n",
       "    </tr>\n",
       "    <tr>\n",
       "      <th>4</th>\n",
       "      <td>Leader Price</td>\n",
       "      <td>17.482517</td>\n",
       "      <td>13.939394</td>\n",
       "      <td>22.750583</td>\n",
       "      <td>26.293706</td>\n",
       "      <td>19.533800</td>\n",
       "    </tr>\n",
       "  </tbody>\n",
       "</table>\n",
       "</div>"
      ],
      "text/plain": [
       "         brands          a          b          c          d          e\n",
       "0     Carrefour  19.763931  15.344496  19.818831  26.269558  18.803184\n",
       "1        Auchan  18.391764  15.303283  21.313300  26.794658  18.196995\n",
       "2       Leclerc  13.648180  15.901213  22.010399  27.816291  20.623917\n",
       "3        Casino  18.849840  15.609311  20.903697  25.604747  19.032405\n",
       "4  Leader Price  17.482517  13.939394  22.750583  26.293706  19.533800"
      ]
     },
     "execution_count": 23,
     "metadata": {},
     "output_type": "execute_result"
    }
   ],
   "source": [
    "# extract the 10 biggest brands\n",
    "ratio_top10 = brand_nutri_ratio.reset_index().loc[:9].drop('total',1)\n",
    "\n",
    "# save the brand names for further analysis \n",
    "top10_brand_names = ratio_top10.brands.values\n",
    "\n",
    "ratio_top10.head()"
   ]
  },
  {
   "cell_type": "code",
   "execution_count": 24,
   "metadata": {},
   "outputs": [
    {
     "data": {
      "application/vnd.jupyter.widget-view+json": {
       "model_id": "b174f49f1bdc477ba10e0d752c480e53",
       "version_major": 2,
       "version_minor": 0
      },
      "text/html": [
       "<p>Failed to display Jupyter Widget of type <code>FigureWidget</code>.</p>\n",
       "<p>\n",
       "  If you're reading this message in the Jupyter Notebook or JupyterLab Notebook, it may mean\n",
       "  that the widgets JavaScript is still loading. If this message persists, it\n",
       "  likely means that the widgets JavaScript library is either not installed or\n",
       "  not enabled. See the <a href=\"https://ipywidgets.readthedocs.io/en/stable/user_install.html\">Jupyter\n",
       "  Widgets Documentation</a> for setup instructions.\n",
       "</p>\n",
       "<p>\n",
       "  If you're reading this message in another frontend (for example, a static\n",
       "  rendering on GitHub or <a href=\"https://nbviewer.jupyter.org/\">NBViewer</a>),\n",
       "  it may mean that your frontend doesn't currently support widgets.\n",
       "</p>\n"
      ],
      "text/plain": [
       "FigureWidget({\n",
       "    'data': [{'marker': {'color': '#1f77b4'},\n",
       "              'name': 'Carrefour',\n",
       "              'type': 'bar',\n",
       "              'uid': 'b46dc2fe-ffd0-11e8-88a6-ac220bb8d9d3',\n",
       "              'x': [a, b, c, d, e],\n",
       "              'y': array([19.763930826242106, 15.34449629426297, 19.81883063409278,\n",
       "                          26.269558056546806, 18.80318418885534], dtype=object)},\n",
       "             {'marker': {'color': '#ff7f0e'},\n",
       "              'name': 'Auchan',\n",
       "              'type': 'bar',\n",
       "              'uid': 'b46dc2ff-ffd0-11e8-b3a8-ac220bb8d9d3',\n",
       "              'x': [a, b, c, d, e],\n",
       "              'y': array([18.39176405119644, 15.30328324986088, 21.313299944351698,\n",
       "                          26.79465776293823, 18.196994991652755], dtype=object)},\n",
       "             {'marker': {'color': '#2ca02c'},\n",
       "              'name': 'Leclerc',\n",
       "              'type': 'bar',\n",
       "              'uid': 'b46dc300-ffd0-11e8-a71e-ac220bb8d9d3',\n",
       "              'x': [a, b, c, d, e],\n",
       "              'y': array([13.648180242634314, 15.901213171577123, 22.0103986135182,\n",
       "                          27.81629116117851, 20.623916811091856], dtype=object)},\n",
       "             {'marker': {'color': '#d62728'},\n",
       "              'name': 'Casino',\n",
       "              'type': 'bar',\n",
       "              'uid': 'b46dc301-ffd0-11e8-af1c-ac220bb8d9d3',\n",
       "              'x': [a, b, c, d, e],\n",
       "              'y': array([18.849840255591054, 15.60931081697855, 20.903696942035598,\n",
       "                          25.60474669100867, 19.032405294386127], dtype=object)},\n",
       "             {'marker': {'color': '#9467bd'},\n",
       "              'name': 'Leader Price',\n",
       "              'type': 'bar',\n",
       "              'uid': 'b46dc302-ffd0-11e8-b85a-ac220bb8d9d3',\n",
       "              'x': [a, b, c, d, e],\n",
       "              'y': array([17.482517482517483, 13.939393939393941, 22.75058275058275,\n",
       "                          26.293706293706293, 19.533799533799534], dtype=object)},\n",
       "             {'marker': {'color': '#8c564b'},\n",
       "              'name': 'Picard',\n",
       "              'type': 'bar',\n",
       "              'uid': 'b46dc303-ffd0-11e8-9b72-ac220bb8d9d3',\n",
       "              'x': [a, b, c, d, e],\n",
       "              'y': array([29.741650913673602, 18.147448015122876, 21.865154379332072,\n",
       "                          23.566477630749844, 6.679269061121613], dtype=object)},\n",
       "             {'marker': {'color': '#e377c2'},\n",
       "              'name': 'Cora',\n",
       "              'type': 'bar',\n",
       "              'uid': 'b46dc304-ffd0-11e8-b060-ac220bb8d9d3',\n",
       "              'x': [a, b, c, d, e],\n",
       "              'y': array([15.635858234885337, 13.273106323835998, 21.195274496177902,\n",
       "                          27.72758860319666, 22.1681723419041], dtype=object)},\n",
       "             {'marker': {'color': '#7f7f7f'},\n",
       "              'name': 'Monoprix',\n",
       "              'type': 'bar',\n",
       "              'uid': 'b46dc305-ffd0-11e8-a8b2-ac220bb8d9d3',\n",
       "              'x': [a, b, c, d, e],\n",
       "              'y': array([20.1294033069734, 16.031631919482386, 21.49532710280374,\n",
       "                          26.168224299065418, 16.175413371675056], dtype=object)},\n",
       "             {'marker': {'color': '#bcbd22'},\n",
       "              'name': 'Belle France',\n",
       "              'type': 'bar',\n",
       "              'uid': 'b46dc306-ffd0-11e8-8e2d-ac220bb8d9d3',\n",
       "              'x': [a, b, c, d, e],\n",
       "              'y': array([16.042345276872965, 12.703583061889251, 21.009771986970684,\n",
       "                          30.374592833876225, 19.86970684039088], dtype=object)},\n",
       "             {'marker': {'color': '#17becf'},\n",
       "              'name': 'Netto',\n",
       "              'type': 'bar',\n",
       "              'uid': 'b46dc307-ffd0-11e8-8b4a-ac220bb8d9d3',\n",
       "              'x': [a, b, c, d, e],\n",
       "              'y': array([10.146699266503667, 13.447432762836186, 20.904645476772615,\n",
       "                          33.12958435207824, 22.371638141809292], dtype=object)}],\n",
       "    'layout': {'title': 'Nutrition score occurences for the 10 biggest food brands in France.',\n",
       "               'xaxis': {'ticktext': array(['a', 'b', 'c', 'd', 'e'], dtype=object),\n",
       "                         'tickvals': array(['0', '1', '2', '3', '4'], dtype=object),\n",
       "                         'title': 'Nutriscore',\n",
       "                         'titlefont': {'color': '#7f7f7f', 'family': 'Courier New, monospace', 'size': 18}},\n",
       "               'yaxis': {'title': 'Ratio (in %)',\n",
       "                         'titlefont': {'color': '#7f7f7f', 'family': 'Courier New, monospace', 'size': 18}}}\n",
       "})"
      ]
     },
     "metadata": {},
     "output_type": "display_data"
    }
   ],
   "source": [
    "# interactive plot\n",
    "data = []\n",
    "colors = sns.color_palette(\"tab10\", ratio_top10.brands.count()).as_hex()\n",
    "\n",
    "for index, row in ratio_top10.iterrows():\n",
    "    data.append(go.Bar(x=['a','b','c','d','e'],\n",
    "                       y=np.array(row[1:]),\n",
    "                       name = row['brands'],\n",
    "                       marker={'color': colors[index]}))\n",
    "\n",
    "layout = go.Layout(\n",
    "    title='Nutrition score occurences for the 10 biggest food brands in France.',\n",
    "    xaxis=go.layout.XAxis(\n",
    "        title='Nutriscore',\n",
    "        titlefont=dict(\n",
    "            family='Courier New, monospace',\n",
    "            size=18,\n",
    "            color='#7f7f7f'\n",
    "        ),\n",
    "        tickvals=np.arange(5).astype(str),\n",
    "        ticktext=count.index,\n",
    "    ),\n",
    "    yaxis=dict(\n",
    "        title='Ratio (in %)',\n",
    "        titlefont=dict(\n",
    "            family='Courier New, monospace',\n",
    "            size=18,\n",
    "            color='#7f7f7f'\n",
    "        )\n",
    "    ),\n",
    ")\n",
    "\n",
    "go.FigureWidget(data=data, layout=layout)"
   ]
  },
  {
   "cell_type": "code",
   "execution_count": 25,
   "metadata": {},
   "outputs": [
    {
     "data": {
      "application/vnd.jupyter.widget-view+json": {
       "model_id": "952a840aa5ab4a96822a83f737211881",
       "version_major": 2,
       "version_minor": 0
      },
      "text/html": [
       "<p>Failed to display Jupyter Widget of type <code>FigureWidget</code>.</p>\n",
       "<p>\n",
       "  If you're reading this message in the Jupyter Notebook or JupyterLab Notebook, it may mean\n",
       "  that the widgets JavaScript is still loading. If this message persists, it\n",
       "  likely means that the widgets JavaScript library is either not installed or\n",
       "  not enabled. See the <a href=\"https://ipywidgets.readthedocs.io/en/stable/user_install.html\">Jupyter\n",
       "  Widgets Documentation</a> for setup instructions.\n",
       "</p>\n",
       "<p>\n",
       "  If you're reading this message in another frontend (for example, a static\n",
       "  rendering on GitHub or <a href=\"https://nbviewer.jupyter.org/\">NBViewer</a>),\n",
       "  it may mean that your frontend doesn't currently support widgets.\n",
       "</p>\n"
      ],
      "text/plain": [
       "FigureWidget({\n",
       "    'data': [{'marker': {'color': '#3783bb'},\n",
       "              'name': 'a',\n",
       "              'type': 'bar',\n",
       "              'uid': 'ba71d486-ffd0-11e8-8a11-ac220bb8d9d3',\n",
       "              'x': array(['Carrefour', 'Auchan', 'Leclerc', 'Casino', 'Leader Price', 'Picard',\n",
       "                          'Cora', 'Monoprix', 'Belle France', 'Netto'], dtype=object),\n",
       "              'y': array([19.76393083, 18.39176405, 13.64818024, 18.84984026, 17.48251748,\n",
       "                          29.74165091, 15.63585823, 20.12940331, 16.04234528, 10.14669927])},\n",
       "             {'marker': {'color': '#a7d0e4'},\n",
       "              'name': 'b',\n",
       "              'type': 'bar',\n",
       "              'uid': 'ba71d487-ffd0-11e8-b7bc-ac220bb8d9d3',\n",
       "              'x': array(['Carrefour', 'Auchan', 'Leclerc', 'Casino', 'Leader Price', 'Picard',\n",
       "                          'Cora', 'Monoprix', 'Belle France', 'Netto'], dtype=object),\n",
       "              'y': array([15.34449629, 15.30328325, 15.90121317, 15.60931082, 13.93939394,\n",
       "                          18.14744802, 13.27310632, 16.03163192, 12.70358306, 13.44743276])},\n",
       "             {'marker': {'color': '#f7f6f6'},\n",
       "              'name': 'c',\n",
       "              'type': 'bar',\n",
       "              'uid': 'ba71d488-ffd0-11e8-a59d-ac220bb8d9d3',\n",
       "              'x': array(['Carrefour', 'Auchan', 'Leclerc', 'Casino', 'Leader Price', 'Picard',\n",
       "                          'Cora', 'Monoprix', 'Belle France', 'Netto'], dtype=object),\n",
       "              'y': array([19.81883063, 21.31329994, 22.01039861, 20.90369694, 22.75058275,\n",
       "                          21.86515438, 21.1952745 , 21.4953271 , 21.00977199, 20.90464548])},\n",
       "             {'marker': {'color': '#f7b799'},\n",
       "              'name': 'd',\n",
       "              'type': 'bar',\n",
       "              'uid': 'ba71d489-ffd0-11e8-8164-ac220bb8d9d3',\n",
       "              'x': array(['Carrefour', 'Auchan', 'Leclerc', 'Casino', 'Leader Price', 'Picard',\n",
       "                          'Cora', 'Monoprix', 'Belle France', 'Netto'], dtype=object),\n",
       "              'y': array([26.26955806, 26.79465776, 27.81629116, 25.60474669, 26.29370629,\n",
       "                          23.56647763, 27.7275886 , 26.1682243 , 30.37459283, 33.12958435])},\n",
       "             {'marker': {'color': '#c94741'},\n",
       "              'name': 'e',\n",
       "              'type': 'bar',\n",
       "              'uid': 'ba71d48a-ffd0-11e8-afd6-ac220bb8d9d3',\n",
       "              'x': array(['Carrefour', 'Auchan', 'Leclerc', 'Casino', 'Leader Price', 'Picard',\n",
       "                          'Cora', 'Monoprix', 'Belle France', 'Netto'], dtype=object),\n",
       "              'y': array([18.80318419, 18.19699499, 20.62391681, 19.03240529, 19.53379953,\n",
       "                           6.67926906, 22.16817234, 16.17541337, 19.86970684, 22.37163814])}],\n",
       "    'layout': {'barmode': 'stack',\n",
       "               'title': 'Nutrition score distribution within the 10 biggest food brands in France.',\n",
       "               'xaxis': {'ticktext': array(['Carrefour', 'Auchan', 'Leclerc', 'Casino', 'Leader Price', 'Picard',\n",
       "                                            'Cora', 'Monoprix', 'Belle France', 'Netto'], dtype=object),\n",
       "                         'tickvals': array(['0', '1', '2', '3', '4', '5', '6', '7', '8', '9'], dtype=object),\n",
       "                         'title': 'Food Brand',\n",
       "                         'titlefont': {'color': '#7f7f7f', 'family': 'Courier New, monospace', 'size': 18}},\n",
       "               'yaxis': {'title': 'Ratio (in %)',\n",
       "                         'titlefont': {'color': '#7f7f7f', 'family': 'Courier New, monospace', 'size': 18}}}\n",
       "})"
      ]
     },
     "metadata": {},
     "output_type": "display_data"
    }
   ],
   "source": [
    "# interactive plot\n",
    "data = []\n",
    "colors = sns.color_palette(\"RdBu_r\", 5).as_hex()\n",
    "\n",
    "for index in range(len(['a','b','c','d','e'])):\n",
    "    data.append(go.Bar(x=ratio_top10['brands'],\n",
    "                       y=ratio_top10[ratio_top10.columns[index+1]],\n",
    "                       name = ratio_top10.columns[index+1],\n",
    "                       marker={'color': colors[index]}))\n",
    "\n",
    "layout = go.Layout(\n",
    "    title='Nutrition score distribution within the 10 biggest food brands in France.',\n",
    "    barmode='stack',\n",
    "    xaxis=go.layout.XAxis(\n",
    "        title='Food Brand',\n",
    "        titlefont=dict(\n",
    "            family='Courier New, monospace',\n",
    "            size=18,\n",
    "            color='#7f7f7f'\n",
    "        ),\n",
    "        tickvals=np.arange(10).astype(str),\n",
    "        ticktext=ratio_top10['brands'],\n",
    "    ),\n",
    "    yaxis=dict(\n",
    "        title='Ratio (in %)',\n",
    "        titlefont=dict(\n",
    "            family='Courier New, monospace',\n",
    "            size=18,\n",
    "            color='#7f7f7f'\n",
    "        )\n",
    "    ),\n",
    ")\n",
    "\n",
    "go.FigureWidget(data=data, layout=layout)"
   ]
  },
  {
   "cell_type": "markdown",
   "metadata": {},
   "source": [
    "We observe for example that for almost all the biggest food brands present in France nearly half the products are \"junk\" food (products with labels 'e' or 'd'). We don't eat that well in France... \n",
    "\n",
    "The exception is 'Picard'. It mainly sells frozen food products which could be excpected to be healthier than the products sold by Netto (cheap product mainly industrial)."
   ]
  },
  {
   "cell_type": "markdown",
   "metadata": {},
   "source": [
    "## Category Distribution in the 10 biggest food brands in France. "
   ]
  },
  {
   "cell_type": "code",
   "execution_count": 32,
   "metadata": {},
   "outputs": [],
   "source": [
    "# read the data\n",
    "bra_cat_df = bra_cat_nut_df[['brands', 'pnns_groups_1']]\n",
    "bra_cat_dummies_df = bra_cat_nut_dummies_df.drop(['a','b','c','d','e'], axis=1)"
   ]
  },
  {
   "cell_type": "code",
   "execution_count": 34,
   "metadata": {
    "scrolled": false
   },
   "outputs": [
    {
     "data": {
      "text/html": [
       "<div>\n",
       "<style scoped>\n",
       "    .dataframe tbody tr th:only-of-type {\n",
       "        vertical-align: middle;\n",
       "    }\n",
       "\n",
       "    .dataframe tbody tr th {\n",
       "        vertical-align: top;\n",
       "    }\n",
       "\n",
       "    .dataframe thead th {\n",
       "        text-align: right;\n",
       "    }\n",
       "</style>\n",
       "<table border=\"1\" class=\"dataframe\">\n",
       "  <thead>\n",
       "    <tr style=\"text-align: right;\">\n",
       "      <th></th>\n",
       "      <th>Beverages</th>\n",
       "      <th>Cereals And Potatoes</th>\n",
       "      <th>Composite Foods</th>\n",
       "      <th>Fat And Sauces</th>\n",
       "      <th>Fish Meat Eggs</th>\n",
       "      <th>Fruits And Vegetables</th>\n",
       "      <th>Milk And Dairy Products</th>\n",
       "      <th>Salty Snacks</th>\n",
       "      <th>Sugary Snacks</th>\n",
       "      <th>Unknown</th>\n",
       "      <th>total</th>\n",
       "    </tr>\n",
       "    <tr>\n",
       "      <th>brands</th>\n",
       "      <th></th>\n",
       "      <th></th>\n",
       "      <th></th>\n",
       "      <th></th>\n",
       "      <th></th>\n",
       "      <th></th>\n",
       "      <th></th>\n",
       "      <th></th>\n",
       "      <th></th>\n",
       "      <th></th>\n",
       "      <th></th>\n",
       "    </tr>\n",
       "  </thead>\n",
       "  <tbody>\n",
       "    <tr>\n",
       "      <th>123 bio</th>\n",
       "      <td>38.0</td>\n",
       "      <td>60.0</td>\n",
       "      <td>28.0</td>\n",
       "      <td>38.0</td>\n",
       "      <td>28.0</td>\n",
       "      <td>64.0</td>\n",
       "      <td>43.0</td>\n",
       "      <td>15.0</td>\n",
       "      <td>72.0</td>\n",
       "      <td>222.0</td>\n",
       "      <td>608.0</td>\n",
       "    </tr>\n",
       "    <tr>\n",
       "      <th>7Up</th>\n",
       "      <td>29.0</td>\n",
       "      <td>0.0</td>\n",
       "      <td>0.0</td>\n",
       "      <td>0.0</td>\n",
       "      <td>0.0</td>\n",
       "      <td>0.0</td>\n",
       "      <td>0.0</td>\n",
       "      <td>0.0</td>\n",
       "      <td>0.0</td>\n",
       "      <td>8.0</td>\n",
       "      <td>37.0</td>\n",
       "    </tr>\n",
       "    <tr>\n",
       "      <th>A l'olivier</th>\n",
       "      <td>0.0</td>\n",
       "      <td>1.0</td>\n",
       "      <td>2.0</td>\n",
       "      <td>41.0</td>\n",
       "      <td>1.0</td>\n",
       "      <td>0.0</td>\n",
       "      <td>0.0</td>\n",
       "      <td>0.0</td>\n",
       "      <td>2.0</td>\n",
       "      <td>67.0</td>\n",
       "      <td>114.0</td>\n",
       "    </tr>\n",
       "  </tbody>\n",
       "</table>\n",
       "</div>"
      ],
      "text/plain": [
       "             Beverages  Cereals And Potatoes  Composite Foods  Fat And Sauces  \\\n",
       "brands                                                                          \n",
       "123 bio           38.0                  60.0             28.0            38.0   \n",
       "7Up               29.0                   0.0              0.0             0.0   \n",
       "A l'olivier        0.0                   1.0              2.0            41.0   \n",
       "\n",
       "             Fish Meat Eggs  Fruits And Vegetables  Milk And Dairy Products  \\\n",
       "brands                                                                        \n",
       "123 bio                28.0                   64.0                     43.0   \n",
       "7Up                     0.0                    0.0                      0.0   \n",
       "A l'olivier             1.0                    0.0                      0.0   \n",
       "\n",
       "             Salty Snacks  Sugary Snacks  Unknown  total  \n",
       "brands                                                    \n",
       "123 bio              15.0           72.0    222.0  608.0  \n",
       "7Up                   0.0            0.0      8.0   37.0  \n",
       "A l'olivier           0.0            2.0     67.0  114.0  "
      ]
     },
     "execution_count": 34,
     "metadata": {},
     "output_type": "execute_result"
    }
   ],
   "source": [
    "# here we count the category occurences for each brand\n",
    "brand_dummies_count = bra_cat_dummies_df.groupby('brands').sum()\n",
    "\n",
    "# we add the column total to further extract the ratio of each grade instead of the raw count\n",
    "brand_count = pd.DataFrame(data=brand_dummies_count.sum(axis=1), columns=['total'])\n",
    "brand_dummies_count = brand_dummies_count.join(brand_count)\n",
    "\n",
    "brand_dummies_count.head(3)"
   ]
  },
  {
   "cell_type": "code",
   "execution_count": 38,
   "metadata": {
    "scrolled": true
   },
   "outputs": [],
   "source": [
    "# we convert the counts into ratios\n",
    "ratio = brand_dummies_count.copy().reset_index()\n",
    "ratio = ratio[ratio['brands'].isin(top10_brand_names)].set_index('brands')\n",
    "ratio.iloc[:, np.arange(9)] = brand_dummies_count.iloc[:,np.arange(9)].div(brand_dummies_count['total'].values,axis=0)*100"
   ]
  },
  {
   "cell_type": "markdown",
   "metadata": {},
   "source": [
    "We chose to remove the category Unknown since it gathers products from multiple categories. It is not relevant to analyze the distribution of products tagged 'Unknown' since they don't represent any real category of products. The user just omitted to tag the category. "
   ]
  },
  {
   "cell_type": "code",
   "execution_count": 39,
   "metadata": {},
   "outputs": [
    {
     "data": {
      "text/html": [
       "<div>\n",
       "<style scoped>\n",
       "    .dataframe tbody tr th:only-of-type {\n",
       "        vertical-align: middle;\n",
       "    }\n",
       "\n",
       "    .dataframe tbody tr th {\n",
       "        vertical-align: top;\n",
       "    }\n",
       "\n",
       "    .dataframe thead th {\n",
       "        text-align: right;\n",
       "    }\n",
       "</style>\n",
       "<table border=\"1\" class=\"dataframe\">\n",
       "  <thead>\n",
       "    <tr style=\"text-align: right;\">\n",
       "      <th></th>\n",
       "      <th>brands</th>\n",
       "      <th>Beverages</th>\n",
       "      <th>Cereals And Potatoes</th>\n",
       "      <th>Composite Foods</th>\n",
       "      <th>Fat And Sauces</th>\n",
       "      <th>Fish Meat Eggs</th>\n",
       "      <th>Fruits And Vegetables</th>\n",
       "      <th>Milk And Dairy Products</th>\n",
       "      <th>Salty Snacks</th>\n",
       "      <th>Sugary Snacks</th>\n",
       "    </tr>\n",
       "  </thead>\n",
       "  <tbody>\n",
       "    <tr>\n",
       "      <th>0</th>\n",
       "      <td>Auchan</td>\n",
       "      <td>5.265011</td>\n",
       "      <td>6.374362</td>\n",
       "      <td>8.681106</td>\n",
       "      <td>4.824793</td>\n",
       "      <td>8.188061</td>\n",
       "      <td>6.691319</td>\n",
       "      <td>8.874802</td>\n",
       "      <td>2.201092</td>\n",
       "      <td>7.941539</td>\n",
       "    </tr>\n",
       "    <tr>\n",
       "      <th>1</th>\n",
       "      <td>Belle France</td>\n",
       "      <td>6.370795</td>\n",
       "      <td>7.229778</td>\n",
       "      <td>11.739442</td>\n",
       "      <td>5.941303</td>\n",
       "      <td>9.949893</td>\n",
       "      <td>9.305655</td>\n",
       "      <td>13.815319</td>\n",
       "      <td>4.509664</td>\n",
       "      <td>15.175376</td>\n",
       "    </tr>\n",
       "    <tr>\n",
       "      <th>2</th>\n",
       "      <td>Carrefour</td>\n",
       "      <td>4.881403</td>\n",
       "      <td>8.078377</td>\n",
       "      <td>8.525266</td>\n",
       "      <td>4.331385</td>\n",
       "      <td>8.765899</td>\n",
       "      <td>7.356480</td>\n",
       "      <td>7.751805</td>\n",
       "      <td>2.543829</td>\n",
       "      <td>10.244070</td>\n",
       "    </tr>\n",
       "  </tbody>\n",
       "</table>\n",
       "</div>"
      ],
      "text/plain": [
       "         brands  Beverages  Cereals And Potatoes  Composite Foods  \\\n",
       "0        Auchan   5.265011              6.374362         8.681106   \n",
       "1  Belle France   6.370795              7.229778        11.739442   \n",
       "2     Carrefour   4.881403              8.078377         8.525266   \n",
       "\n",
       "   Fat And Sauces  Fish Meat Eggs  Fruits And Vegetables  \\\n",
       "0        4.824793        8.188061               6.691319   \n",
       "1        5.941303        9.949893               9.305655   \n",
       "2        4.331385        8.765899               7.356480   \n",
       "\n",
       "   Milk And Dairy Products  Salty Snacks  Sugary Snacks  \n",
       "0                 8.874802      2.201092       7.941539  \n",
       "1                13.815319      4.509664      15.175376  \n",
       "2                 7.751805      2.543829      10.244070  "
      ]
     },
     "execution_count": 39,
     "metadata": {},
     "output_type": "execute_result"
    }
   ],
   "source": [
    "ratio_to_plot = ratio.reset_index().drop(['total', 'Unknown'],1)\n",
    "ratio_to_plot.head(3)"
   ]
  },
  {
   "cell_type": "code",
   "execution_count": 40,
   "metadata": {},
   "outputs": [
    {
     "data": {
      "application/vnd.jupyter.widget-view+json": {
       "model_id": "52e0de96db2847d1a46f53477fae55fc",
       "version_major": 2,
       "version_minor": 0
      },
      "text/html": [
       "<p>Failed to display Jupyter Widget of type <code>FigureWidget</code>.</p>\n",
       "<p>\n",
       "  If you're reading this message in the Jupyter Notebook or JupyterLab Notebook, it may mean\n",
       "  that the widgets JavaScript is still loading. If this message persists, it\n",
       "  likely means that the widgets JavaScript library is either not installed or\n",
       "  not enabled. See the <a href=\"https://ipywidgets.readthedocs.io/en/stable/user_install.html\">Jupyter\n",
       "  Widgets Documentation</a> for setup instructions.\n",
       "</p>\n",
       "<p>\n",
       "  If you're reading this message in another frontend (for example, a static\n",
       "  rendering on GitHub or <a href=\"https://nbviewer.jupyter.org/\">NBViewer</a>),\n",
       "  it may mean that your frontend doesn't currently support widgets.\n",
       "</p>\n"
      ],
      "text/plain": [
       "FigureWidget({\n",
       "    'data': [{'marker': {'color': '#1f77b4'},\n",
       "              'name': 'Beverages',\n",
       "              'type': 'bar',\n",
       "              'uid': '49e58f42-ffd2-11e8-99dd-ac220bb8d9d3',\n",
       "              'x': array(['Auchan', 'Belle France', 'Carrefour', 'Casino', 'Cora', 'Leader Price',\n",
       "                          'Leclerc', 'Monoprix', 'Netto', 'Picard'], dtype=object),\n",
       "              'y': array([5.26501145, 6.37079456, 4.88140254, 6.23171445, 6.79146713, 5.77478345,\n",
       "                          6.94073679, 5.84795322, 3.866171  , 0.53956835])},\n",
       "             {'marker': {'color': '#ff7f0e'},\n",
       "              'name': 'Cereals And Potatoes',\n",
       "              'type': 'bar',\n",
       "              'uid': '49e58f43-ffd2-11e8-9490-ac220bb8d9d3',\n",
       "              'x': array(['Auchan', 'Belle France', 'Carrefour', 'Casino', 'Cora', 'Leader Price',\n",
       "                          'Leclerc', 'Monoprix', 'Netto', 'Picard'], dtype=object),\n",
       "              'y': array([6.37436168, 7.2297781 , 8.07837745, 7.05090696, 4.65824989, 6.2560154 ,\n",
       "                          7.23438334, 8.87825625, 5.05576208, 2.63788969])},\n",
       "             {'marker': {'color': '#2ca02c'},\n",
       "              'name': 'Composite Foods',\n",
       "              'type': 'bar',\n",
       "              'uid': '49e58f44-ffd2-11e8-b632-ac220bb8d9d3',\n",
       "              'x': array(['Auchan', 'Belle France', 'Carrefour', 'Casino', 'Cora', 'Leader Price',\n",
       "                          'Leclerc', 'Monoprix', 'Netto', 'Picard'], dtype=object),\n",
       "              'y': array([ 8.68110583, 11.73944166,  8.52526641,  9.21591574,  7.79277318,\n",
       "                          11.00417068,  8.6225307 , 11.48325359,  8.92193309, 37.17026379])},\n",
       "             {'marker': {'color': '#d62728'},\n",
       "              'name': 'Fat And Sauces',\n",
       "              'type': 'bar',\n",
       "              'uid': '49e58f45-ffd2-11e8-8843-ac220bb8d9d3',\n",
       "              'x': array(['Auchan', 'Belle France', 'Carrefour', 'Casino', 'Cora', 'Leader Price',\n",
       "                          'Leclerc', 'Monoprix', 'Netto', 'Picard'], dtype=object),\n",
       "              'y': array([4.8247931 , 5.94130279, 4.33138536, 3.83265067, 4.30996953, 4.20275906,\n",
       "                          2.16230646, 4.73152578, 4.16356877, 1.73860911])},\n",
       "             {'marker': {'color': '#9467bd'},\n",
       "              'name': 'Fish Meat Eggs',\n",
       "              'type': 'bar',\n",
       "              'uid': '49e58f46-ffd2-11e8-a1a6-ac220bb8d9d3',\n",
       "              'x': array(['Auchan', 'Belle France', 'Carrefour', 'Casino', 'Cora', 'Leader Price',\n",
       "                          'Leclerc', 'Monoprix', 'Netto', 'Picard'], dtype=object),\n",
       "              'y': array([8.18806128, 9.94989263, 8.76589893, 6.49502633, 8.6634741 , 8.02053256,\n",
       "                          8.64922584, 9.94152047, 7.50929368, 9.47242206])},\n",
       "             {'marker': {'color': '#8c564b'},\n",
       "              'name': 'Fruits And Vegetables',\n",
       "              'type': 'bar',\n",
       "              'uid': '49e58f47-ffd2-11e8-a5e7-ac220bb8d9d3',\n",
       "              'x': array(['Auchan', 'Belle France', 'Carrefour', 'Casino', 'Cora', 'Leader Price',\n",
       "                          'Leclerc', 'Monoprix', 'Netto', 'Picard'], dtype=object),\n",
       "              'y': array([ 6.69131889,  9.30565497,  7.35647989,  6.14394383,  6.70439704,\n",
       "                           6.12768688,  5.12546716,  7.92131845,  5.27881041, 10.07194245])},\n",
       "             {'marker': {'color': '#e377c2'},\n",
       "              'name': 'Milk And Dairy Products',\n",
       "              'type': 'bar',\n",
       "              'uid': '49e58f48-ffd2-11e8-94d4-ac220bb8d9d3',\n",
       "              'x': array(['Auchan', 'Belle France', 'Carrefour', 'Casino', 'Cora', 'Leader Price',\n",
       "                          'Leclerc', 'Monoprix', 'Netto', 'Picard'], dtype=object),\n",
       "              'y': array([ 8.8748019 , 13.81531854,  7.75180474,  7.66530135,  6.26904658,\n",
       "                          10.13795316,  7.02082221,  9.99468368,  8.2527881 ,  8.93285372])},\n",
       "             {'marker': {'color': '#7f7f7f'},\n",
       "              'name': 'Salty Snacks',\n",
       "              'type': 'bar',\n",
       "              'uid': '49e58f49-ffd2-11e8-9079-ac220bb8d9d3',\n",
       "              'x': array(['Auchan', 'Belle France', 'Carrefour', 'Casino', 'Cora', 'Leader Price',\n",
       "                          'Leclerc', 'Monoprix', 'Netto', 'Picard'], dtype=object),\n",
       "              'y': array([2.20109174, 4.50966356, 2.54382949, 2.83791691, 3.43926861, 2.98363811,\n",
       "                          1.06780566, 3.03030303, 2.15613383, 2.21822542])},\n",
       "             {'marker': {'color': '#bcbd22'},\n",
       "              'name': 'Sugary Snacks',\n",
       "              'type': 'bar',\n",
       "              'uid': '49e58f4a-ffd2-11e8-95a5-ac220bb8d9d3',\n",
       "              'x': array(['Auchan', 'Belle France', 'Carrefour', 'Casino', 'Cora', 'Leader Price',\n",
       "                          'Leclerc', 'Monoprix', 'Netto', 'Picard'], dtype=object),\n",
       "              'y': array([ 7.941539  , 15.17537581, 10.24407013, 10.26916325, 10.31780583,\n",
       "                          10.61918511, 14.28190069, 12.70600744, 10.48327138,  8.99280576])}],\n",
       "    'layout': {'title': 'Food Category distribution within the 10 biggest food brands in France.',\n",
       "               'xaxis': {'ticktext': array(['Auchan', 'Belle France', 'Carrefour', 'Casino', 'Cora', 'Leader Price',\n",
       "                                            'Leclerc', 'Monoprix', 'Netto', 'Picard'], dtype=object),\n",
       "                         'tickvals': array(['0', '1', '2', '3', '4', '5', '6', '7', '8', '9'], dtype=object),\n",
       "                         'title': 'Food Brand',\n",
       "                         'titlefont': {'color': '#7f7f7f', 'family': 'Courier New, monospace', 'size': 18}},\n",
       "               'yaxis': {'title': 'Ratio (in %)',\n",
       "                         'titlefont': {'color': '#7f7f7f', 'family': 'Courier New, monospace', 'size': 18}}}\n",
       "})"
      ]
     },
     "metadata": {},
     "output_type": "display_data"
    }
   ],
   "source": [
    "# interactive plot\n",
    "data = []\n",
    "colors = sns.color_palette(\"tab10\", ratio_to_plot.brands.count()).as_hex()\n",
    "\n",
    "for index, nutri in enumerate(ratio_to_plot.columns[1:]):\n",
    "    data.append(go.Bar(x=ratio_to_plot['brands'],\n",
    "                       y=ratio_to_plot[ratio_to_plot.columns[index+1]],\n",
    "                       name = ratio_to_plot.columns[index+1],\n",
    "                       marker={'color': colors[index]}))\n",
    "\n",
    "layout = go.Layout(\n",
    "    title='Food Category distribution within the 10 biggest food brands in France.',\n",
    "    xaxis=go.layout.XAxis(\n",
    "        title='Food Brand',\n",
    "        titlefont=dict(\n",
    "            family='Courier New, monospace',\n",
    "            size=18,\n",
    "            color='#7f7f7f'\n",
    "        ),\n",
    "        tickvals=np.arange(10).astype(str),\n",
    "        ticktext=ratio_to_plot['brands'],\n",
    "    ),\n",
    "    yaxis=dict(\n",
    "        title='Ratio (in %)',\n",
    "        titlefont=dict(\n",
    "            family='Courier New, monospace',\n",
    "            size=18,\n",
    "            color='#7f7f7f'\n",
    "        )\n",
    "    ),\n",
    ")\n",
    "\n",
    "go.FigureWidget(data=data, layout=layout)"
   ]
  },
  {
   "cell_type": "code",
   "execution_count": 42,
   "metadata": {},
   "outputs": [
    {
     "name": "stdout",
     "output_type": "stream",
     "text": [
      "This is the format of your plot grid:\n",
      "[ (1,1) x1,y1 ]  [ (1,2) x2,y2 ]  [ (1,3) x3,y3 ]\n",
      "[ (2,1) x4,y4 ]  [ (2,2) x5,y5 ]  [ (2,3) x6,y6 ]\n",
      "[ (3,1) x7,y7 ]  [ (3,2) x8,y8 ]  [ (3,3) x9,y9 ]\n",
      "\n"
     ]
    },
    {
     "data": {
      "text/html": [
       "<iframe id=\"igraph\" scrolling=\"no\" style=\"border:none;\" seamless=\"seamless\" src=\"https://plot.ly/~tomM/78.embed\" height=\"900px\" width=\"1000px\"></iframe>"
      ],
      "text/plain": [
       "<plotly.tools.PlotlyDisplay object>"
      ]
     },
     "execution_count": 42,
     "metadata": {},
     "output_type": "execute_result"
    }
   ],
   "source": [
    "# interactive plot\n",
    "data = []\n",
    "colors = sns.color_palette(\"tab10\", len(ratio_to_plot.columns[1:])).as_hex()\n",
    "\n",
    "for index, nutri in enumerate(ratio_to_plot.columns[1:]):\n",
    "    data.append(go.Scatter(x=ratio_to_plot['brands'],\n",
    "                       y=ratio_to_plot[ratio_to_plot.columns[index+1]],\n",
    "                       name = ratio_to_plot.columns[index+1],\n",
    "                       marker={'color': colors[index]}\n",
    "                          )\n",
    "               )\n",
    "    \n",
    "fig = tools.make_subplots(rows=3, cols=3, subplot_titles=tuple(ratio_to_plot.columns[1:]))\n",
    "\n",
    "for index,trace in enumerate(data):\n",
    "    (r, c) = divmod(index, 3)\n",
    "    fig.append_trace(trace, r+1, c+1)\n",
    "\n",
    "fig['layout']['yaxis1'].update(title='Ratio (in %)')\n",
    "fig['layout']['yaxis4'].update(title='Ratio (in %)')\n",
    "fig['layout']['yaxis7'].update(title='Ratio (in %)')\n",
    "\n",
    "fig['layout'].update(title='Food Category distribution within the 10 biggest food brands in France.', height=900, width=1000)\n",
    "\n",
    "py.iplot(fig)"
   ]
  },
  {
   "cell_type": "markdown",
   "metadata": {},
   "source": [
    "## Nutrition grade repartition per category in France"
   ]
  },
  {
   "cell_type": "code",
   "execution_count": 94,
   "metadata": {},
   "outputs": [],
   "source": [
    "# read the data \n",
    "cat_nut_df = bra_cat_nut_df[['pnns_groups_1', 'nutrition_grade_fr']]"
   ]
  },
  {
   "cell_type": "code",
   "execution_count": 95,
   "metadata": {},
   "outputs": [
    {
     "data": {
      "text/plain": [
       "223388"
      ]
     },
     "execution_count": 95,
     "metadata": {},
     "output_type": "execute_result"
    }
   ],
   "source": [
    "# number of products (total)\n",
    "cat_nut_df.index[-1]"
   ]
  },
  {
   "cell_type": "code",
   "execution_count": 97,
   "metadata": {},
   "outputs": [],
   "source": [
    "# we drop the null value\n",
    "cat_nut_df = cat_nut_df.dropna()"
   ]
  },
  {
   "cell_type": "code",
   "execution_count": 100,
   "metadata": {},
   "outputs": [
    {
     "data": {
      "text/plain": [
       "103469"
      ]
     },
     "execution_count": 100,
     "metadata": {},
     "output_type": "execute_result"
    }
   ],
   "source": [
    "# number of products (after removing the null)\n",
    "cat_nut_df.reset_index(drop=True).index[-1]"
   ]
  },
  {
   "cell_type": "markdown",
   "metadata": {},
   "source": [
    "We removed half the products but having still more than 100,000 products we assume the analysis is still statistically significant."
   ]
  },
  {
   "cell_type": "code",
   "execution_count": 101,
   "metadata": {},
   "outputs": [],
   "source": [
    "# we get dummies from the nutrition grades\n",
    "cat_nut_df = pd.get_dummies(cat_nut_df.set_index('pnns_groups_1')).rename(columns=\n",
    "                              {'nutrition_grade_fr_a':'a',\n",
    "                               'nutrition_grade_fr_b':'b',\n",
    "                               'nutrition_grade_fr_c':'c',\n",
    "                               'nutrition_grade_fr_d':'d',\n",
    "                               'nutrition_grade_fr_e':'e'})"
   ]
  },
  {
   "cell_type": "code",
   "execution_count": 103,
   "metadata": {},
   "outputs": [
    {
     "data": {
      "text/html": [
       "<div>\n",
       "<style scoped>\n",
       "    .dataframe tbody tr th:only-of-type {\n",
       "        vertical-align: middle;\n",
       "    }\n",
       "\n",
       "    .dataframe tbody tr th {\n",
       "        vertical-align: top;\n",
       "    }\n",
       "\n",
       "    .dataframe thead th {\n",
       "        text-align: right;\n",
       "    }\n",
       "</style>\n",
       "<table border=\"1\" class=\"dataframe\">\n",
       "  <thead>\n",
       "    <tr style=\"text-align: right;\">\n",
       "      <th></th>\n",
       "      <th>a</th>\n",
       "      <th>b</th>\n",
       "      <th>c</th>\n",
       "      <th>d</th>\n",
       "      <th>e</th>\n",
       "      <th>total</th>\n",
       "    </tr>\n",
       "    <tr>\n",
       "      <th>pnns_groups_1</th>\n",
       "      <th></th>\n",
       "      <th></th>\n",
       "      <th></th>\n",
       "      <th></th>\n",
       "      <th></th>\n",
       "      <th></th>\n",
       "    </tr>\n",
       "  </thead>\n",
       "  <tbody>\n",
       "    <tr>\n",
       "      <th>Beverages</th>\n",
       "      <td>71.0</td>\n",
       "      <td>854.0</td>\n",
       "      <td>1812.0</td>\n",
       "      <td>1624.0</td>\n",
       "      <td>3754.0</td>\n",
       "      <td>8115.0</td>\n",
       "    </tr>\n",
       "    <tr>\n",
       "      <th>Cereals And Potatoes</th>\n",
       "      <td>3839.0</td>\n",
       "      <td>1630.0</td>\n",
       "      <td>1616.0</td>\n",
       "      <td>1045.0</td>\n",
       "      <td>101.0</td>\n",
       "      <td>8231.0</td>\n",
       "    </tr>\n",
       "    <tr>\n",
       "      <th>Composite Foods</th>\n",
       "      <td>1798.0</td>\n",
       "      <td>3407.0</td>\n",
       "      <td>3404.0</td>\n",
       "      <td>2073.0</td>\n",
       "      <td>185.0</td>\n",
       "      <td>10867.0</td>\n",
       "    </tr>\n",
       "  </tbody>\n",
       "</table>\n",
       "</div>"
      ],
      "text/plain": [
       "                           a       b       c       d       e    total\n",
       "pnns_groups_1                                                        \n",
       "Beverages               71.0   854.0  1812.0  1624.0  3754.0   8115.0\n",
       "Cereals And Potatoes  3839.0  1630.0  1616.0  1045.0   101.0   8231.0\n",
       "Composite Foods       1798.0  3407.0  3404.0  2073.0   185.0  10867.0"
      ]
     },
     "execution_count": 103,
     "metadata": {},
     "output_type": "execute_result"
    }
   ],
   "source": [
    "# we count the number of products with grade 'a','b' ect. for each food category\n",
    "count = cat_nut_df.groupby('pnns_groups_1').sum()\n",
    "count['total'] = count.apply(lambda x: x['a']+x['b']+x['c']+x['d']+x['e'], axis=1) \n",
    "count.head(3)"
   ]
  },
  {
   "cell_type": "code",
   "execution_count": 104,
   "metadata": {
    "scrolled": false
   },
   "outputs": [
    {
     "data": {
      "text/html": [
       "<div>\n",
       "<style scoped>\n",
       "    .dataframe tbody tr th:only-of-type {\n",
       "        vertical-align: middle;\n",
       "    }\n",
       "\n",
       "    .dataframe tbody tr th {\n",
       "        vertical-align: top;\n",
       "    }\n",
       "\n",
       "    .dataframe thead th {\n",
       "        text-align: right;\n",
       "    }\n",
       "</style>\n",
       "<table border=\"1\" class=\"dataframe\">\n",
       "  <thead>\n",
       "    <tr style=\"text-align: right;\">\n",
       "      <th></th>\n",
       "      <th>a</th>\n",
       "      <th>b</th>\n",
       "      <th>c</th>\n",
       "      <th>d</th>\n",
       "      <th>e</th>\n",
       "      <th>total</th>\n",
       "    </tr>\n",
       "    <tr>\n",
       "      <th>pnns_groups_1</th>\n",
       "      <th></th>\n",
       "      <th></th>\n",
       "      <th></th>\n",
       "      <th></th>\n",
       "      <th></th>\n",
       "      <th></th>\n",
       "    </tr>\n",
       "  </thead>\n",
       "  <tbody>\n",
       "    <tr>\n",
       "      <th>Beverages</th>\n",
       "      <td>0.874923</td>\n",
       "      <td>10.523722</td>\n",
       "      <td>22.329020</td>\n",
       "      <td>20.012323</td>\n",
       "      <td>46.260012</td>\n",
       "      <td>8115.0</td>\n",
       "    </tr>\n",
       "    <tr>\n",
       "      <th>Cereals And Potatoes</th>\n",
       "      <td>46.640748</td>\n",
       "      <td>19.803183</td>\n",
       "      <td>19.633094</td>\n",
       "      <td>12.695906</td>\n",
       "      <td>1.227068</td>\n",
       "      <td>8231.0</td>\n",
       "    </tr>\n",
       "    <tr>\n",
       "      <th>Composite Foods</th>\n",
       "      <td>16.545505</td>\n",
       "      <td>31.351799</td>\n",
       "      <td>31.324193</td>\n",
       "      <td>19.076102</td>\n",
       "      <td>1.702402</td>\n",
       "      <td>10867.0</td>\n",
       "    </tr>\n",
       "  </tbody>\n",
       "</table>\n",
       "</div>"
      ],
      "text/plain": [
       "                              a          b          c          d          e  \\\n",
       "pnns_groups_1                                                                 \n",
       "Beverages              0.874923  10.523722  22.329020  20.012323  46.260012   \n",
       "Cereals And Potatoes  46.640748  19.803183  19.633094  12.695906   1.227068   \n",
       "Composite Foods       16.545505  31.351799  31.324193  19.076102   1.702402   \n",
       "\n",
       "                        total  \n",
       "pnns_groups_1                  \n",
       "Beverages              8115.0  \n",
       "Cereals And Potatoes   8231.0  \n",
       "Composite Foods       10867.0  "
      ]
     },
     "execution_count": 104,
     "metadata": {},
     "output_type": "execute_result"
    }
   ],
   "source": [
    "# we extract ratio from the counts and the total number of products for each category\n",
    "ratio = count.copy()\n",
    "ratio[['a','b','c','d','e']] = count[['a','b','c','d','e']].div(count['total'].values,axis=0)*100\n",
    "ratio.head(3)"
   ]
  },
  {
   "cell_type": "code",
   "execution_count": 105,
   "metadata": {},
   "outputs": [],
   "source": [
    "# we remove the 'total' column and we sort the category w.r.t to the ratio for the score 'a' (the healthier)\n",
    "ratio_to_plot = ratio.reset_index().drop('total',1).sort_values(by=['a'],ascending=0).reset_index().drop('index',1)"
   ]
  },
  {
   "cell_type": "code",
   "execution_count": 106,
   "metadata": {},
   "outputs": [
    {
     "data": {
      "application/vnd.jupyter.widget-view+json": {
       "model_id": "b4b6c2ea77174e57a6e622d96c3650bd",
       "version_major": 2,
       "version_minor": 0
      },
      "text/html": [
       "<p>Failed to display Jupyter Widget of type <code>FigureWidget</code>.</p>\n",
       "<p>\n",
       "  If you're reading this message in the Jupyter Notebook or JupyterLab Notebook, it may mean\n",
       "  that the widgets JavaScript is still loading. If this message persists, it\n",
       "  likely means that the widgets JavaScript library is either not installed or\n",
       "  not enabled. See the <a href=\"https://ipywidgets.readthedocs.io/en/stable/user_install.html\">Jupyter\n",
       "  Widgets Documentation</a> for setup instructions.\n",
       "</p>\n",
       "<p>\n",
       "  If you're reading this message in another frontend (for example, a static\n",
       "  rendering on GitHub or <a href=\"https://nbviewer.jupyter.org/\">NBViewer</a>),\n",
       "  it may mean that your frontend doesn't currently support widgets.\n",
       "</p>\n"
      ],
      "text/plain": [
       "FigureWidget({\n",
       "    'data': [{'marker': {'color': '#3783bb'},\n",
       "              'name': 'a',\n",
       "              'type': 'bar',\n",
       "              'uid': 'a80a1c06-ffd4-11e8-af75-ac220bb8d9d3',\n",
       "              'x': array(['Fruits And Vegetables', 'Cereals And Potatoes', 'Composite Foods',\n",
       "                          'Fish Meat Eggs', 'Milk And Dairy Products', 'Unknown',\n",
       "                          'Fat And Sauces', 'Salty Snacks', 'Beverages', 'Sugary Snacks'],\n",
       "                         dtype=object),\n",
       "              'y': array([64.80286738, 46.64074839, 16.54550474,  9.98759305,  7.13354766,\n",
       "                           7.12445849,  2.3298764 ,  1.88318777,  0.87492298,  0.52667848])},\n",
       "             {'marker': {'color': '#a7d0e4'},\n",
       "              'name': 'b',\n",
       "              'type': 'bar',\n",
       "              'uid': 'a80a1c07-ffd4-11e8-9bb8-ac220bb8d9d3',\n",
       "              'x': array(['Fruits And Vegetables', 'Cereals And Potatoes', 'Composite Foods',\n",
       "                          'Fish Meat Eggs', 'Milk And Dairy Products', 'Unknown',\n",
       "                          'Fat And Sauces', 'Salty Snacks', 'Beverages', 'Sugary Snacks'],\n",
       "                         dtype=object),\n",
       "              'y': array([17.82078853, 19.80318309, 31.35179902, 11.82795699, 20.14075941,\n",
       "                          16.02271397,  4.48927404,  3.00218341, 10.5237215 ,  2.32329199])},\n",
       "             {'marker': {'color': '#f7f6f6'},\n",
       "              'name': 'c',\n",
       "              'type': 'bar',\n",
       "              'uid': 'a80a1c08-ffd4-11e8-8bb6-ac220bb8d9d3',\n",
       "              'x': array(['Fruits And Vegetables', 'Cereals And Potatoes', 'Composite Foods',\n",
       "                          'Fish Meat Eggs', 'Milk And Dairy Products', 'Unknown',\n",
       "                          'Fat And Sauces', 'Salty Snacks', 'Beverages', 'Sugary Snacks'],\n",
       "                         dtype=object),\n",
       "              'y': array([14.89605735, 19.6330944 , 31.32419251, 22.31182796, 29.68111912,\n",
       "                          19.17808219, 22.16223895, 25.73689956, 22.32902033, 10.87812562])},\n",
       "             {'marker': {'color': '#f7b799'},\n",
       "              'name': 'd',\n",
       "              'type': 'bar',\n",
       "              'uid': 'a80a1c09-ffd4-11e8-8f4e-ac220bb8d9d3',\n",
       "              'x': array(['Fruits And Vegetables', 'Cereals And Potatoes', 'Composite Foods',\n",
       "                          'Fish Meat Eggs', 'Milk And Dairy Products', 'Unknown',\n",
       "                          'Fat And Sauces', 'Salty Snacks', 'Beverages', 'Sugary Snacks'],\n",
       "                         dtype=object),\n",
       "              'y': array([ 2.25089606, 12.69590572, 19.07610196, 33.808933  , 39.25623425,\n",
       "                          26.20302072, 48.41596818, 54.53056769, 20.01232286, 37.23666076])},\n",
       "             {'marker': {'color': '#c94741'},\n",
       "              'name': 'e',\n",
       "              'type': 'bar',\n",
       "              'uid': 'a80a1c0a-ffd4-11e8-81bd-ac220bb8d9d3',\n",
       "              'x': array(['Fruits And Vegetables', 'Cereals And Potatoes', 'Composite Foods',\n",
       "                          'Fish Meat Eggs', 'Milk And Dairy Products', 'Unknown',\n",
       "                          'Fat And Sauces', 'Salty Snacks', 'Beverages', 'Sugary Snacks'],\n",
       "                         dtype=object),\n",
       "              'y': array([ 0.22939068,  1.2270684 ,  1.70240177, 22.063689  ,  3.78833956,\n",
       "                          31.47172462, 22.60264242, 14.84716157, 46.26001232, 49.03524316])}],\n",
       "    'layout': {'title': 'Health profile for each food category.',\n",
       "               'xaxis': {'tickangle': 20,\n",
       "                         'ticktext': array(['Fruits And Vegetables', 'Cereals And Potatoes', 'Composite Foods',\n",
       "                                            'Fish Meat Eggs', 'Milk And Dairy Products', 'Unknown',\n",
       "                                            'Fat And Sauces', 'Salty Snacks', 'Beverages', 'Sugary Snacks'],\n",
       "                                           dtype=object),\n",
       "                         'tickvals': array(['0', '1', '2', '3', '4', '5', '6', '7', '8', '9'], dtype=object),\n",
       "                         'title': 'Food Category',\n",
       "                         'titlefont': {'color': '#7f7f7f', 'family': 'Courier New, monospace', 'size': 18}},\n",
       "               'yaxis': {'title': 'Ratio (in %)',\n",
       "                         'titlefont': {'color': '#7f7f7f', 'family': 'Courier New, monospace', 'size': 18}}}\n",
       "})"
      ]
     },
     "metadata": {},
     "output_type": "display_data"
    }
   ],
   "source": [
    "# interative plot\n",
    "data = []\n",
    "colors = sns.color_palette(\"RdBu_r\", 5).as_hex()\n",
    "\n",
    "for index, nutri in enumerate(ratio_to_plot.columns[1:]):\n",
    "    data.append(go.Bar(x=ratio_to_plot['pnns_groups_1'],\n",
    "                       y=ratio_to_plot[ratio_to_plot.columns[index+1]],\n",
    "                       name = ratio_to_plot.columns[index+1],\n",
    "                       marker={'color': colors[index]}))\n",
    "\n",
    "layout = go.Layout(\n",
    "    title='Health profile for each food category.',\n",
    "    xaxis=go.layout.XAxis(\n",
    "        title='Food Category',\n",
    "        titlefont=dict(\n",
    "            family='Courier New, monospace',\n",
    "            size=18,\n",
    "            color='#7f7f7f'\n",
    "        ),\n",
    "        tickangle = 20,\n",
    "        tickvals=np.arange(10).astype(str),\n",
    "        ticktext=ratio_to_plot['pnns_groups_1'],\n",
    "    ),\n",
    "    yaxis=dict(\n",
    "        title='Ratio (in %)',\n",
    "        titlefont=dict(\n",
    "            family='Courier New, monospace',\n",
    "            size=18,\n",
    "            color='#7f7f7f'\n",
    "        )\n",
    "    ),\n",
    ")\n",
    "\n",
    "go.FigureWidget(data=data, layout=layout)"
   ]
  },
  {
   "cell_type": "markdown",
   "metadata": {},
   "source": [
    "# Brand vs Palm Oil"
   ]
  },
  {
   "cell_type": "markdown",
   "metadata": {},
   "source": [
    "## load and clean"
   ]
  },
  {
   "cell_type": "raw",
   "metadata": {},
   "source": [
    "# we filter the spark dataframe for products sold in France only \n",
    "# we extract the two columns tagging for palm oil presence\n",
    "bra_palm_raw = data.filter(\"countries_en=='France'\")\\\n",
    "                    .select('brands', 'ingredients_from_palm_oil_n','ingredients_that_may_be_from_palm_oil_n')\\\n",
    "                    .dropna(how='all')"
   ]
  },
  {
   "cell_type": "raw",
   "metadata": {},
   "source": [
    "# we convert the spark dataframe to a pandas dataframe\n",
    "bra_palm_raw_df = bra_palm.toPandas()\n",
    "\n",
    "# we store it in the current folder \n",
    "bra_palm_raw_df.to_pickle('bra_palm_raw_df')"
   ]
  },
  {
   "cell_type": "raw",
   "metadata": {},
   "source": [
    "# read the stored dataframe\n",
    "bra_palm_raw_df = pd.read_pickle('bra_palm_raw_df')"
   ]
  },
  {
   "cell_type": "raw",
   "metadata": {},
   "source": [
    "bra_palm_raw_df.head(3)"
   ]
  },
  {
   "cell_type": "raw",
   "metadata": {},
   "source": [
    "bra_palm_raw_df['new_brands'] = bra_palm_raw_df['brands'].apply(lambda x: clean_brand(x))"
   ]
  },
  {
   "cell_type": "raw",
   "metadata": {},
   "source": [
    "# drop when both 'ingredients_from_palm_oil_n' and 'ingredients_that_may_be_from_palm_oil_n' are None\n",
    "bra_palm_cleaned_df = bra_palm_raw_df.dropna(subset=['ingredients_from_palm_oil_n', \\\n",
    "                                                 'ingredients_that_may_be_from_palm_oil_n'], how='all') "
   ]
  },
  {
   "cell_type": "raw",
   "metadata": {},
   "source": [
    "# we can drop the old column 'brands' since we have the new ones.\n",
    "bra_palm_cleaned_df = bra_palm_cleaned_df.drop('brands',1).rename(columns={'new_brands':'brands'})\n",
    "\n",
    "# reset the index\n",
    "bra_palm_cleaned_df = bra_palm_cleaned_df.reset_index(drop=True)"
   ]
  },
  {
   "cell_type": "raw",
   "metadata": {},
   "source": [
    "# convert into numeric values\n",
    "bra_palm_cleaned_df['ingredients_from_palm_oil_n'] = bra_palm_cleaned_df['ingredients_from_palm_oil_n'].apply(pd.to_numeric)\n",
    "bra_palm_cleaned_df['ingredients_that_may_be_from_palm_oil_n'] = bra_palm_cleaned_df['ingredients_that_may_be_from_palm_oil_n'].apply(pd.to_numeric)"
   ]
  },
  {
   "cell_type": "raw",
   "metadata": {},
   "source": [
    "# save to pickle\n",
    "bra_palm_cleaned_df.to_pickle('bra_palm_cleaned_df')"
   ]
  },
  {
   "cell_type": "markdown",
   "metadata": {},
   "source": [
    "# Load cleaned data"
   ]
  },
  {
   "cell_type": "code",
   "execution_count": 109,
   "metadata": {},
   "outputs": [],
   "source": [
    "bra_palm_df = pd.read_pickle('bra_palm_cleaned_df')"
   ]
  },
  {
   "cell_type": "markdown",
   "metadata": {},
   "source": [
    "## Palm oil presence in the whole dataset"
   ]
  },
  {
   "cell_type": "code",
   "execution_count": 116,
   "metadata": {},
   "outputs": [],
   "source": [
    "bra_palm_bool_df = bra_palm_df.copy()\n",
    "bra_palm_bool_df.iloc[:,0] = bra_palm_bool_df.iloc[:,0].apply(lambda x: x>0) # for 'ingredients_from_palm_oil_n'\n",
    "bra_palm_bool_df.iloc[:,1] = bra_palm_bool_df.iloc[:,1].apply(lambda x: x>0) # for 'ingredients_that_may_be_from_palm_oil_n'"
   ]
  },
  {
   "cell_type": "code",
   "execution_count": 117,
   "metadata": {},
   "outputs": [],
   "source": [
    "bra_palm_to_plot_df = bra_palm_df[['brands']].copy()\n",
    "bra_palm_to_plot_df['no_palm_oil'] = bra_palm_bool_df.apply(lambda x: 1 if not x[0] and not x[1] else 0, axis=1) \n",
    "bra_palm_to_plot_df['may_contain_palm_oil'] = bra_palm_bool_df.apply(lambda x: 1 if x[0] and not x[1] else 0 , axis=1) \n",
    "bra_palm_to_plot_df['contain_palm_oil'] = bra_palm_bool_df.apply(lambda x: 1 if x[1] else 0, axis=1) "
   ]
  },
  {
   "cell_type": "code",
   "execution_count": 119,
   "metadata": {},
   "outputs": [
    {
     "data": {
      "text/html": [
       "<div>\n",
       "<style scoped>\n",
       "    .dataframe tbody tr th:only-of-type {\n",
       "        vertical-align: middle;\n",
       "    }\n",
       "\n",
       "    .dataframe tbody tr th {\n",
       "        vertical-align: top;\n",
       "    }\n",
       "\n",
       "    .dataframe thead th {\n",
       "        text-align: right;\n",
       "    }\n",
       "</style>\n",
       "<table border=\"1\" class=\"dataframe\">\n",
       "  <thead>\n",
       "    <tr style=\"text-align: right;\">\n",
       "      <th></th>\n",
       "      <th>brands</th>\n",
       "      <th>no_palm_oil</th>\n",
       "      <th>may_contain_palm_oil</th>\n",
       "      <th>contain_palm_oil</th>\n",
       "    </tr>\n",
       "  </thead>\n",
       "  <tbody>\n",
       "    <tr>\n",
       "      <th>0</th>\n",
       "      <td>Crous</td>\n",
       "      <td>1</td>\n",
       "      <td>0</td>\n",
       "      <td>0</td>\n",
       "    </tr>\n",
       "    <tr>\n",
       "      <th>1</th>\n",
       "      <td>None</td>\n",
       "      <td>1</td>\n",
       "      <td>0</td>\n",
       "      <td>0</td>\n",
       "    </tr>\n",
       "    <tr>\n",
       "      <th>2</th>\n",
       "      <td>None</td>\n",
       "      <td>1</td>\n",
       "      <td>0</td>\n",
       "      <td>0</td>\n",
       "    </tr>\n",
       "  </tbody>\n",
       "</table>\n",
       "</div>"
      ],
      "text/plain": [
       "  brands  no_palm_oil  may_contain_palm_oil  contain_palm_oil\n",
       "0  Crous            1                     0                 0\n",
       "1   None            1                     0                 0\n",
       "2   None            1                     0                 0"
      ]
     },
     "execution_count": 119,
     "metadata": {},
     "output_type": "execute_result"
    }
   ],
   "source": [
    "bra_palm_to_plot_df.head(3)"
   ]
  },
  {
   "cell_type": "code",
   "execution_count": 120,
   "metadata": {},
   "outputs": [],
   "source": [
    "# count the number of product for each palm category \n",
    "count = bra_palm_to_plot_df.sum(axis=0)"
   ]
  },
  {
   "cell_type": "code",
   "execution_count": 121,
   "metadata": {},
   "outputs": [
    {
     "data": {
      "application/vnd.jupyter.widget-view+json": {
       "model_id": "f6e270cf225f438695c126b97ead9872",
       "version_major": 2,
       "version_minor": 0
      },
      "text/html": [
       "<p>Failed to display Jupyter Widget of type <code>FigureWidget</code>.</p>\n",
       "<p>\n",
       "  If you're reading this message in the Jupyter Notebook or JupyterLab Notebook, it may mean\n",
       "  that the widgets JavaScript is still loading. If this message persists, it\n",
       "  likely means that the widgets JavaScript library is either not installed or\n",
       "  not enabled. See the <a href=\"https://ipywidgets.readthedocs.io/en/stable/user_install.html\">Jupyter\n",
       "  Widgets Documentation</a> for setup instructions.\n",
       "</p>\n",
       "<p>\n",
       "  If you're reading this message in another frontend (for example, a static\n",
       "  rendering on GitHub or <a href=\"https://nbviewer.jupyter.org/\">NBViewer</a>),\n",
       "  it may mean that your frontend doesn't currently support widgets.\n",
       "</p>\n"
      ],
      "text/plain": [
       "FigureWidget({\n",
       "    'data': [{'marker': {'color': '#fcbba1'},\n",
       "              'name': 'no palm oil',\n",
       "              'type': 'bar',\n",
       "              'uid': '7e5cccf4-ffd5-11e8-b3e0-ac220bb8d9d3',\n",
       "              'x': array([0]),\n",
       "              'y': array([150081])},\n",
       "             {'marker': {'color': '#fb694a'},\n",
       "              'name': 'may contain palm oil',\n",
       "              'type': 'bar',\n",
       "              'uid': '7e5cccf5-ffd5-11e8-8e04-ac220bb8d9d3',\n",
       "              'x': array([1]),\n",
       "              'y': array([6611])},\n",
       "             {'marker': {'color': '#ca181d'},\n",
       "              'name': 'contain palm oil',\n",
       "              'type': 'bar',\n",
       "              'uid': '7e5cccf6-ffd5-11e8-97be-ac220bb8d9d3',\n",
       "              'x': array([2]),\n",
       "              'y': array([15777])}],\n",
       "    'layout': {'showlegend': False,\n",
       "               'title': 'Nutrition score occurences in the original dataset.',\n",
       "               'xaxis': {'ticktext': [no palm oil, may contain palm oil, contain\n",
       "                                      palm oil],\n",
       "                         'tickvals': array(['0', '1', '2'], dtype=object),\n",
       "                         'title': 'Product feature',\n",
       "                         'titlefont': {'color': '#7f7f7f', 'family': 'Courier New, monospace', 'size': 18}},\n",
       "               'yaxis': {'title': 'Count',\n",
       "                         'titlefont': {'color': '#7f7f7f', 'family': 'Courier New, monospace', 'size': 18}}}\n",
       "})"
      ]
     },
     "metadata": {},
     "output_type": "display_data"
    }
   ],
   "source": [
    "# interactive plot\n",
    "data = []\n",
    "colors = sns.color_palette(\"Reds\", 3).as_hex()\n",
    "labels = ['no palm oil', 'may contain palm oil', 'contain palm oil']\n",
    "\n",
    "for index, item in enumerate(count.iteritems()):\n",
    "    data.append(go.Bar(x=np.array(index),\n",
    "                       y=np.array(item[1]),\n",
    "                       name = labels[index],\n",
    "                       marker={'color': colors[index]}))\n",
    "\n",
    "layout = go.Layout(\n",
    "    title='Nutrition score occurences in the original dataset.',\n",
    "    showlegend=False,\n",
    "    xaxis=go.layout.XAxis(\n",
    "        title='Product feature',\n",
    "        titlefont=dict(\n",
    "            family='Courier New, monospace',\n",
    "            size=18,\n",
    "            color='#7f7f7f'\n",
    "        ),\n",
    "        tickvals=np.arange(3).astype(str),\n",
    "        ticktext= labels,\n",
    "    ),\n",
    "    yaxis=dict(\n",
    "        title='Count',\n",
    "        titlefont=dict(\n",
    "            family='Courier New, monospace',\n",
    "            size=18,\n",
    "            color='#7f7f7f'\n",
    "        )\n",
    "    ),\n",
    ")\n",
    "\n",
    "go.FigureWidget(data=data, layout=layout)"
   ]
  },
  {
   "cell_type": "code",
   "execution_count": 122,
   "metadata": {},
   "outputs": [
    {
     "data": {
      "text/html": [
       "<iframe id=\"igraph\" scrolling=\"no\" style=\"border:none;\" seamless=\"seamless\" src=\"https://plot.ly/~tomM/80.embed\" height=\"525px\" width=\"100%\"></iframe>"
      ],
      "text/plain": [
       "<plotly.tools.PlotlyDisplay object>"
      ]
     },
     "execution_count": 122,
     "metadata": {},
     "output_type": "execute_result"
    }
   ],
   "source": [
    "# interactive plot\n",
    "fig = {\n",
    "    'data': [{'labels': labels,\n",
    "              'values': count.values,\n",
    "              'type': 'pie',\n",
    "              'marker':{'colors':colors}\n",
    "              }\n",
    "            ],\n",
    "    'layout': {'title': 'Nutrition score occurences in the original dataset.'}\n",
    "     }\n",
    "\n",
    "py.iplot(fig)"
   ]
  },
  {
   "cell_type": "markdown",
   "metadata": {},
   "source": [
    "## Palm oil presence for each french food brand"
   ]
  },
  {
   "cell_type": "code",
   "execution_count": 123,
   "metadata": {},
   "outputs": [],
   "source": [
    "# read the data\n",
    "bra_palm_df = pd.read_pickle('bra_palm_cleaned_df')"
   ]
  },
  {
   "cell_type": "code",
   "execution_count": 128,
   "metadata": {
    "scrolled": true
   },
   "outputs": [
    {
     "data": {
      "text/html": [
       "<div>\n",
       "<style scoped>\n",
       "    .dataframe tbody tr th:only-of-type {\n",
       "        vertical-align: middle;\n",
       "    }\n",
       "\n",
       "    .dataframe tbody tr th {\n",
       "        vertical-align: top;\n",
       "    }\n",
       "\n",
       "    .dataframe thead th {\n",
       "        text-align: right;\n",
       "    }\n",
       "</style>\n",
       "<table border=\"1\" class=\"dataframe\">\n",
       "  <thead>\n",
       "    <tr style=\"text-align: right;\">\n",
       "      <th></th>\n",
       "      <th>total</th>\n",
       "    </tr>\n",
       "    <tr>\n",
       "      <th>brands</th>\n",
       "      <th></th>\n",
       "    </tr>\n",
       "  </thead>\n",
       "  <tbody>\n",
       "    <tr>\n",
       "      <th>123 bio</th>\n",
       "      <td>592</td>\n",
       "    </tr>\n",
       "    <tr>\n",
       "      <th>7Up</th>\n",
       "      <td>28</td>\n",
       "    </tr>\n",
       "    <tr>\n",
       "      <th>A l'olivier</th>\n",
       "      <td>103</td>\n",
       "    </tr>\n",
       "  </tbody>\n",
       "</table>\n",
       "</div>"
      ],
      "text/plain": [
       "             total\n",
       "brands            \n",
       "123 bio        592\n",
       "7Up             28\n",
       "A l'olivier    103"
      ]
     },
     "execution_count": 128,
     "metadata": {},
     "output_type": "execute_result"
    }
   ],
   "source": [
    "# count number of products per brand\n",
    "brand_count = bra_palm_df[['ingredients_that_may_be_from_palm_oil_n', 'brands']] \\\n",
    "                                    .groupby('brands')\\\n",
    "                                    .count() \\\n",
    "                                    .rename(columns={'ingredients_that_may_be_from_palm_oil_n':'total'})\n",
    "brand_count.head(3)"
   ]
  },
  {
   "cell_type": "code",
   "execution_count": 130,
   "metadata": {},
   "outputs": [
    {
     "data": {
      "text/html": [
       "<div>\n",
       "<style scoped>\n",
       "    .dataframe tbody tr th:only-of-type {\n",
       "        vertical-align: middle;\n",
       "    }\n",
       "\n",
       "    .dataframe tbody tr th {\n",
       "        vertical-align: top;\n",
       "    }\n",
       "\n",
       "    .dataframe thead th {\n",
       "        text-align: right;\n",
       "    }\n",
       "</style>\n",
       "<table border=\"1\" class=\"dataframe\">\n",
       "  <thead>\n",
       "    <tr style=\"text-align: right;\">\n",
       "      <th></th>\n",
       "      <th>total</th>\n",
       "      <th>ingredients_from_palm_oil_n</th>\n",
       "      <th>ingredients_that_may_be_from_palm_oil_n</th>\n",
       "    </tr>\n",
       "    <tr>\n",
       "      <th>brands</th>\n",
       "      <th></th>\n",
       "      <th></th>\n",
       "      <th></th>\n",
       "    </tr>\n",
       "  </thead>\n",
       "  <tbody>\n",
       "    <tr>\n",
       "      <th>123 bio</th>\n",
       "      <td>592</td>\n",
       "      <td>2</td>\n",
       "      <td>1</td>\n",
       "    </tr>\n",
       "    <tr>\n",
       "      <th>7Up</th>\n",
       "      <td>28</td>\n",
       "      <td>0</td>\n",
       "      <td>0</td>\n",
       "    </tr>\n",
       "    <tr>\n",
       "      <th>A l'olivier</th>\n",
       "      <td>103</td>\n",
       "      <td>1</td>\n",
       "      <td>2</td>\n",
       "    </tr>\n",
       "  </tbody>\n",
       "</table>\n",
       "</div>"
      ],
      "text/plain": [
       "             total  ingredients_from_palm_oil_n  \\\n",
       "brands                                            \n",
       "123 bio        592                            2   \n",
       "7Up             28                            0   \n",
       "A l'olivier    103                            1   \n",
       "\n",
       "             ingredients_that_may_be_from_palm_oil_n  \n",
       "brands                                                \n",
       "123 bio                                            1  \n",
       "7Up                                                0  \n",
       "A l'olivier                                        2  "
      ]
     },
     "execution_count": 130,
     "metadata": {},
     "output_type": "execute_result"
    }
   ],
   "source": [
    "# count the number of products for each palm category w.r.t the brands\n",
    "bra_palm_grouped_df = bra_palm_df.groupby('brands').sum()\n",
    "\n",
    "# add the number of products per brand\n",
    "bra_palm_grouped_df = brand_count.join(bra_palm_grouped_df)\n",
    "\n",
    "bra_palm_grouped_df.head(3)"
   ]
  },
  {
   "cell_type": "code",
   "execution_count": 134,
   "metadata": {},
   "outputs": [
    {
     "data": {
      "text/html": [
       "<div>\n",
       "<style scoped>\n",
       "    .dataframe tbody tr th:only-of-type {\n",
       "        vertical-align: middle;\n",
       "    }\n",
       "\n",
       "    .dataframe tbody tr th {\n",
       "        vertical-align: top;\n",
       "    }\n",
       "\n",
       "    .dataframe thead th {\n",
       "        text-align: right;\n",
       "    }\n",
       "</style>\n",
       "<table border=\"1\" class=\"dataframe\">\n",
       "  <thead>\n",
       "    <tr style=\"text-align: right;\">\n",
       "      <th></th>\n",
       "      <th>may contain palm oil</th>\n",
       "      <th>contain palm oil</th>\n",
       "      <th>no palm oil</th>\n",
       "    </tr>\n",
       "    <tr>\n",
       "      <th>brands</th>\n",
       "      <th></th>\n",
       "      <th></th>\n",
       "      <th></th>\n",
       "    </tr>\n",
       "  </thead>\n",
       "  <tbody>\n",
       "    <tr>\n",
       "      <th>123 bio</th>\n",
       "      <td>0.168919</td>\n",
       "      <td>0.337838</td>\n",
       "      <td>99.493243</td>\n",
       "    </tr>\n",
       "    <tr>\n",
       "      <th>7Up</th>\n",
       "      <td>0.000000</td>\n",
       "      <td>0.000000</td>\n",
       "      <td>100.000000</td>\n",
       "    </tr>\n",
       "    <tr>\n",
       "      <th>A l'olivier</th>\n",
       "      <td>1.941748</td>\n",
       "      <td>0.970874</td>\n",
       "      <td>97.087379</td>\n",
       "    </tr>\n",
       "  </tbody>\n",
       "</table>\n",
       "</div>"
      ],
      "text/plain": [
       "             may contain palm oil  contain palm oil  no palm oil\n",
       "brands                                                          \n",
       "123 bio                  0.168919          0.337838    99.493243\n",
       "7Up                      0.000000          0.000000   100.000000\n",
       "A l'olivier              1.941748          0.970874    97.087379"
      ]
     },
     "execution_count": 134,
     "metadata": {},
     "output_type": "execute_result"
    }
   ],
   "source": [
    "# get ratio from the counts\n",
    "ratio_df = pd.DataFrame()\n",
    "ratio_df['may contain palm oil'] = bra_palm_grouped_df.ingredients_that_may_be_from_palm_oil_n.div(bra_palm_grouped_df.total)\n",
    "ratio_df['contain palm oil'] = bra_palm_grouped_df.ingredients_from_palm_oil_n.div(bra_palm_grouped_df.total)\n",
    "ratio_df['no palm oil'] = 1 - ratio_df['may contain palm oil'] - ratio_df['contain palm oil']\n",
    "\n",
    "# get percentage\n",
    "ratio_df = ratio_df.applymap(lambda x: 100*x) \n",
    "\n",
    "ratio_df.head(3)"
   ]
  },
  {
   "cell_type": "code",
   "execution_count": 135,
   "metadata": {},
   "outputs": [],
   "source": [
    "# extract the values for the 10 biggest brands in France\n",
    "ratio_top10_df = ratio_df.copy().reset_index()[ratio_df.index.isin(top10_brand_names)].reset_index(drop=True)"
   ]
  },
  {
   "cell_type": "code",
   "execution_count": 136,
   "metadata": {},
   "outputs": [],
   "source": [
    "# sort them to have the more \"environmental\" brands first\n",
    "ratio_top10_df.sort_values(by='no palm oil', ascending=False, inplace=True)"
   ]
  },
  {
   "cell_type": "code",
   "execution_count": 137,
   "metadata": {},
   "outputs": [
    {
     "data": {
      "application/vnd.jupyter.widget-view+json": {
       "model_id": "bee71a9663714be1bc1c3eb079baad39",
       "version_major": 2,
       "version_minor": 0
      },
      "text/html": [
       "<p>Failed to display Jupyter Widget of type <code>FigureWidget</code>.</p>\n",
       "<p>\n",
       "  If you're reading this message in the Jupyter Notebook or JupyterLab Notebook, it may mean\n",
       "  that the widgets JavaScript is still loading. If this message persists, it\n",
       "  likely means that the widgets JavaScript library is either not installed or\n",
       "  not enabled. See the <a href=\"https://ipywidgets.readthedocs.io/en/stable/user_install.html\">Jupyter\n",
       "  Widgets Documentation</a> for setup instructions.\n",
       "</p>\n",
       "<p>\n",
       "  If you're reading this message in another frontend (for example, a static\n",
       "  rendering on GitHub or <a href=\"https://nbviewer.jupyter.org/\">NBViewer</a>),\n",
       "  it may mean that your frontend doesn't currently support widgets.\n",
       "</p>\n"
      ],
      "text/plain": [
       "FigureWidget({\n",
       "    'data': [{'marker': {'color': '#17becf'},\n",
       "              'name': 'Picard',\n",
       "              'type': 'bar',\n",
       "              'uid': '45b4fc68-ffd6-11e8-b24b-ac220bb8d9d3',\n",
       "              'x': array(['may contain palm oil', 'contain palm oil', 'no palm oil'], dtype=object),\n",
       "              'y': array([13.883431565160445, 1.6371971185330716, 84.47937131630648], dtype=object)},\n",
       "             {'marker': {'color': '#7f7f7f'},\n",
       "              'name': 'Monoprix',\n",
       "              'type': 'bar',\n",
       "              'uid': '45b4fc69-ffd6-11e8-9a72-ac220bb8d9d3',\n",
       "              'x': array(['may contain palm oil', 'contain palm oil', 'no palm oil'], dtype=object),\n",
       "              'y': array([14.221652786675207, 1.7937219730941705, 83.98462524023061], dtype=object)},\n",
       "             {'marker': {'color': '#d62728'},\n",
       "              'name': 'Casino',\n",
       "              'type': 'bar',\n",
       "              'uid': '45b4fc6a-ffd6-11e8-8efd-ac220bb8d9d3',\n",
       "              'x': array(['may contain palm oil', 'contain palm oil', 'no palm oil'], dtype=object),\n",
       "              'y': array([14.500326583932072, 3.10254735467015, 82.39712606139777], dtype=object)},\n",
       "             {'marker': {'color': '#2ca02c'},\n",
       "              'name': 'Carrefour',\n",
       "              'type': 'bar',\n",
       "              'uid': '45b4fc6b-ffd6-11e8-9cfb-ac220bb8d9d3',\n",
       "              'x': array(['may contain palm oil', 'contain palm oil', 'no palm oil'], dtype=object),\n",
       "              'y': array([12.584650112866816, 5.850263355906696, 81.5650865312265], dtype=object)},\n",
       "             {'marker': {'color': '#9467bd'},\n",
       "              'name': 'Cora',\n",
       "              'type': 'bar',\n",
       "              'uid': '45b4fc6c-ffd6-11e8-9d58-ac220bb8d9d3',\n",
       "              'x': array(['may contain palm oil', 'contain palm oil', 'no palm oil'], dtype=object),\n",
       "              'y': array([13.303212851405622, 6.375502008032129, 80.32128514056225], dtype=object)},\n",
       "             {'marker': {'color': '#1f77b4'},\n",
       "              'name': 'Auchan',\n",
       "              'type': 'bar',\n",
       "              'uid': '45b4fc6d-ffd6-11e8-b567-ac220bb8d9d3',\n",
       "              'x': array(['may contain palm oil', 'contain palm oil', 'no palm oil'], dtype=object),\n",
       "              'y': array([15.213977228111503, 5.241460541813899, 79.54456223007459], dtype=object)},\n",
       "             {'marker': {'color': '#8c564b'},\n",
       "              'name': 'Leader Price',\n",
       "              'type': 'bar',\n",
       "              'uid': '45b4fc6e-ffd6-11e8-9421-ac220bb8d9d3',\n",
       "              'x': array(['may contain palm oil', 'contain palm oil', 'no palm oil'], dtype=object),\n",
       "              'y': array([17.438981252210827, 5.447470817120623, 77.11354793066855], dtype=object)},\n",
       "             {'marker': {'color': '#bcbd22'},\n",
       "              'name': 'Netto',\n",
       "              'type': 'bar',\n",
       "              'uid': '45b4fc6f-ffd6-11e8-a480-ac220bb8d9d3',\n",
       "              'x': array(['may contain palm oil', 'contain palm oil', 'no palm oil'], dtype=object),\n",
       "              'y': array([16.311475409836067, 6.967213114754098, 76.72131147540983], dtype=object)},\n",
       "             {'marker': {'color': '#ff7f0e'},\n",
       "              'name': 'Belle France',\n",
       "              'type': 'bar',\n",
       "              'uid': '45b4fc70-ffd6-11e8-851e-ac220bb8d9d3',\n",
       "              'x': array(['may contain palm oil', 'contain palm oil', 'no palm oil'], dtype=object),\n",
       "              'y': array([16.82509505703422, 6.55893536121673, 76.61596958174904], dtype=object)},\n",
       "             {'marker': {'color': '#e377c2'},\n",
       "              'name': 'Leclerc',\n",
       "              'type': 'bar',\n",
       "              'uid': '45b4fc71-ffd6-11e8-b9bf-ac220bb8d9d3',\n",
       "              'x': array(['may contain palm oil', 'contain palm oil', 'no palm oil'], dtype=object),\n",
       "              'y': array([20.913016656384947, 7.310302282541641, 71.77668106107342], dtype=object)}],\n",
       "    'layout': {'title': 'Raio of products with palm oil for the top 10 french brand.',\n",
       "               'xaxis': {'ticktext': array(['may contain palm oil', 'contain palm oil', 'no palm oil'], dtype=object),\n",
       "                         'tickvals': array(['0', '1', '2'], dtype=object),\n",
       "                         'title': 'Product Feature',\n",
       "                         'titlefont': {'color': '#7f7f7f', 'family': 'Courier New, monospace', 'size': 18}},\n",
       "               'yaxis': {'title': 'Ratio (in %)',\n",
       "                         'titlefont': {'color': '#7f7f7f', 'family': 'Courier New, monospace', 'size': 18}}}\n",
       "})"
      ]
     },
     "metadata": {},
     "output_type": "display_data"
    }
   ],
   "source": [
    "# interactive plot\n",
    "data = []\n",
    "colors = sns.color_palette(\"tab10\", 10).as_hex()\n",
    "\n",
    "for index, row in ratio_top10_df.iterrows():\n",
    "    data.append(go.Bar(x=ratio_top10_df.columns[1:],\n",
    "                       y=np.array(row[1:]),\n",
    "                       name = row['brands'],\n",
    "                       marker={'color': colors[index]}))\n",
    "\n",
    "layout = go.Layout(\n",
    "    title='Raio of products with palm oil for the top 10 french brand.',\n",
    "    xaxis=go.layout.XAxis(\n",
    "        title='Product Feature',\n",
    "        titlefont=dict(\n",
    "            family='Courier New, monospace',\n",
    "            size=18,\n",
    "            color='#7f7f7f'\n",
    "        ),\n",
    "        tickvals=np.arange(3).astype(str),\n",
    "        ticktext=ratio_top10_df.columns[1:],\n",
    "    ),\n",
    "    yaxis=dict(\n",
    "        title='Ratio (in %)',\n",
    "        titlefont=dict(\n",
    "            family='Courier New, monospace',\n",
    "            size=18,\n",
    "            color='#7f7f7f'\n",
    "        )\n",
    "    ),\n",
    ")\n",
    "\n",
    "go.FigureWidget(data=data, layout=layout)"
   ]
  },
  {
   "cell_type": "code",
   "execution_count": 138,
   "metadata": {},
   "outputs": [
    {
     "data": {
      "application/vnd.jupyter.widget-view+json": {
       "model_id": "e98233fadf354fff86cae0b870be1faf",
       "version_major": 2,
       "version_minor": 0
      },
      "text/html": [
       "<p>Failed to display Jupyter Widget of type <code>FigureWidget</code>.</p>\n",
       "<p>\n",
       "  If you're reading this message in the Jupyter Notebook or JupyterLab Notebook, it may mean\n",
       "  that the widgets JavaScript is still loading. If this message persists, it\n",
       "  likely means that the widgets JavaScript library is either not installed or\n",
       "  not enabled. See the <a href=\"https://ipywidgets.readthedocs.io/en/stable/user_install.html\">Jupyter\n",
       "  Widgets Documentation</a> for setup instructions.\n",
       "</p>\n",
       "<p>\n",
       "  If you're reading this message in another frontend (for example, a static\n",
       "  rendering on GitHub or <a href=\"https://nbviewer.jupyter.org/\">NBViewer</a>),\n",
       "  it may mean that your frontend doesn't currently support widgets.\n",
       "</p>\n"
      ],
      "text/plain": [
       "FigureWidget({\n",
       "    'data': [{'marker': {'color': '#1f77b4'},\n",
       "              'name': 'may contain palm oil',\n",
       "              'type': 'bar',\n",
       "              'uid': '4b89617a-ffd6-11e8-9026-ac220bb8d9d3',\n",
       "              'x': array(['Picard', 'Monoprix', 'Casino', 'Carrefour', 'Cora', 'Auchan',\n",
       "                          'Leader Price', 'Netto', 'Belle France', 'Leclerc'], dtype=object),\n",
       "              'y': array([13.88343157, 14.22165279, 14.50032658, 12.58465011, 13.30321285,\n",
       "                          15.21397723, 17.43898125, 16.31147541, 16.82509506, 20.91301666])},\n",
       "             {'marker': {'color': '#ff7f0e'},\n",
       "              'name': 'contain palm oil',\n",
       "              'type': 'bar',\n",
       "              'uid': '4b89617b-ffd6-11e8-b0a7-ac220bb8d9d3',\n",
       "              'x': array(['Picard', 'Monoprix', 'Casino', 'Carrefour', 'Cora', 'Auchan',\n",
       "                          'Leader Price', 'Netto', 'Belle France', 'Leclerc'], dtype=object),\n",
       "              'y': array([1.63719712, 1.79372197, 3.10254735, 5.85026336, 6.37550201, 5.24146054,\n",
       "                          5.44747082, 6.96721311, 6.55893536, 7.31030228])},\n",
       "             {'marker': {'color': '#2ca02c'},\n",
       "              'name': 'no palm oil',\n",
       "              'type': 'bar',\n",
       "              'uid': '4b89617c-ffd6-11e8-b50d-ac220bb8d9d3',\n",
       "              'x': array(['Picard', 'Monoprix', 'Casino', 'Carrefour', 'Cora', 'Auchan',\n",
       "                          'Leader Price', 'Netto', 'Belle France', 'Leclerc'], dtype=object),\n",
       "              'y': array([84.47937132, 83.98462524, 82.39712606, 81.56508653, 80.32128514,\n",
       "                          79.54456223, 77.11354793, 76.72131148, 76.61596958, 71.77668106])}],\n",
       "    'layout': {'barmode': 'stack',\n",
       "               'title': 'Palm oil presence within the 10 biggest food brands in France.',\n",
       "               'xaxis': {'ticktext': array(['Picard', 'Monoprix', 'Casino', 'Carrefour', 'Cora', 'Auchan',\n",
       "                                            'Leader Price', 'Netto', 'Belle France', 'Leclerc'], dtype=object),\n",
       "                         'tickvals': array(['0', '1', '2', '3', '4', '5', '6', '7', '8', '9'], dtype=object),\n",
       "                         'title': 'Food Brand',\n",
       "                         'titlefont': {'color': '#7f7f7f', 'family': 'Courier New, monospace', 'size': 18}},\n",
       "               'yaxis': {'title': 'Ratio (in %)',\n",
       "                         'titlefont': {'color': '#7f7f7f', 'family': 'Courier New, monospace', 'size': 18}}}\n",
       "})"
      ]
     },
     "metadata": {},
     "output_type": "display_data"
    }
   ],
   "source": [
    "# interactive plot\n",
    "data = []\n",
    "colors = sns.color_palette(\"tab10\", 10).as_hex()\n",
    "\n",
    "for i in range(3):\n",
    "    \n",
    "    data.append(go.Bar(x=ratio_top10_df['brands'],\n",
    "                       y=ratio_top10_df[ratio_top10_df.columns[i+1]],\n",
    "                       name = ratio_top10_df.columns[i+1],\n",
    "                       marker={'color': colors[i]}))\n",
    "\n",
    "layout = go.Layout(\n",
    "    title='Palm oil presence within the 10 biggest food brands in France.',\n",
    "    barmode='stack',\n",
    "    xaxis=go.layout.XAxis(\n",
    "        title='Food Brand',\n",
    "        titlefont=dict(\n",
    "            family='Courier New, monospace',\n",
    "            size=18,\n",
    "            color='#7f7f7f'\n",
    "        ),\n",
    "        tickvals=np.arange(10).astype(str),\n",
    "        ticktext=ratio_top10_df['brands'],\n",
    "    ),\n",
    "    yaxis=dict(\n",
    "        title='Ratio (in %)',\n",
    "        titlefont=dict(\n",
    "            family='Courier New, monospace',\n",
    "            size=18,\n",
    "            color='#7f7f7f'\n",
    "        )\n",
    "    ),\n",
    ")\n",
    "\n",
    "go.FigureWidget(data=data, layout=layout)"
   ]
  },
  {
   "cell_type": "markdown",
   "metadata": {},
   "source": [
    "# Score each brand from palm oil presence and nutrition score ratios"
   ]
  },
  {
   "cell_type": "code",
   "execution_count": 139,
   "metadata": {},
   "outputs": [
    {
     "data": {
      "text/html": [
       "<div>\n",
       "<style scoped>\n",
       "    .dataframe tbody tr th:only-of-type {\n",
       "        vertical-align: middle;\n",
       "    }\n",
       "\n",
       "    .dataframe tbody tr th {\n",
       "        vertical-align: top;\n",
       "    }\n",
       "\n",
       "    .dataframe thead th {\n",
       "        text-align: right;\n",
       "    }\n",
       "</style>\n",
       "<table border=\"1\" class=\"dataframe\">\n",
       "  <thead>\n",
       "    <tr style=\"text-align: right;\">\n",
       "      <th></th>\n",
       "      <th>a</th>\n",
       "      <th>b</th>\n",
       "      <th>c</th>\n",
       "      <th>d</th>\n",
       "      <th>e</th>\n",
       "      <th>total</th>\n",
       "    </tr>\n",
       "    <tr>\n",
       "      <th>brands</th>\n",
       "      <th></th>\n",
       "      <th></th>\n",
       "      <th></th>\n",
       "      <th></th>\n",
       "      <th></th>\n",
       "      <th></th>\n",
       "    </tr>\n",
       "  </thead>\n",
       "  <tbody>\n",
       "    <tr>\n",
       "      <th>Carrefour</th>\n",
       "      <td>19.763931</td>\n",
       "      <td>15.344496</td>\n",
       "      <td>19.818831</td>\n",
       "      <td>26.269558</td>\n",
       "      <td>18.803184</td>\n",
       "      <td>3643</td>\n",
       "    </tr>\n",
       "    <tr>\n",
       "      <th>Auchan</th>\n",
       "      <td>18.391764</td>\n",
       "      <td>15.303283</td>\n",
       "      <td>21.313300</td>\n",
       "      <td>26.794658</td>\n",
       "      <td>18.196995</td>\n",
       "      <td>3594</td>\n",
       "    </tr>\n",
       "    <tr>\n",
       "      <th>Leclerc</th>\n",
       "      <td>13.648180</td>\n",
       "      <td>15.901213</td>\n",
       "      <td>22.010399</td>\n",
       "      <td>27.816291</td>\n",
       "      <td>20.623917</td>\n",
       "      <td>2308</td>\n",
       "    </tr>\n",
       "  </tbody>\n",
       "</table>\n",
       "</div>"
      ],
      "text/plain": [
       "                   a          b          c          d          e  total\n",
       "brands                                                                 \n",
       "Carrefour  19.763931  15.344496  19.818831  26.269558  18.803184   3643\n",
       "Auchan     18.391764  15.303283  21.313300  26.794658  18.196995   3594\n",
       "Leclerc    13.648180  15.901213  22.010399  27.816291  20.623917   2308"
      ]
     },
     "execution_count": 139,
     "metadata": {},
     "output_type": "execute_result"
    }
   ],
   "source": [
    "brand_nutri_ratio.head(3)"
   ]
  },
  {
   "cell_type": "code",
   "execution_count": 140,
   "metadata": {},
   "outputs": [],
   "source": [
    "# keep only the brand which have more than 100 products\n",
    "brand_nutri_ratio = brand_nutri_ratio[brand_nutri_ratio.total > 100]"
   ]
  },
  {
   "cell_type": "code",
   "execution_count": 147,
   "metadata": {},
   "outputs": [],
   "source": [
    "# we will assign a score to each brand. The best score is 5 (for 'a') and the worst is 1 ('e'). \n",
    "scores = np.array([5,4,3,2,1])\n",
    "\n",
    "# for each brand the score will be the average of the ratios in each category ('a','b'..) weighted by the score of each category (5,4..) \n",
    "brand_score_nutri = brand_nutri_ratio.drop('total', axis=1).multiply(1/100).multiply(scores).mean(axis=1).to_frame(name='nutrition score')\n",
    "brand_score_nutri['nutrition score'] *= 5\n",
    "brand_score_nutri.sort_values(by='nutrition score', ascending=False, inplace=True)"
   ]
  },
  {
   "cell_type": "markdown",
   "metadata": {},
   "source": [
    "A score of 5 for a brand means that 100% of the products sold by the brand are 'a' (very healthy). "
   ]
  },
  {
   "cell_type": "code",
   "execution_count": 149,
   "metadata": {},
   "outputs": [],
   "source": [
    "# take the 10 best (highest score) and 10 worst brand (lowest score)\n",
    "brand_10best_10worst = pd.concat([brand_score_nutri.head(10).reset_index(), brand_score_nutri.tail(10).reset_index()], axis=0).reset_index(drop=True)"
   ]
  },
  {
   "cell_type": "code",
   "execution_count": 150,
   "metadata": {
    "scrolled": true
   },
   "outputs": [
    {
     "data": {
      "application/vnd.jupyter.widget-view+json": {
       "model_id": "a8a716e757a6480a9b5bcb57b243cee0",
       "version_major": 2,
       "version_minor": 0
      },
      "text/html": [
       "<p>Failed to display Jupyter Widget of type <code>FigureWidget</code>.</p>\n",
       "<p>\n",
       "  If you're reading this message in the Jupyter Notebook or JupyterLab Notebook, it may mean\n",
       "  that the widgets JavaScript is still loading. If this message persists, it\n",
       "  likely means that the widgets JavaScript library is either not installed or\n",
       "  not enabled. See the <a href=\"https://ipywidgets.readthedocs.io/en/stable/user_install.html\">Jupyter\n",
       "  Widgets Documentation</a> for setup instructions.\n",
       "</p>\n",
       "<p>\n",
       "  If you're reading this message in another frontend (for example, a static\n",
       "  rendering on GitHub or <a href=\"https://nbviewer.jupyter.org/\">NBViewer</a>),\n",
       "  it may mean that your frontend doesn't currently support widgets.\n",
       "</p>\n"
      ],
      "text/plain": [
       "FigureWidget({\n",
       "    'data': [{'marker': {'color': '#124984'},\n",
       "              'name': \"D'Aucy\",\n",
       "              'type': 'bar',\n",
       "              'uid': '2f526cc6-ffd7-11e8-a9fb-ac220bb8d9d3',\n",
       "              'x': array([0]),\n",
       "              'y': array([4.70512821])},\n",
       "             {'marker': {'color': '#1f63a8'},\n",
       "              'name': 'Charles & Alice',\n",
       "              'type': 'bar',\n",
       "              'uid': '2f526cc7-ffd7-11e8-a95e-ac220bb8d9d3',\n",
       "              'x': array([1]),\n",
       "              'y': array([4.53465347])},\n",
       "             {'marker': {'color': '#2f79b5'},\n",
       "              'name': 'Saint Marcellin',\n",
       "              'type': 'bar',\n",
       "              'uid': '2f526cc8-ffd7-11e8-9191-ac220bb8d9d3',\n",
       "              'x': array([2]),\n",
       "              'y': array([4.52380952])},\n",
       "             {'marker': {'color': '#3f8ec0'},\n",
       "              'name': 'Le Marin',\n",
       "              'type': 'bar',\n",
       "              'uid': '2f526cc9-ffd7-11e8-9d66-ac220bb8d9d3',\n",
       "              'x': array([3]),\n",
       "              'y': array([4.34728033])},\n",
       "             {'marker': {'color': '#5fa5cd'},\n",
       "              'name': 'Materne',\n",
       "              'type': 'bar',\n",
       "              'uid': '2f526cca-ffd7-11e8-bfa4-ac220bb8d9d3',\n",
       "              'x': array([4]),\n",
       "              'y': array([4.24])},\n",
       "             {'marker': {'color': '#87beda'},\n",
       "              'name': 'Panzani',\n",
       "              'type': 'bar',\n",
       "              'uid': '2f526ccb-ffd7-11e8-8b76-ac220bb8d9d3',\n",
       "              'x': array([5]),\n",
       "              'y': array([4.04240283])},\n",
       "             {'marker': {'color': '#a7d0e4'},\n",
       "              'name': 'Lustucru',\n",
       "              'type': 'bar',\n",
       "              'uid': '2f526ccc-ffd7-11e8-aee8-ac220bb8d9d3',\n",
       "              'x': array([6]),\n",
       "              'y': array([4.00456621])},\n",
       "             {'marker': {'color': '#c5dfec'},\n",
       "              'name': 'Floraline',\n",
       "              'type': 'bar',\n",
       "              'uid': '2f526ccd-ffd7-11e8-85d8-ac220bb8d9d3',\n",
       "              'x': array([7]),\n",
       "              'y': array([3.98360656])},\n",
       "             {'marker': {'color': '#dbeaf2'},\n",
       "              'name': 'Minidou',\n",
       "              'type': 'bar',\n",
       "              'uid': '2f526cce-ffd7-11e8-9783-ac220bb8d9d3',\n",
       "              'x': array([8]),\n",
       "              'y': array([3.82285714])},\n",
       "             {'marker': {'color': '#edf2f5'},\n",
       "              'name': 'Charal',\n",
       "              'type': 'bar',\n",
       "              'uid': '2f526ccf-ffd7-11e8-856d-ac220bb8d9d3',\n",
       "              'x': array([9]),\n",
       "              'y': array([3.79180887])},\n",
       "             {'marker': {'color': '#f9f0eb'},\n",
       "              'name': 'Kercadelac',\n",
       "              'type': 'bar',\n",
       "              'uid': '2f526cd0-ffd7-11e8-9f79-ac220bb8d9d3',\n",
       "              'x': array([10]),\n",
       "              'y': array([1.625])},\n",
       "             {'marker': {'color': '#fbe3d4'},\n",
       "              'name': 'St Michel',\n",
       "              'type': 'bar',\n",
       "              'uid': '2f526cd1-ffd7-11e8-b69b-ac220bb8d9d3',\n",
       "              'x': array([11]),\n",
       "              'y': array([1.61835749])},\n",
       "             {'marker': {'color': '#fbd0b9'},\n",
       "              'name': 'Bastides',\n",
       "              'type': 'bar',\n",
       "              'uid': '2f526cd2-ffd7-11e8-aea3-ac220bb8d9d3',\n",
       "              'x': array([12]),\n",
       "              'y': array([1.61386139])},\n",
       "             {'marker': {'color': '#f7b799'},\n",
       "              'name': 'Mottin',\n",
       "              'type': 'bar',\n",
       "              'uid': '2f526cd3-ffd7-11e8-946a-ac220bb8d9d3',\n",
       "              'x': array([13]),\n",
       "              'y': array([1.55555556])},\n",
       "             {'marker': {'color': '#f09c7b'},\n",
       "              'name': 'Ferrero',\n",
       "              'type': 'bar',\n",
       "              'uid': '2f526cd4-ffd7-11e8-8656-ac220bb8d9d3',\n",
       "              'x': array([14]),\n",
       "              'y': array([1.52564103])},\n",
       "             {'marker': {'color': '#e17860'},\n",
       "              'name': 'Monin',\n",
       "              'type': 'bar',\n",
       "              'uid': '2f526cd5-ffd7-11e8-968a-ac220bb8d9d3',\n",
       "              'x': array([15]),\n",
       "              'y': array([1.3974359])},\n",
       "             {'marker': {'color': '#d25849'},\n",
       "              'name': 'Kinder',\n",
       "              'type': 'bar',\n",
       "              'uid': '2f526cd6-ffd7-11e8-b318-ac220bb8d9d3',\n",
       "              'x': array([16]),\n",
       "              'y': array([1.27731092])},\n",
       "             {'marker': {'color': '#c13639'},\n",
       "              'name': 'Cemoi',\n",
       "              'type': 'bar',\n",
       "              'uid': '2f526cd7-ffd7-11e8-a618-ac220bb8d9d3',\n",
       "              'x': array([17]),\n",
       "              'y': array([1.2248062])},\n",
       "             {'marker': {'color': '#ae172a'},\n",
       "              'name': 'Milka',\n",
       "              'type': 'bar',\n",
       "              'uid': '2f526cd8-ffd7-11e8-8895-ac220bb8d9d3',\n",
       "              'x': array([18]),\n",
       "              'y': array([1.18716578])},\n",
       "             {'marker': {'color': '#8a0b25'},\n",
       "              'name': 'Lindt',\n",
       "              'type': 'bar',\n",
       "              'uid': '2f526cd9-ffd7-11e8-a073-ac220bb8d9d3',\n",
       "              'x': array([19]),\n",
       "              'y': array([1.04123711])}],\n",
       "    'layout': {'showlegend': False,\n",
       "               'title': 'Health score of the 10 best and 10 worst food brands in France.',\n",
       "               'xaxis': {'ticktext': array([\"D'Aucy\", 'Charles & Alice', 'Saint Marcellin', 'Le Marin', 'Materne',\n",
       "                                            'Panzani', 'Lustucru', 'Floraline', 'Minidou', 'Charal', 'Kercadelac',\n",
       "                                            'St Michel', 'Bastides', 'Mottin', 'Ferrero', 'Monin', 'Kinder',\n",
       "                                            'Cemoi', 'Milka', 'Lindt'], dtype=object),\n",
       "                         'tickvals': array(['0', '1', '2', '3', '4', '5', '6', '7', '8', '9', '10', '11', '12',\n",
       "                                            '13', '14', '15', '16', '17', '18', '19'], dtype=object),\n",
       "                         'title': 'Brand',\n",
       "                         'titlefont': {'color': '#7f7f7f', 'family': 'Courier New, monospace', 'size': 18}},\n",
       "               'yaxis': {'gridcolor': '#bdbdbd',\n",
       "                         'range': [0, 6],\n",
       "                         'showgrid': True,\n",
       "                         'ticktext': [e, d, c, b, a],\n",
       "                         'tickvals': array(['1', '2', '3', '4', '5'], dtype=object),\n",
       "                         'tickwidth': 3,\n",
       "                         'title': 'Global Nutrition Score',\n",
       "                         'titlefont': {'color': '#7f7f7f', 'family': 'Courier New, monospace', 'size': 18}}}\n",
       "})"
      ]
     },
     "metadata": {},
     "output_type": "display_data"
    }
   ],
   "source": [
    "# interactive plot\n",
    "data = []\n",
    "colors = sns.color_palette(\"RdBu_r\", 20).as_hex()\n",
    "y_values = ['a','b','c','d','e']\n",
    "\n",
    "for index, row in brand_10best_10worst.iterrows():\n",
    "    data.append(go.Bar(x=np.array(index),\n",
    "                       y=np.array(row['nutrition score']),\n",
    "                       name = row['brands'],\n",
    "                       marker={'color': colors[index]}))\n",
    "\n",
    "layout = go.Layout(\n",
    "    showlegend=False,\n",
    "    title='Health score of the 10 best and 10 worst food brands in France.',\n",
    "    xaxis=go.layout.XAxis(\n",
    "        title='Brand',\n",
    "        titlefont=dict(\n",
    "            family='Courier New, monospace',\n",
    "            size=18,\n",
    "            color='#7f7f7f'\n",
    "        ),\n",
    "        tickvals=np.arange(20).astype(str),\n",
    "        ticktext=brand_10best_10worst.brands.values,\n",
    "    ),\n",
    "    yaxis=dict(\n",
    "        title='Global Nutrition Score',\n",
    "        titlefont=dict(\n",
    "            family='Courier New, monospace',\n",
    "            size=18,\n",
    "            color='#7f7f7f'\n",
    "        ),\n",
    "        showgrid = True,\n",
    "        gridcolor='#bdbdbd',\n",
    "        range=[0, 6],\n",
    "        tickwidth=3,\n",
    "        tickvals=np.arange(1,6).astype(str),\n",
    "        ticktext=y_values[::-1],\n",
    "    ),\n",
    ")\n",
    "\n",
    "go.FigureWidget(data=data, layout=layout)"
   ]
  }
 ],
 "metadata": {
  "kernelspec": {
   "display_name": "Python 3",
   "language": "python",
   "name": "python3"
  },
  "language_info": {
   "codemirror_mode": {
    "name": "ipython",
    "version": 3
   },
   "file_extension": ".py",
   "mimetype": "text/x-python",
   "name": "python",
   "nbconvert_exporter": "python",
   "pygments_lexer": "ipython3",
   "version": "3.6.4"
  }
 },
 "nbformat": 4,
 "nbformat_minor": 2
}

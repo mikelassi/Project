{
 "cells": [
  {
   "cell_type": "markdown",
   "metadata": {},
   "source": [
    "# Food For Thought \n",
    "## Digging into the dataset\n",
    "\n",
    "The first step of this project aims at understanding the dataset we have chosen ([Open Food Facts Database](https://world.openfoodfacts.org/)), to check whether it is suitable for the kind of analysis we want to develop.\n",
    "\n",
    "As a reminder, we would like to focus our research on two main topics:\n",
    "1. Impact of food on environment\n",
    "2. Impact of food on the health"
   ]
  },
  {
   "cell_type": "code",
   "execution_count": 1,
   "metadata": {},
   "outputs": [],
   "source": [
    "import re\n",
    "import pandas as pd\n",
    "import numpy as np\n",
    "import matplotlib\n",
    "import seaborn as sns\n",
    "import matplotlib.pyplot as plt\n",
    "import matplotlib.style as style\n",
    "from mpl_toolkits.mplot3d import Axes3D\n",
    "from difflib import get_close_matches\n",
    "\n",
    "import pickle"
   ]
  },
  {
   "cell_type": "code",
   "execution_count": 2,
   "metadata": {},
   "outputs": [],
   "source": [
    "from sklearn.decomposition import PCA\n",
    "from sklearn.preprocessing import StandardScaler\n",
    "\n",
    "import findspark\n",
    "findspark.init()\n",
    "\n",
    "from pyspark.sql import *\n",
    "import pyspark.sql.functions as F\n",
    "\n",
    "from pyspark.sql import SparkSession\n",
    "from pyspark import SparkContext\n",
    "\n",
    "spark = SparkSession.builder.getOrCreate()\n",
    "sc = spark.sparkContext\n",
    "%matplotlib inline"
   ]
  },
  {
   "cell_type": "raw",
   "metadata": {},
   "source": [
    "import plotly.plotly as py\n",
    "import plotly.graph_objs as go\n",
    "import plotly.tools as pytools\n",
    "\n",
    "pytools.set_credentials_file(username='tomM', api_key='oS78cBzIZzmTHXpgY4Rq')"
   ]
  },
  {
   "cell_type": "code",
   "execution_count": 3,
   "metadata": {},
   "outputs": [
    {
     "data": {
      "text/html": [
       "<script>requirejs.config({paths: { 'plotly': ['https://cdn.plot.ly/plotly-latest.min']},});if(!window.Plotly) {{require(['plotly'],function(plotly) {window.Plotly=plotly;});}}</script>"
      ],
      "text/vnd.plotly.v1+html": [
       "<script>requirejs.config({paths: { 'plotly': ['https://cdn.plot.ly/plotly-latest.min']},});if(!window.Plotly) {{require(['plotly'],function(plotly) {window.Plotly=plotly;});}}</script>"
      ]
     },
     "metadata": {},
     "output_type": "display_data"
    }
   ],
   "source": [
    "from plotly.offline import download_plotlyjs, init_notebook_mode\n",
    "import plotly.plotly as py\n",
    "import plotly.graph_objs as go\n",
    "import plotly.tools as tools\n",
    "\n",
    "#import cufflinks as cf \n",
    "\n",
    "init_notebook_mode(connected=True)"
   ]
  },
  {
   "cell_type": "code",
   "execution_count": 4,
   "metadata": {},
   "outputs": [],
   "source": [
    "DATA_FOLDER = './data/'\n",
    "data = spark.read.csv(DATA_FOLDER +'en.openfoodfacts.org.products.csv',header=True,sep='\\t')          "
   ]
  },
  {
   "cell_type": "markdown",
   "metadata": {},
   "source": [
    "## Brand vs Nutrition vs Food Category in France "
   ]
  },
  {
   "cell_type": "markdown",
   "metadata": {},
   "source": [
    "## load and clean"
   ]
  },
  {
   "cell_type": "raw",
   "metadata": {},
   "source": [
    "bra_cat_nut = data.filter(\"countries_en=='France'\")\\\n",
    "                    .select('brands', 'nutrition_grade_fr', 'pnns_groups_1')\\\n",
    "                    .dropna(how='all')"
   ]
  },
  {
   "cell_type": "raw",
   "metadata": {},
   "source": [
    "bra_cat_nut = bra_cat_nut.withColumn('pnns_groups_1',(F.regexp_replace('pnns_groups_1', '-', ' ')))\n",
    "square_udf_int = F.udf(lambda z: z.title() if z else z)\n",
    "bra_cat_nut = bra_cat_nut.withColumn('pnns_groups_1',square_udf_int('pnns_groups_1'))"
   ]
  },
  {
   "cell_type": "raw",
   "metadata": {},
   "source": [
    "# we convert the spark dataframe to a pandas dataframe\n",
    "bra_cat_nut_df = bra_cat_nut.toPandas()\n",
    "\n",
    "# we store it in the current folder \n",
    "bra_cat_nut_df.to_pickle('bra_cat_nut_df')"
   ]
  },
  {
   "cell_type": "code",
   "execution_count": null,
   "metadata": {},
   "outputs": [],
   "source": [
    "# we can now read it everytime we want to continue the analysis\n",
    "bra_cat_nut_raw_df = pd.read_pickle('bra_cat_nut_raw_df')"
   ]
  },
  {
   "cell_type": "code",
   "execution_count": null,
   "metadata": {},
   "outputs": [],
   "source": [
    "bra_cat_nut_raw_df.head()"
   ]
  },
  {
   "cell_type": "markdown",
   "metadata": {},
   "source": [
    "The problem is that the 'brands' tags are not always consistent. For example we can find the brand tag 'carrefour', \"Carrefour\", \"carrfour,bio carrefour' ect. \n",
    "Hence we first clean the brands using a list of food brands present in France and a function to match the 'brands' tag with the closest brand in the list. "
   ]
  },
  {
   "cell_type": "code",
   "execution_count": null,
   "metadata": {},
   "outputs": [],
   "source": [
    "# list of food brands present in France ('Coca Cola', 'Fleury Michon', 'Carrefour' ect.)\n",
    "list_brand_file = open(\"brand_list.txt\", \"r\")\n",
    "list_brand = list_brand_file.read().split('\\n')\n",
    "\n",
    "# dictonary of parent brands. \n",
    "# to replace brands by its parent brand when they belong to a bigger one \n",
    "# (eg: 'Bio Village' is a brand of Leclerc which owes also 'Marque Repère')\n",
    "dict_parent_brand= {'Bio Village': 'Leclerc',\n",
    "                    'Marque Repère': 'Leclerc'}\n",
    "\n",
    "# we set to None the brand when it is \"Sans Marque\" \n",
    "# \"Sans Marque\" means the brands had not been specified, it can be \"Marque Repère\", \"Carrefour\", \"Délisse\" ect. \n",
    "# using the product search tool on https://fr.openfoodfacts.org with the tag \"Sans Marque\".\n",
    "dict_parent_brand['Sans Marque']= None"
   ]
  },
  {
   "cell_type": "code",
   "execution_count": null,
   "metadata": {},
   "outputs": [],
   "source": [
    "# Function which find for each value (string) in the column 'brands' the closest brand (string) in 'list_brand'.\n",
    "# Note: the function 'get_close_matches' has been imported from the open-source 'difflib' library.\n",
    "def clean_brand(brand_name):\n",
    "    \n",
    "    # brand name can be of the form 'Carrefour' (one word) or 'Carrefour, Bio Carrefour' (multiple words)\n",
    "    # hence we split the string w.r.t the symbol ',' and find the best matching brand word for each split.\n",
    "    matches=[]\n",
    "    if brand_name:\n",
    "        \n",
    "        for word in brand_name.split(','):\n",
    "\n",
    "            # the cutoff control for the False Positives possibilities in the 'list_brand' \n",
    "            # that don’t score at least the cutoff are ignored.\n",
    "            # n controls for the the number of possibilities (whose score is higher than the cutoff value).\n",
    "            matches.append(get_close_matches(word.lower(), list_brand, n=1, cutoff=0.6))\n",
    "\n",
    "        # remove empty sublists and unravel\n",
    "        matches = [brand for sublist in matches for brand in sublist if sublist]\n",
    "        \n",
    "        # output brand\n",
    "        if matches:\n",
    "            output = matches[0]\n",
    "        else:\n",
    "            output = None\n",
    "                \n",
    "        # check for parent brand\n",
    "        if output in dict_parent_brand:\n",
    "            output = dict_parent_brand[output]\n",
    "        \n",
    "        return output"
   ]
  },
  {
   "cell_type": "code",
   "execution_count": null,
   "metadata": {},
   "outputs": [],
   "source": [
    "# we create a new column with the new \"consistent\" brand tag. \n",
    "# takes some minutes to run...\n",
    "bra_cat_nut_raw_df['new_brands'] = bra_cat_nut_raw_df['brands'].apply(lambda x: clean_brand(x))"
   ]
  },
  {
   "cell_type": "code",
   "execution_count": null,
   "metadata": {},
   "outputs": [],
   "source": [
    "# drop when both 'nutrition_grade_fr' and 'brands' are None\n",
    "bra_cat_nut_cleaned_df = bra_cat_nut_raw_df.dropna(subset=['nutrition_grade_fr', 'brands'], how='all') \n",
    "\n",
    "# we can drop the old column 'brands' since we have the new ones.\n",
    "bra_cat_nut_cleaned_df = bra_cat_nut_cleaned_df.drop('brands',1).rename(columns={'new_brands':'brands'})\n",
    "\n",
    "bra_cat_nut_cleaned_df.head()"
   ]
  },
  {
   "cell_type": "code",
   "execution_count": null,
   "metadata": {},
   "outputs": [],
   "source": [
    "# here we count the number of products for each brand. \n",
    "# we consider that brand have enough products to be analyzed from 100 products\n",
    "count = bra_cat_nut_cleaned_df.groupby('brands').count().sort_values('nutrition_grade_fr', ascending=False)\n",
    "count.head()"
   ]
  },
  {
   "cell_type": "code",
   "execution_count": null,
   "metadata": {},
   "outputs": [],
   "source": [
    "count['enough_products']= count[['nutrition_grade_fr']].apply(lambda x: x>100)\n",
    "count = count[count.enough_products]\n",
    "count.head()"
   ]
  },
  {
   "cell_type": "markdown",
   "metadata": {},
   "source": [
    "The most abundant brands are Carrefour, Auchan and U. There are the brands of the biggest distributors (supermarkets) in France. "
   ]
  },
  {
   "cell_type": "code",
   "execution_count": null,
   "metadata": {},
   "outputs": [],
   "source": [
    "# here we add the column \"enough products\" to the dataframe with the cleaned brand.\n",
    "bra_cat_nut_cleaned_df = bra_cat_nut_cleaned_df.join(count[['enough_products']], on='brands')\n",
    "bra_cat_nut_cleaned_df = bra_cat_nut_cleaned_df.drop('enough_products',1)\n",
    "bra_cat_nut_cleaned_df.head()"
   ]
  },
  {
   "cell_type": "code",
   "execution_count": null,
   "metadata": {},
   "outputs": [],
   "source": [
    "# here we create dummy variables from the 'nutrition_grade_fr' whose value can be:\n",
    "# - 'a' (very good product for health) \n",
    "# - 'b' (good product)\n",
    "# - 'c' ('neutral product')\n",
    "# - 'd' ('not so good product')\n",
    "# - 'e' (bad product for health)\n",
    "\n",
    "bra_cat_nut_cleaned_expanded_df = pd.get_dummies(bra_cat_nut_cleaned_df.set_index('brands')).reset_index()\n",
    "bra_cat_nut_cleaned_dummies_df = bra_cat_nut_cleaned_expanded_df.rename(columns=\n",
    "                              {'nutrition_grade_fr_a':'a',\n",
    "                               'nutrition_grade_fr_b':'b',\n",
    "                               'nutrition_grade_fr_c':'c',\n",
    "                               'nutrition_grade_fr_d':'d',\n",
    "                               'nutrition_grade_fr_e':'e',\n",
    "                               'pnns_groups_1_Beverages': 'Beverages',\n",
    "                               'pnns_groups_1_Cereals And Potatoes':'Cereals And Potatoes',\n",
    "                               'pnns_groups_1_Composite Foods': 'Composite Foods',\n",
    "                               'pnns_groups_1_Fat And Sauces':'Fat And Sauces',\n",
    "                               'pnns_groups_1_Fish Meat Eggs':'Fish Meat Eggs',\n",
    "                               'pnns_groups_1_Fruits And Vegetables':'Fruits And Vegetables',\n",
    "                               'pnns_groups_1_Milk And Dairy Products':'Milk And Dairy Products',\n",
    "                               'pnns_groups_1_Salty Snacks':'Salty Snacks',\n",
    "                               'pnns_groups_1_Sugary Snacks':'Sugary Snacks',\n",
    "                               'pnns_groups_1_Unknown': 'Unknown'})\n",
    "bra_cat_nut_cleaned_dummies_df.head(5)"
   ]
  },
  {
   "cell_type": "raw",
   "metadata": {},
   "source": [
    "# we store it in the current folder \n",
    "bra_cat_nut_cleaned_df.to_pickle('bra_cat_nut_cleaned_df')\n",
    "bra_cat_nut_cleaned_dummies_df.to_pickle('bra_cat_nut_cleaned_dummies_df')"
   ]
  },
  {
   "cell_type": "markdown",
   "metadata": {},
   "source": [
    "## Load cleaned data"
   ]
  },
  {
   "cell_type": "code",
   "execution_count": 27,
   "metadata": {},
   "outputs": [],
   "source": [
    "bra_cat_nut_df = pd.read_pickle('bra_cat_nut_cleaned_df')\n",
    "bra_cat_nut_dummies_df = pd.read_pickle('bra_cat_nut_cleaned_dummies_df')"
   ]
  },
  {
   "cell_type": "markdown",
   "metadata": {},
   "source": [
    "## Food quality in the whole dataset"
   ]
  },
  {
   "cell_type": "code",
   "execution_count": 28,
   "metadata": {},
   "outputs": [],
   "source": [
    "count = bra_cat_nut_df[['nutrition_grade_fr','brands']].groupby('nutrition_grade_fr').count().rename(columns={'brands':'count'})"
   ]
  },
  {
   "cell_type": "code",
   "execution_count": null,
   "metadata": {
    "scrolled": false
   },
   "outputs": [],
   "source": [
    "data = []\n",
    "colors = sns.color_palette(\"RdBu_r\", 5).as_hex()\n",
    "\n",
    "for index, row in count.reset_index().iterrows():\n",
    "    data.append(go.Bar(x=np.array(index),\n",
    "                       y=np.array(row['count']),\n",
    "                       name = row['nutrition_grade_fr'],\n",
    "                       marker={'color': colors[index]}))\n",
    "\n",
    "layout = go.Layout(\n",
    "    title='Nutrition score occurences in the original dataset.',\n",
    "    xaxis=go.layout.XAxis(\n",
    "        title='Nutriscore',\n",
    "        titlefont=dict(\n",
    "            family='Courier New, monospace',\n",
    "            size=18,\n",
    "            color='#7f7f7f'\n",
    "        ),\n",
    "        tickvals=np.arange(5).astype(str),\n",
    "        ticktext=count.index,\n",
    "    ),\n",
    "    yaxis=dict(\n",
    "        title='Count',\n",
    "        titlefont=dict(\n",
    "            family='Courier New, monospace',\n",
    "            size=18,\n",
    "            color='#7f7f7f'\n",
    "        )\n",
    "    ),\n",
    ")\n",
    "\n",
    "go.FigureWidget(data=data, layout=layout)"
   ]
  },
  {
   "cell_type": "code",
   "execution_count": null,
   "metadata": {},
   "outputs": [],
   "source": [
    "labels = count.index\n",
    "values = count['count'].values\n",
    "colors = sns.color_palette(\"RdBu_r\", 5).as_hex()"
   ]
  },
  {
   "cell_type": "code",
   "execution_count": null,
   "metadata": {},
   "outputs": [],
   "source": [
    "fig = {\n",
    "    'data': [{'labels': labels,\n",
    "              'values': values,\n",
    "              'type': 'pie',\n",
    "              'marker':{'colors':colors}\n",
    "              }\n",
    "            ],\n",
    "    'layout': {'title': 'Nutrition score occurences in the original dataset.'}\n",
    "     }\n",
    "\n",
    "py.iplot(fig)"
   ]
  },
  {
   "cell_type": "markdown",
   "metadata": {},
   "source": [
    "## Food quality for each french food brand"
   ]
  },
  {
   "cell_type": "code",
   "execution_count": 110,
   "metadata": {},
   "outputs": [],
   "source": [
    "bra_nut_df = bra_cat_nut_df[['brands', 'nutrition_grade_fr']]\n",
    "bra_nut_dummies_df = bra_cat_nut_dummies_df.iloc[:,np.arange(6)]"
   ]
  },
  {
   "cell_type": "code",
   "execution_count": 111,
   "metadata": {},
   "outputs": [],
   "source": [
    "# extract the total number of products for each brands\n",
    "brand_count = bra_nut_df.groupby('brands').count().rename(columns={'nutrition_grade_fr':'total'})"
   ]
  },
  {
   "cell_type": "code",
   "execution_count": 112,
   "metadata": {},
   "outputs": [],
   "source": [
    "# here we count the nutrition grade occurences for each brand\n",
    "brand_dummies_count = bra_nut_dummies_df.groupby('brands').sum()"
   ]
  },
  {
   "cell_type": "code",
   "execution_count": 113,
   "metadata": {},
   "outputs": [
    {
     "data": {
      "text/html": [
       "<div>\n",
       "<style scoped>\n",
       "    .dataframe tbody tr th:only-of-type {\n",
       "        vertical-align: middle;\n",
       "    }\n",
       "\n",
       "    .dataframe tbody tr th {\n",
       "        vertical-align: top;\n",
       "    }\n",
       "\n",
       "    .dataframe thead th {\n",
       "        text-align: right;\n",
       "    }\n",
       "</style>\n",
       "<table border=\"1\" class=\"dataframe\">\n",
       "  <thead>\n",
       "    <tr style=\"text-align: right;\">\n",
       "      <th></th>\n",
       "      <th>a</th>\n",
       "      <th>b</th>\n",
       "      <th>c</th>\n",
       "      <th>d</th>\n",
       "      <th>e</th>\n",
       "      <th>total</th>\n",
       "    </tr>\n",
       "    <tr>\n",
       "      <th>brands</th>\n",
       "      <th></th>\n",
       "      <th></th>\n",
       "      <th></th>\n",
       "      <th></th>\n",
       "      <th></th>\n",
       "      <th></th>\n",
       "    </tr>\n",
       "  </thead>\n",
       "  <tbody>\n",
       "    <tr>\n",
       "      <th>123 bio</th>\n",
       "      <td>121.0</td>\n",
       "      <td>75.0</td>\n",
       "      <td>54.0</td>\n",
       "      <td>91.0</td>\n",
       "      <td>80.0</td>\n",
       "      <td>421</td>\n",
       "    </tr>\n",
       "    <tr>\n",
       "      <th>7Up</th>\n",
       "      <td>0.0</td>\n",
       "      <td>5.0</td>\n",
       "      <td>1.0</td>\n",
       "      <td>4.0</td>\n",
       "      <td>24.0</td>\n",
       "      <td>34</td>\n",
       "    </tr>\n",
       "    <tr>\n",
       "      <th>A l'olivier</th>\n",
       "      <td>0.0</td>\n",
       "      <td>2.0</td>\n",
       "      <td>19.0</td>\n",
       "      <td>43.0</td>\n",
       "      <td>3.0</td>\n",
       "      <td>67</td>\n",
       "    </tr>\n",
       "    <tr>\n",
       "      <th>Ajax</th>\n",
       "      <td>1.0</td>\n",
       "      <td>0.0</td>\n",
       "      <td>0.0</td>\n",
       "      <td>0.0</td>\n",
       "      <td>1.0</td>\n",
       "      <td>2</td>\n",
       "    </tr>\n",
       "    <tr>\n",
       "      <th>Albert Menes</th>\n",
       "      <td>2.0</td>\n",
       "      <td>6.0</td>\n",
       "      <td>27.0</td>\n",
       "      <td>37.0</td>\n",
       "      <td>22.0</td>\n",
       "      <td>94</td>\n",
       "    </tr>\n",
       "  </tbody>\n",
       "</table>\n",
       "</div>"
      ],
      "text/plain": [
       "                  a     b     c     d     e  total\n",
       "brands                                            \n",
       "123 bio       121.0  75.0  54.0  91.0  80.0    421\n",
       "7Up             0.0   5.0   1.0   4.0  24.0     34\n",
       "A l'olivier     0.0   2.0  19.0  43.0   3.0     67\n",
       "Ajax            1.0   0.0   0.0   0.0   1.0      2\n",
       "Albert Menes    2.0   6.0  27.0  37.0  22.0     94"
      ]
     },
     "execution_count": 113,
     "metadata": {},
     "output_type": "execute_result"
    }
   ],
   "source": [
    "# we add the column total (with the total number of products sold for each brand) to further extract the ratio of each grade instead of the raw count.\n",
    "brand_dummies_count = brand_dummies_count.join(brand_count)\n",
    "brand_dummies_count.head()"
   ]
  },
  {
   "cell_type": "code",
   "execution_count": 114,
   "metadata": {},
   "outputs": [],
   "source": [
    "# we convert the counts into ratios. (ex: ratio for 'a' = count for 'a' / total number of products)\n",
    "ratio = brand_dummies_count.copy()\n",
    "ratio[['a','b','c','d','e']] = brand_dummies_count[['a','b','c','d','e']].div(brand_dummies_count['total'].values,axis=0)*100\n",
    "ratio = ratio.sort_values('total',ascending=False)"
   ]
  },
  {
   "cell_type": "code",
   "execution_count": 115,
   "metadata": {},
   "outputs": [
    {
     "data": {
      "text/html": [
       "<div>\n",
       "<style scoped>\n",
       "    .dataframe tbody tr th:only-of-type {\n",
       "        vertical-align: middle;\n",
       "    }\n",
       "\n",
       "    .dataframe tbody tr th {\n",
       "        vertical-align: top;\n",
       "    }\n",
       "\n",
       "    .dataframe thead th {\n",
       "        text-align: right;\n",
       "    }\n",
       "</style>\n",
       "<table border=\"1\" class=\"dataframe\">\n",
       "  <thead>\n",
       "    <tr style=\"text-align: right;\">\n",
       "      <th></th>\n",
       "      <th>brands</th>\n",
       "      <th>a</th>\n",
       "      <th>b</th>\n",
       "      <th>c</th>\n",
       "      <th>d</th>\n",
       "      <th>e</th>\n",
       "    </tr>\n",
       "  </thead>\n",
       "  <tbody>\n",
       "    <tr>\n",
       "      <th>0</th>\n",
       "      <td>Carrefour</td>\n",
       "      <td>19.763931</td>\n",
       "      <td>15.344496</td>\n",
       "      <td>19.818831</td>\n",
       "      <td>26.269558</td>\n",
       "      <td>18.803184</td>\n",
       "    </tr>\n",
       "    <tr>\n",
       "      <th>1</th>\n",
       "      <td>Auchan</td>\n",
       "      <td>18.391764</td>\n",
       "      <td>15.303283</td>\n",
       "      <td>21.313300</td>\n",
       "      <td>26.794658</td>\n",
       "      <td>18.196995</td>\n",
       "    </tr>\n",
       "    <tr>\n",
       "      <th>2</th>\n",
       "      <td>Leclerc</td>\n",
       "      <td>13.648180</td>\n",
       "      <td>15.901213</td>\n",
       "      <td>22.010399</td>\n",
       "      <td>27.816291</td>\n",
       "      <td>20.623917</td>\n",
       "    </tr>\n",
       "    <tr>\n",
       "      <th>3</th>\n",
       "      <td>Casino</td>\n",
       "      <td>18.849840</td>\n",
       "      <td>15.609311</td>\n",
       "      <td>20.903697</td>\n",
       "      <td>25.604747</td>\n",
       "      <td>19.032405</td>\n",
       "    </tr>\n",
       "    <tr>\n",
       "      <th>4</th>\n",
       "      <td>Leader Price</td>\n",
       "      <td>17.482517</td>\n",
       "      <td>13.939394</td>\n",
       "      <td>22.750583</td>\n",
       "      <td>26.293706</td>\n",
       "      <td>19.533800</td>\n",
       "    </tr>\n",
       "  </tbody>\n",
       "</table>\n",
       "</div>"
      ],
      "text/plain": [
       "         brands          a          b          c          d          e\n",
       "0     Carrefour  19.763931  15.344496  19.818831  26.269558  18.803184\n",
       "1        Auchan  18.391764  15.303283  21.313300  26.794658  18.196995\n",
       "2       Leclerc  13.648180  15.901213  22.010399  27.816291  20.623917\n",
       "3        Casino  18.849840  15.609311  20.903697  25.604747  19.032405\n",
       "4  Leader Price  17.482517  13.939394  22.750583  26.293706  19.533800"
      ]
     },
     "execution_count": 115,
     "metadata": {},
     "output_type": "execute_result"
    }
   ],
   "source": [
    "ratio_to_plot = ratio.reset_index().loc[:9].drop('total',1)\n",
    "ratio_to_plot.head()"
   ]
  },
  {
   "cell_type": "code",
   "execution_count": 116,
   "metadata": {},
   "outputs": [
    {
     "data": {
      "application/vnd.jupyter.widget-view+json": {
       "model_id": "6c21778a7a49451eaf69eeefd50384fb",
       "version_major": 2,
       "version_minor": 0
      },
      "text/html": [
       "<p>Failed to display Jupyter Widget of type <code>FigureWidget</code>.</p>\n",
       "<p>\n",
       "  If you're reading this message in the Jupyter Notebook or JupyterLab Notebook, it may mean\n",
       "  that the widgets JavaScript is still loading. If this message persists, it\n",
       "  likely means that the widgets JavaScript library is either not installed or\n",
       "  not enabled. See the <a href=\"https://ipywidgets.readthedocs.io/en/stable/user_install.html\">Jupyter\n",
       "  Widgets Documentation</a> for setup instructions.\n",
       "</p>\n",
       "<p>\n",
       "  If you're reading this message in another frontend (for example, a static\n",
       "  rendering on GitHub or <a href=\"https://nbviewer.jupyter.org/\">NBViewer</a>),\n",
       "  it may mean that your frontend doesn't currently support widgets.\n",
       "</p>\n"
      ],
      "text/plain": [
       "FigureWidget({\n",
       "    'data': [{'marker': {'color': '#1f77b4'},\n",
       "              'name': 'Carrefour',\n",
       "              'type': 'bar',\n",
       "              'uid': 'b634d6c0-fe14-11e8-93a6-ac220bb8d9d3',\n",
       "              'x': [a, b, c, d, e],\n",
       "              'y': array([19.763930826242106, 15.34449629426297, 19.81883063409278,\n",
       "                          26.269558056546806, 18.80318418885534], dtype=object)},\n",
       "             {'marker': {'color': '#ff7f0e'},\n",
       "              'name': 'Auchan',\n",
       "              'type': 'bar',\n",
       "              'uid': 'b634d6c1-fe14-11e8-8d93-ac220bb8d9d3',\n",
       "              'x': [a, b, c, d, e],\n",
       "              'y': array([18.39176405119644, 15.30328324986088, 21.313299944351698,\n",
       "                          26.79465776293823, 18.196994991652755], dtype=object)},\n",
       "             {'marker': {'color': '#2ca02c'},\n",
       "              'name': 'Leclerc',\n",
       "              'type': 'bar',\n",
       "              'uid': 'b634d6c2-fe14-11e8-ac03-ac220bb8d9d3',\n",
       "              'x': [a, b, c, d, e],\n",
       "              'y': array([13.648180242634314, 15.901213171577123, 22.0103986135182,\n",
       "                          27.81629116117851, 20.623916811091856], dtype=object)},\n",
       "             {'marker': {'color': '#d62728'},\n",
       "              'name': 'Casino',\n",
       "              'type': 'bar',\n",
       "              'uid': 'b634d6c3-fe14-11e8-a456-ac220bb8d9d3',\n",
       "              'x': [a, b, c, d, e],\n",
       "              'y': array([18.849840255591054, 15.60931081697855, 20.903696942035598,\n",
       "                          25.60474669100867, 19.032405294386127], dtype=object)},\n",
       "             {'marker': {'color': '#9467bd'},\n",
       "              'name': 'Leader Price',\n",
       "              'type': 'bar',\n",
       "              'uid': 'b634d6c4-fe14-11e8-bbc7-ac220bb8d9d3',\n",
       "              'x': [a, b, c, d, e],\n",
       "              'y': array([17.482517482517483, 13.939393939393941, 22.75058275058275,\n",
       "                          26.293706293706293, 19.533799533799534], dtype=object)},\n",
       "             {'marker': {'color': '#8c564b'},\n",
       "              'name': 'Picard',\n",
       "              'type': 'bar',\n",
       "              'uid': 'b634d6c5-fe14-11e8-aa71-ac220bb8d9d3',\n",
       "              'x': [a, b, c, d, e],\n",
       "              'y': array([29.741650913673602, 18.147448015122876, 21.865154379332072,\n",
       "                          23.566477630749844, 6.679269061121613], dtype=object)},\n",
       "             {'marker': {'color': '#e377c2'},\n",
       "              'name': 'Cora',\n",
       "              'type': 'bar',\n",
       "              'uid': 'b634d6c6-fe14-11e8-a2e4-ac220bb8d9d3',\n",
       "              'x': [a, b, c, d, e],\n",
       "              'y': array([15.635858234885337, 13.273106323835998, 21.195274496177902,\n",
       "                          27.72758860319666, 22.1681723419041], dtype=object)},\n",
       "             {'marker': {'color': '#7f7f7f'},\n",
       "              'name': 'Monoprix',\n",
       "              'type': 'bar',\n",
       "              'uid': 'b634d6c7-fe14-11e8-89aa-ac220bb8d9d3',\n",
       "              'x': [a, b, c, d, e],\n",
       "              'y': array([20.1294033069734, 16.031631919482386, 21.49532710280374,\n",
       "                          26.168224299065418, 16.175413371675056], dtype=object)},\n",
       "             {'marker': {'color': '#bcbd22'},\n",
       "              'name': 'Belle France',\n",
       "              'type': 'bar',\n",
       "              'uid': 'b634d6c8-fe14-11e8-ab14-ac220bb8d9d3',\n",
       "              'x': [a, b, c, d, e],\n",
       "              'y': array([16.042345276872965, 12.703583061889251, 21.009771986970684,\n",
       "                          30.374592833876225, 19.86970684039088], dtype=object)},\n",
       "             {'marker': {'color': '#17becf'},\n",
       "              'name': 'Netto',\n",
       "              'type': 'bar',\n",
       "              'uid': 'b634d6c9-fe14-11e8-b7e1-ac220bb8d9d3',\n",
       "              'x': [a, b, c, d, e],\n",
       "              'y': array([10.146699266503667, 13.447432762836186, 20.904645476772615,\n",
       "                          33.12958435207824, 22.371638141809292], dtype=object)}],\n",
       "    'layout': {'title': 'Nutrition score occurences for the 10 biggest food brands in France.',\n",
       "               'xaxis': {'ticktext': array(['a', 'b', 'c', 'd', 'e'], dtype=object),\n",
       "                         'tickvals': array(['0', '1', '2', '3', '4'], dtype=object),\n",
       "                         'title': 'Nutriscore',\n",
       "                         'titlefont': {'color': '#7f7f7f', 'family': 'Courier New, monospace', 'size': 18}},\n",
       "               'yaxis': {'title': 'Ratio (in %)',\n",
       "                         'titlefont': {'color': '#7f7f7f', 'family': 'Courier New, monospace', 'size': 18}}}\n",
       "})"
      ]
     },
     "metadata": {},
     "output_type": "display_data"
    }
   ],
   "source": [
    "data = []\n",
    "colors = sns.color_palette(\"tab10\", ratio_to_plot.brands.count()).as_hex()\n",
    "\n",
    "for index, row in ratio_to_plot.iterrows():\n",
    "    data.append(go.Bar(x=['a','b','c','d','e'],\n",
    "                       y=np.array(row[1:]),\n",
    "                       name = row['brands'],\n",
    "                       marker={'color': colors[index]}))\n",
    "\n",
    "layout = go.Layout(\n",
    "    title='Nutrition score occurences for the 10 biggest food brands in France.',\n",
    "    xaxis=go.layout.XAxis(\n",
    "        title='Nutriscore',\n",
    "        titlefont=dict(\n",
    "            family='Courier New, monospace',\n",
    "            size=18,\n",
    "            color='#7f7f7f'\n",
    "        ),\n",
    "        tickvals=np.arange(5).astype(str),\n",
    "        ticktext=count.index,\n",
    "    ),\n",
    "    yaxis=dict(\n",
    "        title='Ratio (in %)',\n",
    "        titlefont=dict(\n",
    "            family='Courier New, monospace',\n",
    "            size=18,\n",
    "            color='#7f7f7f'\n",
    "        )\n",
    "    ),\n",
    ")\n",
    "\n",
    "go.FigureWidget(data=data, layout=layout)"
   ]
  },
  {
   "cell_type": "code",
   "execution_count": 155,
   "metadata": {},
   "outputs": [
    {
     "data": {
      "application/vnd.jupyter.widget-view+json": {
       "model_id": "669ae18eadc6466d8e885ba45f7059be",
       "version_major": 2,
       "version_minor": 0
      },
      "text/html": [
       "<p>Failed to display Jupyter Widget of type <code>FigureWidget</code>.</p>\n",
       "<p>\n",
       "  If you're reading this message in the Jupyter Notebook or JupyterLab Notebook, it may mean\n",
       "  that the widgets JavaScript is still loading. If this message persists, it\n",
       "  likely means that the widgets JavaScript library is either not installed or\n",
       "  not enabled. See the <a href=\"https://ipywidgets.readthedocs.io/en/stable/user_install.html\">Jupyter\n",
       "  Widgets Documentation</a> for setup instructions.\n",
       "</p>\n",
       "<p>\n",
       "  If you're reading this message in another frontend (for example, a static\n",
       "  rendering on GitHub or <a href=\"https://nbviewer.jupyter.org/\">NBViewer</a>),\n",
       "  it may mean that your frontend doesn't currently support widgets.\n",
       "</p>\n"
      ],
      "text/plain": [
       "FigureWidget({\n",
       "    'data': [{'marker': {'color': '#3783bb'},\n",
       "              'name': 'a',\n",
       "              'type': 'bar',\n",
       "              'uid': 'ddad68cc-fe16-11e8-aec4-ac220bb8d9d3',\n",
       "              'x': array(['Carrefour', 'Auchan', 'Leclerc', 'Casino', 'Leader Price', 'Picard',\n",
       "                          'Cora', 'Monoprix', 'Belle France', 'Netto'], dtype=object),\n",
       "              'y': array([19.76393083, 18.39176405, 13.64818024, 18.84984026, 17.48251748,\n",
       "                          29.74165091, 15.63585823, 20.12940331, 16.04234528, 10.14669927])},\n",
       "             {'marker': {'color': '#a7d0e4'},\n",
       "              'name': 'b',\n",
       "              'type': 'bar',\n",
       "              'uid': 'ddad68cd-fe16-11e8-a8bf-ac220bb8d9d3',\n",
       "              'x': array(['Carrefour', 'Auchan', 'Leclerc', 'Casino', 'Leader Price', 'Picard',\n",
       "                          'Cora', 'Monoprix', 'Belle France', 'Netto'], dtype=object),\n",
       "              'y': array([15.34449629, 15.30328325, 15.90121317, 15.60931082, 13.93939394,\n",
       "                          18.14744802, 13.27310632, 16.03163192, 12.70358306, 13.44743276])},\n",
       "             {'marker': {'color': '#f7f6f6'},\n",
       "              'name': 'c',\n",
       "              'type': 'bar',\n",
       "              'uid': 'ddad68ce-fe16-11e8-b410-ac220bb8d9d3',\n",
       "              'x': array(['Carrefour', 'Auchan', 'Leclerc', 'Casino', 'Leader Price', 'Picard',\n",
       "                          'Cora', 'Monoprix', 'Belle France', 'Netto'], dtype=object),\n",
       "              'y': array([19.81883063, 21.31329994, 22.01039861, 20.90369694, 22.75058275,\n",
       "                          21.86515438, 21.1952745 , 21.4953271 , 21.00977199, 20.90464548])},\n",
       "             {'marker': {'color': '#f7b799'},\n",
       "              'name': 'd',\n",
       "              'type': 'bar',\n",
       "              'uid': 'ddad68cf-fe16-11e8-841b-ac220bb8d9d3',\n",
       "              'x': array(['Carrefour', 'Auchan', 'Leclerc', 'Casino', 'Leader Price', 'Picard',\n",
       "                          'Cora', 'Monoprix', 'Belle France', 'Netto'], dtype=object),\n",
       "              'y': array([26.26955806, 26.79465776, 27.81629116, 25.60474669, 26.29370629,\n",
       "                          23.56647763, 27.7275886 , 26.1682243 , 30.37459283, 33.12958435])},\n",
       "             {'marker': {'color': '#c94741'},\n",
       "              'name': 'e',\n",
       "              'type': 'bar',\n",
       "              'uid': 'ddad68d0-fe16-11e8-8e49-ac220bb8d9d3',\n",
       "              'x': array(['Carrefour', 'Auchan', 'Leclerc', 'Casino', 'Leader Price', 'Picard',\n",
       "                          'Cora', 'Monoprix', 'Belle France', 'Netto'], dtype=object),\n",
       "              'y': array([18.80318419, 18.19699499, 20.62391681, 19.03240529, 19.53379953,\n",
       "                           6.67926906, 22.16817234, 16.17541337, 19.86970684, 22.37163814])}],\n",
       "    'layout': {'barmode': 'stack',\n",
       "               'title': 'Nutrition score distribution within the 10 biggest food brands in France.',\n",
       "               'xaxis': {'ticktext': array(['Carrefour', 'Auchan', 'Leclerc', 'Casino', 'Leader Price', 'Picard',\n",
       "                                            'Cora', 'Monoprix', 'Belle France', 'Netto'], dtype=object),\n",
       "                         'tickvals': array(['0', '1', '2', '3', '4', '5', '6', '7', '8', '9'], dtype=object),\n",
       "                         'title': 'Food Brand',\n",
       "                         'titlefont': {'color': '#7f7f7f', 'family': 'Courier New, monospace', 'size': 18}},\n",
       "               'yaxis': {'title': 'Ratio (in %)',\n",
       "                         'titlefont': {'color': '#7f7f7f', 'family': 'Courier New, monospace', 'size': 18}}}\n",
       "})"
      ]
     },
     "metadata": {},
     "output_type": "display_data"
    }
   ],
   "source": [
    "data = []\n",
    "colors = sns.color_palette(\"RdBu_r\", 5).as_hex()\n",
    "\n",
    "for index in range(len(['a','b','c','d','e'])):\n",
    "    data.append(go.Bar(x=ratio_to_plot['brands'],\n",
    "                       y=ratio_to_plot[ratio_to_plot.columns[index+1]],\n",
    "                       name = ratio_to_plot.columns[index+1],\n",
    "                       marker={'color': colors[index]}))\n",
    "\n",
    "layout = go.Layout(\n",
    "    title='Nutrition score distribution within the 10 biggest food brands in France.',\n",
    "    barmode='stack',\n",
    "    xaxis=go.layout.XAxis(\n",
    "        title='Food Brand',\n",
    "        titlefont=dict(\n",
    "            family='Courier New, monospace',\n",
    "            size=18,\n",
    "            color='#7f7f7f'\n",
    "        ),\n",
    "        tickvals=np.arange(10).astype(str),\n",
    "        ticktext=ratio_to_plot['brands'],\n",
    "    ),\n",
    "    yaxis=dict(\n",
    "        title='Ratio (in %)',\n",
    "        titlefont=dict(\n",
    "            family='Courier New, monospace',\n",
    "            size=18,\n",
    "            color='#7f7f7f'\n",
    "        )\n",
    "    ),\n",
    ")\n",
    "\n",
    "go.FigureWidget(data=data, layout=layout)"
   ]
  },
  {
   "cell_type": "code",
   "execution_count": 119,
   "metadata": {},
   "outputs": [],
   "source": [
    "top10_brand_names = ratio.index[:9]"
   ]
  },
  {
   "cell_type": "markdown",
   "metadata": {},
   "source": [
    "We observe for example that for almost all the biggest food brands present in France the prominent nutrition category is \"junk\" food. We don't eat that well in France... \n",
    "\n",
    "The two biggest exceptions are 'Danone' and 'Picard'. They mainly sell products from milk and frozen food which could be excpected to be healthier than the products sold by Fleury Michon (mainly transformed products from meat).  \n",
    "\n",
    "Interestingly the 'Bio Village' brand solds a lot of 'junk' food... Even more than 'neutral' food."
   ]
  },
  {
   "cell_type": "markdown",
   "metadata": {},
   "source": [
    "## Category Distribution in the 10 biggest food brands in France. "
   ]
  },
  {
   "cell_type": "code",
   "execution_count": null,
   "metadata": {},
   "outputs": [],
   "source": [
    "bra_cat_df = bra_cat_nut_df[['brands', 'pnns_groups_1']]\n",
    "bra_cat_dummies_df = bra_cat_nut_dummies_df.iloc[:,[0,6,7,8,9,10,11,12,13,14,15]]"
   ]
  },
  {
   "cell_type": "code",
   "execution_count": null,
   "metadata": {
    "scrolled": false
   },
   "outputs": [],
   "source": [
    "# here we count the category occurences for each brand\n",
    "brand_dummies_count = bra_cat_dummies_df.groupby('brands').sum()\n",
    "\n",
    "# we add the column total (with the total number of products sold for each brand) to further extract the ratio of each grade instead of the raw count.\n",
    "brand_count = pd.DataFrame(data=brand_dummies_count.sum(axis=1), columns=['total'])\n",
    "brand_dummies_count = brand_dummies_count.join(brand_count)\n",
    "brand_dummies_count.head(3)"
   ]
  },
  {
   "cell_type": "code",
   "execution_count": null,
   "metadata": {
    "scrolled": true
   },
   "outputs": [],
   "source": [
    "# we convert the counts into ratios. (ex: ratio for 'a' = count for 'a' / total number of products)\n",
    "ratio = brand_dummies_count.copy().reset_index()\n",
    "ratio = ratio[ratio['brands'].isin(top10_brand_names)].set_index('brands')\n",
    "ratio.iloc[:,[0,1,2,3,4,5,6,7,8,9]] = brand_dummies_count.iloc[:,np.arange(9)].div(brand_dummies_count['total'].values,axis=0)*100\n",
    "ratio_to_plot = ratio.reset_index().drop(['total', 'Unknown'],1)\n",
    "ratio_to_plot.head(3)"
   ]
  },
  {
   "cell_type": "code",
   "execution_count": null,
   "metadata": {},
   "outputs": [],
   "source": [
    "data = []\n",
    "colors = sns.color_palette(\"tab10\", ratio_to_plot.brands.count()).as_hex()\n",
    "\n",
    "for index, nutri in enumerate(ratio_to_plot.columns[1:]):\n",
    "    data.append(go.Bar(x=ratio_to_plot['brands'],\n",
    "                       y=ratio_to_plot[ratio_to_plot.columns[index+1]],\n",
    "                       name = ratio_to_plot.columns[index+1],\n",
    "                       marker={'color': colors[index]}))\n",
    "\n",
    "layout = go.Layout(\n",
    "    title='Food Category distribution within the 10 biggest food brands in France.',\n",
    "    xaxis=go.layout.XAxis(\n",
    "        title='Food Brand',\n",
    "        titlefont=dict(\n",
    "            family='Courier New, monospace',\n",
    "            size=18,\n",
    "            color='#7f7f7f'\n",
    "        ),\n",
    "        tickvals=np.arange(10).astype(str),\n",
    "        ticktext=ratio_to_plot['brands'],\n",
    "    ),\n",
    "    yaxis=dict(\n",
    "        title='Ratio (in %)',\n",
    "        titlefont=dict(\n",
    "            family='Courier New, monospace',\n",
    "            size=18,\n",
    "            color='#7f7f7f'\n",
    "        )\n",
    "    ),\n",
    ")\n",
    "\n",
    "go.FigureWidget(data=data, layout=layout)"
   ]
  },
  {
   "cell_type": "code",
   "execution_count": null,
   "metadata": {},
   "outputs": [],
   "source": [
    "data = []\n",
    "colors = sns.color_palette(\"tab10\", len(ratio_to_plot.columns[1:])).as_hex()\n",
    "\n",
    "for index, nutri in enumerate(ratio_to_plot.columns[1:]):\n",
    "    data.append(go.Scatter(x=ratio_to_plot['brands'],\n",
    "                       y=ratio_to_plot[ratio_to_plot.columns[index+1]],\n",
    "                       name = ratio_to_plot.columns[index+1],\n",
    "                       marker={'color': colors[index]}\n",
    "                          )\n",
    "               )"
   ]
  },
  {
   "cell_type": "code",
   "execution_count": null,
   "metadata": {},
   "outputs": [],
   "source": [
    "fig = tools.make_subplots(rows=3, cols=3, subplot_titles=tuple(ratio_to_plot.columns[1:]))\n",
    "\n",
    "for index,trace in enumerate(data):\n",
    "    (r, c) = divmod(index, 3)\n",
    "    fig.append_trace(trace, r+1, c+1)\n",
    "\n",
    "fig['layout']['yaxis1'].update(title='Ratio (in %)')\n",
    "fig['layout']['yaxis4'].update(title='Ratio (in %)')\n",
    "fig['layout']['yaxis7'].update(title='Ratio (in %)')\n",
    "\n",
    "fig['layout'].update(title='Food Category distribution within the 10 biggest food brands in France.', height=900, width=1000)\n",
    "\n",
    "py.iplot(fig)"
   ]
  },
  {
   "cell_type": "markdown",
   "metadata": {},
   "source": [
    "## Nutrition grade repartition per category in France"
   ]
  },
  {
   "cell_type": "code",
   "execution_count": null,
   "metadata": {},
   "outputs": [],
   "source": [
    "cat_nut_df = bra_cat_nut_df[['pnns_groups_1', 'nutrition_grade_fr']].dropna()"
   ]
  },
  {
   "cell_type": "code",
   "execution_count": null,
   "metadata": {},
   "outputs": [],
   "source": [
    "cat_nut_df = pd.get_dummies(cat_nut_df.set_index('pnns_groups_1')).rename(columns=\n",
    "                              {'nutrition_grade_fr_a':'a',\n",
    "                               'nutrition_grade_fr_b':'b',\n",
    "                               'nutrition_grade_fr_c':'c',\n",
    "                               'nutrition_grade_fr_d':'d',\n",
    "                               'nutrition_grade_fr_e':'e'})"
   ]
  },
  {
   "cell_type": "code",
   "execution_count": null,
   "metadata": {},
   "outputs": [],
   "source": [
    "count = cat_nut_df.groupby('pnns_groups_1').sum()\n",
    "count['total'] = count.apply(lambda x: x['a']+x['b']+x['c']+x['d']+x['e'], axis=1) \n",
    "count.head(3)"
   ]
  },
  {
   "cell_type": "code",
   "execution_count": null,
   "metadata": {
    "scrolled": false
   },
   "outputs": [],
   "source": [
    "ratio = count.copy()\n",
    "ratio[['a','b','c','d','e']] = count[['a','b','c','d','e']].div(count['total'].values,axis=0)*100\n",
    "ratio.head(3)"
   ]
  },
  {
   "cell_type": "code",
   "execution_count": null,
   "metadata": {},
   "outputs": [],
   "source": [
    "ratio_to_plot = ratio.reset_index().drop('total',1).sort_values(by=['a'],ascending=0).reset_index().drop('index',1)"
   ]
  },
  {
   "cell_type": "code",
   "execution_count": null,
   "metadata": {},
   "outputs": [],
   "source": [
    "data = []\n",
    "colors = sns.color_palette(\"RdBu_r\", 5).as_hex()\n",
    "\n",
    "for index, nutri in enumerate(ratio_to_plot.columns[1:]):\n",
    "    data.append(go.Bar(x=ratio_to_plot['pnns_groups_1'],\n",
    "                       y=ratio_to_plot[ratio_to_plot.columns[index+1]],\n",
    "                       name = ratio_to_plot.columns[index+1],\n",
    "                       marker={'color': colors[index]}))\n",
    "\n",
    "layout = go.Layout(\n",
    "    title='Health profile for each food category.',\n",
    "    xaxis=go.layout.XAxis(\n",
    "        title='Food Category',\n",
    "        titlefont=dict(\n",
    "            family='Courier New, monospace',\n",
    "            size=18,\n",
    "            color='#7f7f7f'\n",
    "        ),\n",
    "        tickangle = 20,\n",
    "        tickvals=np.arange(10).astype(str),\n",
    "        ticktext=ratio_to_plot['pnns_groups_1'],\n",
    "    ),\n",
    "    yaxis=dict(\n",
    "        title='Ratio (in %)',\n",
    "        titlefont=dict(\n",
    "            family='Courier New, monospace',\n",
    "            size=18,\n",
    "            color='#7f7f7f'\n",
    "        )\n",
    "    ),\n",
    ")\n",
    "\n",
    "go.FigureWidget(data=data, layout=layout)"
   ]
  },
  {
   "cell_type": "markdown",
   "metadata": {},
   "source": [
    "# Brand vs Palm Oil"
   ]
  },
  {
   "cell_type": "markdown",
   "metadata": {},
   "source": [
    "## load and clean"
   ]
  },
  {
   "cell_type": "raw",
   "metadata": {},
   "source": [
    "bra_palm_raw = data.filter(\"countries_en=='France'\")\\\n",
    "                    .select('brands', 'ingredients_from_palm_oil_n','ingredients_that_may_be_from_palm_oil_n')\\\n",
    "                    .dropna(how='all')"
   ]
  },
  {
   "cell_type": "raw",
   "metadata": {},
   "source": [
    "# we convert the spark dataframe to a pandas dataframe\n",
    "bra_palm_raw_df = bra_palm.toPandas()\n",
    "\n",
    "# we store it in the current folder \n",
    "bra_palm_raw_df.to_pickle('bra_palm_raw_df')"
   ]
  },
  {
   "cell_type": "code",
   "execution_count": null,
   "metadata": {},
   "outputs": [],
   "source": [
    "bra_palm_raw_df = pd.read_pickle('bra_palm_raw_df')"
   ]
  },
  {
   "cell_type": "code",
   "execution_count": null,
   "metadata": {},
   "outputs": [],
   "source": [
    "bra_palm_raw_df.head(3)"
   ]
  },
  {
   "cell_type": "code",
   "execution_count": null,
   "metadata": {},
   "outputs": [],
   "source": [
    "bra_palm_raw_df['new_brands'] = bra_palm_raw_df['brands'].apply(lambda x: clean_brand(x))"
   ]
  },
  {
   "cell_type": "code",
   "execution_count": null,
   "metadata": {},
   "outputs": [],
   "source": [
    "# drop when both 'ingredients_from_palm_oil_n' and 'ingredients_that_may_be_from_palm_oil_n' are None\n",
    "bra_palm_cleaned_df = bra_palm_raw_df.dropna(subset=['ingredients_from_palm_oil_n', \\\n",
    "                                                 'ingredients_that_may_be_from_palm_oil_n'], how='all') "
   ]
  },
  {
   "cell_type": "code",
   "execution_count": null,
   "metadata": {},
   "outputs": [],
   "source": [
    "# we can drop the old column 'brands' since we have the new ones.\n",
    "bra_palm_cleaned_df = bra_palm_cleaned_df.drop('brands',1).rename(columns={'new_brands':'brands'})"
   ]
  },
  {
   "cell_type": "code",
   "execution_count": null,
   "metadata": {},
   "outputs": [],
   "source": [
    "# reset index\n",
    "bra_palm_cleaned_df = bra_palm_cleaned_df.reset_index(drop=True)"
   ]
  },
  {
   "cell_type": "code",
   "execution_count": null,
   "metadata": {},
   "outputs": [],
   "source": [
    "# to numeric\n",
    "bra_palm_cleaned_df['ingredients_from_palm_oil_n'] = bra_palm_cleaned_df['ingredients_from_palm_oil_n'].apply(pd.to_numeric)\n",
    "bra_palm_cleaned_df['ingredients_that_may_be_from_palm_oil_n'] = bra_palm_cleaned_df['ingredients_that_may_be_from_palm_oil_n'].apply(pd.to_numeric)"
   ]
  },
  {
   "cell_type": "raw",
   "metadata": {},
   "source": [
    "# save to pickle\n",
    "bra_palm_cleaned_df.to_pickle('bra_palm_cleaned_df')"
   ]
  },
  {
   "cell_type": "markdown",
   "metadata": {},
   "source": [
    "# Load cleaned data"
   ]
  },
  {
   "cell_type": "code",
   "execution_count": 61,
   "metadata": {},
   "outputs": [],
   "source": [
    "bra_palm_df = pd.read_pickle('bra_palm_cleaned_df')"
   ]
  },
  {
   "cell_type": "markdown",
   "metadata": {},
   "source": [
    "## Palm oil presence in the whole dataset"
   ]
  },
  {
   "cell_type": "code",
   "execution_count": 6,
   "metadata": {},
   "outputs": [],
   "source": [
    "bra_palm_bool_df = bra_palm_df.copy()\n",
    "\n",
    "bra_palm_bool_df['ingredients_from_palm_oil_n'] = bra_palm_bool_df['ingredients_from_palm_oil_n'].apply(lambda x: x>0)\n",
    "bra_palm_bool_df['ingredients_that_may_be_from_palm_oil_n'] = bra_palm_bool_df['ingredients_that_may_be_from_palm_oil_n'].apply(lambda x: x>0)"
   ]
  },
  {
   "cell_type": "code",
   "execution_count": 7,
   "metadata": {},
   "outputs": [],
   "source": [
    "bra_palm_to_plot_df = bra_palm_df[['brands']].copy()\n",
    "bra_palm_to_plot_df['no_palm_oil']          = bra_palm_bool_df.apply(lambda x: 1 if not x[0] and not x[1] else 0, axis=1) \n",
    "bra_palm_to_plot_df['may_contain_palm_oil'] = bra_palm_bool_df.apply(lambda x: 1 if x[0] and not x[1] else 0 , axis=1) \n",
    "bra_palm_to_plot_df['contain_palm_oil']     = bra_palm_bool_df.apply(lambda x: 1 if x[1] else 0, axis=1) "
   ]
  },
  {
   "cell_type": "code",
   "execution_count": 8,
   "metadata": {},
   "outputs": [
    {
     "data": {
      "text/html": [
       "<div>\n",
       "<style scoped>\n",
       "    .dataframe tbody tr th:only-of-type {\n",
       "        vertical-align: middle;\n",
       "    }\n",
       "\n",
       "    .dataframe tbody tr th {\n",
       "        vertical-align: top;\n",
       "    }\n",
       "\n",
       "    .dataframe thead th {\n",
       "        text-align: right;\n",
       "    }\n",
       "</style>\n",
       "<table border=\"1\" class=\"dataframe\">\n",
       "  <thead>\n",
       "    <tr style=\"text-align: right;\">\n",
       "      <th></th>\n",
       "      <th>brands</th>\n",
       "      <th>no_palm_oil</th>\n",
       "      <th>may_contain_palm_oil</th>\n",
       "      <th>contain_palm_oil</th>\n",
       "    </tr>\n",
       "  </thead>\n",
       "  <tbody>\n",
       "    <tr>\n",
       "      <th>0</th>\n",
       "      <td>Crous</td>\n",
       "      <td>1</td>\n",
       "      <td>0</td>\n",
       "      <td>0</td>\n",
       "    </tr>\n",
       "    <tr>\n",
       "      <th>1</th>\n",
       "      <td>None</td>\n",
       "      <td>1</td>\n",
       "      <td>0</td>\n",
       "      <td>0</td>\n",
       "    </tr>\n",
       "    <tr>\n",
       "      <th>2</th>\n",
       "      <td>None</td>\n",
       "      <td>1</td>\n",
       "      <td>0</td>\n",
       "      <td>0</td>\n",
       "    </tr>\n",
       "    <tr>\n",
       "      <th>3</th>\n",
       "      <td>Crous</td>\n",
       "      <td>1</td>\n",
       "      <td>0</td>\n",
       "      <td>0</td>\n",
       "    </tr>\n",
       "    <tr>\n",
       "      <th>4</th>\n",
       "      <td>Crous</td>\n",
       "      <td>1</td>\n",
       "      <td>0</td>\n",
       "      <td>0</td>\n",
       "    </tr>\n",
       "  </tbody>\n",
       "</table>\n",
       "</div>"
      ],
      "text/plain": [
       "  brands  no_palm_oil  may_contain_palm_oil  contain_palm_oil\n",
       "0  Crous            1                     0                 0\n",
       "1   None            1                     0                 0\n",
       "2   None            1                     0                 0\n",
       "3  Crous            1                     0                 0\n",
       "4  Crous            1                     0                 0"
      ]
     },
     "execution_count": 8,
     "metadata": {},
     "output_type": "execute_result"
    }
   ],
   "source": [
    "bra_palm_to_plot_df.head()"
   ]
  },
  {
   "cell_type": "code",
   "execution_count": 9,
   "metadata": {},
   "outputs": [],
   "source": [
    "count = bra_palm_to_plot_df.sum(axis=0)"
   ]
  },
  {
   "cell_type": "code",
   "execution_count": null,
   "metadata": {},
   "outputs": [],
   "source": [
    "data = []\n",
    "colors = sns.color_palette(\"Reds\", 3).as_hex()\n",
    "labels = ['no palm oil', 'may contain palm oil', 'contain palm oil']"
   ]
  },
  {
   "cell_type": "code",
   "execution_count": 19,
   "metadata": {},
   "outputs": [
    {
     "data": {
      "application/vnd.jupyter.widget-view+json": {
       "model_id": "76fb2a1e09584e9bab309cff0b82f3b1",
       "version_major": 2,
       "version_minor": 0
      },
      "text/html": [
       "<p>Failed to display Jupyter Widget of type <code>FigureWidget</code>.</p>\n",
       "<p>\n",
       "  If you're reading this message in the Jupyter Notebook or JupyterLab Notebook, it may mean\n",
       "  that the widgets JavaScript is still loading. If this message persists, it\n",
       "  likely means that the widgets JavaScript library is either not installed or\n",
       "  not enabled. See the <a href=\"https://ipywidgets.readthedocs.io/en/stable/user_install.html\">Jupyter\n",
       "  Widgets Documentation</a> for setup instructions.\n",
       "</p>\n",
       "<p>\n",
       "  If you're reading this message in another frontend (for example, a static\n",
       "  rendering on GitHub or <a href=\"https://nbviewer.jupyter.org/\">NBViewer</a>),\n",
       "  it may mean that your frontend doesn't currently support widgets.\n",
       "</p>\n"
      ],
      "text/plain": [
       "FigureWidget({\n",
       "    'data': [{'marker': {'color': '#fcbba1'},\n",
       "              'name': 'no palm oil',\n",
       "              'type': 'bar',\n",
       "              'uid': '2bfc7076-fe11-11e8-bd8d-ac220bb8d9d3',\n",
       "              'x': array([0]),\n",
       "              'y': array([150081])},\n",
       "             {'marker': {'color': '#fb694a'},\n",
       "              'name': 'may contain palm oil',\n",
       "              'type': 'bar',\n",
       "              'uid': '2bfc7077-fe11-11e8-b884-ac220bb8d9d3',\n",
       "              'x': array([1]),\n",
       "              'y': array([6611])},\n",
       "             {'marker': {'color': '#ca181d'},\n",
       "              'name': 'contain palm oil',\n",
       "              'type': 'bar',\n",
       "              'uid': '2bfc7078-fe11-11e8-9002-ac220bb8d9d3',\n",
       "              'x': array([2]),\n",
       "              'y': array([15777])}],\n",
       "    'layout': {'showlegend': False,\n",
       "               'title': 'Nutrition score occurences in the original dataset.',\n",
       "               'xaxis': {'ticktext': [no palm oil, may contain palm oil, contain\n",
       "                                      palm oil],\n",
       "                         'tickvals': array(['0', '1', '2'], dtype=object),\n",
       "                         'title': 'Product feature',\n",
       "                         'titlefont': {'color': '#7f7f7f', 'family': 'Courier New, monospace', 'size': 18}},\n",
       "               'yaxis': {'title': 'Count',\n",
       "                         'titlefont': {'color': '#7f7f7f', 'family': 'Courier New, monospace', 'size': 18}}}\n",
       "})"
      ]
     },
     "metadata": {},
     "output_type": "display_data"
    }
   ],
   "source": [
    "# bar char \n",
    "\n",
    "for index, item in enumerate(count.iteritems()):\n",
    "    data.append(go.Bar(x=np.array(index),\n",
    "                       y=np.array(item[1]),\n",
    "                       name = labels[index],\n",
    "                       marker={'color': colors[index]}))\n",
    "\n",
    "layout = go.Layout(\n",
    "    title='Nutrition score occurences in the original dataset.',\n",
    "    showlegend=False,\n",
    "    xaxis=go.layout.XAxis(\n",
    "        title='Product feature',\n",
    "        titlefont=dict(\n",
    "            family='Courier New, monospace',\n",
    "            size=18,\n",
    "            color='#7f7f7f'\n",
    "        ),\n",
    "        tickvals=np.arange(3).astype(str),\n",
    "        ticktext= labels,\n",
    "    ),\n",
    "    yaxis=dict(\n",
    "        title='Count',\n",
    "        titlefont=dict(\n",
    "            family='Courier New, monospace',\n",
    "            size=18,\n",
    "            color='#7f7f7f'\n",
    "        )\n",
    "    ),\n",
    ")\n",
    "\n",
    "go.FigureWidget(data=data, layout=layout)"
   ]
  },
  {
   "cell_type": "code",
   "execution_count": 22,
   "metadata": {},
   "outputs": [
    {
     "data": {
      "text/html": [
       "<iframe id=\"igraph\" scrolling=\"no\" style=\"border:none;\" seamless=\"seamless\" src=\"https://plot.ly/~tomM/62.embed\" height=\"525px\" width=\"100%\"></iframe>"
      ],
      "text/plain": [
       "<plotly.tools.PlotlyDisplay object>"
      ]
     },
     "execution_count": 22,
     "metadata": {},
     "output_type": "execute_result"
    }
   ],
   "source": [
    "# pie\n",
    "fig = {\n",
    "    'data': [{'labels': labels,\n",
    "              'values': count.values,\n",
    "              'type': 'pie',\n",
    "              'marker':{'colors':colors}\n",
    "              }\n",
    "            ],\n",
    "    'layout': {'title': 'Nutrition score occurences in the original dataset.'}\n",
    "     }\n",
    "\n",
    "py.iplot(fig)"
   ]
  },
  {
   "cell_type": "markdown",
   "metadata": {},
   "source": [
    "## Palm oil presence for each french food brand"
   ]
  },
  {
   "cell_type": "code",
   "execution_count": 165,
   "metadata": {},
   "outputs": [],
   "source": [
    "bra_palm_df = pd.read_pickle('bra_palm_cleaned_df')"
   ]
  },
  {
   "cell_type": "code",
   "execution_count": 166,
   "metadata": {
    "scrolled": true
   },
   "outputs": [],
   "source": [
    "brand_count = bra_palm_df[['ingredients_that_may_be_from_palm_oil_n', 'brands']].groupby('brands')\\\n",
    "                                    .count().rename(columns={'ingredients_that_may_be_from_palm_oil_n':'total'})"
   ]
  },
  {
   "cell_type": "code",
   "execution_count": 167,
   "metadata": {},
   "outputs": [],
   "source": [
    "bra_palm_grouped_df = bra_palm_df.groupby('brands').sum()"
   ]
  },
  {
   "cell_type": "code",
   "execution_count": 168,
   "metadata": {},
   "outputs": [],
   "source": [
    "bra_palm_grouped_df = brand_count.join(bra_palm_grouped_df)"
   ]
  },
  {
   "cell_type": "code",
   "execution_count": 169,
   "metadata": {},
   "outputs": [],
   "source": [
    "ratio_df[['a','b','c','d','e']] = brand_dummies_count[['a','b','c','d','e']].div(brand_dummies_count['total'].values,axis=0)*100\n",
    " "
   ]
  },
  {
   "cell_type": "code",
   "execution_count": 170,
   "metadata": {},
   "outputs": [],
   "source": [
    "ratio_df = pd.DataFrame()\n",
    "\n",
    "ratio_df['may contain palm oil'] = bra_palm_grouped_df.ingredients_that_may_be_from_palm_oil_n \\\n",
    "                                                      .div(bra_palm_grouped_df.total)*100\n",
    "\n",
    "ratio_df['contain palm oil'] = bra_palm_grouped_df.ingredients_from_palm_oil_n \\\n",
    "                                                      .div(bra_palm_grouped_df.total)*100\n",
    "\n",
    "ratio_df['no palm oil'] = 100 - ratio_df['may contain palm oil'] - ratio_df['contain palm oil']"
   ]
  },
  {
   "cell_type": "code",
   "execution_count": 171,
   "metadata": {},
   "outputs": [],
   "source": [
    "ratio_top10_df = ratio_df.copy().reset_index()[ratio_df.index.isin(top10_brand_names)].reset_index(drop=True)"
   ]
  },
  {
   "cell_type": "code",
   "execution_count": 175,
   "metadata": {},
   "outputs": [],
   "source": [
    "ratio_top10_df.sort_values(by='no palm oil', ascending=False, inplace=True)"
   ]
  },
  {
   "cell_type": "code",
   "execution_count": 176,
   "metadata": {},
   "outputs": [
    {
     "data": {
      "application/vnd.jupyter.widget-view+json": {
       "model_id": "2bde57cedc33436aa2b34c27bf27ecb4",
       "version_major": 2,
       "version_minor": 0
      },
      "text/html": [
       "<p>Failed to display Jupyter Widget of type <code>FigureWidget</code>.</p>\n",
       "<p>\n",
       "  If you're reading this message in the Jupyter Notebook or JupyterLab Notebook, it may mean\n",
       "  that the widgets JavaScript is still loading. If this message persists, it\n",
       "  likely means that the widgets JavaScript library is either not installed or\n",
       "  not enabled. See the <a href=\"https://ipywidgets.readthedocs.io/en/stable/user_install.html\">Jupyter\n",
       "  Widgets Documentation</a> for setup instructions.\n",
       "</p>\n",
       "<p>\n",
       "  If you're reading this message in another frontend (for example, a static\n",
       "  rendering on GitHub or <a href=\"https://nbviewer.jupyter.org/\">NBViewer</a>),\n",
       "  it may mean that your frontend doesn't currently support widgets.\n",
       "</p>\n"
      ],
      "text/plain": [
       "FigureWidget({\n",
       "    'data': [{'marker': {'color': '#bcbd22'},\n",
       "              'name': 'Picard',\n",
       "              'type': 'bar',\n",
       "              'uid': 'b9065178-fe17-11e8-b446-ac220bb8d9d3',\n",
       "              'x': array(['may contain palm oil', 'contain palm oil', 'no palm oil'], dtype=object),\n",
       "              'y': array([13.883431565160445, 1.6371971185330716, 84.47937131630648], dtype=object)},\n",
       "             {'marker': {'color': '#7f7f7f'},\n",
       "              'name': 'Monoprix',\n",
       "              'type': 'bar',\n",
       "              'uid': 'b9065179-fe17-11e8-a819-ac220bb8d9d3',\n",
       "              'x': array(['may contain palm oil', 'contain palm oil', 'no palm oil'], dtype=object),\n",
       "              'y': array([14.221652786675207, 1.7937219730941705, 83.98462524023063], dtype=object)},\n",
       "             {'marker': {'color': '#d62728'},\n",
       "              'name': 'Casino',\n",
       "              'type': 'bar',\n",
       "              'uid': 'b906517a-fe17-11e8-a28f-ac220bb8d9d3',\n",
       "              'x': array(['may contain palm oil', 'contain palm oil', 'no palm oil'], dtype=object),\n",
       "              'y': array([14.500326583932072, 3.10254735467015, 82.39712606139778], dtype=object)},\n",
       "             {'marker': {'color': '#2ca02c'},\n",
       "              'name': 'Carrefour',\n",
       "              'type': 'bar',\n",
       "              'uid': 'b906517b-fe17-11e8-b8e1-ac220bb8d9d3',\n",
       "              'x': array(['may contain palm oil', 'contain palm oil', 'no palm oil'], dtype=object),\n",
       "              'y': array([12.584650112866816, 5.850263355906696, 81.5650865312265], dtype=object)},\n",
       "             {'marker': {'color': '#9467bd'},\n",
       "              'name': 'Cora',\n",
       "              'type': 'bar',\n",
       "              'uid': 'b906517c-fe17-11e8-860b-ac220bb8d9d3',\n",
       "              'x': array(['may contain palm oil', 'contain palm oil', 'no palm oil'], dtype=object),\n",
       "              'y': array([13.303212851405622, 6.375502008032129, 80.32128514056225], dtype=object)},\n",
       "             {'marker': {'color': '#1f77b4'},\n",
       "              'name': 'Auchan',\n",
       "              'type': 'bar',\n",
       "              'uid': 'b906517d-fe17-11e8-92c3-ac220bb8d9d3',\n",
       "              'x': array(['may contain palm oil', 'contain palm oil', 'no palm oil'], dtype=object),\n",
       "              'y': array([15.213977228111503, 5.241460541813899, 79.5445622300746], dtype=object)},\n",
       "             {'marker': {'color': '#8c564b'},\n",
       "              'name': 'Leader Price',\n",
       "              'type': 'bar',\n",
       "              'uid': 'b906517e-fe17-11e8-a6a9-ac220bb8d9d3',\n",
       "              'x': array(['may contain palm oil', 'contain palm oil', 'no palm oil'], dtype=object),\n",
       "              'y': array([17.438981252210827, 5.447470817120623, 77.11354793066856], dtype=object)},\n",
       "             {'marker': {'color': '#ff7f0e'},\n",
       "              'name': 'Belle France',\n",
       "              'type': 'bar',\n",
       "              'uid': 'b906517f-fe17-11e8-a5a9-ac220bb8d9d3',\n",
       "              'x': array(['may contain palm oil', 'contain palm oil', 'no palm oil'], dtype=object),\n",
       "              'y': array([16.82509505703422, 6.55893536121673, 76.61596958174906], dtype=object)},\n",
       "             {'marker': {'color': '#e377c2'},\n",
       "              'name': 'Leclerc',\n",
       "              'type': 'bar',\n",
       "              'uid': 'b9065180-fe17-11e8-9d47-ac220bb8d9d3',\n",
       "              'x': array(['may contain palm oil', 'contain palm oil', 'no palm oil'], dtype=object),\n",
       "              'y': array([20.913016656384947, 7.310302282541641, 71.77668106107342], dtype=object)}],\n",
       "    'layout': {'title': 'Raio of products with palm oil for the top 10 french brand.',\n",
       "               'xaxis': {'ticktext': array(['may contain palm oil', 'contain palm oil', 'no palm oil'], dtype=object),\n",
       "                         'tickvals': array(['0', '1', '2'], dtype=object),\n",
       "                         'title': 'Product Feature',\n",
       "                         'titlefont': {'color': '#7f7f7f', 'family': 'Courier New, monospace', 'size': 18}},\n",
       "               'yaxis': {'title': 'Ratio (in %)',\n",
       "                         'titlefont': {'color': '#7f7f7f', 'family': 'Courier New, monospace', 'size': 18}}}\n",
       "})"
      ]
     },
     "metadata": {},
     "output_type": "display_data"
    }
   ],
   "source": [
    "data = []\n",
    "colors = sns.color_palette(\"tab10\", 10).as_hex()\n",
    "\n",
    "for index, row in ratio_top10_df.iterrows():\n",
    "    data.append(go.Bar(x=ratio_top10_df.columns[1:],\n",
    "                       y=np.array(row[1:]),\n",
    "                       name = row['brands'],\n",
    "                       marker={'color': colors[index]}))\n",
    "\n",
    "layout = go.Layout(\n",
    "    title='Raio of products with palm oil for the top 10 french brand.',\n",
    "    xaxis=go.layout.XAxis(\n",
    "        title='Product Feature',\n",
    "        titlefont=dict(\n",
    "            family='Courier New, monospace',\n",
    "            size=18,\n",
    "            color='#7f7f7f'\n",
    "        ),\n",
    "        tickvals=np.arange(3).astype(str),\n",
    "        ticktext=ratio_top10_df.columns[1:],\n",
    "    ),\n",
    "    yaxis=dict(\n",
    "        title='Ratio (in %)',\n",
    "        titlefont=dict(\n",
    "            family='Courier New, monospace',\n",
    "            size=18,\n",
    "            color='#7f7f7f'\n",
    "        )\n",
    "    ),\n",
    ")\n",
    "\n",
    "go.FigureWidget(data=data, layout=layout)"
   ]
  },
  {
   "cell_type": "code",
   "execution_count": 178,
   "metadata": {},
   "outputs": [
    {
     "data": {
      "application/vnd.jupyter.widget-view+json": {
       "model_id": "3eefa40a60fa4e45b82d9e4286767e64",
       "version_major": 2,
       "version_minor": 0
      },
      "text/html": [
       "<p>Failed to display Jupyter Widget of type <code>FigureWidget</code>.</p>\n",
       "<p>\n",
       "  If you're reading this message in the Jupyter Notebook or JupyterLab Notebook, it may mean\n",
       "  that the widgets JavaScript is still loading. If this message persists, it\n",
       "  likely means that the widgets JavaScript library is either not installed or\n",
       "  not enabled. See the <a href=\"https://ipywidgets.readthedocs.io/en/stable/user_install.html\">Jupyter\n",
       "  Widgets Documentation</a> for setup instructions.\n",
       "</p>\n",
       "<p>\n",
       "  If you're reading this message in another frontend (for example, a static\n",
       "  rendering on GitHub or <a href=\"https://nbviewer.jupyter.org/\">NBViewer</a>),\n",
       "  it may mean that your frontend doesn't currently support widgets.\n",
       "</p>\n"
      ],
      "text/plain": [
       "FigureWidget({\n",
       "    'data': [{'marker': {'color': '#1f77b4'},\n",
       "              'name': 'may contain palm oil',\n",
       "              'type': 'bar',\n",
       "              'uid': '281451dc-fe18-11e8-9cc1-ac220bb8d9d3',\n",
       "              'x': array(['Picard', 'Monoprix', 'Casino', 'Carrefour', 'Cora', 'Auchan',\n",
       "                          'Leader Price', 'Belle France', 'Leclerc'], dtype=object),\n",
       "              'y': array([13.88343157, 14.22165279, 14.50032658, 12.58465011, 13.30321285,\n",
       "                          15.21397723, 17.43898125, 16.82509506, 20.91301666])},\n",
       "             {'marker': {'color': '#ff7f0e'},\n",
       "              'name': 'contain palm oil',\n",
       "              'type': 'bar',\n",
       "              'uid': '281451dd-fe18-11e8-bf00-ac220bb8d9d3',\n",
       "              'x': array(['Picard', 'Monoprix', 'Casino', 'Carrefour', 'Cora', 'Auchan',\n",
       "                          'Leader Price', 'Belle France', 'Leclerc'], dtype=object),\n",
       "              'y': array([1.63719712, 1.79372197, 3.10254735, 5.85026336, 6.37550201, 5.24146054,\n",
       "                          5.44747082, 6.55893536, 7.31030228])},\n",
       "             {'marker': {'color': '#2ca02c'},\n",
       "              'name': 'no palm oil',\n",
       "              'type': 'bar',\n",
       "              'uid': '281451de-fe18-11e8-b15a-ac220bb8d9d3',\n",
       "              'x': array(['Picard', 'Monoprix', 'Casino', 'Carrefour', 'Cora', 'Auchan',\n",
       "                          'Leader Price', 'Belle France', 'Leclerc'], dtype=object),\n",
       "              'y': array([84.47937132, 83.98462524, 82.39712606, 81.56508653, 80.32128514,\n",
       "                          79.54456223, 77.11354793, 76.61596958, 71.77668106])}],\n",
       "    'layout': {'barmode': 'stack',\n",
       "               'title': 'Palm oil presence within the 10 biggest food brands in France.',\n",
       "               'xaxis': {'ticktext': array(['Picard', 'Monoprix', 'Casino', 'Carrefour', 'Cora', 'Auchan',\n",
       "                                            'Leader Price', 'Belle France', 'Leclerc'], dtype=object),\n",
       "                         'tickvals': array(['0', '1', '2', '3', '4', '5', '6', '7', '8', '9'], dtype=object),\n",
       "                         'title': 'Food Brand',\n",
       "                         'titlefont': {'color': '#7f7f7f', 'family': 'Courier New, monospace', 'size': 18}},\n",
       "               'yaxis': {'title': 'Ratio (in %)',\n",
       "                         'titlefont': {'color': '#7f7f7f', 'family': 'Courier New, monospace', 'size': 18}}}\n",
       "})"
      ]
     },
     "metadata": {},
     "output_type": "display_data"
    }
   ],
   "source": [
    "data = []\n",
    "colors = sns.color_palette(\"tab10\", 10).as_hex()\n",
    "\n",
    "for i in range(3):\n",
    "    \n",
    "    data.append(go.Bar(x=ratio_top10_df['brands'],\n",
    "                       y=ratio_top10_df[ratio_top10_df.columns[i+1]],\n",
    "                       name = ratio_top10_df.columns[i+1],\n",
    "                       marker={'color': colors[i]}))\n",
    "\n",
    "layout = go.Layout(\n",
    "    title='Palm oil presence within the 10 biggest food brands in France.',\n",
    "    barmode='stack',\n",
    "    xaxis=go.layout.XAxis(\n",
    "        title='Food Brand',\n",
    "        titlefont=dict(\n",
    "            family='Courier New, monospace',\n",
    "            size=18,\n",
    "            color='#7f7f7f'\n",
    "        ),\n",
    "        tickvals=np.arange(10).astype(str),\n",
    "        ticktext=ratio_top10_df['brands'],\n",
    "    ),\n",
    "    yaxis=dict(\n",
    "        title='Ratio (in %)',\n",
    "        titlefont=dict(\n",
    "            family='Courier New, monospace',\n",
    "            size=18,\n",
    "            color='#7f7f7f'\n",
    "        )\n",
    "    ),\n",
    ")\n",
    "\n",
    "go.FigureWidget(data=data, layout=layout)"
   ]
  },
  {
   "cell_type": "code",
   "execution_count": null,
   "metadata": {},
   "outputs": [],
   "source": []
  }
 ],
 "metadata": {
  "kernelspec": {
   "display_name": "Python 3",
   "language": "python",
   "name": "python3"
  },
  "language_info": {
   "codemirror_mode": {
    "name": "ipython",
    "version": 3
   },
   "file_extension": ".py",
   "mimetype": "text/x-python",
   "name": "python",
   "nbconvert_exporter": "python",
   "pygments_lexer": "ipython3",
   "version": "3.6.4"
  }
 },
 "nbformat": 4,
 "nbformat_minor": 2
}

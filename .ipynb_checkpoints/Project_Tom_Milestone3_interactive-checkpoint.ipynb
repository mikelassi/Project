{
 "cells": [
  {
   "cell_type": "markdown",
   "metadata": {},
   "source": [
    "# Food For Thought \n",
    "## Digging into the dataset\n",
    "\n",
    "The first step of this project aims at understanding the dataset we have chosen ([Open Food Facts Database](https://world.openfoodfacts.org/)), to check whether it is suitable for the kind of analysis we want to develop.\n",
    "\n",
    "As a reminder, we would like to focus our research on two main topics:\n",
    "1. Impact of food on environment\n",
    "2. Impact of food on the health"
   ]
  },
  {
   "cell_type": "code",
   "execution_count": 1,
   "metadata": {},
   "outputs": [],
   "source": [
    "import re\n",
    "import pandas as pd\n",
    "import numpy as np\n",
    "import matplotlib\n",
    "import seaborn as sns\n",
    "import matplotlib.pyplot as plt\n",
    "import matplotlib.style as style\n",
    "from mpl_toolkits.mplot3d import Axes3D\n",
    "from difflib import get_close_matches\n",
    "\n",
    "import pickle"
   ]
  },
  {
   "cell_type": "code",
   "execution_count": null,
   "metadata": {},
   "outputs": [],
   "source": [
    "from sklearn.decomposition import PCA\n",
    "from sklearn.preprocessing import StandardScaler\n",
    "\n",
    "import findspark\n",
    "findspark.init()\n",
    "\n",
    "from pyspark.sql import *\n",
    "import pyspark.sql.functions as F\n",
    "\n",
    "from pyspark.sql import SparkSession\n",
    "from pyspark import SparkContext\n",
    "\n",
    "spark = SparkSession.builder.getOrCreate()\n",
    "sc = spark.sparkContext\n",
    "%matplotlib inline"
   ]
  },
  {
   "cell_type": "raw",
   "metadata": {},
   "source": [
    "import plotly.plotly as py\n",
    "import plotly.graph_objs as go\n",
    "import plotly.tools as pytools\n",
    "\n",
    "pytools.set_credentials_file(username='tomM', api_key='oS78cBzIZzmTHXpgY4Rq')"
   ]
  },
  {
   "cell_type": "code",
   "execution_count": 2,
   "metadata": {},
   "outputs": [
    {
     "data": {
      "text/html": [
       "<script>requirejs.config({paths: { 'plotly': ['https://cdn.plot.ly/plotly-latest.min']},});if(!window.Plotly) {{require(['plotly'],function(plotly) {window.Plotly=plotly;});}}</script>"
      ],
      "text/vnd.plotly.v1+html": [
       "<script>requirejs.config({paths: { 'plotly': ['https://cdn.plot.ly/plotly-latest.min']},});if(!window.Plotly) {{require(['plotly'],function(plotly) {window.Plotly=plotly;});}}</script>"
      ]
     },
     "metadata": {},
     "output_type": "display_data"
    }
   ],
   "source": [
    "from plotly.offline import download_plotlyjs, init_notebook_mode\n",
    "import plotly.plotly as py\n",
    "import plotly.graph_objs as go\n",
    "import plotly.tools as tools\n",
    "\n",
    "#import cufflinks as cf \n",
    "\n",
    "init_notebook_mode(connected=True)"
   ]
  },
  {
   "cell_type": "markdown",
   "metadata": {},
   "source": [
    "DATA_FOLDER = './data/'\n",
    "data = spark.read.csv(DATA_FOLDER +'en.openfoodfacts.org.products.csv',header=True,sep='\\t')          "
   ]
  },
  {
   "cell_type": "markdown",
   "metadata": {},
   "source": [
    "### Brand vs Nutrition vs Food Category in France "
   ]
  },
  {
   "cell_type": "markdown",
   "metadata": {},
   "source": [
    "#### load and clean"
   ]
  },
  {
   "cell_type": "markdown",
   "metadata": {},
   "source": [
    "bra_cat_nut = data.filter(\"countries_en=='France'\")\\\n",
    "                    .select('brands', 'nutrition_grade_fr', 'pnns_groups_1')\\\n",
    "                    .dropna(how='all')"
   ]
  },
  {
   "cell_type": "markdown",
   "metadata": {},
   "source": [
    "bra_cat_nut = bra_cat_nut.withColumn('pnns_groups_1',(F.regexp_replace('pnns_groups_1', '-', ' ')))\n",
    "square_udf_int = F.udf(lambda z: z.title() if z else z)\n",
    "bra_cat_nut = bra_cat_nut.withColumn('pnns_groups_1',square_udf_int('pnns_groups_1'))"
   ]
  },
  {
   "cell_type": "markdown",
   "metadata": {},
   "source": [
    "bra_cat_nut.show(5)"
   ]
  },
  {
   "cell_type": "raw",
   "metadata": {},
   "source": [
    "# we convert the spark dataframe to a pandas dataframe\n",
    "bra_cat_nut_df = bra_cat_nut.toPandas()\n",
    "\n",
    "# we store it in the current folder \n",
    "bra_cat_nut_df.to_pickle('bra_cat_nut_df')"
   ]
  },
  {
   "cell_type": "code",
   "execution_count": null,
   "metadata": {},
   "outputs": [],
   "source": [
    "# we can now read it everytime we want to continue the analysis\n",
    "bra_cat_nut_raw_df = pd.read_pickle('bra_cat_nut_raw_df')"
   ]
  },
  {
   "cell_type": "code",
   "execution_count": null,
   "metadata": {},
   "outputs": [],
   "source": [
    "bra_cat_nut_raw_df.head()"
   ]
  },
  {
   "cell_type": "markdown",
   "metadata": {},
   "source": [
    "The problem is that the 'brands' tags are not always consistent. For example we can find the brand tag 'carrefour', \"Carrefour\", \"carrfour,bio carrefour' ect. \n",
    "Hence we first clean the brands using a list of food brands present in France and a function to match the 'brands' tag with the closest brand in the list. "
   ]
  },
  {
   "cell_type": "code",
   "execution_count": null,
   "metadata": {},
   "outputs": [],
   "source": [
    "# list of food brands present in France ('Coca Cola', 'Fleury Michon', 'Carrefour' ect.)\n",
    "list_brand_file = open(\"brand_list.txt\", \"r\")\n",
    "list_brand = list_brand_file.read().split('\\n')\n",
    "\n",
    "# dictonary of parent brands. \n",
    "# to replace brands by its parent brand when they belong to a bigger one \n",
    "# (eg: 'Bio Village' is a brand of Leclerc which owes also 'Marque Repère')\n",
    "dict_parent_brand= {'Bio Village': 'Leclerc',\n",
    "                    'Marque Repère': 'Leclerc'}\n",
    "\n",
    "# we set to None the brand when it is \"Sans Marque\" \n",
    "# \"Sans Marque\" means the brands had not been specified, it can be \"Marque Repère\", \"Carrefour\", \"Délisse\" ect. \n",
    "# using the product search tool on https://fr.openfoodfacts.org with the tag \"Sans Marque\".\n",
    "dict_parent_brand['Sans Marque']= None"
   ]
  },
  {
   "cell_type": "code",
   "execution_count": null,
   "metadata": {},
   "outputs": [],
   "source": [
    "# Function which find for each value (string) in the column 'brands' the closest brand (string) in 'list_brand'.\n",
    "# Note: the function 'get_close_matches' has been imported from the open-source 'difflib' library.\n",
    "def clean_brand(brand_name):\n",
    "    \n",
    "    # brand name can be of the form 'Carrefour' (one word) or 'Carrefour, Bio Carrefour' (multiple words)\n",
    "    # hence we split the string w.r.t the symbol ',' and find the best matching brand word for each split.\n",
    "    matches=[]\n",
    "    if brand_name:\n",
    "        \n",
    "        for word in brand_name.split(','):\n",
    "\n",
    "            # the cutoff control for the False Positives possibilities in the 'list_brand' \n",
    "            # that don’t score at least the cutoff are ignored.\n",
    "            # n controls for the the number of possibilities (whose score is higher than the cutoff value).\n",
    "            matches.append(get_close_matches(word.lower(), list_brand, n=1, cutoff=0.6))\n",
    "\n",
    "        # remove empty sublists and unravel\n",
    "        matches = [brand for sublist in matches for brand in sublist if sublist]\n",
    "        \n",
    "        # output brand\n",
    "        if matches:\n",
    "            output = matches[0]\n",
    "        else:\n",
    "            output = None\n",
    "                \n",
    "        # check for parent brand\n",
    "        if output in dict_parent_brand:\n",
    "            output = dict_parent_brand[output]\n",
    "        \n",
    "        return output"
   ]
  },
  {
   "cell_type": "code",
   "execution_count": null,
   "metadata": {},
   "outputs": [],
   "source": [
    "# we create a new column with the new \"consistent\" brand tag. \n",
    "# takes some minutes to run...\n",
    "bra_cat_nut_raw_df['new_brands'] = bra_cat_nut_raw_df['brands'].apply(lambda x: clean_brand(x))"
   ]
  },
  {
   "cell_type": "code",
   "execution_count": null,
   "metadata": {},
   "outputs": [],
   "source": [
    "# drop when both 'nutrition_grade_fr' and 'brands' are None\n",
    "bra_cat_nut_cleaned_df = bra_cat_nut_raw_df.dropna(subset=['nutrition_grade_fr', 'brands'], how='all') \n",
    "\n",
    "# we can drop the old column 'brands' since we have the new ones.\n",
    "bra_cat_nut_cleaned_df = bra_cat_nut_cleaned_df.drop('brands',1).rename(columns={'new_brands':'brands'})\n",
    "\n",
    "bra_cat_nut_cleaned_df.head()"
   ]
  },
  {
   "cell_type": "code",
   "execution_count": null,
   "metadata": {},
   "outputs": [],
   "source": [
    "# here we count the number of products for each brand. \n",
    "# we consider that brand have enough products to be analyzed from 100 products\n",
    "count = bra_cat_nut_cleaned_df.groupby('brands').count().sort_values('nutrition_grade_fr', ascending=False)\n",
    "count.head()"
   ]
  },
  {
   "cell_type": "code",
   "execution_count": null,
   "metadata": {},
   "outputs": [],
   "source": [
    "count['enough_products']= count[['nutrition_grade_fr']].apply(lambda x: x>100)\n",
    "count = count[count.enough_products]\n",
    "count.head()"
   ]
  },
  {
   "cell_type": "markdown",
   "metadata": {},
   "source": [
    "The most abundant brands are Carrefour, Auchan and U. There are the brands of the biggest distributors (supermarkets) in France. "
   ]
  },
  {
   "cell_type": "code",
   "execution_count": null,
   "metadata": {},
   "outputs": [],
   "source": [
    "# here we add the column \"enough products\" to the dataframe with the cleaned brand.\n",
    "bra_cat_nut_cleaned_df = bra_cat_nut_cleaned_df.join(count[['enough_products']], on='brands')\n",
    "bra_cat_nut_cleaned_df = bra_cat_nut_cleaned_df.drop('enough_products',1)\n",
    "bra_cat_nut_cleaned_df.head()"
   ]
  },
  {
   "cell_type": "code",
   "execution_count": null,
   "metadata": {},
   "outputs": [],
   "source": [
    "# here we create dummy variables from the 'nutrition_grade_fr' whose value can be:\n",
    "# - 'a' (very good product for health) \n",
    "# - 'b' (good product)\n",
    "# - 'c' ('neutral product')\n",
    "# - 'd' ('not so good product')\n",
    "# - 'e' (bad product for health)\n",
    "\n",
    "bra_cat_nut_cleaned_expanded_df = pd.get_dummies(bra_cat_nut_cleaned_df.set_index('brands')).reset_index()\n",
    "bra_cat_nut_cleaned_dummies_df = bra_cat_nut_cleaned_expanded_df.rename(columns=\n",
    "                              {'nutrition_grade_fr_a':'a',\n",
    "                               'nutrition_grade_fr_b':'b',\n",
    "                               'nutrition_grade_fr_c':'c',\n",
    "                               'nutrition_grade_fr_d':'d',\n",
    "                               'nutrition_grade_fr_e':'e',\n",
    "                               'pnns_groups_1_Beverages': 'Beverages',\n",
    "                               'pnns_groups_1_Cereals And Potatoes':'Cereals And Potatoes',\n",
    "                               'pnns_groups_1_Composite Foods': 'Composite Foods',\n",
    "                               'pnns_groups_1_Fat And Sauces':'Fat And Sauces',\n",
    "                               'pnns_groups_1_Fish Meat Eggs':'Fish Meat Eggs',\n",
    "                               'pnns_groups_1_Fruits And Vegetables':'Fruits And Vegetables',\n",
    "                               'pnns_groups_1_Milk And Dairy Products':'Milk And Dairy Products',\n",
    "                               'pnns_groups_1_Salty Snacks':'Salty Snacks',\n",
    "                               'pnns_groups_1_Sugary Snacks':'Sugary Snacks',\n",
    "                               'pnns_groups_1_Unknown': 'Unknown'})\n",
    "bra_cat_nut_cleaned_dummies_df.head(5)"
   ]
  },
  {
   "cell_type": "raw",
   "metadata": {},
   "source": [
    "# we store it in the current folder \n",
    "bra_cat_nut_cleaned_df.to_pickle('bra_cat_nut_cleaned_df')\n",
    "bra_cat_nut_cleaned_dummies_df.to_pickle('bra_cat_nut_cleaned_dummies_df')"
   ]
  },
  {
   "cell_type": "markdown",
   "metadata": {},
   "source": [
    "#### Load Cleaned data"
   ]
  },
  {
   "cell_type": "code",
   "execution_count": 4,
   "metadata": {},
   "outputs": [],
   "source": [
    "bra_cat_nut_df = pd.read_pickle('bra_cat_nut_cleaned_df')\n",
    "bra_cat_nut_dummies_df = pd.read_pickle('bra_cat_nut_cleaned_dummies_df')"
   ]
  },
  {
   "cell_type": "markdown",
   "metadata": {},
   "source": [
    "#### Food quality in the whole dataset"
   ]
  },
  {
   "cell_type": "code",
   "execution_count": 5,
   "metadata": {},
   "outputs": [],
   "source": [
    "count = bra_cat_nut_df[['nutrition_grade_fr','brands']].groupby('nutrition_grade_fr').count().rename(columns={'brands':'count'})"
   ]
  },
  {
   "cell_type": "code",
   "execution_count": 43,
   "metadata": {
    "scrolled": false
   },
   "outputs": [
    {
     "data": {
      "application/vnd.jupyter.widget-view+json": {
       "model_id": "73d9ee4b21fe42998372b074f38455e5",
       "version_major": 2,
       "version_minor": 0
      },
      "text/html": [
       "<p>Failed to display Jupyter Widget of type <code>FigureWidget</code>.</p>\n",
       "<p>\n",
       "  If you're reading this message in the Jupyter Notebook or JupyterLab Notebook, it may mean\n",
       "  that the widgets JavaScript is still loading. If this message persists, it\n",
       "  likely means that the widgets JavaScript library is either not installed or\n",
       "  not enabled. See the <a href=\"https://ipywidgets.readthedocs.io/en/stable/user_install.html\">Jupyter\n",
       "  Widgets Documentation</a> for setup instructions.\n",
       "</p>\n",
       "<p>\n",
       "  If you're reading this message in another frontend (for example, a static\n",
       "  rendering on GitHub or <a href=\"https://nbviewer.jupyter.org/\">NBViewer</a>),\n",
       "  it may mean that your frontend doesn't currently support widgets.\n",
       "</p>\n"
      ],
      "text/plain": [
       "FigureWidget({\n",
       "    'data': [{'marker': {'color': '#3783bb'},\n",
       "              'name': 'a',\n",
       "              'type': 'bar',\n",
       "              'uid': '38af53a8-fc96-11e8-a80b-ac220bb8d9d3',\n",
       "              'x': array([0]),\n",
       "              'y': array([8951])},\n",
       "             {'marker': {'color': '#a7d0e4'},\n",
       "              'name': 'b',\n",
       "              'type': 'bar',\n",
       "              'uid': '38af53a9-fc96-11e8-900f-ac220bb8d9d3',\n",
       "              'x': array([1]),\n",
       "              'y': array([8831])},\n",
       "             {'marker': {'color': '#f7f6f6'},\n",
       "              'name': 'c',\n",
       "              'type': 'bar',\n",
       "              'uid': '38af53aa-fc96-11e8-af82-ac220bb8d9d3',\n",
       "              'x': array([2]),\n",
       "              'y': array([12866])},\n",
       "             {'marker': {'color': '#f7b799'},\n",
       "              'name': 'd',\n",
       "              'type': 'bar',\n",
       "              'uid': '38af53ab-fc96-11e8-bcae-ac220bb8d9d3',\n",
       "              'x': array([3]),\n",
       "              'y': array([17081])},\n",
       "             {'marker': {'color': '#c94741'},\n",
       "              'name': 'e',\n",
       "              'type': 'bar',\n",
       "              'uid': '38af53ac-fc96-11e8-8fa5-ac220bb8d9d3',\n",
       "              'x': array([4]),\n",
       "              'y': array([13428])}],\n",
       "    'layout': {'title': 'Nutrition score occurences in the original dataset.',\n",
       "               'xaxis': {'ticktext': array(['a', 'b', 'c', 'd', 'e'], dtype=object),\n",
       "                         'tickvals': array(['0', '1', '2', '3', '4'], dtype=object),\n",
       "                         'title': 'Nutriscore',\n",
       "                         'titlefont': {'color': '#7f7f7f', 'family': 'Courier New, monospace', 'size': 18}},\n",
       "               'yaxis': {'title': 'Count',\n",
       "                         'titlefont': {'color': '#7f7f7f', 'family': 'Courier New, monospace', 'size': 18}}}\n",
       "})"
      ]
     },
     "metadata": {},
     "output_type": "display_data"
    }
   ],
   "source": [
    "data = []\n",
    "colors = sns.color_palette(\"RdBu_r\", 5).as_hex()\n",
    "\n",
    "for index, row in count.reset_index().iterrows():\n",
    "    data.append(go.Bar(x=np.array(index),\n",
    "                       y=np.array(row['count']),\n",
    "                       name = row['nutrition_grade_fr'],\n",
    "                       marker={'color': colors[index]}))\n",
    "\n",
    "layout = go.Layout(\n",
    "    title='Nutrition score occurences in the original dataset.',\n",
    "    xaxis=go.layout.XAxis(\n",
    "        title='Nutriscore',\n",
    "        titlefont=dict(\n",
    "            family='Courier New, monospace',\n",
    "            size=18,\n",
    "            color='#7f7f7f'\n",
    "        ),\n",
    "        tickvals=np.arange(5).astype(str),\n",
    "        ticktext=count.index,\n",
    "    ),\n",
    "    yaxis=dict(\n",
    "        title='Count',\n",
    "        titlefont=dict(\n",
    "            family='Courier New, monospace',\n",
    "            size=18,\n",
    "            color='#7f7f7f'\n",
    "        )\n",
    "    ),\n",
    ")\n",
    "\n",
    "go.FigureWidget(data=data, layout=layout)"
   ]
  },
  {
   "cell_type": "code",
   "execution_count": 44,
   "metadata": {},
   "outputs": [],
   "source": [
    "labels = count.index\n",
    "values = count['count'].values\n",
    "colors = sns.color_palette(\"RdBu_r\", 5).as_hex()"
   ]
  },
  {
   "cell_type": "code",
   "execution_count": 67,
   "metadata": {},
   "outputs": [
    {
     "data": {
      "text/html": [
       "<iframe id=\"igraph\" scrolling=\"no\" style=\"border:none;\" seamless=\"seamless\" src=\"https://plot.ly/~tomM/58.embed\" height=\"525px\" width=\"100%\"></iframe>"
      ],
      "text/plain": [
       "<plotly.tools.PlotlyDisplay object>"
      ]
     },
     "execution_count": 67,
     "metadata": {},
     "output_type": "execute_result"
    }
   ],
   "source": [
    "fig = {\n",
    "    'data': [{'labels': labels,\n",
    "              'values': values,\n",
    "              'type': 'pie',\n",
    "              'marker':{'colors':colors}\n",
    "              }\n",
    "            ],\n",
    "    'layout': {'title': 'Nutrition score occurences in the original dataset.'}\n",
    "     }\n",
    "\n",
    "py.iplot(fig)"
   ]
  },
  {
   "cell_type": "markdown",
   "metadata": {},
   "source": [
    "### Food quality for each brand"
   ]
  },
  {
   "cell_type": "code",
   "execution_count": 68,
   "metadata": {},
   "outputs": [],
   "source": [
    "bra_nut_df = bra_cat_nut_df[['brands', 'nutrition_grade_fr']]\n",
    "bra_nut_dummies_df = bra_cat_nut_dummies_df.iloc[:,np.arange(6)]"
   ]
  },
  {
   "cell_type": "code",
   "execution_count": 69,
   "metadata": {},
   "outputs": [],
   "source": [
    "# extract the total number of products for each brands\n",
    "brand_count = bra_nut_df.groupby('brands').count().rename(columns={'nutrition_grade_fr':'total'})"
   ]
  },
  {
   "cell_type": "code",
   "execution_count": 70,
   "metadata": {},
   "outputs": [],
   "source": [
    "# here we count the nutrition grade occurences for each brand\n",
    "brand_dummies_count = bra_nut_dummies_df.groupby('brands').sum()"
   ]
  },
  {
   "cell_type": "code",
   "execution_count": 71,
   "metadata": {},
   "outputs": [
    {
     "data": {
      "text/html": [
       "<div>\n",
       "<style scoped>\n",
       "    .dataframe tbody tr th:only-of-type {\n",
       "        vertical-align: middle;\n",
       "    }\n",
       "\n",
       "    .dataframe tbody tr th {\n",
       "        vertical-align: top;\n",
       "    }\n",
       "\n",
       "    .dataframe thead th {\n",
       "        text-align: right;\n",
       "    }\n",
       "</style>\n",
       "<table border=\"1\" class=\"dataframe\">\n",
       "  <thead>\n",
       "    <tr style=\"text-align: right;\">\n",
       "      <th></th>\n",
       "      <th>a</th>\n",
       "      <th>b</th>\n",
       "      <th>c</th>\n",
       "      <th>d</th>\n",
       "      <th>e</th>\n",
       "      <th>total</th>\n",
       "    </tr>\n",
       "    <tr>\n",
       "      <th>brands</th>\n",
       "      <th></th>\n",
       "      <th></th>\n",
       "      <th></th>\n",
       "      <th></th>\n",
       "      <th></th>\n",
       "      <th></th>\n",
       "    </tr>\n",
       "  </thead>\n",
       "  <tbody>\n",
       "    <tr>\n",
       "      <th>123 bio</th>\n",
       "      <td>121.0</td>\n",
       "      <td>75.0</td>\n",
       "      <td>54.0</td>\n",
       "      <td>91.0</td>\n",
       "      <td>80.0</td>\n",
       "      <td>421</td>\n",
       "    </tr>\n",
       "    <tr>\n",
       "      <th>7Up</th>\n",
       "      <td>0.0</td>\n",
       "      <td>5.0</td>\n",
       "      <td>1.0</td>\n",
       "      <td>4.0</td>\n",
       "      <td>24.0</td>\n",
       "      <td>34</td>\n",
       "    </tr>\n",
       "    <tr>\n",
       "      <th>A l'olivier</th>\n",
       "      <td>0.0</td>\n",
       "      <td>2.0</td>\n",
       "      <td>19.0</td>\n",
       "      <td>43.0</td>\n",
       "      <td>3.0</td>\n",
       "      <td>67</td>\n",
       "    </tr>\n",
       "    <tr>\n",
       "      <th>Ajax</th>\n",
       "      <td>1.0</td>\n",
       "      <td>0.0</td>\n",
       "      <td>0.0</td>\n",
       "      <td>0.0</td>\n",
       "      <td>1.0</td>\n",
       "      <td>2</td>\n",
       "    </tr>\n",
       "    <tr>\n",
       "      <th>Albert Menes</th>\n",
       "      <td>2.0</td>\n",
       "      <td>6.0</td>\n",
       "      <td>27.0</td>\n",
       "      <td>37.0</td>\n",
       "      <td>22.0</td>\n",
       "      <td>94</td>\n",
       "    </tr>\n",
       "  </tbody>\n",
       "</table>\n",
       "</div>"
      ],
      "text/plain": [
       "                  a     b     c     d     e  total\n",
       "brands                                            \n",
       "123 bio       121.0  75.0  54.0  91.0  80.0    421\n",
       "7Up             0.0   5.0   1.0   4.0  24.0     34\n",
       "A l'olivier     0.0   2.0  19.0  43.0   3.0     67\n",
       "Ajax            1.0   0.0   0.0   0.0   1.0      2\n",
       "Albert Menes    2.0   6.0  27.0  37.0  22.0     94"
      ]
     },
     "execution_count": 71,
     "metadata": {},
     "output_type": "execute_result"
    }
   ],
   "source": [
    "# we add the column total (with the total number of products sold for each brand) to further extract the ratio of each grade instead of the raw count.\n",
    "brand_dummies_count = brand_dummies_count.join(brand_count)#.rename(columns = {'nutrition_grade_fr':'total'})\n",
    "brand_dummies_count.head()"
   ]
  },
  {
   "cell_type": "code",
   "execution_count": 72,
   "metadata": {},
   "outputs": [],
   "source": [
    "# we convert the counts into ratios. (ex: ratio for 'a' = count for 'a' / total number of products)\n",
    "ratio = brand_dummies_count.copy()\n",
    "ratio[['a','b','c','d','e']] = brand_dummies_count[['a','b','c','d','e']].div(brand_dummies_count['total'].values,axis=0)*100\n",
    "ratio = ratio.sort_values('total',ascending=False)"
   ]
  },
  {
   "cell_type": "code",
   "execution_count": 73,
   "metadata": {},
   "outputs": [
    {
     "data": {
      "text/html": [
       "<div>\n",
       "<style scoped>\n",
       "    .dataframe tbody tr th:only-of-type {\n",
       "        vertical-align: middle;\n",
       "    }\n",
       "\n",
       "    .dataframe tbody tr th {\n",
       "        vertical-align: top;\n",
       "    }\n",
       "\n",
       "    .dataframe thead th {\n",
       "        text-align: right;\n",
       "    }\n",
       "</style>\n",
       "<table border=\"1\" class=\"dataframe\">\n",
       "  <thead>\n",
       "    <tr style=\"text-align: right;\">\n",
       "      <th></th>\n",
       "      <th>brands</th>\n",
       "      <th>a</th>\n",
       "      <th>b</th>\n",
       "      <th>c</th>\n",
       "      <th>d</th>\n",
       "      <th>e</th>\n",
       "    </tr>\n",
       "  </thead>\n",
       "  <tbody>\n",
       "    <tr>\n",
       "      <th>0</th>\n",
       "      <td>Carrefour</td>\n",
       "      <td>19.763931</td>\n",
       "      <td>15.344496</td>\n",
       "      <td>19.818831</td>\n",
       "      <td>26.269558</td>\n",
       "      <td>18.803184</td>\n",
       "    </tr>\n",
       "    <tr>\n",
       "      <th>1</th>\n",
       "      <td>Auchan</td>\n",
       "      <td>18.391764</td>\n",
       "      <td>15.303283</td>\n",
       "      <td>21.313300</td>\n",
       "      <td>26.794658</td>\n",
       "      <td>18.196995</td>\n",
       "    </tr>\n",
       "    <tr>\n",
       "      <th>2</th>\n",
       "      <td>Leclerc</td>\n",
       "      <td>13.648180</td>\n",
       "      <td>15.901213</td>\n",
       "      <td>22.010399</td>\n",
       "      <td>27.816291</td>\n",
       "      <td>20.623917</td>\n",
       "    </tr>\n",
       "    <tr>\n",
       "      <th>3</th>\n",
       "      <td>Casino</td>\n",
       "      <td>18.849840</td>\n",
       "      <td>15.609311</td>\n",
       "      <td>20.903697</td>\n",
       "      <td>25.604747</td>\n",
       "      <td>19.032405</td>\n",
       "    </tr>\n",
       "    <tr>\n",
       "      <th>4</th>\n",
       "      <td>Leader Price</td>\n",
       "      <td>17.482517</td>\n",
       "      <td>13.939394</td>\n",
       "      <td>22.750583</td>\n",
       "      <td>26.293706</td>\n",
       "      <td>19.533800</td>\n",
       "    </tr>\n",
       "  </tbody>\n",
       "</table>\n",
       "</div>"
      ],
      "text/plain": [
       "         brands          a          b          c          d          e\n",
       "0     Carrefour  19.763931  15.344496  19.818831  26.269558  18.803184\n",
       "1        Auchan  18.391764  15.303283  21.313300  26.794658  18.196995\n",
       "2       Leclerc  13.648180  15.901213  22.010399  27.816291  20.623917\n",
       "3        Casino  18.849840  15.609311  20.903697  25.604747  19.032405\n",
       "4  Leader Price  17.482517  13.939394  22.750583  26.293706  19.533800"
      ]
     },
     "execution_count": 73,
     "metadata": {},
     "output_type": "execute_result"
    }
   ],
   "source": [
    "ratio_to_plot = ratio.reset_index().loc[:9].drop('total',1)\n",
    "ratio_to_plot.head()"
   ]
  },
  {
   "cell_type": "code",
   "execution_count": 74,
   "metadata": {},
   "outputs": [
    {
     "data": {
      "application/vnd.jupyter.widget-view+json": {
       "model_id": "80bcca6d177640eb9689e4cbf2787bd5",
       "version_major": 2,
       "version_minor": 0
      },
      "text/html": [
       "<p>Failed to display Jupyter Widget of type <code>FigureWidget</code>.</p>\n",
       "<p>\n",
       "  If you're reading this message in the Jupyter Notebook or JupyterLab Notebook, it may mean\n",
       "  that the widgets JavaScript is still loading. If this message persists, it\n",
       "  likely means that the widgets JavaScript library is either not installed or\n",
       "  not enabled. See the <a href=\"https://ipywidgets.readthedocs.io/en/stable/user_install.html\">Jupyter\n",
       "  Widgets Documentation</a> for setup instructions.\n",
       "</p>\n",
       "<p>\n",
       "  If you're reading this message in another frontend (for example, a static\n",
       "  rendering on GitHub or <a href=\"https://nbviewer.jupyter.org/\">NBViewer</a>),\n",
       "  it may mean that your frontend doesn't currently support widgets.\n",
       "</p>\n"
      ],
      "text/plain": [
       "FigureWidget({\n",
       "    'data': [{'marker': {'color': '#1f77b4'},\n",
       "              'name': 'Carrefour',\n",
       "              'type': 'bar',\n",
       "              'uid': 'c332aa76-fc96-11e8-8179-ac220bb8d9d3',\n",
       "              'x': [a, b, c, d, e],\n",
       "              'y': array([19.763930826242106, 15.34449629426297, 19.81883063409278,\n",
       "                          26.269558056546806, 18.80318418885534], dtype=object)},\n",
       "             {'marker': {'color': '#ff7f0e'},\n",
       "              'name': 'Auchan',\n",
       "              'type': 'bar',\n",
       "              'uid': 'c332aa77-fc96-11e8-b215-ac220bb8d9d3',\n",
       "              'x': [a, b, c, d, e],\n",
       "              'y': array([18.39176405119644, 15.30328324986088, 21.313299944351698,\n",
       "                          26.79465776293823, 18.196994991652755], dtype=object)},\n",
       "             {'marker': {'color': '#2ca02c'},\n",
       "              'name': 'Leclerc',\n",
       "              'type': 'bar',\n",
       "              'uid': 'c332aa78-fc96-11e8-b27d-ac220bb8d9d3',\n",
       "              'x': [a, b, c, d, e],\n",
       "              'y': array([13.648180242634314, 15.901213171577123, 22.0103986135182,\n",
       "                          27.81629116117851, 20.623916811091856], dtype=object)},\n",
       "             {'marker': {'color': '#d62728'},\n",
       "              'name': 'Casino',\n",
       "              'type': 'bar',\n",
       "              'uid': 'c332aa79-fc96-11e8-ac3d-ac220bb8d9d3',\n",
       "              'x': [a, b, c, d, e],\n",
       "              'y': array([18.849840255591054, 15.60931081697855, 20.903696942035598,\n",
       "                          25.60474669100867, 19.032405294386127], dtype=object)},\n",
       "             {'marker': {'color': '#9467bd'},\n",
       "              'name': 'Leader Price',\n",
       "              'type': 'bar',\n",
       "              'uid': 'c332aa7a-fc96-11e8-980e-ac220bb8d9d3',\n",
       "              'x': [a, b, c, d, e],\n",
       "              'y': array([17.482517482517483, 13.939393939393941, 22.75058275058275,\n",
       "                          26.293706293706293, 19.533799533799534], dtype=object)},\n",
       "             {'marker': {'color': '#8c564b'},\n",
       "              'name': 'Picard',\n",
       "              'type': 'bar',\n",
       "              'uid': 'c332aa7b-fc96-11e8-9815-ac220bb8d9d3',\n",
       "              'x': [a, b, c, d, e],\n",
       "              'y': array([29.741650913673602, 18.147448015122876, 21.865154379332072,\n",
       "                          23.566477630749844, 6.679269061121613], dtype=object)},\n",
       "             {'marker': {'color': '#e377c2'},\n",
       "              'name': 'Cora',\n",
       "              'type': 'bar',\n",
       "              'uid': 'c332aa7c-fc96-11e8-a48d-ac220bb8d9d3',\n",
       "              'x': [a, b, c, d, e],\n",
       "              'y': array([15.635858234885337, 13.273106323835998, 21.195274496177902,\n",
       "                          27.72758860319666, 22.1681723419041], dtype=object)},\n",
       "             {'marker': {'color': '#7f7f7f'},\n",
       "              'name': 'Monoprix',\n",
       "              'type': 'bar',\n",
       "              'uid': 'c332aa7d-fc96-11e8-9fe5-ac220bb8d9d3',\n",
       "              'x': [a, b, c, d, e],\n",
       "              'y': array([20.1294033069734, 16.031631919482386, 21.49532710280374,\n",
       "                          26.168224299065418, 16.175413371675056], dtype=object)},\n",
       "             {'marker': {'color': '#bcbd22'},\n",
       "              'name': 'Belle France',\n",
       "              'type': 'bar',\n",
       "              'uid': 'c332aa7e-fc96-11e8-a2c2-ac220bb8d9d3',\n",
       "              'x': [a, b, c, d, e],\n",
       "              'y': array([16.042345276872965, 12.703583061889251, 21.009771986970684,\n",
       "                          30.374592833876225, 19.86970684039088], dtype=object)},\n",
       "             {'marker': {'color': '#17becf'},\n",
       "              'name': 'Netto',\n",
       "              'type': 'bar',\n",
       "              'uid': 'c332aa7f-fc96-11e8-bc51-ac220bb8d9d3',\n",
       "              'x': [a, b, c, d, e],\n",
       "              'y': array([10.146699266503667, 13.447432762836186, 20.904645476772615,\n",
       "                          33.12958435207824, 22.371638141809292], dtype=object)}],\n",
       "    'layout': {'title': 'Nutrition score occurences for the 10 biggest food brands in France.',\n",
       "               'xaxis': {'ticktext': array(['Beverages', 'Cereals And Potatoes', 'Composite Foods',\n",
       "                                            'Fat And Sauces', 'Fish Meat Eggs', 'Fruits And Vegetables',\n",
       "                                            'Milk And Dairy Products', 'Salty Snacks', 'Sugary Snacks', 'Unknown'],\n",
       "                                           dtype=object),\n",
       "                         'tickvals': array(['0', '1', '2', '3', '4'], dtype=object),\n",
       "                         'title': 'Nutriscore',\n",
       "                         'titlefont': {'color': '#7f7f7f', 'family': 'Courier New, monospace', 'size': 18}},\n",
       "               'yaxis': {'title': 'Ratio (in %)',\n",
       "                         'titlefont': {'color': '#7f7f7f', 'family': 'Courier New, monospace', 'size': 18}}}\n",
       "})"
      ]
     },
     "metadata": {},
     "output_type": "display_data"
    }
   ],
   "source": [
    "data = []\n",
    "colors = sns.color_palette(\"tab10\", ratio_to_plot.brands.count()).as_hex()\n",
    "\n",
    "for index, row in ratio_to_plot.iterrows():\n",
    "    data.append(go.Bar(x=['a','b','c','d','e'],\n",
    "                       y=np.array(row[1:]),\n",
    "                       name = row['brands'],\n",
    "                       marker={'color': colors[index]}))\n",
    "\n",
    "layout = go.Layout(\n",
    "    title='Nutrition score occurences for the 10 biggest food brands in France.',\n",
    "    xaxis=go.layout.XAxis(\n",
    "        title='Nutriscore',\n",
    "        titlefont=dict(\n",
    "            family='Courier New, monospace',\n",
    "            size=18,\n",
    "            color='#7f7f7f'\n",
    "        ),\n",
    "        tickvals=np.arange(5).astype(str),\n",
    "        ticktext=count.index,\n",
    "    ),\n",
    "    yaxis=dict(\n",
    "        title='Ratio (in %)',\n",
    "        titlefont=dict(\n",
    "            family='Courier New, monospace',\n",
    "            size=18,\n",
    "            color='#7f7f7f'\n",
    "        )\n",
    "    ),\n",
    ")\n",
    "\n",
    "go.FigureWidget(data=data, layout=layout)"
   ]
  },
  {
   "cell_type": "code",
   "execution_count": 75,
   "metadata": {},
   "outputs": [
    {
     "data": {
      "application/vnd.jupyter.widget-view+json": {
       "model_id": "48b6b7f86dc64ecebdb9edef7232eac7",
       "version_major": 2,
       "version_minor": 0
      },
      "text/html": [
       "<p>Failed to display Jupyter Widget of type <code>FigureWidget</code>.</p>\n",
       "<p>\n",
       "  If you're reading this message in the Jupyter Notebook or JupyterLab Notebook, it may mean\n",
       "  that the widgets JavaScript is still loading. If this message persists, it\n",
       "  likely means that the widgets JavaScript library is either not installed or\n",
       "  not enabled. See the <a href=\"https://ipywidgets.readthedocs.io/en/stable/user_install.html\">Jupyter\n",
       "  Widgets Documentation</a> for setup instructions.\n",
       "</p>\n",
       "<p>\n",
       "  If you're reading this message in another frontend (for example, a static\n",
       "  rendering on GitHub or <a href=\"https://nbviewer.jupyter.org/\">NBViewer</a>),\n",
       "  it may mean that your frontend doesn't currently support widgets.\n",
       "</p>\n"
      ],
      "text/plain": [
       "FigureWidget({\n",
       "    'data': [{'marker': {'color': '#3783bb'},\n",
       "              'name': 'a',\n",
       "              'type': 'bar',\n",
       "              'uid': 'c3861b42-fc96-11e8-b032-ac220bb8d9d3',\n",
       "              'x': array(['Carrefour', 'Auchan', 'Leclerc', 'Casino', 'Leader Price', 'Picard',\n",
       "                          'Cora', 'Monoprix', 'Belle France', 'Netto'], dtype=object),\n",
       "              'y': array([19.76393083, 18.39176405, 13.64818024, 18.84984026, 17.48251748,\n",
       "                          29.74165091, 15.63585823, 20.12940331, 16.04234528, 10.14669927])},\n",
       "             {'marker': {'color': '#a7d0e4'},\n",
       "              'name': 'b',\n",
       "              'type': 'bar',\n",
       "              'uid': 'c3861b43-fc96-11e8-89fe-ac220bb8d9d3',\n",
       "              'x': array(['Carrefour', 'Auchan', 'Leclerc', 'Casino', 'Leader Price', 'Picard',\n",
       "                          'Cora', 'Monoprix', 'Belle France', 'Netto'], dtype=object),\n",
       "              'y': array([15.34449629, 15.30328325, 15.90121317, 15.60931082, 13.93939394,\n",
       "                          18.14744802, 13.27310632, 16.03163192, 12.70358306, 13.44743276])},\n",
       "             {'marker': {'color': '#f7f6f6'},\n",
       "              'name': 'c',\n",
       "              'type': 'bar',\n",
       "              'uid': 'c3861b44-fc96-11e8-9b8b-ac220bb8d9d3',\n",
       "              'x': array(['Carrefour', 'Auchan', 'Leclerc', 'Casino', 'Leader Price', 'Picard',\n",
       "                          'Cora', 'Monoprix', 'Belle France', 'Netto'], dtype=object),\n",
       "              'y': array([19.81883063, 21.31329994, 22.01039861, 20.90369694, 22.75058275,\n",
       "                          21.86515438, 21.1952745 , 21.4953271 , 21.00977199, 20.90464548])},\n",
       "             {'marker': {'color': '#f7b799'},\n",
       "              'name': 'd',\n",
       "              'type': 'bar',\n",
       "              'uid': 'c3861b45-fc96-11e8-bf45-ac220bb8d9d3',\n",
       "              'x': array(['Carrefour', 'Auchan', 'Leclerc', 'Casino', 'Leader Price', 'Picard',\n",
       "                          'Cora', 'Monoprix', 'Belle France', 'Netto'], dtype=object),\n",
       "              'y': array([26.26955806, 26.79465776, 27.81629116, 25.60474669, 26.29370629,\n",
       "                          23.56647763, 27.7275886 , 26.1682243 , 30.37459283, 33.12958435])},\n",
       "             {'marker': {'color': '#c94741'},\n",
       "              'name': 'e',\n",
       "              'type': 'bar',\n",
       "              'uid': 'c3861b46-fc96-11e8-ac65-ac220bb8d9d3',\n",
       "              'x': array(['Carrefour', 'Auchan', 'Leclerc', 'Casino', 'Leader Price', 'Picard',\n",
       "                          'Cora', 'Monoprix', 'Belle France', 'Netto'], dtype=object),\n",
       "              'y': array([18.80318419, 18.19699499, 20.62391681, 19.03240529, 19.53379953,\n",
       "                           6.67926906, 22.16817234, 16.17541337, 19.86970684, 22.37163814])}],\n",
       "    'layout': {'barmode': 'stack',\n",
       "               'title': 'Nutrition score distribution within the 10 biggest food brands in France.',\n",
       "               'xaxis': {'ticktext': array(['Carrefour', 'Auchan', 'Leclerc', 'Casino', 'Leader Price', 'Picard',\n",
       "                                            'Cora', 'Monoprix', 'Belle France', 'Netto'], dtype=object),\n",
       "                         'tickvals': array(['0', '1', '2', '3', '4', '5', '6', '7', '8', '9'], dtype=object),\n",
       "                         'title': 'Food Brand',\n",
       "                         'titlefont': {'color': '#7f7f7f', 'family': 'Courier New, monospace', 'size': 18}},\n",
       "               'yaxis': {'title': 'Ratio (in %)',\n",
       "                         'titlefont': {'color': '#7f7f7f', 'family': 'Courier New, monospace', 'size': 18}}}\n",
       "})"
      ]
     },
     "metadata": {},
     "output_type": "display_data"
    }
   ],
   "source": [
    "data = []\n",
    "colors = sns.color_palette(\"RdBu_r\", 5).as_hex()\n",
    "\n",
    "for index, nutri in enumerate(['a','b','c','d','e']):\n",
    "    data.append(go.Bar(x=ratio_to_plot['brands'],\n",
    "                       y=ratio_to_plot[ratio_to_plot.columns[index+1]],\n",
    "                       name = ratio_to_plot.columns[index+1],\n",
    "                       marker={'color': colors[index]}))\n",
    "\n",
    "layout = go.Layout(\n",
    "    title='Nutrition score distribution within the 10 biggest food brands in France.',\n",
    "    barmode='stack',\n",
    "    xaxis=go.layout.XAxis(\n",
    "        title='Food Brand',\n",
    "        titlefont=dict(\n",
    "            family='Courier New, monospace',\n",
    "            size=18,\n",
    "            color='#7f7f7f'\n",
    "        ),\n",
    "        tickvals=np.arange(10).astype(str),\n",
    "        ticktext=ratio_to_plot['brands'],\n",
    "    ),\n",
    "    yaxis=dict(\n",
    "        title='Ratio (in %)',\n",
    "        titlefont=dict(\n",
    "            family='Courier New, monospace',\n",
    "            size=18,\n",
    "            color='#7f7f7f'\n",
    "        )\n",
    "    ),\n",
    ")\n",
    "\n",
    "go.FigureWidget(data=data, layout=layout)"
   ]
  },
  {
   "cell_type": "code",
   "execution_count": 76,
   "metadata": {},
   "outputs": [],
   "source": [
    "top10_brand_names = ratio.index[:9]"
   ]
  },
  {
   "cell_type": "markdown",
   "metadata": {},
   "source": [
    "We observe for example that for almost all the biggest food brands present in France the prominent nutrition category is \"junk\" food. We don't eat that well in France... \n",
    "\n",
    "The two biggest exceptions are 'Danone' and 'Picard'. They mainly sell products from milk and frozen food which could be excpected to be healthier than the products sold by Fleury Michon (mainly transformed products from meat).  \n",
    "\n",
    "Interestingly the 'Bio Village' brand solds a lot of 'junk' food... Even more than 'neutral' food."
   ]
  },
  {
   "cell_type": "markdown",
   "metadata": {},
   "source": [
    "### Category Distribution in the 10 biggest food brands in France. "
   ]
  },
  {
   "cell_type": "code",
   "execution_count": 77,
   "metadata": {},
   "outputs": [],
   "source": [
    "bra_cat_df = bra_cat_nut_df[['brands', 'pnns_groups_1']]\n",
    "bra_cat_dummies_df = bra_cat_nut_dummies_df.iloc[:,[0,6,7,8,9,10,11,12,13,14,15]]"
   ]
  },
  {
   "cell_type": "code",
   "execution_count": 78,
   "metadata": {
    "scrolled": false
   },
   "outputs": [
    {
     "data": {
      "text/html": [
       "<div>\n",
       "<style scoped>\n",
       "    .dataframe tbody tr th:only-of-type {\n",
       "        vertical-align: middle;\n",
       "    }\n",
       "\n",
       "    .dataframe tbody tr th {\n",
       "        vertical-align: top;\n",
       "    }\n",
       "\n",
       "    .dataframe thead th {\n",
       "        text-align: right;\n",
       "    }\n",
       "</style>\n",
       "<table border=\"1\" class=\"dataframe\">\n",
       "  <thead>\n",
       "    <tr style=\"text-align: right;\">\n",
       "      <th></th>\n",
       "      <th>Beverages</th>\n",
       "      <th>Cereals And Potatoes</th>\n",
       "      <th>Composite Foods</th>\n",
       "      <th>Fat And Sauces</th>\n",
       "      <th>Fish Meat Eggs</th>\n",
       "      <th>Fruits And Vegetables</th>\n",
       "      <th>Milk And Dairy Products</th>\n",
       "      <th>Salty Snacks</th>\n",
       "      <th>Sugary Snacks</th>\n",
       "      <th>Unknown</th>\n",
       "      <th>total</th>\n",
       "    </tr>\n",
       "    <tr>\n",
       "      <th>brands</th>\n",
       "      <th></th>\n",
       "      <th></th>\n",
       "      <th></th>\n",
       "      <th></th>\n",
       "      <th></th>\n",
       "      <th></th>\n",
       "      <th></th>\n",
       "      <th></th>\n",
       "      <th></th>\n",
       "      <th></th>\n",
       "      <th></th>\n",
       "    </tr>\n",
       "  </thead>\n",
       "  <tbody>\n",
       "    <tr>\n",
       "      <th>123 bio</th>\n",
       "      <td>38.0</td>\n",
       "      <td>60.0</td>\n",
       "      <td>28.0</td>\n",
       "      <td>38.0</td>\n",
       "      <td>28.0</td>\n",
       "      <td>64.0</td>\n",
       "      <td>43.0</td>\n",
       "      <td>15.0</td>\n",
       "      <td>72.0</td>\n",
       "      <td>222.0</td>\n",
       "      <td>608.0</td>\n",
       "    </tr>\n",
       "    <tr>\n",
       "      <th>7Up</th>\n",
       "      <td>29.0</td>\n",
       "      <td>0.0</td>\n",
       "      <td>0.0</td>\n",
       "      <td>0.0</td>\n",
       "      <td>0.0</td>\n",
       "      <td>0.0</td>\n",
       "      <td>0.0</td>\n",
       "      <td>0.0</td>\n",
       "      <td>0.0</td>\n",
       "      <td>8.0</td>\n",
       "      <td>37.0</td>\n",
       "    </tr>\n",
       "    <tr>\n",
       "      <th>A l'olivier</th>\n",
       "      <td>0.0</td>\n",
       "      <td>1.0</td>\n",
       "      <td>2.0</td>\n",
       "      <td>41.0</td>\n",
       "      <td>1.0</td>\n",
       "      <td>0.0</td>\n",
       "      <td>0.0</td>\n",
       "      <td>0.0</td>\n",
       "      <td>2.0</td>\n",
       "      <td>67.0</td>\n",
       "      <td>114.0</td>\n",
       "    </tr>\n",
       "  </tbody>\n",
       "</table>\n",
       "</div>"
      ],
      "text/plain": [
       "             Beverages  Cereals And Potatoes  Composite Foods  Fat And Sauces  \\\n",
       "brands                                                                          \n",
       "123 bio           38.0                  60.0             28.0            38.0   \n",
       "7Up               29.0                   0.0              0.0             0.0   \n",
       "A l'olivier        0.0                   1.0              2.0            41.0   \n",
       "\n",
       "             Fish Meat Eggs  Fruits And Vegetables  Milk And Dairy Products  \\\n",
       "brands                                                                        \n",
       "123 bio                28.0                   64.0                     43.0   \n",
       "7Up                     0.0                    0.0                      0.0   \n",
       "A l'olivier             1.0                    0.0                      0.0   \n",
       "\n",
       "             Salty Snacks  Sugary Snacks  Unknown  total  \n",
       "brands                                                    \n",
       "123 bio              15.0           72.0    222.0  608.0  \n",
       "7Up                   0.0            0.0      8.0   37.0  \n",
       "A l'olivier           0.0            2.0     67.0  114.0  "
      ]
     },
     "execution_count": 78,
     "metadata": {},
     "output_type": "execute_result"
    }
   ],
   "source": [
    "# here we count the category occurences for each brand\n",
    "brand_dummies_count = bra_cat_dummies_df.groupby('brands').sum()\n",
    "\n",
    "# we add the column total (with the total number of products sold for each brand) to further extract the ratio of each grade instead of the raw count.\n",
    "brand_count = pd.DataFrame(data=brand_dummies_count.sum(axis=1), columns=['total'])\n",
    "brand_dummies_count = brand_dummies_count.join(brand_count)\n",
    "brand_dummies_count.head(3)"
   ]
  },
  {
   "cell_type": "code",
   "execution_count": 79,
   "metadata": {
    "scrolled": true
   },
   "outputs": [
    {
     "data": {
      "text/html": [
       "<div>\n",
       "<style scoped>\n",
       "    .dataframe tbody tr th:only-of-type {\n",
       "        vertical-align: middle;\n",
       "    }\n",
       "\n",
       "    .dataframe tbody tr th {\n",
       "        vertical-align: top;\n",
       "    }\n",
       "\n",
       "    .dataframe thead th {\n",
       "        text-align: right;\n",
       "    }\n",
       "</style>\n",
       "<table border=\"1\" class=\"dataframe\">\n",
       "  <thead>\n",
       "    <tr style=\"text-align: right;\">\n",
       "      <th></th>\n",
       "      <th>brands</th>\n",
       "      <th>Beverages</th>\n",
       "      <th>Cereals And Potatoes</th>\n",
       "      <th>Composite Foods</th>\n",
       "      <th>Fat And Sauces</th>\n",
       "      <th>Fish Meat Eggs</th>\n",
       "      <th>Fruits And Vegetables</th>\n",
       "      <th>Milk And Dairy Products</th>\n",
       "      <th>Salty Snacks</th>\n",
       "      <th>Sugary Snacks</th>\n",
       "    </tr>\n",
       "  </thead>\n",
       "  <tbody>\n",
       "    <tr>\n",
       "      <th>0</th>\n",
       "      <td>Auchan</td>\n",
       "      <td>5.265011</td>\n",
       "      <td>6.374362</td>\n",
       "      <td>8.681106</td>\n",
       "      <td>4.824793</td>\n",
       "      <td>8.188061</td>\n",
       "      <td>6.691319</td>\n",
       "      <td>8.874802</td>\n",
       "      <td>2.201092</td>\n",
       "      <td>7.941539</td>\n",
       "    </tr>\n",
       "    <tr>\n",
       "      <th>1</th>\n",
       "      <td>Belle France</td>\n",
       "      <td>6.370795</td>\n",
       "      <td>7.229778</td>\n",
       "      <td>11.739442</td>\n",
       "      <td>5.941303</td>\n",
       "      <td>9.949893</td>\n",
       "      <td>9.305655</td>\n",
       "      <td>13.815319</td>\n",
       "      <td>4.509664</td>\n",
       "      <td>15.175376</td>\n",
       "    </tr>\n",
       "    <tr>\n",
       "      <th>2</th>\n",
       "      <td>Carrefour</td>\n",
       "      <td>4.881403</td>\n",
       "      <td>8.078377</td>\n",
       "      <td>8.525266</td>\n",
       "      <td>4.331385</td>\n",
       "      <td>8.765899</td>\n",
       "      <td>7.356480</td>\n",
       "      <td>7.751805</td>\n",
       "      <td>2.543829</td>\n",
       "      <td>10.244070</td>\n",
       "    </tr>\n",
       "  </tbody>\n",
       "</table>\n",
       "</div>"
      ],
      "text/plain": [
       "         brands  Beverages  Cereals And Potatoes  Composite Foods  \\\n",
       "0        Auchan   5.265011              6.374362         8.681106   \n",
       "1  Belle France   6.370795              7.229778        11.739442   \n",
       "2     Carrefour   4.881403              8.078377         8.525266   \n",
       "\n",
       "   Fat And Sauces  Fish Meat Eggs  Fruits And Vegetables  \\\n",
       "0        4.824793        8.188061               6.691319   \n",
       "1        5.941303        9.949893               9.305655   \n",
       "2        4.331385        8.765899               7.356480   \n",
       "\n",
       "   Milk And Dairy Products  Salty Snacks  Sugary Snacks  \n",
       "0                 8.874802      2.201092       7.941539  \n",
       "1                13.815319      4.509664      15.175376  \n",
       "2                 7.751805      2.543829      10.244070  "
      ]
     },
     "execution_count": 79,
     "metadata": {},
     "output_type": "execute_result"
    }
   ],
   "source": [
    "# we convert the counts into ratios. (ex: ratio for 'a' = count for 'a' / total number of products)\n",
    "ratio = brand_dummies_count.copy().reset_index()\n",
    "ratio = ratio[ratio['brands'].isin(top10_brand_names)].set_index('brands')\n",
    "ratio.iloc[:,[0,1,2,3,4,5,6,7,8,9]] = brand_dummies_count.iloc[:,np.arange(9)].div(brand_dummies_count['total'].values,axis=0)*100\n",
    "ratio_to_plot = ratio.reset_index().drop(['total', 'Unknown'],1)\n",
    "ratio_to_plot.head(3)"
   ]
  },
  {
   "cell_type": "code",
   "execution_count": 80,
   "metadata": {},
   "outputs": [
    {
     "data": {
      "application/vnd.jupyter.widget-view+json": {
       "model_id": "e6e0fc4f0e8e421cbbad3753b631e91b",
       "version_major": 2,
       "version_minor": 0
      },
      "text/html": [
       "<p>Failed to display Jupyter Widget of type <code>FigureWidget</code>.</p>\n",
       "<p>\n",
       "  If you're reading this message in the Jupyter Notebook or JupyterLab Notebook, it may mean\n",
       "  that the widgets JavaScript is still loading. If this message persists, it\n",
       "  likely means that the widgets JavaScript library is either not installed or\n",
       "  not enabled. See the <a href=\"https://ipywidgets.readthedocs.io/en/stable/user_install.html\">Jupyter\n",
       "  Widgets Documentation</a> for setup instructions.\n",
       "</p>\n",
       "<p>\n",
       "  If you're reading this message in another frontend (for example, a static\n",
       "  rendering on GitHub or <a href=\"https://nbviewer.jupyter.org/\">NBViewer</a>),\n",
       "  it may mean that your frontend doesn't currently support widgets.\n",
       "</p>\n"
      ],
      "text/plain": [
       "FigureWidget({\n",
       "    'data': [{'marker': {'color': '#1f77b4'},\n",
       "              'name': 'Beverages',\n",
       "              'type': 'bar',\n",
       "              'uid': 'c771c73a-fc96-11e8-a01e-ac220bb8d9d3',\n",
       "              'x': array(['Auchan', 'Belle France', 'Carrefour', 'Casino', 'Cora', 'Leader Price',\n",
       "                          'Leclerc', 'Monoprix', 'Picard'], dtype=object),\n",
       "              'y': array([5.26501145, 6.37079456, 4.88140254, 6.23171445, 6.79146713, 5.77478345,\n",
       "                          6.94073679, 5.84795322, 0.53956835])},\n",
       "             {'marker': {'color': '#ff7f0e'},\n",
       "              'name': 'Cereals And Potatoes',\n",
       "              'type': 'bar',\n",
       "              'uid': 'c771c73b-fc96-11e8-b7f0-ac220bb8d9d3',\n",
       "              'x': array(['Auchan', 'Belle France', 'Carrefour', 'Casino', 'Cora', 'Leader Price',\n",
       "                          'Leclerc', 'Monoprix', 'Picard'], dtype=object),\n",
       "              'y': array([6.37436168, 7.2297781 , 8.07837745, 7.05090696, 4.65824989, 6.2560154 ,\n",
       "                          7.23438334, 8.87825625, 2.63788969])},\n",
       "             {'marker': {'color': '#2ca02c'},\n",
       "              'name': 'Composite Foods',\n",
       "              'type': 'bar',\n",
       "              'uid': 'c771c73c-fc96-11e8-b299-ac220bb8d9d3',\n",
       "              'x': array(['Auchan', 'Belle France', 'Carrefour', 'Casino', 'Cora', 'Leader Price',\n",
       "                          'Leclerc', 'Monoprix', 'Picard'], dtype=object),\n",
       "              'y': array([ 8.68110583, 11.73944166,  8.52526641,  9.21591574,  7.79277318,\n",
       "                          11.00417068,  8.6225307 , 11.48325359, 37.17026379])},\n",
       "             {'marker': {'color': '#d62728'},\n",
       "              'name': 'Fat And Sauces',\n",
       "              'type': 'bar',\n",
       "              'uid': 'c771c73d-fc96-11e8-957f-ac220bb8d9d3',\n",
       "              'x': array(['Auchan', 'Belle France', 'Carrefour', 'Casino', 'Cora', 'Leader Price',\n",
       "                          'Leclerc', 'Monoprix', 'Picard'], dtype=object),\n",
       "              'y': array([4.8247931 , 5.94130279, 4.33138536, 3.83265067, 4.30996953, 4.20275906,\n",
       "                          2.16230646, 4.73152578, 1.73860911])},\n",
       "             {'marker': {'color': '#9467bd'},\n",
       "              'name': 'Fish Meat Eggs',\n",
       "              'type': 'bar',\n",
       "              'uid': 'c771c73e-fc96-11e8-8329-ac220bb8d9d3',\n",
       "              'x': array(['Auchan', 'Belle France', 'Carrefour', 'Casino', 'Cora', 'Leader Price',\n",
       "                          'Leclerc', 'Monoprix', 'Picard'], dtype=object),\n",
       "              'y': array([8.18806128, 9.94989263, 8.76589893, 6.49502633, 8.6634741 , 8.02053256,\n",
       "                          8.64922584, 9.94152047, 9.47242206])},\n",
       "             {'marker': {'color': '#8c564b'},\n",
       "              'name': 'Fruits And Vegetables',\n",
       "              'type': 'bar',\n",
       "              'uid': 'c771c73f-fc96-11e8-bb8c-ac220bb8d9d3',\n",
       "              'x': array(['Auchan', 'Belle France', 'Carrefour', 'Casino', 'Cora', 'Leader Price',\n",
       "                          'Leclerc', 'Monoprix', 'Picard'], dtype=object),\n",
       "              'y': array([ 6.69131889,  9.30565497,  7.35647989,  6.14394383,  6.70439704,\n",
       "                           6.12768688,  5.12546716,  7.92131845, 10.07194245])},\n",
       "             {'marker': {'color': '#e377c2'},\n",
       "              'name': 'Milk And Dairy Products',\n",
       "              'type': 'bar',\n",
       "              'uid': 'c771c740-fc96-11e8-bf93-ac220bb8d9d3',\n",
       "              'x': array(['Auchan', 'Belle France', 'Carrefour', 'Casino', 'Cora', 'Leader Price',\n",
       "                          'Leclerc', 'Monoprix', 'Picard'], dtype=object),\n",
       "              'y': array([ 8.8748019 , 13.81531854,  7.75180474,  7.66530135,  6.26904658,\n",
       "                          10.13795316,  7.02082221,  9.99468368,  8.93285372])},\n",
       "             {'marker': {'color': '#7f7f7f'},\n",
       "              'name': 'Salty Snacks',\n",
       "              'type': 'bar',\n",
       "              'uid': 'c771c741-fc96-11e8-8c40-ac220bb8d9d3',\n",
       "              'x': array(['Auchan', 'Belle France', 'Carrefour', 'Casino', 'Cora', 'Leader Price',\n",
       "                          'Leclerc', 'Monoprix', 'Picard'], dtype=object),\n",
       "              'y': array([2.20109174, 4.50966356, 2.54382949, 2.83791691, 3.43926861, 2.98363811,\n",
       "                          1.06780566, 3.03030303, 2.21822542])},\n",
       "             {'marker': {'color': '#bcbd22'},\n",
       "              'name': 'Sugary Snacks',\n",
       "              'type': 'bar',\n",
       "              'uid': 'c771c742-fc96-11e8-b033-ac220bb8d9d3',\n",
       "              'x': array(['Auchan', 'Belle France', 'Carrefour', 'Casino', 'Cora', 'Leader Price',\n",
       "                          'Leclerc', 'Monoprix', 'Picard'], dtype=object),\n",
       "              'y': array([ 7.941539  , 15.17537581, 10.24407013, 10.26916325, 10.31780583,\n",
       "                          10.61918511, 14.28190069, 12.70600744,  8.99280576])}],\n",
       "    'layout': {'title': 'Food Category distribution within the 10 biggest food brands in France.',\n",
       "               'xaxis': {'ticktext': array(['Auchan', 'Belle France', 'Carrefour', 'Casino', 'Cora', 'Leader Price',\n",
       "                                            'Leclerc', 'Monoprix', 'Picard'], dtype=object),\n",
       "                         'tickvals': array(['0', '1', '2', '3', '4', '5', '6', '7', '8', '9'], dtype=object),\n",
       "                         'title': 'Food Brand',\n",
       "                         'titlefont': {'color': '#7f7f7f', 'family': 'Courier New, monospace', 'size': 18}},\n",
       "               'yaxis': {'title': 'Ratio (in %)',\n",
       "                         'titlefont': {'color': '#7f7f7f', 'family': 'Courier New, monospace', 'size': 18}}}\n",
       "})"
      ]
     },
     "metadata": {},
     "output_type": "display_data"
    }
   ],
   "source": [
    "data = []\n",
    "colors = sns.color_palette(\"tab10\", ratio_to_plot.brands.count()).as_hex()\n",
    "\n",
    "for index, nutri in enumerate(ratio_to_plot.columns[1:]):\n",
    "    data.append(go.Bar(x=ratio_to_plot['brands'],\n",
    "                       y=ratio_to_plot[ratio_to_plot.columns[index+1]],\n",
    "                       name = ratio_to_plot.columns[index+1],\n",
    "                       marker={'color': colors[index]}))\n",
    "\n",
    "layout = go.Layout(\n",
    "    title='Food Category distribution within the 10 biggest food brands in France.',\n",
    "    xaxis=go.layout.XAxis(\n",
    "        title='Food Brand',\n",
    "        titlefont=dict(\n",
    "            family='Courier New, monospace',\n",
    "            size=18,\n",
    "            color='#7f7f7f'\n",
    "        ),\n",
    "        tickvals=np.arange(10).astype(str),\n",
    "        ticktext=ratio_to_plot['brands'],\n",
    "    ),\n",
    "    yaxis=dict(\n",
    "        title='Ratio (in %)',\n",
    "        titlefont=dict(\n",
    "            family='Courier New, monospace',\n",
    "            size=18,\n",
    "            color='#7f7f7f'\n",
    "        )\n",
    "    ),\n",
    ")\n",
    "\n",
    "go.FigureWidget(data=data, layout=layout)"
   ]
  },
  {
   "cell_type": "code",
   "execution_count": 81,
   "metadata": {},
   "outputs": [],
   "source": [
    "data = []\n",
    "colors = sns.color_palette(\"tab10\", len(ratio_to_plot.columns[1:])).as_hex()\n",
    "\n",
    "for index, nutri in enumerate(ratio_to_plot.columns[1:]):\n",
    "    data.append(go.Scatter(x=ratio_to_plot['brands'],\n",
    "                       y=ratio_to_plot[ratio_to_plot.columns[index+1]],\n",
    "                       name = ratio_to_plot.columns[index+1],\n",
    "                       marker={'color': colors[index]}\n",
    "                          )\n",
    "               )"
   ]
  },
  {
   "cell_type": "code",
   "execution_count": 82,
   "metadata": {},
   "outputs": [
    {
     "name": "stdout",
     "output_type": "stream",
     "text": [
      "This is the format of your plot grid:\n",
      "[ (1,1) x1,y1 ]  [ (1,2) x2,y2 ]  [ (1,3) x3,y3 ]\n",
      "[ (2,1) x4,y4 ]  [ (2,2) x5,y5 ]  [ (2,3) x6,y6 ]\n",
      "[ (3,1) x7,y7 ]  [ (3,2) x8,y8 ]  [ (3,3) x9,y9 ]\n",
      "\n"
     ]
    },
    {
     "data": {
      "text/html": [
       "<iframe id=\"igraph\" scrolling=\"no\" style=\"border:none;\" seamless=\"seamless\" src=\"https://plot.ly/~tomM/60.embed\" height=\"900px\" width=\"1000px\"></iframe>"
      ],
      "text/plain": [
       "<plotly.tools.PlotlyDisplay object>"
      ]
     },
     "execution_count": 82,
     "metadata": {},
     "output_type": "execute_result"
    }
   ],
   "source": [
    "fig = tools.make_subplots(rows=3, cols=3, subplot_titles=tuple(ratio_to_plot.columns[1:]))\n",
    "\n",
    "for index,trace in enumerate(data):\n",
    "    (r, c) = divmod(index, 3)\n",
    "    fig.append_trace(trace, r+1, c+1)\n",
    "\n",
    "fig['layout']['yaxis1'].update(title='Ratio (in %)')\n",
    "fig['layout']['yaxis4'].update(title='Ratio (in %)')\n",
    "fig['layout']['yaxis7'].update(title='Ratio (in %)')\n",
    "\n",
    "fig['layout'].update(title='Food Category distribution within the 10 biggest food brands in France.', height=900, width=1000)\n",
    "\n",
    "py.iplot(fig)"
   ]
  },
  {
   "cell_type": "markdown",
   "metadata": {},
   "source": [
    "## Nutrition grade repartition per category"
   ]
  },
  {
   "cell_type": "code",
   "execution_count": 83,
   "metadata": {},
   "outputs": [],
   "source": [
    "cat_nut_df = bra_cat_nut_df[['pnns_groups_1', 'nutrition_grade_fr']].dropna()"
   ]
  },
  {
   "cell_type": "code",
   "execution_count": 84,
   "metadata": {},
   "outputs": [],
   "source": [
    "cat_nut_df = pd.get_dummies(cat_nut_df.set_index('pnns_groups_1')).rename(columns=\n",
    "                              {'nutrition_grade_fr_a':'a',\n",
    "                               'nutrition_grade_fr_b':'b',\n",
    "                               'nutrition_grade_fr_c':'c',\n",
    "                               'nutrition_grade_fr_d':'d',\n",
    "                               'nutrition_grade_fr_e':'e'})"
   ]
  },
  {
   "cell_type": "code",
   "execution_count": 85,
   "metadata": {},
   "outputs": [
    {
     "data": {
      "text/html": [
       "<div>\n",
       "<style scoped>\n",
       "    .dataframe tbody tr th:only-of-type {\n",
       "        vertical-align: middle;\n",
       "    }\n",
       "\n",
       "    .dataframe tbody tr th {\n",
       "        vertical-align: top;\n",
       "    }\n",
       "\n",
       "    .dataframe thead th {\n",
       "        text-align: right;\n",
       "    }\n",
       "</style>\n",
       "<table border=\"1\" class=\"dataframe\">\n",
       "  <thead>\n",
       "    <tr style=\"text-align: right;\">\n",
       "      <th></th>\n",
       "      <th>a</th>\n",
       "      <th>b</th>\n",
       "      <th>c</th>\n",
       "      <th>d</th>\n",
       "      <th>e</th>\n",
       "      <th>total</th>\n",
       "    </tr>\n",
       "    <tr>\n",
       "      <th>pnns_groups_1</th>\n",
       "      <th></th>\n",
       "      <th></th>\n",
       "      <th></th>\n",
       "      <th></th>\n",
       "      <th></th>\n",
       "      <th></th>\n",
       "    </tr>\n",
       "  </thead>\n",
       "  <tbody>\n",
       "    <tr>\n",
       "      <th>Beverages</th>\n",
       "      <td>71.0</td>\n",
       "      <td>854.0</td>\n",
       "      <td>1812.0</td>\n",
       "      <td>1624.0</td>\n",
       "      <td>3754.0</td>\n",
       "      <td>8115.0</td>\n",
       "    </tr>\n",
       "    <tr>\n",
       "      <th>Cereals And Potatoes</th>\n",
       "      <td>3839.0</td>\n",
       "      <td>1630.0</td>\n",
       "      <td>1616.0</td>\n",
       "      <td>1045.0</td>\n",
       "      <td>101.0</td>\n",
       "      <td>8231.0</td>\n",
       "    </tr>\n",
       "    <tr>\n",
       "      <th>Composite Foods</th>\n",
       "      <td>1798.0</td>\n",
       "      <td>3407.0</td>\n",
       "      <td>3404.0</td>\n",
       "      <td>2073.0</td>\n",
       "      <td>185.0</td>\n",
       "      <td>10867.0</td>\n",
       "    </tr>\n",
       "  </tbody>\n",
       "</table>\n",
       "</div>"
      ],
      "text/plain": [
       "                           a       b       c       d       e    total\n",
       "pnns_groups_1                                                        \n",
       "Beverages               71.0   854.0  1812.0  1624.0  3754.0   8115.0\n",
       "Cereals And Potatoes  3839.0  1630.0  1616.0  1045.0   101.0   8231.0\n",
       "Composite Foods       1798.0  3407.0  3404.0  2073.0   185.0  10867.0"
      ]
     },
     "execution_count": 85,
     "metadata": {},
     "output_type": "execute_result"
    }
   ],
   "source": [
    "count = cat_nut_df.groupby('pnns_groups_1').sum()\n",
    "count['total'] = count.apply(lambda x: x['a']+x['b']+x['c']+x['d']+x['e'], axis=1) \n",
    "count.head(3)"
   ]
  },
  {
   "cell_type": "code",
   "execution_count": 86,
   "metadata": {
    "scrolled": false
   },
   "outputs": [
    {
     "data": {
      "text/html": [
       "<div>\n",
       "<style scoped>\n",
       "    .dataframe tbody tr th:only-of-type {\n",
       "        vertical-align: middle;\n",
       "    }\n",
       "\n",
       "    .dataframe tbody tr th {\n",
       "        vertical-align: top;\n",
       "    }\n",
       "\n",
       "    .dataframe thead th {\n",
       "        text-align: right;\n",
       "    }\n",
       "</style>\n",
       "<table border=\"1\" class=\"dataframe\">\n",
       "  <thead>\n",
       "    <tr style=\"text-align: right;\">\n",
       "      <th></th>\n",
       "      <th>a</th>\n",
       "      <th>b</th>\n",
       "      <th>c</th>\n",
       "      <th>d</th>\n",
       "      <th>e</th>\n",
       "      <th>total</th>\n",
       "    </tr>\n",
       "    <tr>\n",
       "      <th>pnns_groups_1</th>\n",
       "      <th></th>\n",
       "      <th></th>\n",
       "      <th></th>\n",
       "      <th></th>\n",
       "      <th></th>\n",
       "      <th></th>\n",
       "    </tr>\n",
       "  </thead>\n",
       "  <tbody>\n",
       "    <tr>\n",
       "      <th>Beverages</th>\n",
       "      <td>0.874923</td>\n",
       "      <td>10.523722</td>\n",
       "      <td>22.329020</td>\n",
       "      <td>20.012323</td>\n",
       "      <td>46.260012</td>\n",
       "      <td>8115.0</td>\n",
       "    </tr>\n",
       "    <tr>\n",
       "      <th>Cereals And Potatoes</th>\n",
       "      <td>46.640748</td>\n",
       "      <td>19.803183</td>\n",
       "      <td>19.633094</td>\n",
       "      <td>12.695906</td>\n",
       "      <td>1.227068</td>\n",
       "      <td>8231.0</td>\n",
       "    </tr>\n",
       "    <tr>\n",
       "      <th>Composite Foods</th>\n",
       "      <td>16.545505</td>\n",
       "      <td>31.351799</td>\n",
       "      <td>31.324193</td>\n",
       "      <td>19.076102</td>\n",
       "      <td>1.702402</td>\n",
       "      <td>10867.0</td>\n",
       "    </tr>\n",
       "  </tbody>\n",
       "</table>\n",
       "</div>"
      ],
      "text/plain": [
       "                              a          b          c          d          e  \\\n",
       "pnns_groups_1                                                                 \n",
       "Beverages              0.874923  10.523722  22.329020  20.012323  46.260012   \n",
       "Cereals And Potatoes  46.640748  19.803183  19.633094  12.695906   1.227068   \n",
       "Composite Foods       16.545505  31.351799  31.324193  19.076102   1.702402   \n",
       "\n",
       "                        total  \n",
       "pnns_groups_1                  \n",
       "Beverages              8115.0  \n",
       "Cereals And Potatoes   8231.0  \n",
       "Composite Foods       10867.0  "
      ]
     },
     "execution_count": 86,
     "metadata": {},
     "output_type": "execute_result"
    }
   ],
   "source": [
    "ratio = count.copy()\n",
    "ratio[['a','b','c','d','e']] = count[['a','b','c','d','e']].div(count['total'].values,axis=0)*100\n",
    "ratio.head(3)"
   ]
  },
  {
   "cell_type": "code",
   "execution_count": 87,
   "metadata": {},
   "outputs": [],
   "source": [
    "ratio_to_plot = ratio.reset_index().drop('total',1).sort_values(by=['a'],ascending=0).reset_index().drop('index',1)"
   ]
  },
  {
   "cell_type": "code",
   "execution_count": 88,
   "metadata": {},
   "outputs": [
    {
     "data": {
      "application/vnd.jupyter.widget-view+json": {
       "model_id": "2b39e00ba5bf4a579d4b56f1de463029",
       "version_major": 2,
       "version_minor": 0
      },
      "text/html": [
       "<p>Failed to display Jupyter Widget of type <code>FigureWidget</code>.</p>\n",
       "<p>\n",
       "  If you're reading this message in the Jupyter Notebook or JupyterLab Notebook, it may mean\n",
       "  that the widgets JavaScript is still loading. If this message persists, it\n",
       "  likely means that the widgets JavaScript library is either not installed or\n",
       "  not enabled. See the <a href=\"https://ipywidgets.readthedocs.io/en/stable/user_install.html\">Jupyter\n",
       "  Widgets Documentation</a> for setup instructions.\n",
       "</p>\n",
       "<p>\n",
       "  If you're reading this message in another frontend (for example, a static\n",
       "  rendering on GitHub or <a href=\"https://nbviewer.jupyter.org/\">NBViewer</a>),\n",
       "  it may mean that your frontend doesn't currently support widgets.\n",
       "</p>\n"
      ],
      "text/plain": [
       "FigureWidget({\n",
       "    'data': [{'marker': {'color': '#3783bb'},\n",
       "              'name': 'a',\n",
       "              'type': 'bar',\n",
       "              'uid': 'cdcf6398-fc96-11e8-b182-ac220bb8d9d3',\n",
       "              'x': array(['Fruits And Vegetables', 'Cereals And Potatoes', 'Composite Foods',\n",
       "                          'Fish Meat Eggs', 'Milk And Dairy Products', 'Unknown',\n",
       "                          'Fat And Sauces', 'Salty Snacks', 'Beverages', 'Sugary Snacks'],\n",
       "                         dtype=object),\n",
       "              'y': array([64.80286738, 46.64074839, 16.54550474,  9.98759305,  7.13354766,\n",
       "                           7.12445849,  2.3298764 ,  1.88318777,  0.87492298,  0.52667848])},\n",
       "             {'marker': {'color': '#a7d0e4'},\n",
       "              'name': 'b',\n",
       "              'type': 'bar',\n",
       "              'uid': 'cdcf6399-fc96-11e8-bf45-ac220bb8d9d3',\n",
       "              'x': array(['Fruits And Vegetables', 'Cereals And Potatoes', 'Composite Foods',\n",
       "                          'Fish Meat Eggs', 'Milk And Dairy Products', 'Unknown',\n",
       "                          'Fat And Sauces', 'Salty Snacks', 'Beverages', 'Sugary Snacks'],\n",
       "                         dtype=object),\n",
       "              'y': array([17.82078853, 19.80318309, 31.35179902, 11.82795699, 20.14075941,\n",
       "                          16.02271397,  4.48927404,  3.00218341, 10.5237215 ,  2.32329199])},\n",
       "             {'marker': {'color': '#f7f6f6'},\n",
       "              'name': 'c',\n",
       "              'type': 'bar',\n",
       "              'uid': 'cdcf639a-fc96-11e8-96d2-ac220bb8d9d3',\n",
       "              'x': array(['Fruits And Vegetables', 'Cereals And Potatoes', 'Composite Foods',\n",
       "                          'Fish Meat Eggs', 'Milk And Dairy Products', 'Unknown',\n",
       "                          'Fat And Sauces', 'Salty Snacks', 'Beverages', 'Sugary Snacks'],\n",
       "                         dtype=object),\n",
       "              'y': array([14.89605735, 19.6330944 , 31.32419251, 22.31182796, 29.68111912,\n",
       "                          19.17808219, 22.16223895, 25.73689956, 22.32902033, 10.87812562])},\n",
       "             {'marker': {'color': '#f7b799'},\n",
       "              'name': 'd',\n",
       "              'type': 'bar',\n",
       "              'uid': 'cdcf639b-fc96-11e8-b5b3-ac220bb8d9d3',\n",
       "              'x': array(['Fruits And Vegetables', 'Cereals And Potatoes', 'Composite Foods',\n",
       "                          'Fish Meat Eggs', 'Milk And Dairy Products', 'Unknown',\n",
       "                          'Fat And Sauces', 'Salty Snacks', 'Beverages', 'Sugary Snacks'],\n",
       "                         dtype=object),\n",
       "              'y': array([ 2.25089606, 12.69590572, 19.07610196, 33.808933  , 39.25623425,\n",
       "                          26.20302072, 48.41596818, 54.53056769, 20.01232286, 37.23666076])},\n",
       "             {'marker': {'color': '#c94741'},\n",
       "              'name': 'e',\n",
       "              'type': 'bar',\n",
       "              'uid': 'cdcf639c-fc96-11e8-aa74-ac220bb8d9d3',\n",
       "              'x': array(['Fruits And Vegetables', 'Cereals And Potatoes', 'Composite Foods',\n",
       "                          'Fish Meat Eggs', 'Milk And Dairy Products', 'Unknown',\n",
       "                          'Fat And Sauces', 'Salty Snacks', 'Beverages', 'Sugary Snacks'],\n",
       "                         dtype=object),\n",
       "              'y': array([ 0.22939068,  1.2270684 ,  1.70240177, 22.063689  ,  3.78833956,\n",
       "                          31.47172462, 22.60264242, 14.84716157, 46.26001232, 49.03524316])}],\n",
       "    'layout': {'title': 'Health profile for each food category.',\n",
       "               'xaxis': {'tickangle': 20,\n",
       "                         'ticktext': array(['Fruits And Vegetables', 'Cereals And Potatoes', 'Composite Foods',\n",
       "                                            'Fish Meat Eggs', 'Milk And Dairy Products', 'Unknown',\n",
       "                                            'Fat And Sauces', 'Salty Snacks', 'Beverages', 'Sugary Snacks'],\n",
       "                                           dtype=object),\n",
       "                         'tickvals': array(['0', '1', '2', '3', '4', '5', '6', '7', '8', '9'], dtype=object),\n",
       "                         'title': 'Food Category',\n",
       "                         'titlefont': {'color': '#7f7f7f', 'family': 'Courier New, monospace', 'size': 18}},\n",
       "               'yaxis': {'title': 'Ratio (in %)',\n",
       "                         'titlefont': {'color': '#7f7f7f', 'family': 'Courier New, monospace', 'size': 18}}}\n",
       "})"
      ]
     },
     "metadata": {},
     "output_type": "display_data"
    }
   ],
   "source": [
    "data = []\n",
    "colors = sns.color_palette(\"RdBu_r\", 5).as_hex()\n",
    "\n",
    "for index, nutri in enumerate(ratio_to_plot.columns[1:]):\n",
    "    data.append(go.Bar(x=ratio_to_plot['pnns_groups_1'],\n",
    "                       y=ratio_to_plot[ratio_to_plot.columns[index+1]],\n",
    "                       name = ratio_to_plot.columns[index+1],\n",
    "                       marker={'color': colors[index]}))\n",
    "\n",
    "layout = go.Layout(\n",
    "    title='Health profile for each food category.',\n",
    "    xaxis=go.layout.XAxis(\n",
    "        title='Food Category',\n",
    "        titlefont=dict(\n",
    "            family='Courier New, monospace',\n",
    "            size=18,\n",
    "            color='#7f7f7f'\n",
    "        ),\n",
    "        tickangle = 20,\n",
    "        tickvals=np.arange(10).astype(str),\n",
    "        ticktext=ratio_to_plot['pnns_groups_1'],\n",
    "    ),\n",
    "    yaxis=dict(\n",
    "        title='Ratio (in %)',\n",
    "        titlefont=dict(\n",
    "            family='Courier New, monospace',\n",
    "            size=18,\n",
    "            color='#7f7f7f'\n",
    "        )\n",
    "    ),\n",
    ")\n",
    "\n",
    "go.FigureWidget(data=data, layout=layout)"
   ]
  },
  {
   "cell_type": "code",
   "execution_count": null,
   "metadata": {},
   "outputs": [],
   "source": []
  }
 ],
 "metadata": {
  "kernelspec": {
   "display_name": "Python 3",
   "language": "python",
   "name": "python3"
  },
  "language_info": {
   "codemirror_mode": {
    "name": "ipython",
    "version": 3
   },
   "file_extension": ".py",
   "mimetype": "text/x-python",
   "name": "python",
   "nbconvert_exporter": "python",
   "pygments_lexer": "ipython3",
   "version": "3.6.4"
  }
 },
 "nbformat": 4,
 "nbformat_minor": 2
}

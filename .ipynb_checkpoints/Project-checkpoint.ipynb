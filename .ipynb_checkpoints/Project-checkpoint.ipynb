{
 "cells": [
  {
   "cell_type": "markdown",
   "metadata": {},
   "source": [
    "# Food For Thought "
   ]
  },
  {
   "cell_type": "markdown",
   "metadata": {},
   "source": [
    "_ADA december, 2018._ \n",
    "\n",
    "Project members: \n",
    "- Micheal Lassi\n",
    "- Elisabetta Pagliara\n",
    "- Tom Mingasson"
   ]
  },
  {
   "cell_type": "markdown",
   "metadata": {},
   "source": [
    "## Index\n",
    "\n",
    "**0) Import and initializations** \n",
    "\n",
    "**1) Digging into the dataset**\n",
    "\n",
    "    a. Missing values\n",
    "    b. Country distribution\n",
    "    c. Food categories healthiness\n",
    "    d. Some more food plots\n",
    "    e. Let's classify everything !\n",
    "    f. Food advisor score\n",
    "    g. Country analysis\n",
    "\n",
    "**2) Analysis of the french market**\n",
    "\n",
    "+ A. Health analysis via the nutri-score\n",
    "        a. load and clean\n",
    "        b. Load cleaned data\n",
    "        c. Food quality in France\n",
    "        d. Food quality for each french food brand\n",
    "        e. Category Distribution in the 10 biggest food brands in France.\n",
    "        f. Nutrition grade repartition per category in France\n",
    "        g. Score each brand from nutrition score ratios\n",
    "        \n",
    "+ B. Palm Oil analysis in France\n",
    "        a. load and clean\n",
    "        b. Load cleaned data\n",
    "        c. Palm oil presence in the whole french market\n",
    "        d. Palm oil presence for each french food brand\n"
   ]
  },
  {
   "cell_type": "markdown",
   "metadata": {},
   "source": [
    "## 0) Import and initializations"
   ]
  },
  {
   "cell_type": "code",
   "execution_count": 23,
   "metadata": {},
   "outputs": [],
   "source": [
    "import itertools\n",
    "import pandas as pd\n",
    "import numpy as np\n",
    "import pickle\n",
    "import seaborn as sns\n",
    "import matplotlib.pyplot as plt\n",
    "import matplotlib.style as style\n",
    "from mpl_toolkits.mplot3d import Axes3D\n",
    "from difflib import get_close_matches\n",
    "%matplotlib inline\n",
    "\n",
    "# plotly\n",
    "import plotly.plotly as py\n",
    "import plotly.tools as tls\n",
    "import plotly.graph_objs as go\n",
    "import plotly.tools as tools\n",
    "\n",
    "# sklearn\n",
    "from sklearn.decomposition import PCA\n",
    "from sklearn.preprocessing import StandardScaler\n",
    "from sklearn.manifold import TSNE\n",
    "from sklearn.ensemble import RandomForestClassifier\n",
    "from sklearn.metrics import f1_score, confusion_matrix\n",
    "from sklearn.model_selection import train_test_split\n",
    "\n",
    "# spark\n",
    "import findspark\n",
    "findspark.init()\n",
    "\n",
    "from pyspark.sql import *\n",
    "import pyspark.sql.functions as F\n",
    "\n",
    "from pyspark import SparkContext\n",
    "\n",
    "spark = SparkSession.builder.getOrCreate()\n",
    "sc = spark.sparkContext"
   ]
  },
  {
   "cell_type": "code",
   "execution_count": null,
   "metadata": {},
   "outputs": [],
   "source": [
    "spark"
   ]
  },
  {
   "cell_type": "markdown",
   "metadata": {},
   "source": [
    "We set some basic plot properties with seaborn"
   ]
  },
  {
   "cell_type": "code",
   "execution_count": null,
   "metadata": {},
   "outputs": [],
   "source": [
    "style.use('seaborn-notebook') #sets the size of the charts\n",
    "style.use('ggplot')"
   ]
  },
  {
   "cell_type": "markdown",
   "metadata": {},
   "source": [
    "## 1) Digging into the dataset\n",
    "\n",
    "The first step of this project aims at understanding the dataset we have chosen ([Open Food Facts Database](https://world.openfoodfacts.org/)), to check whether it is suitable for the kind of analysis we want to develop.\n",
    "\n",
    "As a reminder, we would like to focus our research on two main topics:\n",
    "1. Impact of food on environment\n",
    "2. Impact of food on the health"
   ]
  },
  {
   "cell_type": "markdown",
   "metadata": {},
   "source": [
    "As a first operation, we load our dataset in .csv format. The separator of each field is a tab (\\t)"
   ]
  },
  {
   "cell_type": "code",
   "execution_count": null,
   "metadata": {},
   "outputs": [],
   "source": [
    "data = spark.read.csv('./data/en.openfoodfacts.org.products.csv',header=True,sep='\\t')          "
   ]
  },
  {
   "cell_type": "code",
   "execution_count": null,
   "metadata": {},
   "outputs": [],
   "source": [
    "number_of_products = data.select('code').count()\n",
    "number_of_products"
   ]
  },
  {
   "cell_type": "markdown",
   "metadata": {},
   "source": [
    "There are about 700k products in the dataset, with the following features:"
   ]
  },
  {
   "cell_type": "code",
   "execution_count": null,
   "metadata": {},
   "outputs": [],
   "source": [
    "data.columns"
   ]
  },
  {
   "cell_type": "markdown",
   "metadata": {},
   "source": [
    "### a. Missing values"
   ]
  },
  {
   "cell_type": "markdown",
   "metadata": {},
   "source": [
    "Despite the large number of features, we need to check how many values are missing for each of them. Note that the dataset is mostly curated on a volunteer basis (each user can add product information), hence we expect to have many missing values, especially for the less common columns. \n",
    "\n",
    "In order to verify that, we count the missing values in each column and we convert the result to a Pandas dataframe, for plotting ease. The missing values are plotted in proportion of the total number of products. "
   ]
  },
  {
   "cell_type": "code",
   "execution_count": null,
   "metadata": {},
   "outputs": [],
   "source": [
    "missing_data_count = data.select([F.count(F.when(data[c].isNull(),c)).alias(c) \\\n",
    "                                  for c in data.columns]).toPandas()\n",
    "\n",
    "missing_data_count = missing_data_count * 100 / number_of_products #in percent\n",
    "\n",
    "missing_data_count = missing_data_count.transpose().sort_values(by = 0, axis = 0).rename(columns = {0:'missing'})\n",
    "missing_data_count.tail()\n",
    "missing_data_count.to_pickle('missing_data_count')"
   ]
  },
  {
   "cell_type": "code",
   "execution_count": null,
   "metadata": {},
   "outputs": [],
   "source": [
    "missing_data_count = pd.read_pickle('missing_data_count')"
   ]
  },
  {
   "cell_type": "markdown",
   "metadata": {},
   "source": [
    "We already notice that some of the columns have completely missing values (100 % of the products). To better visualize the rest, we use a bar chart. Since the number of features is high, we only show in the plot the features who have less then 80% missing values. Those features can be better used for the analysis."
   ]
  },
  {
   "cell_type": "code",
   "execution_count": null,
   "metadata": {},
   "outputs": [],
   "source": [
    "thresh = 80\n",
    "\n",
    "plot = [go.Bar(x = list(missing_data_count[missing_data_count['missing'] < thresh].index),y = missing_data_count[missing_data_count['missing'] < thresh].values)]#.plot(kind = 'bar',figsize=(15, 6), legend=\"\")\n",
    "\n",
    "fig = go.Figure(data = plot)\n",
    "py.iplot(fig, filename='mpl-basic-bar')"
   ]
  },
  {
   "cell_type": "markdown",
   "metadata": {},
   "source": [
    "As expected, most of the columns have a large number of missing values. Luckily enough, basic nutrition information (such as energy per 100g, proteins per 100g and so on) have less than 20% missing values. As long as we will work with single variables, the missing values will not compromise our analysis, as we will simply handle a smaller sample (hence we will have a smaller statistical power). The real problem could arise when we will use multiple variables together, as we will have to use only those products that have non-missing values for all the considered columns. For some columns, it could be possible to fill some of the missing gaps by knowledge of the relationship with other columns (e.g.:  if we have information about energy_100g, fat_100g, protein_100g, we can reconstruct the value of carbohydrates_100g as it is connected with all the others). However, this is not possible in general (e.g. with columns like packaging)."
   ]
  },
  {
   "cell_type": "markdown",
   "metadata": {},
   "source": [
    "### b. Country distribution"
   ]
  },
  {
   "cell_type": "markdown",
   "metadata": {},
   "source": [
    "Another important initial aspect to evaluate are the countries for which we have data available. In fact, the Open Food Facts project started in France, hence we expect to have a larger number of products coming from this country. At the same time, this kind of information allows us to understand the scopes of our research (i.e. how much it can be generalized)."
   ]
  },
  {
   "cell_type": "code",
   "execution_count": null,
   "metadata": {},
   "outputs": [],
   "source": [
    "country_value = data.groupby('countries_en').count().toPandas()\n",
    "country_value = country_value.sort_values(by = 'count', ascending = False)\n",
    "country_value.head()\n",
    "country_value.to_pickle('country_value')"
   ]
  },
  {
   "cell_type": "code",
   "execution_count": null,
   "metadata": {},
   "outputs": [],
   "source": [
    "country_value=pd.read_pickle('country_value')"
   ]
  },
  {
   "cell_type": "code",
   "execution_count": null,
   "metadata": {},
   "outputs": [],
   "source": [
    "plot =[go.Bar(x=country_value.iloc[0:5,0].values,y=country_value.iloc[0:5,1].values)]\n",
    "layout = go.Layout(\n",
    "    autosize=True,\n",
    "    title='First 5 countries for product number',\n",
    "    width=500,\n",
    "    height=500,\n",
    "    yaxis=go.layout.YAxis(\n",
    "        title='Number of products',\n",
    "        automargin=True,\n",
    "        \n",
    "    ))\n",
    "fig = go.Figure(data=plot, layout=layout)\n",
    "py.iplot(fig, filename='automargin')"
   ]
  },
  {
   "cell_type": "markdown",
   "metadata": {},
   "source": [
    "We plot the number of products for the first 5 countries."
   ]
  },
  {
   "cell_type": "code",
   "execution_count": null,
   "metadata": {},
   "outputs": [],
   "source": [
    "N_fr = country_value.iloc[0]\n",
    "N_us = country_value.iloc[1]\n",
    "\n",
    "print(\"number of products sold in France: \", N_fr.values[1])\n",
    "print(\"number of products sold in the United States: \", N_us.values[1])"
   ]
  },
  {
   "cell_type": "markdown",
   "metadata": {},
   "source": [
    "We can see that the large majority of the products come from France, so our analysis will mostly focus on that country. In case we will do a comparison among countries, we will be careful with our conclusions (since the dishomogeneity in the dataset could lead to bias). Note that some countries' name appear concatenated in the country_en column (like \"Germany,Spain\"). For now, we will not handle these cases, since they are a minority compared to the France and US data."
   ]
  },
  {
   "cell_type": "markdown",
   "metadata": {},
   "source": [
    "### c. Food categories healthiness"
   ]
  },
  {
   "cell_type": "markdown",
   "metadata": {},
   "source": [
    "Now that we have analyzed our dataset in general, we will focus more on some specific features of interest. In particular, we will handle subsets of the original dataframe on which we conduct our processing.\n",
    "One of this subset contains the basic nutritional features (energy, protein, fat, carbohydrates, sugar, salt and sodium content) along with the categorization done by PNNS ([Programme national nutrition santé](http://www.mangerbouger.fr/PNNS)). The PNNS categorizes food products in 9 groups. We want to understand whether the nutritional basic infos are able to discriminate among these groups. In that case, we will be able to categorize the other products of the dataset (that do not fall in one of the pnns_groups) and also get an idea of the healthiness of the category. On the other side, a negative results on this will indicate us that more features are needed to determine the categorization of a product."
   ]
  },
  {
   "cell_type": "markdown",
   "metadata": {},
   "source": [
    "We select only the column of interest mentioned above, and we drop the rows that either have a null pnns value or an 'unknown' one. At the same time we create another dataframe, containing the nutritional information for the products which have a nutrition score. In this way we will be able to extend (through the use of a classifier) the nutrition score to all the products that present nutritional information."
   ]
  },
  {
   "cell_type": "code",
   "execution_count": null,
   "metadata": {},
   "outputs": [],
   "source": [
    "columns = [\"pnns_groups_1\",\"energy_100g\",\"fat_100g\",\"sugars_100g\",\\\n",
    "                       \"proteins_100g\",\"carbohydrates_100g\",\"sodium_100g\",\\\n",
    "                       \"salt_100g\",\"product_name\",\\\n",
    "                       \"ingredients_from_palm_oil_n\",\\\n",
    "                       \"nutrition_grade_fr\"]\n",
    "data_nutri = data.select(columns) # dataset for pnns_groups\n",
    "data_nutri_2 = data_nutri # dataframe for score classification"
   ]
  },
  {
   "cell_type": "code",
   "execution_count": null,
   "metadata": {},
   "outputs": [],
   "source": [
    "# cleaning the categories by removing null values and the unknown pnns_group\n",
    "data_nutri_2 = data_nutri_2.where(data_nutri_2.nutrition_grade_fr.isNotNull()).drop(data_nutri.pnns_groups_1)\n",
    "data_nutri = data_nutri.where(data_nutri.pnns_groups_1.isNotNull()).filter(data.pnns_groups_1!='unknown').drop(data_nutri.nutrition_grade_fr)\n"
   ]
  },
  {
   "cell_type": "markdown",
   "metadata": {},
   "source": [
    "We then observe the unique values that pnns_groups has:"
   ]
  },
  {
   "cell_type": "code",
   "execution_count": null,
   "metadata": {},
   "outputs": [],
   "source": [
    "data_nutri.select('pnns_groups_1').distinct().collect()"
   ]
  },
  {
   "cell_type": "markdown",
   "metadata": {},
   "source": [
    "Looking at the unique values of the pnns_group1 we can observe that we can shorten some categories that contain the same name: salty-snacks, cereals and potatoes, fruits and vegetables. We need to merge them in the same category."
   ]
  },
  {
   "cell_type": "code",
   "execution_count": null,
   "metadata": {},
   "outputs": [],
   "source": [
    "# substitute - with a blank space\n",
    "data_nutri=data_nutri.withColumn('pnns_groups_1',(F.regexp_replace('pnns_groups_1', '-', ' ')))\n",
    "\n",
    "# convert all the categories names to have initial capital letter\n",
    "square_udf_int = F.udf(lambda z: z.title())\n",
    "\n",
    "data_nutri = data_nutri.withColumn('pnns_groups_1',square_udf_int('pnns_groups_1'))\n",
    "data_nutri.select('pnns_groups_1').distinct().collect()"
   ]
  },
  {
   "cell_type": "code",
   "execution_count": null,
   "metadata": {},
   "outputs": [],
   "source": [
    "data_nutri.count()"
   ]
  },
  {
   "cell_type": "markdown",
   "metadata": {},
   "source": [
    "Now we have the 9 categories as originally intended. Since we have only 130k products and a few columns, we can pass the data to Pandas for further processing."
   ]
  },
  {
   "cell_type": "code",
   "execution_count": null,
   "metadata": {},
   "outputs": [],
   "source": [
    "data_nutri_pd = data_nutri.toPandas()\n",
    "data_nutri_pd2 = data_nutri_2.toPandas()"
   ]
  },
  {
   "cell_type": "code",
   "execution_count": null,
   "metadata": {},
   "outputs": [],
   "source": [
    "data_nutri_pd.to_pickle('data_nutri')\n",
    "data_nutri_pd2.to_pickle('data_nutri2')"
   ]
  },
  {
   "cell_type": "code",
   "execution_count": null,
   "metadata": {},
   "outputs": [],
   "source": [
    "data_nutri_pd=pd.read_pickle('data_nutri')\n",
    "data_nutri_pd2 = pd.read_pickle('data_nutri2')"
   ]
  },
  {
   "cell_type": "code",
   "execution_count": null,
   "metadata": {},
   "outputs": [],
   "source": [
    "numeric_columns = ['energy_100g','fat_100g','carbohydrates_100g',\\\n",
    "                   'sugars_100g','proteins_100g',\"sodium_100g\",\"salt_100g\"]\n",
    "\n",
    "data_nutri_pd[numeric_columns] = data_nutri_pd[numeric_columns].apply(pd.to_numeric)\n",
    "data_nutri_pd2[numeric_columns] = data_nutri_pd2[numeric_columns].apply(pd.to_numeric)"
   ]
  },
  {
   "cell_type": "code",
   "execution_count": null,
   "metadata": {},
   "outputs": [],
   "source": [
    "data_nutri_pd.head()"
   ]
  },
  {
   "cell_type": "markdown",
   "metadata": {},
   "source": [
    "We compute the correlation matrix for the numeric features, not discriminated by category. "
   ]
  },
  {
   "cell_type": "code",
   "execution_count": null,
   "metadata": {},
   "outputs": [],
   "source": [
    "plt.figure(figsize=(10,8))\n",
    "sns.heatmap(data_nutri_pd.corr(), annot = True, linewidths=.5)\n",
    "plt.show()\n"
   ]
  },
  {
   "cell_type": "markdown",
   "metadata": {},
   "source": [
    "We can observe that, expectedly, some columns are well correlated (e.g. sugars and carbohydrates) while others have mmuch lower correlation. One thing it's worth noticing. Sodium and salt have exactly 1 as correlation value. Hence, the two columns are the same and we should only consider one of them."
   ]
  },
  {
   "cell_type": "code",
   "execution_count": null,
   "metadata": {},
   "outputs": [],
   "source": [
    "data_nutri_pd = data_nutri_pd.drop(columns = 'sodium_100g')\n",
    "data_nutri_pd2 = data_nutri_pd2.drop(columns = 'sodium_100g')"
   ]
  },
  {
   "cell_type": "markdown",
   "metadata": {},
   "source": [
    "For the sake of visualization, we show the scatterplot of two variables divided by category. This could give us further insights on the data."
   ]
  },
  {
   "cell_type": "code",
   "execution_count": null,
   "metadata": {},
   "outputs": [],
   "source": [
    "fig,ax = plt.subplots(3,3,figsize=(15,15))\n",
    "\n",
    "for i, (name, group) in enumerate(data_nutri_pd.groupby('pnns_groups_1')):\n",
    "    \n",
    "    group.plot(kind='scatter',x='fat_100g',y='proteins_100g',ax=ax[i // 3][i % 3],label=name, s = 0.5)\n",
    "    \n",
    "plt.show() \n"
   ]
  },
  {
   "cell_type": "markdown",
   "metadata": {},
   "source": [
    "We can see two interesting things: there are outliers that have unrealistic values (the fat in 100g of products cannot be more than 100g) and each category of food has a different correleration. Hence, we proceed at cleaning the impossible values with the following rule: for nutrients no values should overcome 100 (as discussed for the fat). For energy (that is measured in kJ) the value should not overcome 5000 (supposing each g of fat brings 9 kcal, 100g fats would bring 900 kcal, that are approximately 5000 kJ). We also drop columns containing nan values as they would be not considered in the analysis."
   ]
  },
  {
   "cell_type": "code",
   "execution_count": null,
   "metadata": {},
   "outputs": [],
   "source": [
    "#constrain the data : energy<5000 and fat<100\n",
    "def filterData(data,ParameterEnergy,Parameter):\n",
    "    columns=data.filter(regex='_100g').columns\n",
    "    for i in columns:\n",
    "        if i=='energy_100g':\n",
    "            data = data[data[i]<ParameterEnergy]\n",
    "        else:\n",
    "            data = data[data[i]<Parameter]\n",
    "    return data\n",
    "\n",
    "data_nutri_pd['ingredients_from_palm_oil_n'] = data_nutri_pd['ingredients_from_palm_oil_n'].fillna(0)\n",
    "data_nutri_pd2['ingredients_from_palm_oil_n'] = data_nutri_pd2['ingredients_from_palm_oil_n'].fillna(0)\n",
    "\n",
    "data_nutri_pd = filterData(data_nutri_pd,5000,100).dropna() \n",
    "data_nutri_pd2 = filterData(data_nutri_pd2,5000,100).dropna()"
   ]
  },
  {
   "cell_type": "markdown",
   "metadata": {},
   "source": [
    "We plot again the correlation heatmap, without outliers. We do it directly divided in categories"
   ]
  },
  {
   "cell_type": "code",
   "execution_count": null,
   "metadata": {},
   "outputs": [],
   "source": [
    "fig,ax = plt.subplots(3,3,figsize=(20,30))\n",
    "\n",
    "for i, (name, group) in enumerate(data_nutri_pd.groupby('pnns_groups_1')):\n",
    "    plt.subplot(3,3,i+1)\n",
    "    sns.heatmap(group.corr(), annot = True,  linewidths=4, cbar = False)\n",
    "    plt.title(name)\n",
    "\n",
    "plt.show()"
   ]
  },
  {
   "cell_type": "markdown",
   "metadata": {},
   "source": [
    "We can see that some of the categories share similar values of correlations, while other have completely different patterns (e.g. \"Fat and sauces\" and \"Fruits and Vegetables\" have opposite sign in some of the correlations values). We show this difference for the exemplar features \"sugars_100g\" and \"energy_100g\"."
   ]
  },
  {
   "cell_type": "code",
   "execution_count": null,
   "metadata": {},
   "outputs": [],
   "source": [
    "fig,ax = plt.subplots(3,3,figsize=(15,15))\n",
    "\n",
    "for i, (name, group) in enumerate(data_nutri_pd.groupby('pnns_groups_1')):\n",
    "    \n",
    "    group.plot(kind='scatter',x='sugars_100g',y='energy_100g',ax=ax[i // 3][i % 3],label=name, s = 0.5)\n",
    "    \n",
    "plt.show()   "
   ]
  },
  {
   "cell_type": "markdown",
   "metadata": {},
   "source": [
    "We now visualize the distribution of one single column along categories, to check the separability of the classes. We chose 'fat_100g' for the visualization."
   ]
  },
  {
   "cell_type": "code",
   "execution_count": null,
   "metadata": {},
   "outputs": [],
   "source": [
    "fig,ax=plt.subplots(figsize=(20,10))\n",
    "nutri = []\n",
    "for i, (name, group) in enumerate(data_nutri_pd[['pnns_groups_1','fat_100g']].groupby('pnns_groups_1')):\n",
    "    nutri.append(group['fat_100g'].values)\n",
    "    \n",
    "nutri=np.asarray(nutri)    \n",
    "g=sns.boxplot(data= nutri)\n",
    "plt.xticks(plt.xticks()[0],sorted(data_nutri_pd.pnns_groups_1.unique()))\n",
    "\n",
    "plt.ylabel('Fat (g))')\n",
    "plt.show()"
   ]
  },
  {
   "cell_type": "markdown",
   "metadata": {},
   "source": [
    "The classes show different distributions for this features, suggesting there could be a good separability when using more features. To analyze the categorization of the data with all the features and visualize it, we decide to perform a PCA and retain the first three principal components."
   ]
  },
  {
   "cell_type": "code",
   "execution_count": null,
   "metadata": {},
   "outputs": [],
   "source": [
    "# save the dataframes for the classification\n",
    "data_nutri_pd.to_pickle('data_nutri')\n",
    "data_nutri_pd2.to_pickle('data_nutri2')"
   ]
  },
  {
   "cell_type": "code",
   "execution_count": null,
   "metadata": {},
   "outputs": [],
   "source": [
    "# prepare the dataset\n",
    "\n",
    "X=data_nutri_pd.iloc[:,1:7].values # nutritional values\n",
    "y=data_nutri_pd.iloc[:,0].values#LABELS\n",
    "product =  data_nutri_pd.iloc[:,7]\n",
    "#standardize values\n",
    "X_std = StandardScaler().fit_transform(X)\n",
    "\n",
    "#compute pca\n",
    "pca = PCA(n_components=3)\n",
    "Y = pca.fit_transform(X_std)"
   ]
  },
  {
   "cell_type": "code",
   "execution_count": null,
   "metadata": {},
   "outputs": [],
   "source": [
    "fig = plt.figure(figsize = (8,8))\n",
    "ax = Axes3D(fig)\n",
    "\n",
    "for name in data_nutri_pd.pnns_groups_1.unique():\n",
    "        ax.scatter( \n",
    "            Y[y==name,0],\\\n",
    "            Y[y==name,1],\\\n",
    "            Y[y==name,2],\\\n",
    "            s = 1,\\\n",
    "            label=name)\n",
    "        \n",
    "plt.legend()\n",
    "plt.title('PCA classification')\n",
    "plt.xlabel('1 component')\n",
    "plt.ylabel('2 component')\n",
    "ax.set_zlabel('3 component')\n",
    "\n",
    "ax.view_init(30, 45)\n",
    "    \n",
    "plt.show()"
   ]
  },
  {
   "cell_type": "markdown",
   "metadata": {},
   "source": [
    "Despite our first clues, the representation in the first 3 principal components does not seem to yield good clustering performances. We will further investigate this phenomenon (for example by removing extreme values and check the explained variance and PC loadings) to check whether a good categorization can be achieved. From there, we will extend the categorization of PNNS to the other products. When the final food score will be computed, this categorization will be the basis for our food selector. "
   ]
  },
  {
   "cell_type": "code",
   "execution_count": null,
   "metadata": {},
   "outputs": [],
   "source": [
    "# Perform a TSNE computation in 2d\n",
    "Y_tsne = TSNE().fit_transform(X_std)\n",
    "pd.to_pickle(Y_tsne,'tsne_result')"
   ]
  },
  {
   "cell_type": "code",
   "execution_count": null,
   "metadata": {},
   "outputs": [],
   "source": [
    "Y_tsne = pd.read_pickle('tsne_result')\n",
    "\n",
    "X=data_nutri_pd.iloc[:,1:7].values\n",
    "y=data_nutri_pd.iloc[:,0].values#LABELS\n",
    "product =  data_nutri_pd.iloc[:,7]\n"
   ]
  },
  {
   "cell_type": "code",
   "execution_count": null,
   "metadata": {},
   "outputs": [],
   "source": [
    "plt.figure(figsize = (15,10))\n",
    "for name in data_nutri_pd.pnns_groups_1.unique():\n",
    "        plt.scatter( \n",
    "            Y_tsne[y==name,0],\\\n",
    "            Y_tsne[y==name,1],\\\n",
    "            s = 2,\\\n",
    "            label=name\n",
    "        )\n",
    "plt.legend()\n",
    "plt.show()\n"
   ]
  },
  {
   "cell_type": "code",
   "execution_count": null,
   "metadata": {},
   "outputs": [],
   "source": [
    "# compute center of each class\n",
    "def compute_centroid(data, label):\n",
    "    \"\"\"data must be a 2D vector,label its category\"\"\"\n",
    "    categories =np.unique(label)\n",
    "    centroid = np.zeros((np.shape(categories)[0],2))\n",
    "    category = np.zeros((np.shape(categories)[0],1), dtype = 'object')\n",
    "\n",
    "    for i,name in enumerate(categories):\n",
    "        centroid[i, :] = np.mean(data[label == name, :],axis = 0)\n",
    "        category[i] = name\n",
    "    return centroid, category\n"
   ]
  },
  {
   "cell_type": "code",
   "execution_count": null,
   "metadata": {},
   "outputs": [],
   "source": [
    "trace = go.Scattergl(\n",
    "    x = Y_tsne[:,0],\n",
    "    y = Y_tsne[:,1],\n",
    "    mode = 'markers'\n",
    ")\n",
    "trace = []\n",
    "for i,name in enumerate(data_nutri_pd.pnns_groups_1.unique()):\n",
    "        trace.append(go.Scattergl( \n",
    "            x = Y_tsne[y==name,0],\\\n",
    "            y = Y_tsne[y==name,1],\\\n",
    "            name = name,\\\n",
    "            mode = 'markers',\\\n",
    "            text = product,\\\n",
    "            \n",
    "            marker = dict(\n",
    "                    size = 1.5,\n",
    "                    line = dict(\n",
    "                        width = 0.1)\n",
    "            )\n",
    "            )\n",
    "                    )\n",
    "centroids, categ = compute_centroid(Y_tsne,y)\n",
    "trace.append(go.Scattergl(\n",
    "    x = centroids[:,0],\\\n",
    "    y = centroids[:,1],\\\n",
    "    mode = 'markers',\\\n",
    "    text = categ,\\\n",
    "))\n",
    "forplot = trace\n",
    "\n",
    "# Plot and embed in ipython notebook!\n",
    "py.iplot(forplot, filename='t-sne')"
   ]
  },
  {
   "cell_type": "code",
   "execution_count": null,
   "metadata": {},
   "outputs": [],
   "source": [
    "def food_plot(data_centers, filename,title,xaxis,yaxis):\n",
    "    \n",
    "    layout= go.Layout(\n",
    "            images=[dict(\n",
    "                source= \"https://raw.githubusercontent.com/mikelassi/Project/master/images/\"+str(i)+\".png\",\n",
    "                xref=\"paper\",\n",
    "                yref= \"paper\",\n",
    "                x= (point[0]+25)/50,\n",
    "                y= (point[1]+35)/70,\n",
    "                sizex= 0.2,\n",
    "                sizey= 0.2,\n",
    "                xanchor= \"center\",\n",
    "                yanchor= \"middle\"\n",
    "              )  for i, point in enumerate(data_centers)]\n",
    "            ,\n",
    "            title = title,\n",
    "            yaxis = dict(hoverformat='.3f', title=yaxis,range=[-35, 35]\n",
    "     ),\n",
    "            xaxis = dict(title=xaxis,range=[-25, 25]),\n",
    "            showlegend=False,\n",
    "            height = 500,\n",
    "            width = 900\n",
    "\n",
    "        )\n",
    "\n",
    "    trace = go.Scatter(\n",
    "        x = data_centers[:,0],\\\n",
    "        y = data_centers[:,1],\\\n",
    "        mode = 'markers',\\\n",
    "        text = categ,\\\n",
    "    )\n",
    "    config={'StaticPlot': True}\n",
    "    fig = go.Figure(data=[trace], layout=layout)\n",
    "    return py.iplot(fig,filename = filename,config = config)\n",
    "    "
   ]
  },
  {
   "cell_type": "code",
   "execution_count": null,
   "metadata": {},
   "outputs": [],
   "source": [
    "centroids, categ = compute_centroid(Y_tsne,y)\n",
    "food_plot(centroids, 'centroid','Centroids of categories in t-sne space','1st component','2nd component')"
   ]
  },
  {
   "cell_type": "markdown",
   "metadata": {},
   "source": [
    "### d. Some more food plots"
   ]
  },
  {
   "cell_type": "code",
   "execution_count": null,
   "metadata": {},
   "outputs": [],
   "source": [
    "def combined_plot(data, feature_1, feature_2):\n",
    "    X = data[[feature_1, feature_2]]\n",
    "    y = data['pnns_groups_1']\n",
    "    product = data['product_name']\n",
    "    \n",
    "    centroid, categ = compute_centroid(X.values, y)\n",
    "    return food_plot(centroid, str(feature_1)+str(feature_2),'Centroids in'+str(feature_1)+'vs'+str(feature_2),str(feature_1),str(feature_2))"
   ]
  },
  {
   "cell_type": "code",
   "execution_count": null,
   "metadata": {},
   "outputs": [],
   "source": [
    "\n",
    "columns = ['salt_100g','proteins_100g','carbohydrates_100g','fat_100g','sugars_100g','energy_100g']\n",
    "combi = list(itertools.combinations(columns, 2))"
   ]
  },
  {
   "cell_type": "code",
   "execution_count": null,
   "metadata": {},
   "outputs": [],
   "source": [
    "combi"
   ]
  },
  {
   "cell_type": "markdown",
   "metadata": {},
   "source": [
    "### e. Let's classify everything !"
   ]
  },
  {
   "cell_type": "code",
   "execution_count": null,
   "metadata": {},
   "outputs": [],
   "source": [
    "data_nutri_pd = pd.read_pickle('data_nutri')\n",
    "\n",
    "X=data_nutri_pd.iloc[:,1:7]\n",
    "y=data_nutri_pd.iloc[:,0]#LABELS\n",
    "\n",
    "#standardize values\n",
    "X_std = StandardScaler().fit_transform(X)\n",
    "\n",
    "split = train_test_split(X,train_size = 0.8, test_size = 0.2)\n",
    "X_train = split[0]\n",
    "X_test = split[1]"
   ]
  },
  {
   "cell_type": "code",
   "execution_count": null,
   "metadata": {},
   "outputs": [],
   "source": [
    "y_train = y[X_train.index]\n",
    "y_test = y[X_test.index]"
   ]
  },
  {
   "cell_type": "code",
   "execution_count": null,
   "metadata": {},
   "outputs": [],
   "source": [
    "model = RandomForestClassifier()\n",
    "model.fit(X_train, y_train.values.ravel())\n",
    "\n",
    "prediction = model.predict(X_test)\n",
    "f1 = f1_score(y_test, prediction, average = 'micro')\n",
    "confmat = confusion_matrix(y_test, prediction)"
   ]
  },
  {
   "cell_type": "code",
   "execution_count": null,
   "metadata": {
    "scrolled": true
   },
   "outputs": [],
   "source": [
    "confmat"
   ]
  },
  {
   "cell_type": "markdown",
   "metadata": {},
   "source": [
    "Based on the same idea we'd like to see if it's possible to classify all the products according the nutrition_grade_fr, in fact from the previuos analysis we saw that there is not that much difference for number of missing values among nutrition_score_fr_100f, nutrition_score_uk_100g and nutrition_grade_fr:"
   ]
  },
  {
   "cell_type": "code",
   "execution_count": null,
   "metadata": {},
   "outputs": [],
   "source": [
    "data_nutri_pd2.head(5)"
   ]
  },
  {
   "cell_type": "code",
   "execution_count": null,
   "metadata": {},
   "outputs": [],
   "source": [
    "data_nutri_pd2 = pd.read_pickle('data_nutri2')\n",
    "\n",
    "X=data_nutri_pd2.iloc[:,0:6]\n",
    "y=data_nutri_pd2.iloc[:,8]#LABELS\n",
    "\n",
    "#standardize values\n",
    "X_std = StandardScaler().fit_transform(X)\n",
    "\n",
    "split = train_test_split(X,train_size = 0.8, test_size = 0.2)\n",
    "X_train = split[0]\n",
    "X_test = split[1]\n",
    "\n",
    "y_train = y[X_train.index]\n",
    "y_test = y[X_test.index]"
   ]
  },
  {
   "cell_type": "code",
   "execution_count": null,
   "metadata": {},
   "outputs": [],
   "source": [
    "model = RandomForestClassifier()\n",
    "model.fit(X_train, y_train.values.ravel())\n",
    "\n",
    "prediction = model.predict(X_test)\n",
    "f1 = f1_score(y_test, prediction, average = 'micro')\n",
    "confmat = confusion_matrix(y_test, prediction)\n",
    "confmat\n",
    "#quite good results let's try to generalize to all the initial data set:"
   ]
  },
  {
   "cell_type": "markdown",
   "metadata": {},
   "source": [
    "Now that we have chosen our classifier for both the nutrition score and pnns category we can apply it to all the dataset (at least the one containing non-missing nutrition values). We will then create a new single dataframe on which we can compute our final score!"
   ]
  },
  {
   "cell_type": "code",
   "execution_count": null,
   "metadata": {},
   "outputs": [],
   "source": [
    "columns = [\"energy_100g\",\"fat_100g\",\"sugars_100g\",\\\n",
    "                       \"proteins_100g\",\"carbohydrates_100g\",\\\n",
    "                       \"salt_100g\",\"product_name\"]\n",
    "\n",
    "nutrition_total = data.select(columns).toPandas()\n",
    "nutrition_total = nutrition_total.dropna()\n"
   ]
  },
  {
   "cell_type": "code",
   "execution_count": null,
   "metadata": {},
   "outputs": [],
   "source": [
    "#train the classifiers for groups and score\n",
    "model_groups = RandomForestClassifier()\n",
    "model_score = RandomForestClassifier()\n",
    "\n",
    "model_groups.fit(data_nutri_pd.iloc[:,1:7],\\\n",
    "                 data_nutri_pd.iloc[:,0].values.ravel())\n",
    "model_score.fit(data_nutri_pd2.iloc[:,0:6],\\\n",
    "                data_nutri_pd2.iloc[:,8].values.ravel())\n"
   ]
  },
  {
   "cell_type": "markdown",
   "metadata": {},
   "source": [
    "We also select the palm oil column, as we will need it for the final score. We assume that a null value in that column implies that no ingredients come from palm oil."
   ]
  },
  {
   "cell_type": "code",
   "execution_count": null,
   "metadata": {},
   "outputs": [],
   "source": [
    "columns = [\"energy_100g\",\"fat_100g\",\"sugars_100g\",\\\n",
    "                       \"proteins_100g\",\"carbohydrates_100g\",\\\n",
    "                       \"salt_100g\",\"product_name\",\"ingredients_from_palm_oil_n\"]\n",
    "\n",
    "\n",
    "nutrition_without_group = data.select(columns).where((F.col('pnns_groups_1').isNull()) | (F.col('pnns_groups_1') == 'unknown')).toPandas()\n",
    "nutrition_without_group['ingredients_from_palm_oil_n'] = nutrition_without_group['ingredients_from_palm_oil_n'].fillna(0)\n",
    "nutrition_without_group = nutrition_without_group.dropna()\n",
    "\n",
    "nutrition_without_score = data.select(columns).where(F.col('nutrition_grade_fr').isNull()).toPandas()\n",
    "nutrition_without_score['ingredients_from_palm_oil_n'] = nutrition_without_score['ingredients_from_palm_oil_n'].fillna(0)\n",
    "nutrition_without_score = nutrition_without_score.dropna()"
   ]
  },
  {
   "cell_type": "code",
   "execution_count": null,
   "metadata": {},
   "outputs": [],
   "source": [
    "prediction_group = model_groups.predict(nutrition_without_group.iloc[:,0:6])\n",
    "prediction_score = model_score.predict(nutrition_without_score.iloc[:,0:6])\n",
    "\n",
    "nutrition_without_group['pnns_groups_1'] = prediction_group\n",
    "nutrition_without_score['nutrition_grade_fr'] = prediction_score\n",
    "\n",
    "concatenated_group = pd.concat([nutrition_without_group, data_nutri_pd], sort=True)\n",
    "concatenated_score = pd.concat([nutrition_without_score, data_nutri_pd2], sort=True)\n",
    "\n",
    "concatenated_group = concatenated_group.drop_duplicates()\n",
    "concatenated_score = concatenated_score.drop_duplicates()\n",
    "\n",
    "complete_nutri = pd.merge(concatenated_group,concatenated_score, left_on = columns,right_on = columns, how='inner')\n",
    "complete_nutri.head()"
   ]
  },
  {
   "cell_type": "code",
   "execution_count": null,
   "metadata": {},
   "outputs": [],
   "source": [
    "complete_nutri.to_pickle('complete_nutri')"
   ]
  },
  {
   "cell_type": "markdown",
   "metadata": {},
   "source": [
    "We finally got our complete dataset! Yuppie :)"
   ]
  },
  {
   "cell_type": "code",
   "execution_count": null,
   "metadata": {},
   "outputs": [],
   "source": [
    "complete_nutri = pd.read_pickle('complete_nutri')"
   ]
  },
  {
   "cell_type": "markdown",
   "metadata": {},
   "source": [
    "Now, we just need to add the palm oil data to compute our final advice score based on energy, palm oil and nutrition grade!"
   ]
  },
  {
   "cell_type": "markdown",
   "metadata": {},
   "source": [
    "### f. Food advisor score\n",
    "We compute a general advising score, that takes into account three health (and environment) parameters: the french nutrition grade (that gives up to 3.5 points), the energetic content (gives up to 1.5 points) and the palm oil content (up to 1 point). The scale will go from 1 to 6"
   ]
  },
  {
   "cell_type": "code",
   "execution_count": null,
   "metadata": {},
   "outputs": [],
   "source": [
    "complete_nutri.isna().any()"
   ]
  },
  {
   "cell_type": "code",
   "execution_count": null,
   "metadata": {},
   "outputs": [],
   "source": [
    "dict_score = {'e':1,'d':2,'c':2.5,'b':3,'a':3.5}\n",
    "dict_oil = {0:1,1:0.5,2:0.3,3:0}\n",
    "\n",
    "def to_score(energy):\n",
    "    minmax = 5000 # the maximum range of energy is from 0 to 5000\n",
    "    return 1.5 - (energy) * 1.5 / minmax # the max score for energy is 1.5"
   ]
  },
  {
   "cell_type": "code",
   "execution_count": null,
   "metadata": {},
   "outputs": [],
   "source": [
    "complete_nutri.head()\n",
    "numeric_columns = ['carbohydrates_100g','energy_100g','fat_100g',\\\n",
    "                   'ingredients_from_palm_oil_n','proteins_100g',\\\n",
    "                  'salt_100g','sugars_100g']\n",
    "\n",
    "complete_nutri[numeric_columns] = complete_nutri[numeric_columns].apply(pd.to_numeric)\n",
    "complete_nutri= filterData(complete_nutri,5000,100)"
   ]
  },
  {
   "cell_type": "code",
   "execution_count": null,
   "metadata": {},
   "outputs": [],
   "source": [
    "complete_nutri.head()"
   ]
  },
  {
   "cell_type": "code",
   "execution_count": null,
   "metadata": {},
   "outputs": [],
   "source": [
    "score_df = complete_nutri.copy()\n",
    "\n",
    "score_df['energy_100g'] =score_df['energy_100g'].apply(to_score)\n",
    "score_df['nutrition_grade_fr'] = score_df['nutrition_grade_fr'].replace(dict_score)\n",
    "score_df['ingredients_from_palm_oil_n'] = score_df['ingredients_from_palm_oil_n'].replace(dict_oil)"
   ]
  },
  {
   "cell_type": "code",
   "execution_count": null,
   "metadata": {},
   "outputs": [],
   "source": [
    "score_df['total_score'] =  score_df['energy_100g'] +score_df['ingredients_from_palm_oil_n'] + score_df['nutrition_grade_fr']\n",
    "final_score = score_df[['product_name','pnns_groups_1','total_score']]\n",
    "final_score = final_score.sort_values(by='total_score',ascending = False)\n",
    "final_score.to_pickle('final_score')"
   ]
  },
  {
   "cell_type": "code",
   "execution_count": null,
   "metadata": {},
   "outputs": [],
   "source": [
    "final_score"
   ]
  },
  {
   "cell_type": "markdown",
   "metadata": {},
   "source": [
    "Visualization of food score table on selection!"
   ]
  },
  {
   "cell_type": "code",
   "execution_count": null,
   "metadata": {},
   "outputs": [],
   "source": [
    "df = pd.read_pickle('final_score')\n",
    "\n",
    "pnns = ['Fat and Sauces','Sugary Snacks','Salty Snacks',\\\n",
    "        'Composite Foods','Cereals and Potatoes',\\\n",
    "        'Beverages','Fruits And Vegetables',\\\n",
    "        'Fish Meat Eggs','Milk And Dairy Products']\n",
    "number_items = [1, 5,10,20, 40]\n",
    "trace = []\n",
    "truth = np.eye(np.shape(pnns)[0],dtype =bool)\n",
    "\n",
    "for i,categ in enumerate(pnns):\n",
    "    for j in number_items:\n",
    "        trace.append(go.Table(\n",
    "                header=dict(values=list(df.columns),\n",
    "                            fill = dict(color='#C2D4FF'),\n",
    "\n",
    "                            align = ['left'] * 3),\n",
    "                visible = False,\n",
    "                cells=dict(values= list(np.transpose(df[df['pnns_groups_1']==categ].iloc[0:j,:]).values),\n",
    "                           fill = dict(color='#F5F8FF'),\n",
    "                           align = ['left'] * 3)))\n",
    "\n",
    "\n",
    "updatemenus = list([dict(buttons=list([{'label' :name, \\\n",
    "                                        'method' :'update',\\\n",
    "                                        'args': [{'visible':truth[i]}]}\\\n",
    "                                       for i,name in enumerate(pnns)]))])\n",
    "                          \n",
    "\n",
    "\n",
    "\n",
    "layout = dict(title='Best Products', showlegend=False,\n",
    "              updatemenus=updatemenus)\n",
    "\n",
    "fig = dict(data=trace, layout=layout)\n",
    "       \n",
    "py.iplot(fig, filename = 'score_table') "
   ]
  },
  {
   "cell_type": "markdown",
   "metadata": {},
   "source": [
    "### g. Country analysis"
   ]
  },
  {
   "cell_type": "markdown",
   "metadata": {},
   "source": [
    "In this part we investigate the nutrition score of the products in the whole dataset and with respect to each brand. "
   ]
  },
  {
   "cell_type": "code",
   "execution_count": null,
   "metadata": {},
   "outputs": [],
   "source": [
    "data.select([F.count(F.when(F.isnull(c), c)).alias(c) for c in ['brands']]).show()"
   ]
  },
  {
   "cell_type": "markdown",
   "metadata": {},
   "source": [
    "There are 224,276 products over the 685,395 without any brand tag. We remove them, assuming the statistics does not change (very low number). We also remove the products with a null 'countries_en' tag. "
   ]
  },
  {
   "cell_type": "code",
   "execution_count": null,
   "metadata": {},
   "outputs": [],
   "source": [
    "data_brands_countries = data.na.drop(subset=['brands', 'countries_en'])"
   ]
  },
  {
   "cell_type": "code",
   "execution_count": null,
   "metadata": {},
   "outputs": [],
   "source": [
    "data_brands_countries.count()"
   ]
  },
  {
   "cell_type": "markdown",
   "metadata": {},
   "source": [
    "There are 460,800 products with a non-null 'brands' tag and non-null 'countries_en' tag (=country in which the product is sold)."
   ]
  },
  {
   "cell_type": "code",
   "execution_count": null,
   "metadata": {},
   "outputs": [],
   "source": [
    "# we extract the products sold both in the United States and in France.\n",
    "data_us_and_fr = data_brands_countries.rdd.filter(lambda r: re.match('(?=.*united State)(?=.*france)', r['countries_en'], flags=re.IGNORECASE)).toDF(schema=data.schema)\n",
    "count = data_us_and_fr.groupby('brands').count()"
   ]
  },
  {
   "cell_type": "code",
   "execution_count": null,
   "metadata": {},
   "outputs": [],
   "source": [
    "print(\"There are\", count.count(), \"brands present both in the US and in France.\")"
   ]
  },
  {
   "cell_type": "code",
   "execution_count": null,
   "metadata": {},
   "outputs": [],
   "source": [
    "# here is the products sold both in the US and in France. There are mainly american brands. \n",
    "count.orderBy('count',ascending=False).show()"
   ]
  },
  {
   "cell_type": "markdown",
   "metadata": {},
   "source": [
    "In the present dataset there are a very few brands sold both in the United States and in France. "
   ]
  },
  {
   "cell_type": "code",
   "execution_count": null,
   "metadata": {},
   "outputs": [],
   "source": [
    "# here we extract the product sold only in the United States.\n",
    "data_us_only = data_brands_countries.select('brands', \n",
    "            'countries_en',\n",
    "            'nutrition-score-fr_100g',\n",
    "            'nutrition-score-uk_100g',\n",
    "            'nutrition_grade_fr',\n",
    "            'nutrition_grade_uk') \\\n",
    ".filter(\"countries_en=='United States'\")"
   ]
  },
  {
   "cell_type": "code",
   "execution_count": null,
   "metadata": {},
   "outputs": [],
   "source": [
    "# here we see if there are non-null nutrition scores for a large enough number of products.\n",
    "data_us_only.select([F.count(F.when(F.isnull(c), c)).alias(c) for c in \\\n",
    "           ['nutrition-score-fr_100g',\n",
    "            'nutrition-score-uk_100g',\n",
    "            'nutrition_grade_fr',\n",
    "            'nutrition_grade_uk']]).show()"
   ]
  },
  {
   "cell_type": "code",
   "execution_count": null,
   "metadata": {},
   "outputs": [],
   "source": [
    "print(\"number of products sold in the US with a non-null nutrition score:\", N_us.values[1] - 171513)\n",
    "print(\"ratio among the total number of products sold in the US:\", (N_us.values[1] - 171513)/N_us.values[1]*100)"
   ]
  },
  {
   "cell_type": "markdown",
   "metadata": {},
   "source": [
    "Only 1982 products sold in the United States have a nutrition score... We cannot do a statistically significant nutrition analysis on the set of products sold in the US when only 1.14% of the product are annotated with a nutrition score."
   ]
  },
  {
   "cell_type": "code",
   "execution_count": null,
   "metadata": {},
   "outputs": [],
   "source": [
    "# here we extract the products sold only in France.\n",
    "data_fr_only = data_brands_countries.select('brands', \n",
    "            'countries_en',\n",
    "            'nutrition-score-fr_100g',\n",
    "            'nutrition-score-uk_100g',\n",
    "            'nutrition_grade_fr',\n",
    "            'nutrition_grade_uk') \\\n",
    ".filter(\"countries_en=='France'\")"
   ]
  },
  {
   "cell_type": "code",
   "execution_count": null,
   "metadata": {},
   "outputs": [],
   "source": [
    "# number of products sold only in France.\n",
    "data_fr_only.count()"
   ]
  },
  {
   "cell_type": "code",
   "execution_count": null,
   "metadata": {},
   "outputs": [],
   "source": [
    "# here we see if there are non-null nutrition scores for a large enough number of products.\n",
    "data_fr_only.select([F.count(F.when(F.isnull(c), c)).alias(c) for c in \\\n",
    "           ['nutrition-score-fr_100g',\n",
    "            'nutrition-score-uk_100g',\n",
    "            'nutrition_grade_fr',\n",
    "            'nutrition_grade_uk']]).show()"
   ]
  },
  {
   "cell_type": "markdown",
   "metadata": {},
   "source": [
    "Among the 217,393 products sold in France with a non-null brand there are 101,289 (=218,114 -116,825) products with a nutrition score. We are going to focus the analysis \"nutrition vs brand\" on the products sold only in France and using the french nutrition grade.   "
   ]
  },
  {
   "cell_type": "markdown",
   "metadata": {},
   "source": [
    "## 2) Analysis of the french market"
   ]
  },
  {
   "cell_type": "markdown",
   "metadata": {},
   "source": [
    "## A. Health analysis via the nutri-score"
   ]
  },
  {
   "cell_type": "markdown",
   "metadata": {},
   "source": [
    "### a. load and clean"
   ]
  },
  {
   "cell_type": "code",
   "execution_count": null,
   "metadata": {},
   "outputs": [],
   "source": [
    "# extract the products only sold in France\n",
    "# get the features of interest ('brands,','nutrition_grade_fr' and 'pnns_groups_1')\n",
    "bra_cat_nut = data.filter(\"countries_en=='France'\")\\\n",
    "                    .select('brands', 'nutrition_grade_fr', 'pnns_groups_1')\\\n",
    "                    .dropna(how='all')"
   ]
  },
  {
   "cell_type": "code",
   "execution_count": null,
   "metadata": {},
   "outputs": [],
   "source": [
    "# clean the column 'pnns_groups_1' as done before to end with consistent category names.\n",
    "bra_cat_nut = bra_cat_nut.withColumn('pnns_groups_1',(F.regexp_replace('pnns_groups_1', '-', ' ')))\n",
    "square_udf_int = F.udf(lambda z: z.title() if z else z)\n",
    "bra_cat_nut = bra_cat_nut.withColumn('pnns_groups_1',square_udf_int('pnns_groups_1'))"
   ]
  },
  {
   "cell_type": "code",
   "execution_count": null,
   "metadata": {},
   "outputs": [],
   "source": [
    "# we convert the spark dataframe to a pandas dataframe\n",
    "bra_cat_nut_df = bra_cat_nut.toPandas()\n",
    "\n",
    "# we store it in the current folder \n",
    "bra_cat_nut_df.to_pickle('bra_cat_nut_df')"
   ]
  },
  {
   "cell_type": "code",
   "execution_count": null,
   "metadata": {},
   "outputs": [],
   "source": [
    "# we can now read it everytime we want to continue the analysis\n",
    "bra_cat_nut_raw_df = pd.read_pickle('bra_cat_nut_raw_df')"
   ]
  },
  {
   "cell_type": "code",
   "execution_count": null,
   "metadata": {},
   "outputs": [],
   "source": [
    "bra_cat_nut_raw_df.head(3)"
   ]
  },
  {
   "cell_type": "markdown",
   "metadata": {},
   "source": [
    "- We create a dictonary of parent brand to replace a brand by its \"parent brand\" when it belongs to a bigger one\n",
    "For example 'Bio Village' is a brand of Leclerc which owes also 'Marque Repère' then we can replace 'Bio Village' and 'Marque Repère' by 'Leclerc'. We will to analysis the food sold by the company Leclerc.\n",
    "\n",
    "\n",
    "- Moreover, we set to None the brand when it is \"Sans Marque\". \"Sans Marque\" means the brand had not been specified by the user: it can be \"Marque Repère\", \"Carrefour\", \"Délisse\" ect.To understand the 'Sans Marque' products we checked them using the product search tool on https://fr.openfoodfacts.org with the tag \"Sans Marque\"."
   ]
  },
  {
   "cell_type": "code",
   "execution_count": null,
   "metadata": {},
   "outputs": [],
   "source": [
    "# list of food brands present in France ('Coca Cola', 'Fleury Michon', 'Carrefour' ect.)\n",
    "list_brand_file = open(\"brand_list.txt\", \"r\")\n",
    "list_brand = list_brand_file.read().split('\\n')\n",
    "\n",
    "# dictonary of parent brands. \n",
    "dict_parent_brand= {'Bio Village': 'Leclerc',\n",
    "                    'Marque Repère': 'Leclerc',\n",
    "                    'Sans Marque': None}"
   ]
  },
  {
   "cell_type": "markdown",
   "metadata": {},
   "source": [
    "The problem is that the 'brands' tags are not always consistent. For example we can find the brand tag 'carrefour', \"Carrefour\", \"carrfour,bio carrefour' ect. \n",
    "Hence we first clean the brands using a list of food brands present in France and a function to match the 'brands' tag with the closest brand in the list. "
   ]
  },
  {
   "cell_type": "code",
   "execution_count": null,
   "metadata": {},
   "outputs": [],
   "source": [
    "# Function which finds for each value (string) in the column 'brands' the closest brand (string) in 'list_brand'.\n",
    "# Note: the function 'get_close_matches' has been imported from the open-source 'difflib' library.\n",
    "def clean_brand(brand_name):\n",
    "    \n",
    "    # brand name can be of the form 'Carrefour' (one word) or 'Carrefour, Bio Carrefour' (multiple words)\n",
    "    # hence we split the string w.r.t the symbol ',' and find the best matching brand word for each split.\n",
    "    matches=[]\n",
    "    if brand_name:\n",
    "        \n",
    "        for word in brand_name.split(','):\n",
    "\n",
    "            # the cutoff control for the False Positives possibilities in the 'list_brand' \n",
    "            # that don’t score at least the cutoff are ignored.\n",
    "            # the parameter 'n' controls for the the number of possibilities (whose score is higher than the cutoff value).\n",
    "            matches.append(get_close_matches(word.lower(), list_brand, n=1, cutoff=0.6))\n",
    "\n",
    "        # remove empty sublists and unravel\n",
    "        matches = [brand for sublist in matches for brand in sublist if sublist]\n",
    "        \n",
    "        # output brand\n",
    "        if matches:\n",
    "            output = matches[0]\n",
    "        else:\n",
    "            output = None\n",
    "                \n",
    "        # check for parent brand\n",
    "        if output in dict_parent_brand:\n",
    "            output = dict_parent_brand[output]\n",
    "        \n",
    "        return output"
   ]
  },
  {
   "cell_type": "code",
   "execution_count": null,
   "metadata": {},
   "outputs": [],
   "source": [
    "# we create a new column with the new \"consistent\" brand tag. \n",
    "# takes some minutes to run...\n",
    "bra_cat_nut_raw_df['new_brands'] = bra_cat_nut_raw_df['brands'].apply(lambda x: clean_brand(x))"
   ]
  },
  {
   "cell_type": "code",
   "execution_count": null,
   "metadata": {},
   "outputs": [],
   "source": [
    "# drop when both 'nutrition_grade_fr' and 'brands' are None\n",
    "bra_cat_nut_cleaned_df = bra_cat_nut_raw_df.dropna(subset=['nutrition_grade_fr', 'brands'], how='all') \n",
    "\n",
    "# we can drop the old column 'brands' since we have the new ones.\n",
    "bra_cat_nut_cleaned_df = bra_cat_nut_cleaned_df.drop('brands',1).rename(columns={'new_brands':'brands'})\n",
    "\n",
    "bra_cat_nut_cleaned_df.head()"
   ]
  },
  {
   "cell_type": "code",
   "execution_count": null,
   "metadata": {},
   "outputs": [],
   "source": [
    "# here we count the number of products for each brand. \n",
    "count = bra_cat_nut_cleaned_df.groupby('brands').count().sort_values('nutrition_grade_fr', ascending=False)"
   ]
  },
  {
   "cell_type": "code",
   "execution_count": null,
   "metadata": {},
   "outputs": [],
   "source": [
    "# we consider that brand can be analysed if at least 100 products in the dataset belong to this brand.\n",
    "count['enough_products']= count[['nutrition_grade_fr']].apply(lambda x: x>100)\n",
    "count = count[count.enough_products]\n",
    "count.head()"
   ]
  },
  {
   "cell_type": "code",
   "execution_count": null,
   "metadata": {},
   "outputs": [],
   "source": [
    "The most abundant brands are Carrefour, Auchan and U. There are the brands of the biggest distributors (supermarkets) in France. "
   ]
  },
  {
   "cell_type": "code",
   "execution_count": null,
   "metadata": {},
   "outputs": [],
   "source": [
    "# here we add the column \"enough products\" to the dataframe with the cleaned brand.\n",
    "bra_cat_nut_cleaned_df = bra_cat_nut_cleaned_df.join(count[['enough_products']], on='brands')\n",
    "bra_cat_nut_cleaned_df = bra_cat_nut_cleaned_df.drop('enough_products',1)\n",
    "bra_cat_nut_cleaned_df.head()"
   ]
  },
  {
   "cell_type": "markdown",
   "metadata": {},
   "source": [
    "The nutrition score in 'nutrition_grade_fr' is the Nutri-Score developped by the french governement and based on the components present in the food (sugar, fiber, fat ect.). You can find more information at https://fr.wikipedia.org/wiki/Nutri-score.\n",
    "\n",
    "- 'a' (very good product for health) \n",
    "- 'b' (good product)\n",
    "- 'c' ('neutral product')\n",
    "- 'd' ('not so good product')\n",
    "- 'e' (bad product for health)"
   ]
  },
  {
   "cell_type": "code",
   "execution_count": null,
   "metadata": {},
   "outputs": [],
   "source": [
    "# here we create dummy variables from the 'nutrition_grade_fr'.\n",
    "bra_cat_nut_cleaned_expanded_df = pd.get_dummies(bra_cat_nut_cleaned_df.set_index('brands')).reset_index()\n",
    "bra_cat_nut_cleaned_dummies_df = bra_cat_nut_cleaned_expanded_df.rename(columns=\n",
    "                              {'nutrition_grade_fr_a':'a',\n",
    "                               'nutrition_grade_fr_b':'b',\n",
    "                               'nutrition_grade_fr_c':'c',\n",
    "                               'nutrition_grade_fr_d':'d',\n",
    "                               'nutrition_grade_fr_e':'e',\n",
    "                               'pnns_groups_1_Beverages': 'Beverages',\n",
    "                               'pnns_groups_1_Cereals And Potatoes':'Cereals And Potatoes',\n",
    "                               'pnns_groups_1_Composite Foods': 'Composite Foods',\n",
    "                               'pnns_groups_1_Fat And Sauces':'Fat And Sauces',\n",
    "                               'pnns_groups_1_Fish Meat Eggs':'Fish Meat Eggs',\n",
    "                               'pnns_groups_1_Fruits And Vegetables':'Fruits And Vegetables',\n",
    "                               'pnns_groups_1_Milk And Dairy Products':'Milk And Dairy Products',\n",
    "                               'pnns_groups_1_Salty Snacks':'Salty Snacks',\n",
    "                               'pnns_groups_1_Sugary Snacks':'Sugary Snacks',\n",
    "                               'pnns_groups_1_Unknown': 'Unknown'})\n",
    "bra_cat_nut_cleaned_dummies_df.head(5)"
   ]
  },
  {
   "cell_type": "code",
   "execution_count": null,
   "metadata": {},
   "outputs": [],
   "source": [
    "# we store it in the current Notebook folder \n",
    "bra_cat_nut_cleaned_df.to_pickle('bra_cat_nut_cleaned_df')\n",
    "bra_cat_nut_cleaned_dummies_df.to_pickle('bra_cat_nut_cleaned_dummies_df')"
   ]
  },
  {
   "cell_type": "markdown",
   "metadata": {},
   "source": [
    "### b. Load cleaned data"
   ]
  },
  {
   "cell_type": "code",
   "execution_count": 56,
   "metadata": {},
   "outputs": [],
   "source": [
    "# instead recomputing the cleaning step everytime...\n",
    "bra_cat_nut_df = pd.read_pickle('bra_cat_nut_cleaned_df')\n",
    "bra_cat_nut_dummies_df = pd.read_pickle('bra_cat_nut_cleaned_dummies_df')"
   ]
  },
  {
   "cell_type": "markdown",
   "metadata": {},
   "source": [
    "### c. Food quality in France"
   ]
  },
  {
   "cell_type": "code",
   "execution_count": 57,
   "metadata": {},
   "outputs": [],
   "source": [
    "# here we count the number of products inside each nutrition category (5 categories from 'a' to 'e')\n",
    "count = pd.DataFrame(data=bra_cat_nut_dummies_df[['a','b','c','d','e']].sum(), columns=['count'])\n",
    "count.index.name = 'nutrition_grade_fr'"
   ]
  },
  {
   "cell_type": "code",
   "execution_count": 58,
   "metadata": {},
   "outputs": [
    {
     "name": "stdout",
     "output_type": "stream",
     "text": [
      "Total number of products sold in France: 103571\n"
     ]
    },
    {
     "data": {
      "text/html": [
       "<div>\n",
       "<style scoped>\n",
       "    .dataframe tbody tr th:only-of-type {\n",
       "        vertical-align: middle;\n",
       "    }\n",
       "\n",
       "    .dataframe tbody tr th {\n",
       "        vertical-align: top;\n",
       "    }\n",
       "\n",
       "    .dataframe thead th {\n",
       "        text-align: right;\n",
       "    }\n",
       "</style>\n",
       "<table border=\"1\" class=\"dataframe\">\n",
       "  <thead>\n",
       "    <tr style=\"text-align: right;\">\n",
       "      <th></th>\n",
       "      <th>ratio</th>\n",
       "    </tr>\n",
       "    <tr>\n",
       "      <th>nutrition_grade_fr</th>\n",
       "      <th></th>\n",
       "    </tr>\n",
       "  </thead>\n",
       "  <tbody>\n",
       "    <tr>\n",
       "      <th>a</th>\n",
       "      <td>13.111778</td>\n",
       "    </tr>\n",
       "    <tr>\n",
       "      <th>b</th>\n",
       "      <td>13.764471</td>\n",
       "    </tr>\n",
       "    <tr>\n",
       "      <th>c</th>\n",
       "      <td>20.704637</td>\n",
       "    </tr>\n",
       "  </tbody>\n",
       "</table>\n",
       "</div>"
      ],
      "text/plain": [
       "                        ratio\n",
       "nutrition_grade_fr           \n",
       "a                   13.111778\n",
       "b                   13.764471\n",
       "c                   20.704637"
      ]
     },
     "execution_count": 58,
     "metadata": {},
     "output_type": "execute_result"
    }
   ],
   "source": [
    "# we convert count into ratio (regarding the total number of products)\n",
    "number_of_products = bra_cat_nut_df.nutrition_grade_fr.count()\n",
    "print(\"Total number of products sold in France:\", number_of_products)\n",
    "\n",
    "ratio = count.div(number_of_products).multiply(100).rename(columns={'count':'ratio'})\n",
    "ratio.head(3)"
   ]
  },
  {
   "cell_type": "code",
   "execution_count": 61,
   "metadata": {},
   "outputs": [],
   "source": [
    "# interactive plot\n",
    "data = []\n",
    "colors = sns.color_palette(\"RdBu_r\", 5).as_hex()\n",
    "\n",
    "for index, row in ratio.reset_index().iterrows():\n",
    "    data.append(go.Bar(x=np.array(index),\n",
    "                       y=np.array(row['ratio']),\n",
    "                       name = row['nutrition_grade_fr'],\n",
    "                       marker={'color': colors[index]}))\n",
    "\n",
    "layout = go.Layout(\n",
    "    title='Nutri-Score repartition in France.',\n",
    "    xaxis=go.layout.XAxis(\n",
    "        title='Nutriscore',\n",
    "        titlefont=dict(\n",
    "            family='Courier New, monospace',\n",
    "            size=18,\n",
    "            color='#7f7f7f'\n",
    "        ),\n",
    "        tickvals=np.arange(5).astype(str),\n",
    "        ticktext=ratio.index,\n",
    "    ),\n",
    "    yaxis=dict(\n",
    "        title='Ratio (in %)',\n",
    "        titlefont=dict(\n",
    "            family='Courier New, monospace',\n",
    "            size=18,\n",
    "            color='#7f7f7f'\n",
    "        )\n",
    "    ),\n",
    ")\n",
    "\n",
    "fig = go.FigureWidget(data=data, layout=layout)\n",
    "fig"
   ]
  },
  {
   "cell_type": "markdown",
   "metadata": {},
   "source": [
    "[link to the figure](http://plot.ly/~tomM/94.embed)"
   ]
  },
  {
   "cell_type": "code",
   "execution_count": null,
   "metadata": {},
   "outputs": [],
   "source": [
    "# send the plotly to a personnal account\n",
    "py.plot(fig, filename='food_quality_in_france_bar', auto_open=False)"
   ]
  },
  {
   "cell_type": "code",
   "execution_count": 6,
   "metadata": {},
   "outputs": [
    {
     "data": {
      "text/html": [
       "<iframe id=\"igraph\" scrolling=\"no\" style=\"border:none;\" seamless=\"seamless\" src=\"https://plot.ly/~tomM/96.embed\" height=\"525px\" width=\"100%\"></iframe>"
      ],
      "text/plain": [
       "<plotly.tools.PlotlyDisplay object>"
      ]
     },
     "execution_count": 6,
     "metadata": {},
     "output_type": "execute_result"
    }
   ],
   "source": [
    "# interactive plot\n",
    "labels = count.index\n",
    "values = count['count'].values\n",
    "colors = sns.color_palette(\"RdBu_r\", 5).as_hex()\n",
    "\n",
    "fig = {\n",
    "    'data': [{'labels': labels,\n",
    "              'values': values,\n",
    "              'type': 'pie',\n",
    "              'marker':{'colors':colors}\n",
    "              }\n",
    "            ],\n",
    "    'layout': {'title': 'Nutri-Score repartition in France.'}\n",
    "     }\n",
    "\n",
    "py.iplot(fig, filename='food_quality_in_france_pie', auto_open=False)"
   ]
  },
  {
   "cell_type": "markdown",
   "metadata": {},
   "source": [
    "[link to the figure](http://plot.ly/~tomM/96.embed)"
   ]
  },
  {
   "cell_type": "markdown",
   "metadata": {},
   "source": [
    "We can observe than, unfortunalty, more than 50% of the products sold in France have a bad nutrition grade (d or e). \n",
    "The healthy product tagged with the grade 'a' only represent 13% of the ~100,000 products in the data set."
   ]
  },
  {
   "cell_type": "markdown",
   "metadata": {},
   "source": [
    "### d. Food quality for each french food brand"
   ]
  },
  {
   "cell_type": "code",
   "execution_count": 7,
   "metadata": {},
   "outputs": [],
   "source": [
    "# read the data\n",
    "bra_nut_df = bra_cat_nut_df[['brands', 'nutrition_grade_fr']]\n",
    "bra_nut_dummies_df = bra_cat_nut_dummies_df[['brands','a','b','c','d','e']]"
   ]
  },
  {
   "cell_type": "code",
   "execution_count": 8,
   "metadata": {},
   "outputs": [],
   "source": [
    "# extract the total number of products for each brands\n",
    "brand_count = bra_nut_df.groupby('brands').count().rename(columns={'nutrition_grade_fr':'total'})"
   ]
  },
  {
   "cell_type": "code",
   "execution_count": 9,
   "metadata": {},
   "outputs": [],
   "source": [
    "# count the nutrition grade occurences for each brand\n",
    "brand_dummies_count = bra_nut_dummies_df.groupby('brands').sum()"
   ]
  },
  {
   "cell_type": "code",
   "execution_count": 10,
   "metadata": {},
   "outputs": [
    {
     "data": {
      "text/html": [
       "<div>\n",
       "<style scoped>\n",
       "    .dataframe tbody tr th:only-of-type {\n",
       "        vertical-align: middle;\n",
       "    }\n",
       "\n",
       "    .dataframe tbody tr th {\n",
       "        vertical-align: top;\n",
       "    }\n",
       "\n",
       "    .dataframe thead th {\n",
       "        text-align: right;\n",
       "    }\n",
       "</style>\n",
       "<table border=\"1\" class=\"dataframe\">\n",
       "  <thead>\n",
       "    <tr style=\"text-align: right;\">\n",
       "      <th></th>\n",
       "      <th>a</th>\n",
       "      <th>b</th>\n",
       "      <th>c</th>\n",
       "      <th>d</th>\n",
       "      <th>e</th>\n",
       "      <th>total</th>\n",
       "    </tr>\n",
       "    <tr>\n",
       "      <th>brands</th>\n",
       "      <th></th>\n",
       "      <th></th>\n",
       "      <th></th>\n",
       "      <th></th>\n",
       "      <th></th>\n",
       "      <th></th>\n",
       "    </tr>\n",
       "  </thead>\n",
       "  <tbody>\n",
       "    <tr>\n",
       "      <th>123 bio</th>\n",
       "      <td>121.0</td>\n",
       "      <td>75.0</td>\n",
       "      <td>54.0</td>\n",
       "      <td>91.0</td>\n",
       "      <td>80.0</td>\n",
       "      <td>421</td>\n",
       "    </tr>\n",
       "    <tr>\n",
       "      <th>7Up</th>\n",
       "      <td>0.0</td>\n",
       "      <td>5.0</td>\n",
       "      <td>1.0</td>\n",
       "      <td>4.0</td>\n",
       "      <td>24.0</td>\n",
       "      <td>34</td>\n",
       "    </tr>\n",
       "    <tr>\n",
       "      <th>A l'olivier</th>\n",
       "      <td>0.0</td>\n",
       "      <td>2.0</td>\n",
       "      <td>19.0</td>\n",
       "      <td>43.0</td>\n",
       "      <td>3.0</td>\n",
       "      <td>67</td>\n",
       "    </tr>\n",
       "    <tr>\n",
       "      <th>Ajax</th>\n",
       "      <td>1.0</td>\n",
       "      <td>0.0</td>\n",
       "      <td>0.0</td>\n",
       "      <td>0.0</td>\n",
       "      <td>1.0</td>\n",
       "      <td>2</td>\n",
       "    </tr>\n",
       "    <tr>\n",
       "      <th>Albert Menes</th>\n",
       "      <td>2.0</td>\n",
       "      <td>6.0</td>\n",
       "      <td>27.0</td>\n",
       "      <td>37.0</td>\n",
       "      <td>22.0</td>\n",
       "      <td>94</td>\n",
       "    </tr>\n",
       "  </tbody>\n",
       "</table>\n",
       "</div>"
      ],
      "text/plain": [
       "                  a     b     c     d     e  total\n",
       "brands                                            \n",
       "123 bio       121.0  75.0  54.0  91.0  80.0    421\n",
       "7Up             0.0   5.0   1.0   4.0  24.0     34\n",
       "A l'olivier     0.0   2.0  19.0  43.0   3.0     67\n",
       "Ajax            1.0   0.0   0.0   0.0   1.0      2\n",
       "Albert Menes    2.0   6.0  27.0  37.0  22.0     94"
      ]
     },
     "execution_count": 10,
     "metadata": {},
     "output_type": "execute_result"
    }
   ],
   "source": [
    "# we add the column 'total' to further extract the ratio of each grade instead of the raw count.\n",
    "brand_dummies_count = brand_dummies_count.join(brand_count)\n",
    "brand_dummies_count.head()"
   ]
  },
  {
   "cell_type": "code",
   "execution_count": 11,
   "metadata": {},
   "outputs": [],
   "source": [
    "# we convert the counts into ratios. \n",
    "# ex: ratio for 'a' = (count for 'a') / (total number of products)\n",
    "brand_nutri_ratio = brand_dummies_count.copy()\n",
    "brand_nutri_ratio[['a','b','c','d','e']] = brand_dummies_count[['a','b','c','d','e']].div(brand_dummies_count['total'].values,axis=0)*100\n",
    "brand_nutri_ratio = brand_nutri_ratio.sort_values('total',ascending=False)"
   ]
  },
  {
   "cell_type": "code",
   "execution_count": 12,
   "metadata": {},
   "outputs": [
    {
     "data": {
      "text/html": [
       "<div>\n",
       "<style scoped>\n",
       "    .dataframe tbody tr th:only-of-type {\n",
       "        vertical-align: middle;\n",
       "    }\n",
       "\n",
       "    .dataframe tbody tr th {\n",
       "        vertical-align: top;\n",
       "    }\n",
       "\n",
       "    .dataframe thead th {\n",
       "        text-align: right;\n",
       "    }\n",
       "</style>\n",
       "<table border=\"1\" class=\"dataframe\">\n",
       "  <thead>\n",
       "    <tr style=\"text-align: right;\">\n",
       "      <th></th>\n",
       "      <th>brands</th>\n",
       "      <th>a</th>\n",
       "      <th>b</th>\n",
       "      <th>c</th>\n",
       "      <th>d</th>\n",
       "      <th>e</th>\n",
       "    </tr>\n",
       "  </thead>\n",
       "  <tbody>\n",
       "    <tr>\n",
       "      <th>0</th>\n",
       "      <td>Carrefour</td>\n",
       "      <td>19.763931</td>\n",
       "      <td>15.344496</td>\n",
       "      <td>19.818831</td>\n",
       "      <td>26.269558</td>\n",
       "      <td>18.803184</td>\n",
       "    </tr>\n",
       "    <tr>\n",
       "      <th>1</th>\n",
       "      <td>Auchan</td>\n",
       "      <td>18.391764</td>\n",
       "      <td>15.303283</td>\n",
       "      <td>21.313300</td>\n",
       "      <td>26.794658</td>\n",
       "      <td>18.196995</td>\n",
       "    </tr>\n",
       "    <tr>\n",
       "      <th>2</th>\n",
       "      <td>Leclerc</td>\n",
       "      <td>13.648180</td>\n",
       "      <td>15.901213</td>\n",
       "      <td>22.010399</td>\n",
       "      <td>27.816291</td>\n",
       "      <td>20.623917</td>\n",
       "    </tr>\n",
       "    <tr>\n",
       "      <th>3</th>\n",
       "      <td>Casino</td>\n",
       "      <td>18.849840</td>\n",
       "      <td>15.609311</td>\n",
       "      <td>20.903697</td>\n",
       "      <td>25.604747</td>\n",
       "      <td>19.032405</td>\n",
       "    </tr>\n",
       "    <tr>\n",
       "      <th>4</th>\n",
       "      <td>Leader Price</td>\n",
       "      <td>17.482517</td>\n",
       "      <td>13.939394</td>\n",
       "      <td>22.750583</td>\n",
       "      <td>26.293706</td>\n",
       "      <td>19.533800</td>\n",
       "    </tr>\n",
       "  </tbody>\n",
       "</table>\n",
       "</div>"
      ],
      "text/plain": [
       "         brands          a          b          c          d          e\n",
       "0     Carrefour  19.763931  15.344496  19.818831  26.269558  18.803184\n",
       "1        Auchan  18.391764  15.303283  21.313300  26.794658  18.196995\n",
       "2       Leclerc  13.648180  15.901213  22.010399  27.816291  20.623917\n",
       "3        Casino  18.849840  15.609311  20.903697  25.604747  19.032405\n",
       "4  Leader Price  17.482517  13.939394  22.750583  26.293706  19.533800"
      ]
     },
     "execution_count": 12,
     "metadata": {},
     "output_type": "execute_result"
    }
   ],
   "source": [
    "# extract the 10 biggest brands\n",
    "ratio_top10 = brand_nutri_ratio.reset_index().loc[:9].drop('total',1)\n",
    "\n",
    "# save the brand names for further analysis \n",
    "top10_brand_names = ratio_top10.brands.values\n",
    "\n",
    "ratio_top10.head()"
   ]
  },
  {
   "cell_type": "code",
   "execution_count": 13,
   "metadata": {},
   "outputs": [
    {
     "data": {
      "text/html": [
       "<iframe id=\"igraph\" scrolling=\"no\" style=\"border:none;\" seamless=\"seamless\" src=\"https://plot.ly/~tomM/106.embed\" height=\"525px\" width=\"100%\"></iframe>"
      ],
      "text/plain": [
       "<plotly.tools.PlotlyDisplay object>"
      ]
     },
     "execution_count": 13,
     "metadata": {},
     "output_type": "execute_result"
    }
   ],
   "source": [
    "# interactive plot\n",
    "data = []\n",
    "colors = sns.color_palette(\"tab10\", ratio_top10.brands.count()).as_hex()\n",
    "\n",
    "for index, row in ratio_top10.iterrows():\n",
    "    data.append(go.Bar(x=['a','b','c','d','e'],\n",
    "                       y=np.array(row[1:]),\n",
    "                       name = row['brands'],\n",
    "                       marker={'color': colors[index]}))\n",
    "\n",
    "layout = go.Layout(\n",
    "    title='Nutrition score occurences for the 10 biggest food brands in France.',\n",
    "    xaxis=go.layout.XAxis(\n",
    "        title='Nutriscore',\n",
    "        titlefont=dict(\n",
    "            family='Courier New, monospace',\n",
    "            size=18,\n",
    "            color='#7f7f7f'\n",
    "        ),\n",
    "        tickvals=np.arange(5).astype(str),\n",
    "        ticktext=['a','b','c','d','e'],\n",
    "    ),\n",
    "    yaxis=dict(\n",
    "        title='Ratio (in %)',\n",
    "        titlefont=dict(\n",
    "            family='Courier New, monospace',\n",
    "            size=18,\n",
    "            color='#7f7f7f'\n",
    "        )\n",
    "    ),\n",
    ")\n",
    "\n",
    "fig = go.FigureWidget(data=data, layout=layout)\n",
    "py.iplot(fig, filename='brands_vs_nutriscore_bar', auto_open=False)"
   ]
  },
  {
   "cell_type": "markdown",
   "metadata": {},
   "source": [
    "[link to the figure](http://plot.ly/~tomM/106.embed)"
   ]
  },
  {
   "cell_type": "code",
   "execution_count": 14,
   "metadata": {
    "scrolled": true
   },
   "outputs": [
    {
     "data": {
      "text/html": [
       "<iframe id=\"igraph\" scrolling=\"no\" style=\"border:none;\" seamless=\"seamless\" src=\"https://plot.ly/~tomM/102.embed\" height=\"525px\" width=\"100%\"></iframe>"
      ],
      "text/plain": [
       "<plotly.tools.PlotlyDisplay object>"
      ]
     },
     "execution_count": 14,
     "metadata": {},
     "output_type": "execute_result"
    }
   ],
   "source": [
    "# interactive plot\n",
    "data = []\n",
    "colors = sns.color_palette(\"RdBu_r\", 5).as_hex()\n",
    "\n",
    "for index in range(len(['a','b','c','d','e'])):\n",
    "    data.append(go.Bar(x=ratio_top10['brands'],\n",
    "                       y=ratio_top10[ratio_top10.columns[index+1]],\n",
    "                       name = ratio_top10.columns[index+1],\n",
    "                       marker={'color': colors[index]}))\n",
    "\n",
    "layout = go.Layout(\n",
    "    \n",
    "    title='Nutrition score distribution within the 10 biggest food brands in France.',\n",
    "    barmode='stack',\n",
    "    \n",
    "    # x axis\n",
    "    xaxis=go.layout.XAxis(\n",
    "        title='Food Brand',\n",
    "        titlefont=dict(\n",
    "            family='Courier New, monospace',\n",
    "            size=18,\n",
    "            color='#7f7f7f'\n",
    "        ),\n",
    "        tickvals=np.arange(10).astype(str),\n",
    "        ticktext=ratio_top10['brands'],\n",
    "    ),\n",
    "    \n",
    "    # y axis\n",
    "    yaxis=dict(\n",
    "        title='Ratio (in %)',\n",
    "        titlefont=dict(\n",
    "            family='Courier New, monospace',\n",
    "            size=18,\n",
    "            color='#7f7f7f'\n",
    "        ),\n",
    "        showgrid=True,\n",
    "        gridcolor='#bdbdbd',\n",
    "    ),\n",
    ")\n",
    "\n",
    "fig = go.FigureWidget(data=data, layout=layout)\n",
    "py.iplot(fig, filename='brands_vs_nutriscore_bar_stacked', auto_open=False)"
   ]
  },
  {
   "cell_type": "markdown",
   "metadata": {},
   "source": [
    "[link to the figure](http://plot.ly/~tomM/103.embed)"
   ]
  },
  {
   "cell_type": "markdown",
   "metadata": {},
   "source": [
    "As seen previously, we observe that for almost all the biggest food brands present in France more than 40% of the products are \"junk\" food (products with labels 'e' or 'd'). We don't eat that well in France... \n",
    "\n",
    "The exception is 'Picard' in which products tagged with 'd' or 'e' represent one third of the total number of products (which is already quite high...). Actually, Picard mainly sells frozen food which could be excpected to be healthier than the products sold by Netto (cheap product mainly industrial)."
   ]
  },
  {
   "cell_type": "markdown",
   "metadata": {},
   "source": [
    "### e. Category Distribution in the 10 biggest food brands in France. "
   ]
  },
  {
   "cell_type": "code",
   "execution_count": 65,
   "metadata": {},
   "outputs": [],
   "source": [
    "# read the data\n",
    "bra_cat_df = bra_cat_nut_df[['brands', 'pnns_groups_1']]\n",
    "bra_cat_dummies_df = bra_cat_nut_dummies_df.drop(['a','b','c','d','e'], axis=1)"
   ]
  },
  {
   "cell_type": "code",
   "execution_count": 66,
   "metadata": {},
   "outputs": [
    {
     "data": {
      "text/html": [
       "<div>\n",
       "<style scoped>\n",
       "    .dataframe tbody tr th:only-of-type {\n",
       "        vertical-align: middle;\n",
       "    }\n",
       "\n",
       "    .dataframe tbody tr th {\n",
       "        vertical-align: top;\n",
       "    }\n",
       "\n",
       "    .dataframe thead th {\n",
       "        text-align: right;\n",
       "    }\n",
       "</style>\n",
       "<table border=\"1\" class=\"dataframe\">\n",
       "  <thead>\n",
       "    <tr style=\"text-align: right;\">\n",
       "      <th></th>\n",
       "      <th>Beverages</th>\n",
       "      <th>Cereals And Potatoes</th>\n",
       "      <th>Composite Foods</th>\n",
       "      <th>Fat And Sauces</th>\n",
       "      <th>Fish Meat Eggs</th>\n",
       "      <th>Fruits And Vegetables</th>\n",
       "      <th>Milk And Dairy Products</th>\n",
       "      <th>Salty Snacks</th>\n",
       "      <th>Sugary Snacks</th>\n",
       "      <th>Unknown</th>\n",
       "      <th>total</th>\n",
       "    </tr>\n",
       "    <tr>\n",
       "      <th>brands</th>\n",
       "      <th></th>\n",
       "      <th></th>\n",
       "      <th></th>\n",
       "      <th></th>\n",
       "      <th></th>\n",
       "      <th></th>\n",
       "      <th></th>\n",
       "      <th></th>\n",
       "      <th></th>\n",
       "      <th></th>\n",
       "      <th></th>\n",
       "    </tr>\n",
       "  </thead>\n",
       "  <tbody>\n",
       "    <tr>\n",
       "      <th>123 bio</th>\n",
       "      <td>38.0</td>\n",
       "      <td>60.0</td>\n",
       "      <td>28.0</td>\n",
       "      <td>38.0</td>\n",
       "      <td>28.0</td>\n",
       "      <td>64.0</td>\n",
       "      <td>43.0</td>\n",
       "      <td>15.0</td>\n",
       "      <td>72.0</td>\n",
       "      <td>222.0</td>\n",
       "      <td>608.0</td>\n",
       "    </tr>\n",
       "    <tr>\n",
       "      <th>7Up</th>\n",
       "      <td>29.0</td>\n",
       "      <td>0.0</td>\n",
       "      <td>0.0</td>\n",
       "      <td>0.0</td>\n",
       "      <td>0.0</td>\n",
       "      <td>0.0</td>\n",
       "      <td>0.0</td>\n",
       "      <td>0.0</td>\n",
       "      <td>0.0</td>\n",
       "      <td>8.0</td>\n",
       "      <td>37.0</td>\n",
       "    </tr>\n",
       "    <tr>\n",
       "      <th>A l'olivier</th>\n",
       "      <td>0.0</td>\n",
       "      <td>1.0</td>\n",
       "      <td>2.0</td>\n",
       "      <td>41.0</td>\n",
       "      <td>1.0</td>\n",
       "      <td>0.0</td>\n",
       "      <td>0.0</td>\n",
       "      <td>0.0</td>\n",
       "      <td>2.0</td>\n",
       "      <td>67.0</td>\n",
       "      <td>114.0</td>\n",
       "    </tr>\n",
       "  </tbody>\n",
       "</table>\n",
       "</div>"
      ],
      "text/plain": [
       "             Beverages  Cereals And Potatoes  Composite Foods  Fat And Sauces  \\\n",
       "brands                                                                          \n",
       "123 bio           38.0                  60.0             28.0            38.0   \n",
       "7Up               29.0                   0.0              0.0             0.0   \n",
       "A l'olivier        0.0                   1.0              2.0            41.0   \n",
       "\n",
       "             Fish Meat Eggs  Fruits And Vegetables  Milk And Dairy Products  \\\n",
       "brands                                                                        \n",
       "123 bio                28.0                   64.0                     43.0   \n",
       "7Up                     0.0                    0.0                      0.0   \n",
       "A l'olivier             1.0                    0.0                      0.0   \n",
       "\n",
       "             Salty Snacks  Sugary Snacks  Unknown  total  \n",
       "brands                                                    \n",
       "123 bio              15.0           72.0    222.0  608.0  \n",
       "7Up                   0.0            0.0      8.0   37.0  \n",
       "A l'olivier           0.0            2.0     67.0  114.0  "
      ]
     },
     "execution_count": 66,
     "metadata": {},
     "output_type": "execute_result"
    }
   ],
   "source": [
    "# here we count the category occurences for each brand\n",
    "brand_dummies_count = bra_cat_dummies_df.groupby('brands').sum()\n",
    "\n",
    "# we add the column total to further extract the ratio of each grade instead of the raw count\n",
    "brand_count = pd.DataFrame(data=brand_dummies_count.sum(axis=1), columns=['total'])\n",
    "brand_dummies_count = brand_dummies_count.join(brand_count)\n",
    "\n",
    "brand_dummies_count.head(3)"
   ]
  },
  {
   "cell_type": "code",
   "execution_count": 67,
   "metadata": {},
   "outputs": [],
   "source": [
    "# we focus on the 10 biggest brands\n",
    "ratio_bra_cat = brand_dummies_count.copy().reset_index()\n",
    "ratio_bra_cat = ratio_bra_cat[ratio_bra_cat['brands'].isin(top10_brand_names)].set_index('brands')"
   ]
  },
  {
   "cell_type": "code",
   "execution_count": 68,
   "metadata": {},
   "outputs": [],
   "source": [
    "# we convert the counts into ratios\n",
    "ratio_bra_cat.iloc[:, np.arange(10)] = brand_dummies_count.iloc[:,np.arange(10)].div(brand_dummies_count['total'].values,axis=0)*100"
   ]
  },
  {
   "cell_type": "code",
   "execution_count": 69,
   "metadata": {},
   "outputs": [
    {
     "data": {
      "text/html": [
       "<div>\n",
       "<style scoped>\n",
       "    .dataframe tbody tr th:only-of-type {\n",
       "        vertical-align: middle;\n",
       "    }\n",
       "\n",
       "    .dataframe tbody tr th {\n",
       "        vertical-align: top;\n",
       "    }\n",
       "\n",
       "    .dataframe thead th {\n",
       "        text-align: right;\n",
       "    }\n",
       "</style>\n",
       "<table border=\"1\" class=\"dataframe\">\n",
       "  <thead>\n",
       "    <tr style=\"text-align: right;\">\n",
       "      <th></th>\n",
       "      <th>Beverages</th>\n",
       "      <th>Cereals And Potatoes</th>\n",
       "      <th>Composite Foods</th>\n",
       "      <th>Fat And Sauces</th>\n",
       "      <th>Fish Meat Eggs</th>\n",
       "      <th>Fruits And Vegetables</th>\n",
       "      <th>Milk And Dairy Products</th>\n",
       "      <th>Salty Snacks</th>\n",
       "      <th>Sugary Snacks</th>\n",
       "      <th>Unknown</th>\n",
       "      <th>total</th>\n",
       "    </tr>\n",
       "    <tr>\n",
       "      <th>brands</th>\n",
       "      <th></th>\n",
       "      <th></th>\n",
       "      <th></th>\n",
       "      <th></th>\n",
       "      <th></th>\n",
       "      <th></th>\n",
       "      <th></th>\n",
       "      <th></th>\n",
       "      <th></th>\n",
       "      <th></th>\n",
       "      <th></th>\n",
       "    </tr>\n",
       "  </thead>\n",
       "  <tbody>\n",
       "    <tr>\n",
       "      <th>Belle France</th>\n",
       "      <td>6.370795</td>\n",
       "      <td>7.229778</td>\n",
       "      <td>11.739442</td>\n",
       "      <td>5.941303</td>\n",
       "      <td>9.949893</td>\n",
       "      <td>9.305655</td>\n",
       "      <td>13.815319</td>\n",
       "      <td>4.509664</td>\n",
       "      <td>15.175376</td>\n",
       "      <td>15.962777</td>\n",
       "      <td>1397.0</td>\n",
       "    </tr>\n",
       "    <tr>\n",
       "      <th>Picard</th>\n",
       "      <td>0.539568</td>\n",
       "      <td>2.637890</td>\n",
       "      <td>37.170264</td>\n",
       "      <td>1.738609</td>\n",
       "      <td>9.472422</td>\n",
       "      <td>10.071942</td>\n",
       "      <td>8.932854</td>\n",
       "      <td>2.218225</td>\n",
       "      <td>8.992806</td>\n",
       "      <td>18.225420</td>\n",
       "      <td>1668.0</td>\n",
       "    </tr>\n",
       "    <tr>\n",
       "      <th>Monoprix</th>\n",
       "      <td>5.847953</td>\n",
       "      <td>8.878256</td>\n",
       "      <td>11.483254</td>\n",
       "      <td>4.731526</td>\n",
       "      <td>9.941520</td>\n",
       "      <td>7.921318</td>\n",
       "      <td>9.994684</td>\n",
       "      <td>3.030303</td>\n",
       "      <td>12.706007</td>\n",
       "      <td>25.465178</td>\n",
       "      <td>1881.0</td>\n",
       "    </tr>\n",
       "    <tr>\n",
       "      <th>Leader Price</th>\n",
       "      <td>5.774783</td>\n",
       "      <td>6.256015</td>\n",
       "      <td>11.004171</td>\n",
       "      <td>4.202759</td>\n",
       "      <td>8.020533</td>\n",
       "      <td>6.127687</td>\n",
       "      <td>10.137953</td>\n",
       "      <td>2.983638</td>\n",
       "      <td>10.619185</td>\n",
       "      <td>34.873276</td>\n",
       "      <td>3117.0</td>\n",
       "    </tr>\n",
       "    <tr>\n",
       "      <th>Carrefour</th>\n",
       "      <td>4.881403</td>\n",
       "      <td>8.078377</td>\n",
       "      <td>8.525266</td>\n",
       "      <td>4.331385</td>\n",
       "      <td>8.765899</td>\n",
       "      <td>7.356480</td>\n",
       "      <td>7.751805</td>\n",
       "      <td>2.543829</td>\n",
       "      <td>10.244070</td>\n",
       "      <td>37.521485</td>\n",
       "      <td>5818.0</td>\n",
       "    </tr>\n",
       "    <tr>\n",
       "      <th>Leclerc</th>\n",
       "      <td>6.940737</td>\n",
       "      <td>7.234383</td>\n",
       "      <td>8.622531</td>\n",
       "      <td>2.162306</td>\n",
       "      <td>8.649226</td>\n",
       "      <td>5.125467</td>\n",
       "      <td>7.020822</td>\n",
       "      <td>1.067806</td>\n",
       "      <td>14.281901</td>\n",
       "      <td>38.894821</td>\n",
       "      <td>3746.0</td>\n",
       "    </tr>\n",
       "    <tr>\n",
       "      <th>Casino</th>\n",
       "      <td>6.231714</td>\n",
       "      <td>7.050907</td>\n",
       "      <td>9.215916</td>\n",
       "      <td>3.832651</td>\n",
       "      <td>6.495026</td>\n",
       "      <td>6.143944</td>\n",
       "      <td>7.665301</td>\n",
       "      <td>2.837917</td>\n",
       "      <td>10.269163</td>\n",
       "      <td>40.257461</td>\n",
       "      <td>3418.0</td>\n",
       "    </tr>\n",
       "    <tr>\n",
       "      <th>Auchan</th>\n",
       "      <td>5.265011</td>\n",
       "      <td>6.374362</td>\n",
       "      <td>8.681106</td>\n",
       "      <td>4.824793</td>\n",
       "      <td>8.188061</td>\n",
       "      <td>6.691319</td>\n",
       "      <td>8.874802</td>\n",
       "      <td>2.201092</td>\n",
       "      <td>7.941539</td>\n",
       "      <td>40.957915</td>\n",
       "      <td>5679.0</td>\n",
       "    </tr>\n",
       "    <tr>\n",
       "      <th>Cora</th>\n",
       "      <td>6.791467</td>\n",
       "      <td>4.658250</td>\n",
       "      <td>7.792773</td>\n",
       "      <td>4.309970</td>\n",
       "      <td>8.663474</td>\n",
       "      <td>6.704397</td>\n",
       "      <td>6.269047</td>\n",
       "      <td>3.439269</td>\n",
       "      <td>10.317806</td>\n",
       "      <td>41.053548</td>\n",
       "      <td>2297.0</td>\n",
       "    </tr>\n",
       "    <tr>\n",
       "      <th>Netto</th>\n",
       "      <td>3.866171</td>\n",
       "      <td>5.055762</td>\n",
       "      <td>8.921933</td>\n",
       "      <td>4.163569</td>\n",
       "      <td>7.509294</td>\n",
       "      <td>5.278810</td>\n",
       "      <td>8.252788</td>\n",
       "      <td>2.156134</td>\n",
       "      <td>10.483271</td>\n",
       "      <td>44.312268</td>\n",
       "      <td>1345.0</td>\n",
       "    </tr>\n",
       "  </tbody>\n",
       "</table>\n",
       "</div>"
      ],
      "text/plain": [
       "              Beverages  Cereals And Potatoes  Composite Foods  \\\n",
       "brands                                                           \n",
       "Belle France   6.370795              7.229778        11.739442   \n",
       "Picard         0.539568              2.637890        37.170264   \n",
       "Monoprix       5.847953              8.878256        11.483254   \n",
       "Leader Price   5.774783              6.256015        11.004171   \n",
       "Carrefour      4.881403              8.078377         8.525266   \n",
       "Leclerc        6.940737              7.234383         8.622531   \n",
       "Casino         6.231714              7.050907         9.215916   \n",
       "Auchan         5.265011              6.374362         8.681106   \n",
       "Cora           6.791467              4.658250         7.792773   \n",
       "Netto          3.866171              5.055762         8.921933   \n",
       "\n",
       "              Fat And Sauces  Fish Meat Eggs  Fruits And Vegetables  \\\n",
       "brands                                                                \n",
       "Belle France        5.941303        9.949893               9.305655   \n",
       "Picard              1.738609        9.472422              10.071942   \n",
       "Monoprix            4.731526        9.941520               7.921318   \n",
       "Leader Price        4.202759        8.020533               6.127687   \n",
       "Carrefour           4.331385        8.765899               7.356480   \n",
       "Leclerc             2.162306        8.649226               5.125467   \n",
       "Casino              3.832651        6.495026               6.143944   \n",
       "Auchan              4.824793        8.188061               6.691319   \n",
       "Cora                4.309970        8.663474               6.704397   \n",
       "Netto               4.163569        7.509294               5.278810   \n",
       "\n",
       "              Milk And Dairy Products  Salty Snacks  Sugary Snacks    Unknown  \\\n",
       "brands                                                                          \n",
       "Belle France                13.815319      4.509664      15.175376  15.962777   \n",
       "Picard                       8.932854      2.218225       8.992806  18.225420   \n",
       "Monoprix                     9.994684      3.030303      12.706007  25.465178   \n",
       "Leader Price                10.137953      2.983638      10.619185  34.873276   \n",
       "Carrefour                    7.751805      2.543829      10.244070  37.521485   \n",
       "Leclerc                      7.020822      1.067806      14.281901  38.894821   \n",
       "Casino                       7.665301      2.837917      10.269163  40.257461   \n",
       "Auchan                       8.874802      2.201092       7.941539  40.957915   \n",
       "Cora                         6.269047      3.439269      10.317806  41.053548   \n",
       "Netto                        8.252788      2.156134      10.483271  44.312268   \n",
       "\n",
       "               total  \n",
       "brands                \n",
       "Belle France  1397.0  \n",
       "Picard        1668.0  \n",
       "Monoprix      1881.0  \n",
       "Leader Price  3117.0  \n",
       "Carrefour     5818.0  \n",
       "Leclerc       3746.0  \n",
       "Casino        3418.0  \n",
       "Auchan        5679.0  \n",
       "Cora          2297.0  \n",
       "Netto         1345.0  "
      ]
     },
     "execution_count": 69,
     "metadata": {},
     "output_type": "execute_result"
    }
   ],
   "source": [
    "ratio_bra_cat.sort_values(by='Unknown')"
   ]
  },
  {
   "cell_type": "markdown",
   "metadata": {},
   "source": [
    "We chose to remove the category Unknown since it gathers products from multiple categories. It is not relevant to analyze the distribution of products tagged 'Unknown' since they don't represent any real category of products. The user just omitted to tag the category. "
   ]
  },
  {
   "cell_type": "code",
   "execution_count": 70,
   "metadata": {},
   "outputs": [],
   "source": [
    "ratio_to_plot = ratio_bra_cat.reset_index().drop(['total', 'Unknown'],1)"
   ]
  },
  {
   "cell_type": "code",
   "execution_count": 71,
   "metadata": {
    "scrolled": false
   },
   "outputs": [
    {
     "data": {
      "text/html": [
       "<iframe id=\"igraph\" scrolling=\"no\" style=\"border:none;\" seamless=\"seamless\" src=\"https://plot.ly/~tomM/120.embed\" height=\"525px\" width=\"100%\"></iframe>"
      ],
      "text/plain": [
       "<plotly.tools.PlotlyDisplay object>"
      ]
     },
     "execution_count": 71,
     "metadata": {},
     "output_type": "execute_result"
    }
   ],
   "source": [
    "# interactive plot\n",
    "data = []\n",
    "colors = sns.color_palette(\"tab10\", ratio_to_plot.brands.count()).as_hex()\n",
    "\n",
    "for index, nutri in enumerate(ratio_to_plot.columns[1:]):\n",
    "    data.append(go.Bar(x=ratio_to_plot['brands'],\n",
    "                       y=ratio_to_plot[ratio_to_plot.columns[index+1]],\n",
    "                       name = ratio_to_plot.columns[index+1],\n",
    "                       marker={'color': colors[index]}))\n",
    "\n",
    "layout = go.Layout(\n",
    "    title='Food Category distribution within the 10 biggest food brands in France.',\n",
    "    xaxis=go.layout.XAxis(\n",
    "        title='Food Brand',\n",
    "        titlefont=dict(\n",
    "            family='Courier New, monospace',\n",
    "            size=18,\n",
    "            color='#7f7f7f'\n",
    "        ),\n",
    "        tickvals=np.arange(10).astype(str),\n",
    "        ticktext=ratio_to_plot['brands'],\n",
    "    ),\n",
    "    yaxis=dict(\n",
    "        title='Ratio (in %)',\n",
    "        titlefont=dict(\n",
    "            family='Courier New, monospace',\n",
    "            size=18,\n",
    "            color='#7f7f7f'\n",
    "        )\n",
    "    ),\n",
    ")\n",
    "\n",
    "fig = go.FigureWidget(data=data, layout=layout)\n",
    "py.iplot(fig, filename='category_vs_brand_bar', auto_open=False)"
   ]
  },
  {
   "cell_type": "markdown",
   "metadata": {},
   "source": [
    "[link to the figure](http://plot.ly/~tomM/120.embed)"
   ]
  },
  {
   "cell_type": "code",
   "execution_count": 73,
   "metadata": {},
   "outputs": [
    {
     "name": "stdout",
     "output_type": "stream",
     "text": [
      "This is the format of your plot grid:\n",
      "[ (1,1) x1,y1 ]  [ (1,2) x2,y2 ]  [ (1,3) x3,y3 ]\n",
      "[ (2,1) x4,y4 ]  [ (2,2) x5,y5 ]  [ (2,3) x6,y6 ]\n",
      "[ (3,1) x7,y7 ]  [ (3,2) x8,y8 ]  [ (3,3) x9,y9 ]\n",
      "\n"
     ]
    },
    {
     "data": {
      "text/html": [
       "<iframe id=\"igraph\" scrolling=\"no\" style=\"border:none;\" seamless=\"seamless\" src=\"https://plot.ly/~tomM/122.embed\" height=\"900px\" width=\"1000px\"></iframe>"
      ],
      "text/plain": [
       "<plotly.tools.PlotlyDisplay object>"
      ]
     },
     "execution_count": 73,
     "metadata": {},
     "output_type": "execute_result"
    }
   ],
   "source": [
    "# interactive plot\n",
    "data = []\n",
    "colors = sns.color_palette(\"tab10\", len(ratio_to_plot.columns[1:])).as_hex()\n",
    "\n",
    "for index, nutri in enumerate(ratio_to_plot.columns[1:]):\n",
    "    data.append(go.Scatter(x=ratio_to_plot['brands'],\n",
    "                       y=ratio_to_plot[ratio_to_plot.columns[index+1]],\n",
    "                       name = ratio_to_plot.columns[index+1],\n",
    "                       marker={'color': colors[index]}\n",
    "                          )\n",
    "               )\n",
    "    \n",
    "fig = tools.make_subplots(rows=3, cols=3, subplot_titles=tuple(ratio_to_plot.columns[1:]))\n",
    "\n",
    "for index,trace in enumerate(data):\n",
    "    (r, c) = divmod(index, 3)\n",
    "    fig.append_trace(trace, r+1, c+1)\n",
    "\n",
    "fig['layout']['yaxis1'].update(title='Ratio (in %)')\n",
    "fig['layout']['yaxis4'].update(title='Ratio (in %)')\n",
    "fig['layout']['yaxis7'].update(title='Ratio (in %)')\n",
    "\n",
    "fig['layout'].update(title='Food Category distribution within the 10 biggest food brands in France.', height=900, width=1000)\n",
    "\n",
    "py.iplot(fig, filename='category_vs_brand_subplots', auto_open=False)"
   ]
  },
  {
   "cell_type": "markdown",
   "metadata": {},
   "source": [
    "[link to the figure](http://plot.ly/~tomM/122.embed)"
   ]
  },
  {
   "cell_type": "markdown",
   "metadata": {},
   "source": [
    "The analysis is hard since for all the brands except 'Picard' and 'Belle France' the products whose category is 'Unknown' represent more than 1/4 of the total number of products of the brand. For 'Picard' and 'Belle France' more than 80% of the products have a relevant tag 'categroy' (e.g 'Beverages'). We stick the analysis to those two brands:   \n",
    "\n",
    "- we osberve that the brand 'Picard' mainly sells 'Composite food' which is frozen food, which are mainly tagged 'a'. Picard can be called a \"healthy brand\". \n",
    "\n",
    "\n",
    "- on the opposite the brand 'Belle France' has a high ratio (15%) of products tagged 'Sugary Snacks'. It is the most unhealthy food category with a large majority of products tagged 'e' or 'd' regarding their nutrition grade. 'Belle France' sells a lot of \"junk\" food. However, the food category ratios are more homogeneous than the ones of the brand 'Picard'.      \n"
   ]
  },
  {
   "cell_type": "markdown",
   "metadata": {},
   "source": [
    "### f. Nutrition grade repartition per category in France"
   ]
  },
  {
   "cell_type": "code",
   "execution_count": 25,
   "metadata": {},
   "outputs": [],
   "source": [
    "# read the data \n",
    "cat_nut_df = bra_cat_nut_df[['pnns_groups_1', 'nutrition_grade_fr']]"
   ]
  },
  {
   "cell_type": "code",
   "execution_count": 26,
   "metadata": {},
   "outputs": [
    {
     "data": {
      "text/plain": [
       "223388"
      ]
     },
     "execution_count": 26,
     "metadata": {},
     "output_type": "execute_result"
    }
   ],
   "source": [
    "# number of products (total)\n",
    "cat_nut_df.index[-1]"
   ]
  },
  {
   "cell_type": "code",
   "execution_count": 27,
   "metadata": {},
   "outputs": [],
   "source": [
    "# we drop the null value\n",
    "cat_nut_df = cat_nut_df.dropna()"
   ]
  },
  {
   "cell_type": "code",
   "execution_count": 28,
   "metadata": {},
   "outputs": [
    {
     "data": {
      "text/plain": [
       "103469"
      ]
     },
     "execution_count": 28,
     "metadata": {},
     "output_type": "execute_result"
    }
   ],
   "source": [
    "# number of products (after removing the null)\n",
    "cat_nut_df.reset_index(drop=True).index[-1]"
   ]
  },
  {
   "cell_type": "markdown",
   "metadata": {},
   "source": [
    "We removed half the products but having still more than 100,000 products we assume the analysis is still statistically significant."
   ]
  },
  {
   "cell_type": "code",
   "execution_count": 29,
   "metadata": {},
   "outputs": [],
   "source": [
    "# we get dummies from the nutrition grades\n",
    "cat_nut_df = pd.get_dummies(cat_nut_df.set_index('pnns_groups_1')).rename(columns=\n",
    "                              {'nutrition_grade_fr_a':'a',\n",
    "                               'nutrition_grade_fr_b':'b',\n",
    "                               'nutrition_grade_fr_c':'c',\n",
    "                               'nutrition_grade_fr_d':'d',\n",
    "                               'nutrition_grade_fr_e':'e'})"
   ]
  },
  {
   "cell_type": "code",
   "execution_count": 30,
   "metadata": {},
   "outputs": [
    {
     "data": {
      "text/html": [
       "<div>\n",
       "<style scoped>\n",
       "    .dataframe tbody tr th:only-of-type {\n",
       "        vertical-align: middle;\n",
       "    }\n",
       "\n",
       "    .dataframe tbody tr th {\n",
       "        vertical-align: top;\n",
       "    }\n",
       "\n",
       "    .dataframe thead th {\n",
       "        text-align: right;\n",
       "    }\n",
       "</style>\n",
       "<table border=\"1\" class=\"dataframe\">\n",
       "  <thead>\n",
       "    <tr style=\"text-align: right;\">\n",
       "      <th></th>\n",
       "      <th>a</th>\n",
       "      <th>b</th>\n",
       "      <th>c</th>\n",
       "      <th>d</th>\n",
       "      <th>e</th>\n",
       "      <th>total</th>\n",
       "    </tr>\n",
       "    <tr>\n",
       "      <th>pnns_groups_1</th>\n",
       "      <th></th>\n",
       "      <th></th>\n",
       "      <th></th>\n",
       "      <th></th>\n",
       "      <th></th>\n",
       "      <th></th>\n",
       "    </tr>\n",
       "  </thead>\n",
       "  <tbody>\n",
       "    <tr>\n",
       "      <th>Beverages</th>\n",
       "      <td>71.0</td>\n",
       "      <td>854.0</td>\n",
       "      <td>1812.0</td>\n",
       "      <td>1624.0</td>\n",
       "      <td>3754.0</td>\n",
       "      <td>8115.0</td>\n",
       "    </tr>\n",
       "    <tr>\n",
       "      <th>Cereals And Potatoes</th>\n",
       "      <td>3839.0</td>\n",
       "      <td>1630.0</td>\n",
       "      <td>1616.0</td>\n",
       "      <td>1045.0</td>\n",
       "      <td>101.0</td>\n",
       "      <td>8231.0</td>\n",
       "    </tr>\n",
       "    <tr>\n",
       "      <th>Composite Foods</th>\n",
       "      <td>1798.0</td>\n",
       "      <td>3407.0</td>\n",
       "      <td>3404.0</td>\n",
       "      <td>2073.0</td>\n",
       "      <td>185.0</td>\n",
       "      <td>10867.0</td>\n",
       "    </tr>\n",
       "  </tbody>\n",
       "</table>\n",
       "</div>"
      ],
      "text/plain": [
       "                           a       b       c       d       e    total\n",
       "pnns_groups_1                                                        \n",
       "Beverages               71.0   854.0  1812.0  1624.0  3754.0   8115.0\n",
       "Cereals And Potatoes  3839.0  1630.0  1616.0  1045.0   101.0   8231.0\n",
       "Composite Foods       1798.0  3407.0  3404.0  2073.0   185.0  10867.0"
      ]
     },
     "execution_count": 30,
     "metadata": {},
     "output_type": "execute_result"
    }
   ],
   "source": [
    "# we count the number of products with grade 'a','b' ect. for each food category\n",
    "count = cat_nut_df.groupby('pnns_groups_1').sum()\n",
    "count['total'] = count.apply(lambda x: x['a']+x['b']+x['c']+x['d']+x['e'], axis=1) \n",
    "count.head(3)"
   ]
  },
  {
   "cell_type": "code",
   "execution_count": 31,
   "metadata": {},
   "outputs": [
    {
     "data": {
      "text/html": [
       "<div>\n",
       "<style scoped>\n",
       "    .dataframe tbody tr th:only-of-type {\n",
       "        vertical-align: middle;\n",
       "    }\n",
       "\n",
       "    .dataframe tbody tr th {\n",
       "        vertical-align: top;\n",
       "    }\n",
       "\n",
       "    .dataframe thead th {\n",
       "        text-align: right;\n",
       "    }\n",
       "</style>\n",
       "<table border=\"1\" class=\"dataframe\">\n",
       "  <thead>\n",
       "    <tr style=\"text-align: right;\">\n",
       "      <th></th>\n",
       "      <th>a</th>\n",
       "      <th>b</th>\n",
       "      <th>c</th>\n",
       "      <th>d</th>\n",
       "      <th>e</th>\n",
       "      <th>total</th>\n",
       "    </tr>\n",
       "    <tr>\n",
       "      <th>pnns_groups_1</th>\n",
       "      <th></th>\n",
       "      <th></th>\n",
       "      <th></th>\n",
       "      <th></th>\n",
       "      <th></th>\n",
       "      <th></th>\n",
       "    </tr>\n",
       "  </thead>\n",
       "  <tbody>\n",
       "    <tr>\n",
       "      <th>Beverages</th>\n",
       "      <td>0.874923</td>\n",
       "      <td>10.523722</td>\n",
       "      <td>22.329020</td>\n",
       "      <td>20.012323</td>\n",
       "      <td>46.260012</td>\n",
       "      <td>8115.0</td>\n",
       "    </tr>\n",
       "    <tr>\n",
       "      <th>Cereals And Potatoes</th>\n",
       "      <td>46.640748</td>\n",
       "      <td>19.803183</td>\n",
       "      <td>19.633094</td>\n",
       "      <td>12.695906</td>\n",
       "      <td>1.227068</td>\n",
       "      <td>8231.0</td>\n",
       "    </tr>\n",
       "    <tr>\n",
       "      <th>Composite Foods</th>\n",
       "      <td>16.545505</td>\n",
       "      <td>31.351799</td>\n",
       "      <td>31.324193</td>\n",
       "      <td>19.076102</td>\n",
       "      <td>1.702402</td>\n",
       "      <td>10867.0</td>\n",
       "    </tr>\n",
       "  </tbody>\n",
       "</table>\n",
       "</div>"
      ],
      "text/plain": [
       "                              a          b          c          d          e  \\\n",
       "pnns_groups_1                                                                 \n",
       "Beverages              0.874923  10.523722  22.329020  20.012323  46.260012   \n",
       "Cereals And Potatoes  46.640748  19.803183  19.633094  12.695906   1.227068   \n",
       "Composite Foods       16.545505  31.351799  31.324193  19.076102   1.702402   \n",
       "\n",
       "                        total  \n",
       "pnns_groups_1                  \n",
       "Beverages              8115.0  \n",
       "Cereals And Potatoes   8231.0  \n",
       "Composite Foods       10867.0  "
      ]
     },
     "execution_count": 31,
     "metadata": {},
     "output_type": "execute_result"
    }
   ],
   "source": [
    "# we extract ratio from the counts and the total number of products for each category\n",
    "ratio = count.copy()\n",
    "ratio[['a','b','c','d','e']] = count[['a','b','c','d','e']].div(count['total'].values,axis=0)*100\n",
    "ratio.head(3)"
   ]
  },
  {
   "cell_type": "code",
   "execution_count": 32,
   "metadata": {},
   "outputs": [],
   "source": [
    "# we remove the 'total' column and we sort the category w.r.t to the ratio for the score 'a' (the healthier)\n",
    "ratio_to_plot = ratio.reset_index().drop('total',1).sort_values(by=['a'],ascending=0)\n",
    "\n",
    "# drop 'Unknown' category since not relevant for analysis (regroup multiple categories of products)\n",
    "ratio_to_plot = ratio_to_plot[ratio_to_plot.pnns_groups_1 != 'Unknown'].reset_index(drop=True)"
   ]
  },
  {
   "cell_type": "code",
   "execution_count": 33,
   "metadata": {},
   "outputs": [
    {
     "data": {
      "text/html": [
       "<iframe id=\"igraph\" scrolling=\"no\" style=\"border:none;\" seamless=\"seamless\" src=\"https://plot.ly/~tomM/98.embed\" height=\"525px\" width=\"100%\"></iframe>"
      ],
      "text/plain": [
       "<plotly.tools.PlotlyDisplay object>"
      ]
     },
     "execution_count": 33,
     "metadata": {},
     "output_type": "execute_result"
    }
   ],
   "source": [
    "# interative plot\n",
    "data = []\n",
    "colors = sns.color_palette(\"RdBu_r\", 5).as_hex()\n",
    "\n",
    "for index, nutri in enumerate(ratio_to_plot.columns[1:]):\n",
    "    data.append(go.Bar(x=ratio_to_plot['pnns_groups_1'],\n",
    "                       y=ratio_to_plot[ratio_to_plot.columns[index+1]],\n",
    "                       name = ratio_to_plot.columns[index+1],\n",
    "                       marker={'color': colors[index]}))\n",
    "\n",
    "layout = go.Layout(\n",
    "    barmode='stack',\n",
    "    title='Health profile for each food category.',\n",
    "    xaxis=go.layout.XAxis(\n",
    "        title='Food Category',\n",
    "        titlefont=dict(\n",
    "            family='Courier New, monospace',\n",
    "            size=18,\n",
    "            color='#7f7f7f'\n",
    "        ),\n",
    "        tickangle = 20,\n",
    "        tickvals=np.arange(10).astype(str),\n",
    "        ticktext=ratio_to_plot['pnns_groups_1'],\n",
    "    ),\n",
    "    yaxis=dict(\n",
    "        title='Ratio (in %)',\n",
    "        titlefont=dict(\n",
    "            family='Courier New, monospace',\n",
    "            size=18,\n",
    "            color='#7f7f7f'\n",
    "        )\n",
    "    ),\n",
    ")\n",
    "\n",
    "fig = go.FigureWidget(data=data, layout=layout)\n",
    "\n",
    "py.iplot(fig, filename='food_category_vs_nutriscore', auto_open=False)"
   ]
  },
  {
   "cell_type": "markdown",
   "metadata": {},
   "source": [
    "[link to the figure](http://plot.ly/~tomM/98.embed)"
   ]
  },
  {
   "cell_type": "markdown",
   "metadata": {},
   "source": [
    "As excepted we can obsevrve than the most healthy products are fruits and vegetables... And that the worst are snacks and beverages. \n",
    "\n",
    "Interestingly, the sugary snacks are worst for health than the salty snacks or the fatty products. Indeed the ratio of 'e' products is 49% for sugary snacks and 14% for salty snacks or 22% for fat and sauces. Moreover, the sum of 'e'+'d' ratios is also higher for sugary snacks. This could demonstrate that the real ennemy is maybe more 'sugar' than 'salt' or 'fat' which contrast with the standard nutritional recommendations which usually emphasize on fat.\n",
    "\n",
    "Finally the most heterogeneous category is the 'Fish Meat Eggs' one. It probably contains good products like fish without any industrial transformation and bad products like breaded fish or bacon."
   ]
  },
  {
   "cell_type": "markdown",
   "metadata": {},
   "source": [
    "### g. Score each brand from nutrition score ratios"
   ]
  },
  {
   "cell_type": "code",
   "execution_count": 34,
   "metadata": {},
   "outputs": [
    {
     "data": {
      "text/html": [
       "<div>\n",
       "<style scoped>\n",
       "    .dataframe tbody tr th:only-of-type {\n",
       "        vertical-align: middle;\n",
       "    }\n",
       "\n",
       "    .dataframe tbody tr th {\n",
       "        vertical-align: top;\n",
       "    }\n",
       "\n",
       "    .dataframe thead th {\n",
       "        text-align: right;\n",
       "    }\n",
       "</style>\n",
       "<table border=\"1\" class=\"dataframe\">\n",
       "  <thead>\n",
       "    <tr style=\"text-align: right;\">\n",
       "      <th></th>\n",
       "      <th>a</th>\n",
       "      <th>b</th>\n",
       "      <th>c</th>\n",
       "      <th>d</th>\n",
       "      <th>e</th>\n",
       "      <th>total</th>\n",
       "    </tr>\n",
       "    <tr>\n",
       "      <th>brands</th>\n",
       "      <th></th>\n",
       "      <th></th>\n",
       "      <th></th>\n",
       "      <th></th>\n",
       "      <th></th>\n",
       "      <th></th>\n",
       "    </tr>\n",
       "  </thead>\n",
       "  <tbody>\n",
       "    <tr>\n",
       "      <th>Carrefour</th>\n",
       "      <td>19.763931</td>\n",
       "      <td>15.344496</td>\n",
       "      <td>19.818831</td>\n",
       "      <td>26.269558</td>\n",
       "      <td>18.803184</td>\n",
       "      <td>3643</td>\n",
       "    </tr>\n",
       "    <tr>\n",
       "      <th>Auchan</th>\n",
       "      <td>18.391764</td>\n",
       "      <td>15.303283</td>\n",
       "      <td>21.313300</td>\n",
       "      <td>26.794658</td>\n",
       "      <td>18.196995</td>\n",
       "      <td>3594</td>\n",
       "    </tr>\n",
       "    <tr>\n",
       "      <th>Leclerc</th>\n",
       "      <td>13.648180</td>\n",
       "      <td>15.901213</td>\n",
       "      <td>22.010399</td>\n",
       "      <td>27.816291</td>\n",
       "      <td>20.623917</td>\n",
       "      <td>2308</td>\n",
       "    </tr>\n",
       "  </tbody>\n",
       "</table>\n",
       "</div>"
      ],
      "text/plain": [
       "                   a          b          c          d          e  total\n",
       "brands                                                                 \n",
       "Carrefour  19.763931  15.344496  19.818831  26.269558  18.803184   3643\n",
       "Auchan     18.391764  15.303283  21.313300  26.794658  18.196995   3594\n",
       "Leclerc    13.648180  15.901213  22.010399  27.816291  20.623917   2308"
      ]
     },
     "execution_count": 34,
     "metadata": {},
     "output_type": "execute_result"
    }
   ],
   "source": [
    "brand_nutri_ratio.head(3)"
   ]
  },
  {
   "cell_type": "code",
   "execution_count": 35,
   "metadata": {},
   "outputs": [],
   "source": [
    "# keep only the brand which have more than 100 products\n",
    "brand_nutri_ratio = brand_nutri_ratio[brand_nutri_ratio.total > 100]"
   ]
  },
  {
   "cell_type": "code",
   "execution_count": 36,
   "metadata": {},
   "outputs": [],
   "source": [
    "# we will assign a score to each brand. The best score is 5 (for 'a') and the worst is 1 ('e'). \n",
    "scores = np.array([5,4,3,2,1])\n",
    "\n",
    "# for each brand the score will be the average of the ratios in each category ('a','b'..) weighted by the score of each category (5,4..) \n",
    "brand_score_nutri = brand_nutri_ratio.drop('total', axis=1).multiply(1/100).multiply(scores).mean(axis=1).to_frame(name='nutrition score')\n",
    "brand_score_nutri['nutrition score'] *= 5\n",
    "brand_score_nutri.sort_values(by='nutrition score', ascending=False, inplace=True)"
   ]
  },
  {
   "cell_type": "markdown",
   "metadata": {},
   "source": [
    "A score of 5 for a brand means that 100% of the products sold by the brand are 'a' (very healthy). "
   ]
  },
  {
   "cell_type": "code",
   "execution_count": 37,
   "metadata": {},
   "outputs": [],
   "source": [
    "# take the 10 best (highest score) and 10 worst brand (lowest score)\n",
    "brand_10best_10worst = pd.concat([brand_score_nutri.head(10).reset_index(), brand_score_nutri.tail(10).reset_index()], axis=0).reset_index(drop=True)"
   ]
  },
  {
   "cell_type": "code",
   "execution_count": 38,
   "metadata": {
    "scrolled": true
   },
   "outputs": [
    {
     "data": {
      "text/html": [
       "<iframe id=\"igraph\" scrolling=\"no\" style=\"border:none;\" seamless=\"seamless\" src=\"https://plot.ly/~tomM/114.embed\" height=\"525px\" width=\"100%\"></iframe>"
      ],
      "text/plain": [
       "<plotly.tools.PlotlyDisplay object>"
      ]
     },
     "execution_count": 38,
     "metadata": {},
     "output_type": "execute_result"
    }
   ],
   "source": [
    "# interactive plot\n",
    "data = []\n",
    "colors = sns.color_palette(\"RdBu_r\", 20).as_hex()\n",
    "y_values = ['a','b','c','d','e']\n",
    "\n",
    "for index, row in brand_10best_10worst.iterrows():\n",
    "    data.append(go.Bar(x=np.array(index),\n",
    "                       y=np.array(row['nutrition score']),\n",
    "                       name = row['brands'],\n",
    "                       marker={'color': colors[index]}))\n",
    "\n",
    "layout = go.Layout(\n",
    "    showlegend=False,\n",
    "    title='Health score of the 10 best and 10 worst food brands in France.',\n",
    "    xaxis=go.layout.XAxis(\n",
    "        title='Brand',\n",
    "        titlefont=dict(\n",
    "            family='Courier New, monospace',\n",
    "            size=18,\n",
    "            color='#7f7f7f'\n",
    "        ),\n",
    "        tickvals=np.arange(20).astype(str),\n",
    "        ticktext=brand_10best_10worst.brands.values,\n",
    "    ),\n",
    "    yaxis=dict(\n",
    "        title='Global Nutrition Score',\n",
    "        titlefont=dict(\n",
    "            family='Courier New, monospace',\n",
    "            size=18,\n",
    "            color='#7f7f7f'\n",
    "        ),\n",
    "        showgrid = True,\n",
    "        gridcolor='#bdbdbd',\n",
    "        range=[0, 6],\n",
    "        tickwidth=3,\n",
    "        tickvals=np.arange(1,6).astype(str),\n",
    "        ticktext=y_values[::-1],\n",
    "    ),\n",
    ")\n",
    "\n",
    "fig = go.FigureWidget(data=data, layout=layout)\n",
    "py.iplot(fig, filename='mean_nutriscore_vs_brand', auto_open=False)"
   ]
  },
  {
   "cell_type": "markdown",
   "metadata": {},
   "source": [
    "[link to the figure](http://plot.ly/~tomM/114.embed)"
   ]
  },
  {
   "cell_type": "markdown",
   "metadata": {},
   "source": [
    "From this bar plot we can the best and the worst brands for health. \n",
    "\n",
    "- As we could expect, eating chocolate is not good... But, suprisingly the 6 worst brands are all chocolate ones except Monin which sell sirop. \n",
    "\n",
    "- The best brands are 'D'Aucy' - which sells a lot of vegetables and fruits in cans - and 'Charles et Alice' - which sells fruits in cup.  "
   ]
  },
  {
   "cell_type": "markdown",
   "metadata": {},
   "source": [
    "## B. Palm Oil analysis in France"
   ]
  },
  {
   "cell_type": "markdown",
   "metadata": {},
   "source": [
    "### a. load and clean"
   ]
  },
  {
   "cell_type": "code",
   "execution_count": null,
   "metadata": {},
   "outputs": [],
   "source": [
    "# we filter the spark dataframe for products sold in France only \n",
    "# we extract the two columns tagging for palm oil presence\n",
    "bra_palm_raw = data.filter(\"countries_en=='France'\")\\\n",
    "                    .select('brands', 'ingredients_from_palm_oil_n','ingredients_that_may_be_from_palm_oil_n')\\\n",
    "                    .dropna(how='all')"
   ]
  },
  {
   "cell_type": "code",
   "execution_count": null,
   "metadata": {},
   "outputs": [],
   "source": [
    "# we convert the spark dataframe to a pandas dataframe\n",
    "bra_palm_raw_df = bra_palm.toPandas()\n",
    "\n",
    "# we store it in the current folder \n",
    "bra_palm_raw_df.to_pickle('bra_palm_raw_df')"
   ]
  },
  {
   "cell_type": "code",
   "execution_count": null,
   "metadata": {},
   "outputs": [],
   "source": [
    "# read the stored dataframe\n",
    "bra_palm_raw_df = pd.read_pickle('bra_palm_raw_df')"
   ]
  },
  {
   "cell_type": "code",
   "execution_count": null,
   "metadata": {},
   "outputs": [],
   "source": [
    "bra_palm_raw_df.head(3)"
   ]
  },
  {
   "cell_type": "code",
   "execution_count": null,
   "metadata": {},
   "outputs": [],
   "source": [
    "bra_palm_raw_df['new_brands'] = bra_palm_raw_df['brands'].apply(lambda x: clean_brand(x))"
   ]
  },
  {
   "cell_type": "code",
   "execution_count": null,
   "metadata": {},
   "outputs": [],
   "source": [
    "# drop when both 'ingredients_from_palm_oil_n' and 'ingredients_that_may_be_from_palm_oil_n' are None\n",
    "bra_palm_cleaned_df = bra_palm_raw_df.dropna(subset=['ingredients_from_palm_oil_n', \\\n",
    "                                                 'ingredients_that_may_be_from_palm_oil_n'], how='all') "
   ]
  },
  {
   "cell_type": "code",
   "execution_count": null,
   "metadata": {},
   "outputs": [],
   "source": [
    "# we can drop the old column 'brands' since we have the new ones.\n",
    "bra_palm_cleaned_df = bra_palm_cleaned_df.drop('brands',1).rename(columns={'new_brands':'brands'})\n",
    "\n",
    "# reset the index\n",
    "bra_palm_cleaned_df = bra_palm_cleaned_df.reset_index(drop=True)"
   ]
  },
  {
   "cell_type": "code",
   "execution_count": null,
   "metadata": {},
   "outputs": [],
   "source": [
    "# convert into numeric values\n",
    "bra_palm_cleaned_df['ingredients_from_palm_oil_n'] = bra_palm_cleaned_df['ingredients_from_palm_oil_n'].apply(pd.to_numeric)\n",
    "bra_palm_cleaned_df['ingredients_that_may_be_from_palm_oil_n'] = bra_palm_cleaned_df['ingredients_that_may_be_from_palm_oil_n'].apply(pd.to_numeric)"
   ]
  },
  {
   "cell_type": "code",
   "execution_count": null,
   "metadata": {},
   "outputs": [],
   "source": [
    "# save to pickle\n",
    "bra_palm_cleaned_df.to_pickle('bra_palm_cleaned_df')"
   ]
  },
  {
   "cell_type": "markdown",
   "metadata": {},
   "source": [
    "### b. Load cleaned data"
   ]
  },
  {
   "cell_type": "code",
   "execution_count": 84,
   "metadata": {},
   "outputs": [],
   "source": [
    "bra_palm_df = pd.read_pickle('bra_palm_cleaned_df')"
   ]
  },
  {
   "cell_type": "markdown",
   "metadata": {},
   "source": [
    "### c. Palm oil presence in the whole french market"
   ]
  },
  {
   "cell_type": "code",
   "execution_count": 85,
   "metadata": {},
   "outputs": [],
   "source": [
    "bra_palm_bool_df = bra_palm_df.copy()\n",
    "bra_palm_bool_df.iloc[:,0] = bra_palm_bool_df.iloc[:,0].apply(lambda x: x>0) # for 'ingredients_from_palm_oil_n'\n",
    "bra_palm_bool_df.iloc[:,1] = bra_palm_bool_df.iloc[:,1].apply(lambda x: x>0) # for 'ingredients_that_may_be_from_palm_oil_n'"
   ]
  },
  {
   "cell_type": "code",
   "execution_count": 86,
   "metadata": {},
   "outputs": [],
   "source": [
    "bra_palm_to_plot_df = bra_palm_df[['brands']].copy()\n",
    "bra_palm_to_plot_df['no_palm_oil'] = bra_palm_bool_df.apply(lambda x: 1 if not x[0] and not x[1] else 0, axis=1) \n",
    "bra_palm_to_plot_df['may_contain_palm_oil'] = bra_palm_bool_df.apply(lambda x: 1 if x[0] and not x[1] else 0 , axis=1) \n",
    "bra_palm_to_plot_df['contain_palm_oil'] = bra_palm_bool_df.apply(lambda x: 1 if x[1] else 0, axis=1) "
   ]
  },
  {
   "cell_type": "code",
   "execution_count": 87,
   "metadata": {},
   "outputs": [
    {
     "data": {
      "text/html": [
       "<div>\n",
       "<style scoped>\n",
       "    .dataframe tbody tr th:only-of-type {\n",
       "        vertical-align: middle;\n",
       "    }\n",
       "\n",
       "    .dataframe tbody tr th {\n",
       "        vertical-align: top;\n",
       "    }\n",
       "\n",
       "    .dataframe thead th {\n",
       "        text-align: right;\n",
       "    }\n",
       "</style>\n",
       "<table border=\"1\" class=\"dataframe\">\n",
       "  <thead>\n",
       "    <tr style=\"text-align: right;\">\n",
       "      <th></th>\n",
       "      <th>brands</th>\n",
       "      <th>no_palm_oil</th>\n",
       "      <th>may_contain_palm_oil</th>\n",
       "      <th>contain_palm_oil</th>\n",
       "    </tr>\n",
       "  </thead>\n",
       "  <tbody>\n",
       "    <tr>\n",
       "      <th>0</th>\n",
       "      <td>Crous</td>\n",
       "      <td>1</td>\n",
       "      <td>0</td>\n",
       "      <td>0</td>\n",
       "    </tr>\n",
       "    <tr>\n",
       "      <th>1</th>\n",
       "      <td>None</td>\n",
       "      <td>1</td>\n",
       "      <td>0</td>\n",
       "      <td>0</td>\n",
       "    </tr>\n",
       "    <tr>\n",
       "      <th>2</th>\n",
       "      <td>None</td>\n",
       "      <td>1</td>\n",
       "      <td>0</td>\n",
       "      <td>0</td>\n",
       "    </tr>\n",
       "  </tbody>\n",
       "</table>\n",
       "</div>"
      ],
      "text/plain": [
       "  brands  no_palm_oil  may_contain_palm_oil  contain_palm_oil\n",
       "0  Crous            1                     0                 0\n",
       "1   None            1                     0                 0\n",
       "2   None            1                     0                 0"
      ]
     },
     "execution_count": 87,
     "metadata": {},
     "output_type": "execute_result"
    }
   ],
   "source": [
    "bra_palm_to_plot_df.head(3)"
   ]
  },
  {
   "cell_type": "code",
   "execution_count": 88,
   "metadata": {},
   "outputs": [],
   "source": [
    "# count the number of product for each palm category \n",
    "count = bra_palm_to_plot_df.sum(axis=0)"
   ]
  },
  {
   "cell_type": "code",
   "execution_count": 89,
   "metadata": {},
   "outputs": [
    {
     "data": {
      "text/html": [
       "<iframe id=\"igraph\" scrolling=\"no\" style=\"border:none;\" seamless=\"seamless\" src=\"https://plot.ly/~tomM/126.embed\" height=\"525px\" width=\"100%\"></iframe>"
      ],
      "text/plain": [
       "<plotly.tools.PlotlyDisplay object>"
      ]
     },
     "execution_count": 89,
     "metadata": {},
     "output_type": "execute_result"
    }
   ],
   "source": [
    "# interactive plot\n",
    "data = []\n",
    "colors = sns.color_palette(\"Reds\", 3).as_hex()\n",
    "labels = ['no palm oil', 'may contain palm oil', 'contain palm oil']\n",
    "\n",
    "for index, item in enumerate(count.iteritems()):\n",
    "    data.append(go.Bar(x=np.array(index),\n",
    "                       y=np.array(item[1]),\n",
    "                       name = labels[index],\n",
    "                       marker={'color': colors[index]}))\n",
    "\n",
    "layout = go.Layout(\n",
    "    title='Nutrition score occurences in the original dataset.',\n",
    "    showlegend=False,\n",
    "    xaxis=go.layout.XAxis(\n",
    "        title='Product feature',\n",
    "        titlefont=dict(\n",
    "            family='Courier New, monospace',\n",
    "            size=18,\n",
    "            color='#7f7f7f'\n",
    "        ),\n",
    "        tickvals=np.arange(3).astype(str),\n",
    "        ticktext= labels,\n",
    "    ),\n",
    "    yaxis=dict(\n",
    "        title='Count',\n",
    "        titlefont=dict(\n",
    "            family='Courier New, monospace',\n",
    "            size=18,\n",
    "            color='#7f7f7f'\n",
    "        )\n",
    "    ),\n",
    ")\n",
    "\n",
    "fig = go.FigureWidget(data=data, layout=layout)\n",
    "py.iplot(fig, filename='palm_oil_in_france_bar', auto_open=False)"
   ]
  },
  {
   "cell_type": "markdown",
   "metadata": {},
   "source": [
    "[link to the figure](http://plot.ly/~tomM/126.embed)"
   ]
  },
  {
   "cell_type": "code",
   "execution_count": 46,
   "metadata": {},
   "outputs": [
    {
     "data": {
      "text/html": [
       "<iframe id=\"igraph\" scrolling=\"no\" style=\"border:none;\" seamless=\"seamless\" src=\"https://plot.ly/~tomM/110.embed\" height=\"525px\" width=\"100%\"></iframe>"
      ],
      "text/plain": [
       "<plotly.tools.PlotlyDisplay object>"
      ]
     },
     "execution_count": 46,
     "metadata": {},
     "output_type": "execute_result"
    }
   ],
   "source": [
    "# interactive plot\n",
    "fig = {\n",
    "    'data': [{'labels': labels,\n",
    "              'values': count.values,\n",
    "              'type': 'pie',\n",
    "              'marker':{'colors':colors}\n",
    "              }\n",
    "            ],\n",
    "    'layout': {'title': 'Palm oil in french products.'}\n",
    "     }\n",
    "\n",
    "py.iplot(fig, filename='palm_oil_in_france', auto_open=False)"
   ]
  },
  {
   "cell_type": "markdown",
   "metadata": {},
   "source": [
    "[link to the figure](http://plot.ly/~tomM/110.embed)"
   ]
  },
  {
   "cell_type": "markdown",
   "metadata": {},
   "source": [
    "We observe that the large majority (87%) of the ~170,000 products in the dataset don't contain palm oil. \n",
    "\n",
    "However it is important to bear in mind that it is quite hard to (rapidely) assess if one ingredient contains palm oil in case it is not directly mentionned in the ingredients list. Indeed it is unlikely that all the persons who have added a product in the database have done an exhaustive research on the fabrication process of all the ingredients. "
   ]
  },
  {
   "cell_type": "markdown",
   "metadata": {},
   "source": [
    "### d. Palm oil presence for each french food brand"
   ]
  },
  {
   "cell_type": "code",
   "execution_count": 47,
   "metadata": {},
   "outputs": [],
   "source": [
    "# read the data\n",
    "bra_palm_df = pd.read_pickle('bra_palm_cleaned_df')"
   ]
  },
  {
   "cell_type": "code",
   "execution_count": 48,
   "metadata": {},
   "outputs": [
    {
     "data": {
      "text/html": [
       "<div>\n",
       "<style scoped>\n",
       "    .dataframe tbody tr th:only-of-type {\n",
       "        vertical-align: middle;\n",
       "    }\n",
       "\n",
       "    .dataframe tbody tr th {\n",
       "        vertical-align: top;\n",
       "    }\n",
       "\n",
       "    .dataframe thead th {\n",
       "        text-align: right;\n",
       "    }\n",
       "</style>\n",
       "<table border=\"1\" class=\"dataframe\">\n",
       "  <thead>\n",
       "    <tr style=\"text-align: right;\">\n",
       "      <th></th>\n",
       "      <th>total</th>\n",
       "    </tr>\n",
       "    <tr>\n",
       "      <th>brands</th>\n",
       "      <th></th>\n",
       "    </tr>\n",
       "  </thead>\n",
       "  <tbody>\n",
       "    <tr>\n",
       "      <th>123 bio</th>\n",
       "      <td>592</td>\n",
       "    </tr>\n",
       "    <tr>\n",
       "      <th>7Up</th>\n",
       "      <td>28</td>\n",
       "    </tr>\n",
       "    <tr>\n",
       "      <th>A l'olivier</th>\n",
       "      <td>103</td>\n",
       "    </tr>\n",
       "  </tbody>\n",
       "</table>\n",
       "</div>"
      ],
      "text/plain": [
       "             total\n",
       "brands            \n",
       "123 bio        592\n",
       "7Up             28\n",
       "A l'olivier    103"
      ]
     },
     "execution_count": 48,
     "metadata": {},
     "output_type": "execute_result"
    }
   ],
   "source": [
    "# count number of products per brand\n",
    "brand_count = bra_palm_df[['ingredients_that_may_be_from_palm_oil_n', 'brands']] \\\n",
    "                                    .groupby('brands')\\\n",
    "                                    .count() \\\n",
    "                                    .rename(columns={'ingredients_that_may_be_from_palm_oil_n':'total'})\n",
    "brand_count.head(3)"
   ]
  },
  {
   "cell_type": "code",
   "execution_count": 49,
   "metadata": {},
   "outputs": [
    {
     "data": {
      "text/html": [
       "<div>\n",
       "<style scoped>\n",
       "    .dataframe tbody tr th:only-of-type {\n",
       "        vertical-align: middle;\n",
       "    }\n",
       "\n",
       "    .dataframe tbody tr th {\n",
       "        vertical-align: top;\n",
       "    }\n",
       "\n",
       "    .dataframe thead th {\n",
       "        text-align: right;\n",
       "    }\n",
       "</style>\n",
       "<table border=\"1\" class=\"dataframe\">\n",
       "  <thead>\n",
       "    <tr style=\"text-align: right;\">\n",
       "      <th></th>\n",
       "      <th>total</th>\n",
       "      <th>ingredients_from_palm_oil_n</th>\n",
       "      <th>ingredients_that_may_be_from_palm_oil_n</th>\n",
       "    </tr>\n",
       "    <tr>\n",
       "      <th>brands</th>\n",
       "      <th></th>\n",
       "      <th></th>\n",
       "      <th></th>\n",
       "    </tr>\n",
       "  </thead>\n",
       "  <tbody>\n",
       "    <tr>\n",
       "      <th>123 bio</th>\n",
       "      <td>592</td>\n",
       "      <td>2</td>\n",
       "      <td>1</td>\n",
       "    </tr>\n",
       "    <tr>\n",
       "      <th>7Up</th>\n",
       "      <td>28</td>\n",
       "      <td>0</td>\n",
       "      <td>0</td>\n",
       "    </tr>\n",
       "    <tr>\n",
       "      <th>A l'olivier</th>\n",
       "      <td>103</td>\n",
       "      <td>1</td>\n",
       "      <td>2</td>\n",
       "    </tr>\n",
       "  </tbody>\n",
       "</table>\n",
       "</div>"
      ],
      "text/plain": [
       "             total  ingredients_from_palm_oil_n  \\\n",
       "brands                                            \n",
       "123 bio        592                            2   \n",
       "7Up             28                            0   \n",
       "A l'olivier    103                            1   \n",
       "\n",
       "             ingredients_that_may_be_from_palm_oil_n  \n",
       "brands                                                \n",
       "123 bio                                            1  \n",
       "7Up                                                0  \n",
       "A l'olivier                                        2  "
      ]
     },
     "execution_count": 49,
     "metadata": {},
     "output_type": "execute_result"
    }
   ],
   "source": [
    "# count the number of products for each palm category w.r.t the brands\n",
    "bra_palm_grouped_df = bra_palm_df.groupby('brands').sum()\n",
    "\n",
    "# add the number of products per brand\n",
    "bra_palm_grouped_df = brand_count.join(bra_palm_grouped_df)\n",
    "\n",
    "bra_palm_grouped_df.head(3)"
   ]
  },
  {
   "cell_type": "code",
   "execution_count": 50,
   "metadata": {},
   "outputs": [
    {
     "data": {
      "text/html": [
       "<div>\n",
       "<style scoped>\n",
       "    .dataframe tbody tr th:only-of-type {\n",
       "        vertical-align: middle;\n",
       "    }\n",
       "\n",
       "    .dataframe tbody tr th {\n",
       "        vertical-align: top;\n",
       "    }\n",
       "\n",
       "    .dataframe thead th {\n",
       "        text-align: right;\n",
       "    }\n",
       "</style>\n",
       "<table border=\"1\" class=\"dataframe\">\n",
       "  <thead>\n",
       "    <tr style=\"text-align: right;\">\n",
       "      <th></th>\n",
       "      <th>contain palm oil</th>\n",
       "      <th>may contain palm oil</th>\n",
       "      <th>no palm oil</th>\n",
       "    </tr>\n",
       "    <tr>\n",
       "      <th>brands</th>\n",
       "      <th></th>\n",
       "      <th></th>\n",
       "      <th></th>\n",
       "    </tr>\n",
       "  </thead>\n",
       "  <tbody>\n",
       "    <tr>\n",
       "      <th>123 bio</th>\n",
       "      <td>0.337838</td>\n",
       "      <td>0.168919</td>\n",
       "      <td>99.493243</td>\n",
       "    </tr>\n",
       "    <tr>\n",
       "      <th>7Up</th>\n",
       "      <td>0.000000</td>\n",
       "      <td>0.000000</td>\n",
       "      <td>100.000000</td>\n",
       "    </tr>\n",
       "    <tr>\n",
       "      <th>A l'olivier</th>\n",
       "      <td>0.970874</td>\n",
       "      <td>1.941748</td>\n",
       "      <td>97.087379</td>\n",
       "    </tr>\n",
       "  </tbody>\n",
       "</table>\n",
       "</div>"
      ],
      "text/plain": [
       "             contain palm oil  may contain palm oil  no palm oil\n",
       "brands                                                          \n",
       "123 bio              0.337838              0.168919    99.493243\n",
       "7Up                  0.000000              0.000000   100.000000\n",
       "A l'olivier          0.970874              1.941748    97.087379"
      ]
     },
     "execution_count": 50,
     "metadata": {},
     "output_type": "execute_result"
    }
   ],
   "source": [
    "# get ratio from the counts\n",
    "ratio_df = pd.DataFrame()\n",
    "ratio_df['contain palm oil'] = bra_palm_grouped_df.ingredients_from_palm_oil_n.div(bra_palm_grouped_df.total)\n",
    "ratio_df['may contain palm oil'] = bra_palm_grouped_df.ingredients_that_may_be_from_palm_oil_n.div(bra_palm_grouped_df.total)\n",
    "ratio_df['no palm oil'] = 1 - ratio_df['may contain palm oil'] - ratio_df['contain palm oil']\n",
    "\n",
    "# get percentage\n",
    "ratio_df = ratio_df.applymap(lambda x: 100*x) \n",
    "\n",
    "ratio_df.head(3)"
   ]
  },
  {
   "cell_type": "code",
   "execution_count": 51,
   "metadata": {},
   "outputs": [],
   "source": [
    "# extract the values for the 10 biggest brands in France\n",
    "ratio_top10_df = ratio_df.copy().reset_index()[ratio_df.index.isin(top10_brand_names)].reset_index(drop=True)"
   ]
  },
  {
   "cell_type": "code",
   "execution_count": 52,
   "metadata": {},
   "outputs": [],
   "source": [
    "# sort them to have the more \"environmental\" brands first\n",
    "ratio_top10_df.sort_values(by='no palm oil', ascending=False, inplace=True)"
   ]
  },
  {
   "cell_type": "code",
   "execution_count": 79,
   "metadata": {
    "scrolled": true
   },
   "outputs": [
    {
     "data": {
      "text/html": [
       "<iframe id=\"igraph\" scrolling=\"no\" style=\"border:none;\" seamless=\"seamless\" src=\"https://plot.ly/~tomM/124.embed\" height=\"525px\" width=\"100%\"></iframe>"
      ],
      "text/plain": [
       "<plotly.tools.PlotlyDisplay object>"
      ]
     },
     "execution_count": 79,
     "metadata": {},
     "output_type": "execute_result"
    }
   ],
   "source": [
    "# interactive plot\n",
    "data = []\n",
    "colors = sns.color_palette(\"tab10\", 10).as_hex()\n",
    "\n",
    "for index, row in ratio_top10_df.iterrows():\n",
    "    data.append(go.Bar(x=ratio_top10_df.columns[1:],\n",
    "                       y=np.array(row[1:]),\n",
    "                       name = row['brands'],\n",
    "                       marker={'color': colors[index]}))\n",
    "\n",
    "layout = go.Layout(\n",
    "    title='Raio of products with palm oil for the top 10 french brand.',\n",
    "    xaxis=go.layout.XAxis(\n",
    "        title='Product Feature',\n",
    "        titlefont=dict(\n",
    "            family='Courier New, monospace',\n",
    "            size=18,\n",
    "            color='#7f7f7f'\n",
    "        ),\n",
    "        tickvals=np.arange(3).astype(str),\n",
    "        ticktext=ratio_top10_df.columns[1:],\n",
    "    ),\n",
    "    yaxis=dict(\n",
    "        title='Ratio (in %)',\n",
    "        titlefont=dict(\n",
    "            family='Courier New, monospace',\n",
    "            size=18,\n",
    "            color='#7f7f7f'\n",
    "        )\n",
    "    ),\n",
    ")\n",
    "\n",
    "fig = go.FigureWidget(data=data, layout=layout)\n",
    "py.iplot(fig, filename='palm_oil_vs_brands_bar', auto_open=False)"
   ]
  },
  {
   "cell_type": "markdown",
   "metadata": {},
   "source": [
    "[link to the figure](http://plot.ly/~tomM/124.embed)"
   ]
  },
  {
   "cell_type": "code",
   "execution_count": 54,
   "metadata": {},
   "outputs": [
    {
     "data": {
      "text/html": [
       "<iframe id=\"igraph\" scrolling=\"no\" style=\"border:none;\" seamless=\"seamless\" src=\"https://plot.ly/~tomM/112.embed\" height=\"525px\" width=\"100%\"></iframe>"
      ],
      "text/plain": [
       "<plotly.tools.PlotlyDisplay object>"
      ]
     },
     "execution_count": 54,
     "metadata": {},
     "output_type": "execute_result"
    }
   ],
   "source": [
    "# interactive plot\n",
    "data = []\n",
    "colors = ['#8B0000', '#FFA500', '#008000']\n",
    "\n",
    "for i in range(3):\n",
    "    \n",
    "    data.append(go.Bar(x=ratio_top10_df['brands'],\n",
    "                       y=ratio_top10_df[ratio_top10_df.columns[i+1]],\n",
    "                       name = ratio_top10_df.columns[i+1],\n",
    "                       marker={'color': colors[i]}))\n",
    "\n",
    "layout = go.Layout(\n",
    "    title='Palm oil presence within the 10 biggest food brands in France.',\n",
    "    barmode='stack',\n",
    "    xaxis=go.layout.XAxis(\n",
    "        title='Food Brand',\n",
    "        titlefont=dict(\n",
    "            family='Courier New, monospace',\n",
    "            size=18,\n",
    "            color='#7f7f7f'\n",
    "        ),\n",
    "        tickvals=np.arange(10).astype(str),\n",
    "        ticktext=ratio_top10_df['brands'],\n",
    "    ),\n",
    "    yaxis=dict(\n",
    "        title='Ratio (in %)',\n",
    "        titlefont=dict(\n",
    "            family='Courier New, monospace',\n",
    "            size=18,\n",
    "            color='#7f7f7f'\n",
    "        )\n",
    "    ),\n",
    ")\n",
    "\n",
    "fig = go.FigureWidget(data=data, layout=layout)\n",
    "py.iplot(fig, filename='palm_oil_vs_brands', auto_open=False)"
   ]
  },
  {
   "cell_type": "markdown",
   "metadata": {},
   "source": [
    "[link to the figure](http://plot.ly/~tomM/112.embed)"
   ]
  },
  {
   "cell_type": "markdown",
   "metadata": {},
   "source": [
    "For all the brands more than 70% of the products does NOT contain palm oil.  \n",
    "\n",
    "- However, 27% of the products made by 'Leclerc' contain or may contain palm oil, which is a high ratio.\n",
    "- 'Picard' and  'Monoprix' are the more \"environmental\" brand regarding palm oil presence in their products."
   ]
  }
 ],
 "metadata": {
  "kernelspec": {
   "display_name": "Python 3",
   "language": "python",
   "name": "python3"
  },
  "language_info": {
   "codemirror_mode": {
    "name": "ipython",
    "version": 3
   },
   "file_extension": ".py",
   "mimetype": "text/x-python",
   "name": "python",
   "nbconvert_exporter": "python",
   "pygments_lexer": "ipython3",
   "version": "3.6.4"
  }
 },
 "nbformat": 4,
 "nbformat_minor": 2
}

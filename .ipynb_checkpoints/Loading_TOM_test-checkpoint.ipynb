{
 "cells": [
  {
   "cell_type": "code",
   "execution_count": 1,
   "metadata": {},
   "outputs": [],
   "source": [
    "import pandas as pd\n",
    "import numpy as np\n",
    "import scipy as sp\n",
    "import matplotlib.pyplot as plt\n",
    "import seaborn as sns\n",
    "import scipy as sp\n",
    "from decimal import Decimal\n",
    "from datetime import datetime\n",
    "import re\n",
    "\n",
    "%matplotlib inline\n",
    "\n",
    "import findspark\n",
    "findspark.init()\n",
    "\n",
    "from pyspark.sql import *\n",
    "from pyspark.sql.functions import  isnan, when, count, col,isnull\n",
    "\n",
    "%matplotlib inline\n",
    "\n",
    "spark = SparkSession.builder.getOrCreate()\n",
    "sc = spark.sparkContext"
   ]
  },
  {
   "cell_type": "code",
   "execution_count": null,
   "metadata": {},
   "outputs": [],
   "source": []
  },
  {
   "cell_type": "code",
   "execution_count": 2,
   "metadata": {},
   "outputs": [],
   "source": [
    "data_folder = './data/'"
   ]
  },
  {
   "cell_type": "code",
   "execution_count": 20,
   "metadata": {},
   "outputs": [
    {
     "name": "stdout",
     "output_type": "stream",
     "text": [
      "Subset with 1000 products of the csv taken.\n"
     ]
    }
   ],
   "source": [
    "data = spark.read.csv(data_folder+'en.openfoodfacts.org.products.csv',header = True, sep=\"\\t\")\n",
    "\n",
    "N_subset = 1000\n",
    "\n",
    "if N_subset>0:\n",
    "    print(\"Subset with\", N_subset, \"products of the csv taken.\")\n",
    "    rdd = spark.sparkContext.parallelize(data.take(N_subset))\n",
    "    data = spark.createDataFrame(rdd, data.schema)"
   ]
  },
  {
   "cell_type": "code",
   "execution_count": 21,
   "metadata": {},
   "outputs": [],
   "source": [
    "palm = data.select(['countries_en','ingredients_from_palm_oil_n','ingredients_that_may_be_from_palm_oil_n'])"
   ]
  },
  {
   "cell_type": "code",
   "execution_count": 22,
   "metadata": {},
   "outputs": [],
   "source": [
    "palm = palm.na.drop()"
   ]
  },
  {
   "cell_type": "code",
   "execution_count": 23,
   "metadata": {},
   "outputs": [],
   "source": [
    "palm_flat = palm.rdd.flatMap(lambda r:[(x, r['ingredients_from_palm_oil_n'], r['ingredients_that_may_be_from_palm_oil_n']) \n",
    "                                                for x in r['countries_en'].split(',')]).toDF()"
   ]
  },
  {
   "cell_type": "code",
   "execution_count": 24,
   "metadata": {},
   "outputs": [],
   "source": [
    "palm_flat = palm_flat.selectExpr(\"_1 as countries_en\", \n",
    "                                 \"_2 as ingredients_from_palm_oil_n\", \n",
    "                                 \"_3 as ingredients_that_may_be_from_palm_oil_n\")"
   ]
  },
  {
   "cell_type": "code",
   "execution_count": 25,
   "metadata": {},
   "outputs": [],
   "source": [
    "palm_reduced = palm_flat.rdd.filter(lambda r: re.match(r'United State|France', r['countries_en'])).toDF()"
   ]
  },
  {
   "cell_type": "code",
   "execution_count": 26,
   "metadata": {},
   "outputs": [],
   "source": [
    "palm_positive = palm_reduced.filter(\"ingredients_from_palm_oil_n>0 OR ingredients_that_may_be_from_palm_oil_n>0\")"
   ]
  },
  {
   "cell_type": "code",
   "execution_count": 27,
   "metadata": {},
   "outputs": [
    {
     "data": {
      "text/plain": [
       "[Row(countries_en='France', count=17),\n",
       " Row(countries_en='United States', count=9)]"
      ]
     },
     "execution_count": 27,
     "metadata": {},
     "output_type": "execute_result"
    }
   ],
   "source": [
    "palm_positive.groupBy(\"countries_en\").count().collect()"
   ]
  }
 ],
 "metadata": {
  "kernelspec": {
   "display_name": "Python 3",
   "language": "python",
   "name": "python3"
  },
  "language_info": {
   "codemirror_mode": {
    "name": "ipython",
    "version": 3
   },
   "file_extension": ".py",
   "mimetype": "text/x-python",
   "name": "python",
   "nbconvert_exporter": "python",
   "pygments_lexer": "ipython3",
   "version": "3.6.4"
  }
 },
 "nbformat": 4,
 "nbformat_minor": 2
}
